{
 "cells": [
  {
   "cell_type": "markdown",
   "id": "095727ac",
   "metadata": {},
   "source": [
    "# Configuración general"
   ]
  },
  {
   "cell_type": "code",
   "execution_count": 1,
   "id": "7f3da18c",
   "metadata": {},
   "outputs": [],
   "source": [
    "import sqlite3 \n",
    "import os\n",
    "import pandas as pd"
   ]
  },
  {
   "cell_type": "code",
   "execution_count": 2,
   "id": "357804f9",
   "metadata": {},
   "outputs": [],
   "source": [
    "# Paths \n",
    "wd = os.getcwd()\n",
    "db = \"adventureworks_sql_lite.sqlite\"\n",
    "db_path = os.path.join(wd, db)\n"
   ]
  },
  {
   "cell_type": "code",
   "execution_count": 3,
   "id": "0e4f295c",
   "metadata": {},
   "outputs": [],
   "source": [
    "# Función para poder ver la query en Python \n",
    "\n",
    "def mostrar_query (query, limite = 3, dataset = True):\n",
    "    cursor.execute(query)\n",
    "    columnas = [desc[0] for desc in cursor.description]\n",
    "    filas = cursor.fetchmany(limite)\n",
    "    try:\n",
    "        if dataset:\n",
    "            dataset_final = pd.DataFrame(filas, columns=columnas)\n",
    "            return dataset_final\n",
    "        else:\n",
    "            return filas\n",
    "    except Exception as e:\n",
    "        print (f\"No se puede mostrar la consulta, la palida es: {e}\")\n"
   ]
  },
  {
   "cell_type": "code",
   "execution_count": 4,
   "id": "0066a2d5",
   "metadata": {},
   "outputs": [],
   "source": [
    "# Conexión base de datos con sqlite3\n",
    "\n",
    "conn = sqlite3.connect(db_path)\n",
    "cursor = conn.cursor()"
   ]
  },
  {
   "cell_type": "markdown",
   "id": "e21af28e",
   "metadata": {},
   "source": [
    "# Ejercicios"
   ]
  },
  {
   "cell_type": "markdown",
   "id": "46bbc138",
   "metadata": {},
   "source": [
    "## 1. Consultas simples: SELECT, FROM, WHERE, LIMIT"
   ]
  },
  {
   "cell_type": "code",
   "execution_count": 5,
   "id": "88ec441d",
   "metadata": {},
   "outputs": [
    {
     "data": {
      "application/vnd.microsoft.datawrangler.viewer.v0+json": {
       "columns": [
        {
         "name": "index",
         "rawType": "int64",
         "type": "integer"
        },
        {
         "name": "BusinessEntityID",
         "rawType": "object",
         "type": "string"
        },
        {
         "name": "PersonType",
         "rawType": "object",
         "type": "string"
        },
        {
         "name": "NameStyle",
         "rawType": "object",
         "type": "string"
        },
        {
         "name": "Title",
         "rawType": "object",
         "type": "string"
        },
        {
         "name": "FirstName",
         "rawType": "object",
         "type": "string"
        },
        {
         "name": "MiddleName",
         "rawType": "object",
         "type": "string"
        },
        {
         "name": "LastName",
         "rawType": "object",
         "type": "string"
        },
        {
         "name": "Suffix",
         "rawType": "object",
         "type": "string"
        },
        {
         "name": "EmailPromotion",
         "rawType": "object",
         "type": "string"
        },
        {
         "name": "AdditionalContactInfo",
         "rawType": "object",
         "type": "string"
        },
        {
         "name": "Demographics",
         "rawType": "object",
         "type": "string"
        },
        {
         "name": "rowguid",
         "rawType": "object",
         "type": "string"
        },
        {
         "name": "ModifiedDate",
         "rawType": "object",
         "type": "string"
        }
       ],
       "conversionMethod": "pd.DataFrame",
       "ref": "2930e656-1c08-467e-a688-e13eb3eeb3bf",
       "rows": [
        [
         "0",
         "1",
         "EM",
         "0",
         "",
         "Ken",
         "J",
         "Sánchez",
         "",
         "0",
         "",
         "<IndividualSurvey xmlns=\"http://schemas.microsoft.com/sqlserver/2004/07/adventure-works/IndividualSurvey\"><TotalPurchaseYTD>0</TotalPurchaseYTD></IndividualSurvey>",
         "92C4279F-1207-48A3-8448-4636514EB7E2",
         "2009-01-07 00:00:00"
        ],
        [
         "1",
         "2",
         "EM",
         "0",
         "",
         "Terri",
         "Lee",
         "Duffy",
         "",
         "1",
         "",
         "<IndividualSurvey xmlns=\"http://schemas.microsoft.com/sqlserver/2004/07/adventure-works/IndividualSurvey\"><TotalPurchaseYTD>0</TotalPurchaseYTD></IndividualSurvey>",
         "D8763459-8AA8-47CC-AFF7-C9079AF79033",
         "2008-01-24 00:00:00"
        ],
        [
         "2",
         "3",
         "EM",
         "0",
         "",
         "Roberto",
         "",
         "Tamburello",
         "",
         "0",
         "",
         "<IndividualSurvey xmlns=\"http://schemas.microsoft.com/sqlserver/2004/07/adventure-works/IndividualSurvey\"><TotalPurchaseYTD>0</TotalPurchaseYTD></IndividualSurvey>",
         "E1A2555E-0828-434B-A33B-6F38136A37DE",
         "2007-11-04 00:00:00"
        ]
       ],
       "shape": {
        "columns": 13,
        "rows": 3
       }
      },
      "text/html": [
       "<div>\n",
       "<style scoped>\n",
       "    .dataframe tbody tr th:only-of-type {\n",
       "        vertical-align: middle;\n",
       "    }\n",
       "\n",
       "    .dataframe tbody tr th {\n",
       "        vertical-align: top;\n",
       "    }\n",
       "\n",
       "    .dataframe thead th {\n",
       "        text-align: right;\n",
       "    }\n",
       "</style>\n",
       "<table border=\"1\" class=\"dataframe\">\n",
       "  <thead>\n",
       "    <tr style=\"text-align: right;\">\n",
       "      <th></th>\n",
       "      <th>BusinessEntityID</th>\n",
       "      <th>PersonType</th>\n",
       "      <th>NameStyle</th>\n",
       "      <th>Title</th>\n",
       "      <th>FirstName</th>\n",
       "      <th>MiddleName</th>\n",
       "      <th>LastName</th>\n",
       "      <th>Suffix</th>\n",
       "      <th>EmailPromotion</th>\n",
       "      <th>AdditionalContactInfo</th>\n",
       "      <th>Demographics</th>\n",
       "      <th>rowguid</th>\n",
       "      <th>ModifiedDate</th>\n",
       "    </tr>\n",
       "  </thead>\n",
       "  <tbody>\n",
       "    <tr>\n",
       "      <th>0</th>\n",
       "      <td>1</td>\n",
       "      <td>EM</td>\n",
       "      <td>0</td>\n",
       "      <td></td>\n",
       "      <td>Ken</td>\n",
       "      <td>J</td>\n",
       "      <td>Sánchez</td>\n",
       "      <td></td>\n",
       "      <td>0</td>\n",
       "      <td></td>\n",
       "      <td>&lt;IndividualSurvey xmlns=\"http://schemas.micros...</td>\n",
       "      <td>92C4279F-1207-48A3-8448-4636514EB7E2</td>\n",
       "      <td>2009-01-07 00:00:00</td>\n",
       "    </tr>\n",
       "    <tr>\n",
       "      <th>1</th>\n",
       "      <td>2</td>\n",
       "      <td>EM</td>\n",
       "      <td>0</td>\n",
       "      <td></td>\n",
       "      <td>Terri</td>\n",
       "      <td>Lee</td>\n",
       "      <td>Duffy</td>\n",
       "      <td></td>\n",
       "      <td>1</td>\n",
       "      <td></td>\n",
       "      <td>&lt;IndividualSurvey xmlns=\"http://schemas.micros...</td>\n",
       "      <td>D8763459-8AA8-47CC-AFF7-C9079AF79033</td>\n",
       "      <td>2008-01-24 00:00:00</td>\n",
       "    </tr>\n",
       "    <tr>\n",
       "      <th>2</th>\n",
       "      <td>3</td>\n",
       "      <td>EM</td>\n",
       "      <td>0</td>\n",
       "      <td></td>\n",
       "      <td>Roberto</td>\n",
       "      <td></td>\n",
       "      <td>Tamburello</td>\n",
       "      <td></td>\n",
       "      <td>0</td>\n",
       "      <td></td>\n",
       "      <td>&lt;IndividualSurvey xmlns=\"http://schemas.micros...</td>\n",
       "      <td>E1A2555E-0828-434B-A33B-6F38136A37DE</td>\n",
       "      <td>2007-11-04 00:00:00</td>\n",
       "    </tr>\n",
       "  </tbody>\n",
       "</table>\n",
       "</div>"
      ],
      "text/plain": [
       "  BusinessEntityID PersonType NameStyle Title FirstName MiddleName  \\\n",
       "0                1         EM         0             Ken          J   \n",
       "1                2         EM         0           Terri        Lee   \n",
       "2                3         EM         0         Roberto              \n",
       "\n",
       "     LastName Suffix EmailPromotion AdditionalContactInfo  \\\n",
       "0     Sánchez                     0                         \n",
       "1       Duffy                     1                         \n",
       "2  Tamburello                     0                         \n",
       "\n",
       "                                        Demographics  \\\n",
       "0  <IndividualSurvey xmlns=\"http://schemas.micros...   \n",
       "1  <IndividualSurvey xmlns=\"http://schemas.micros...   \n",
       "2  <IndividualSurvey xmlns=\"http://schemas.micros...   \n",
       "\n",
       "                                rowguid         ModifiedDate  \n",
       "0  92C4279F-1207-48A3-8448-4636514EB7E2  2009-01-07 00:00:00  \n",
       "1  D8763459-8AA8-47CC-AFF7-C9079AF79033  2008-01-24 00:00:00  \n",
       "2  E1A2555E-0828-434B-A33B-6F38136A37DE  2007-11-04 00:00:00  "
      ]
     },
     "execution_count": 5,
     "metadata": {},
     "output_type": "execute_result"
    }
   ],
   "source": [
    "# 1. Mostrar el contenido de la tabla Person, del esquema Person.\n",
    "\n",
    "mostrar_query(\"\"\"SELECT * \n",
    "              from 'Person.Person' p\"\"\")\n",
    "\n"
   ]
  },
  {
   "cell_type": "code",
   "execution_count": 6,
   "id": "b04c9510",
   "metadata": {},
   "outputs": [
    {
     "data": {
      "application/vnd.microsoft.datawrangler.viewer.v0+json": {
       "columns": [
        {
         "name": "index",
         "rawType": "int64",
         "type": "integer"
        },
        {
         "name": "FirstName",
         "rawType": "object",
         "type": "string"
        },
        {
         "name": "LastName",
         "rawType": "object",
         "type": "string"
        }
       ],
       "conversionMethod": "pd.DataFrame",
       "ref": "7dfa4a7a-5d5f-48fa-93f0-f73100a8d719",
       "rows": [
        [
         "0",
         "Gail",
         "Erickson"
        ],
        [
         "1",
         "Janice",
         "Galvin"
        ],
        [
         "2",
         "Jill",
         "Williams"
        ]
       ],
       "shape": {
        "columns": 2,
        "rows": 3
       }
      },
      "text/html": [
       "<div>\n",
       "<style scoped>\n",
       "    .dataframe tbody tr th:only-of-type {\n",
       "        vertical-align: middle;\n",
       "    }\n",
       "\n",
       "    .dataframe tbody tr th {\n",
       "        vertical-align: top;\n",
       "    }\n",
       "\n",
       "    .dataframe thead th {\n",
       "        text-align: right;\n",
       "    }\n",
       "</style>\n",
       "<table border=\"1\" class=\"dataframe\">\n",
       "  <thead>\n",
       "    <tr style=\"text-align: right;\">\n",
       "      <th></th>\n",
       "      <th>FirstName</th>\n",
       "      <th>LastName</th>\n",
       "    </tr>\n",
       "  </thead>\n",
       "  <tbody>\n",
       "    <tr>\n",
       "      <th>0</th>\n",
       "      <td>Gail</td>\n",
       "      <td>Erickson</td>\n",
       "    </tr>\n",
       "    <tr>\n",
       "      <th>1</th>\n",
       "      <td>Janice</td>\n",
       "      <td>Galvin</td>\n",
       "    </tr>\n",
       "    <tr>\n",
       "      <th>2</th>\n",
       "      <td>Jill</td>\n",
       "      <td>Williams</td>\n",
       "    </tr>\n",
       "  </tbody>\n",
       "</table>\n",
       "</div>"
      ],
      "text/plain": [
       "  FirstName  LastName\n",
       "0      Gail  Erickson\n",
       "1    Janice    Galvin\n",
       "2      Jill  Williams"
      ]
     },
     "execution_count": 6,
     "metadata": {},
     "output_type": "execute_result"
    }
   ],
   "source": [
    "# 2. Mostrar los nombres y apelllido de cada persona que tenga como tratamiento “Ms.”\n",
    "\n",
    "mostrar_query(\"\"\"\n",
    "SELECT p.FirstName, p.LastName\n",
    "FROM 'Person.Person' p\n",
    "WHERE p.Title LIKE 'Ms%'\n",
    "\"\"\")"
   ]
  },
  {
   "cell_type": "code",
   "execution_count": 7,
   "id": "2a623dbd",
   "metadata": {},
   "outputs": [
    {
     "data": {
      "application/vnd.microsoft.datawrangler.viewer.v0+json": {
       "columns": [
        {
         "name": "index",
         "rawType": "int64",
         "type": "integer"
        },
        {
         "name": "BusinessEntityID",
         "rawType": "object",
         "type": "string"
        },
        {
         "name": "PersonType",
         "rawType": "object",
         "type": "string"
        },
        {
         "name": "NameStyle",
         "rawType": "object",
         "type": "string"
        },
        {
         "name": "Title",
         "rawType": "object",
         "type": "string"
        },
        {
         "name": "FirstName",
         "rawType": "object",
         "type": "string"
        },
        {
         "name": "MiddleName",
         "rawType": "object",
         "type": "string"
        },
        {
         "name": "LastName",
         "rawType": "object",
         "type": "string"
        },
        {
         "name": "Suffix",
         "rawType": "object",
         "type": "string"
        },
        {
         "name": "EmailPromotion",
         "rawType": "object",
         "type": "string"
        },
        {
         "name": "AdditionalContactInfo",
         "rawType": "object",
         "type": "string"
        },
        {
         "name": "Demographics",
         "rawType": "object",
         "type": "string"
        },
        {
         "name": "rowguid",
         "rawType": "object",
         "type": "string"
        },
        {
         "name": "ModifiedDate",
         "rawType": "object",
         "type": "string"
        }
       ],
       "conversionMethod": "pd.DataFrame",
       "ref": "6b12ca8f-b6e3-4d3e-94e7-0330ee94d45f",
       "rows": [],
       "shape": {
        "columns": 13,
        "rows": 0
       }
      },
      "text/html": [
       "<div>\n",
       "<style scoped>\n",
       "    .dataframe tbody tr th:only-of-type {\n",
       "        vertical-align: middle;\n",
       "    }\n",
       "\n",
       "    .dataframe tbody tr th {\n",
       "        vertical-align: top;\n",
       "    }\n",
       "\n",
       "    .dataframe thead th {\n",
       "        text-align: right;\n",
       "    }\n",
       "</style>\n",
       "<table border=\"1\" class=\"dataframe\">\n",
       "  <thead>\n",
       "    <tr style=\"text-align: right;\">\n",
       "      <th></th>\n",
       "      <th>BusinessEntityID</th>\n",
       "      <th>PersonType</th>\n",
       "      <th>NameStyle</th>\n",
       "      <th>Title</th>\n",
       "      <th>FirstName</th>\n",
       "      <th>MiddleName</th>\n",
       "      <th>LastName</th>\n",
       "      <th>Suffix</th>\n",
       "      <th>EmailPromotion</th>\n",
       "      <th>AdditionalContactInfo</th>\n",
       "      <th>Demographics</th>\n",
       "      <th>rowguid</th>\n",
       "      <th>ModifiedDate</th>\n",
       "    </tr>\n",
       "  </thead>\n",
       "  <tbody>\n",
       "  </tbody>\n",
       "</table>\n",
       "</div>"
      ],
      "text/plain": [
       "Empty DataFrame\n",
       "Columns: [BusinessEntityID, PersonType, NameStyle, Title, FirstName, MiddleName, LastName, Suffix, EmailPromotion, AdditionalContactInfo, Demographics, rowguid, ModifiedDate]\n",
       "Index: []"
      ]
     },
     "execution_count": 7,
     "metadata": {},
     "output_type": "execute_result"
    }
   ],
   "source": [
    "#3. Personas con “Mr.” y apellido “White”\n",
    "\n",
    "mostrar_query(\"\"\"\n",
    "SELECT *\n",
    "FROM 'Person.Person' p\n",
    "WHERE p.Title LIKE 'Mr%' COLLATE NOCASE\n",
    "  AND p.LastName LIKE '%White' COLLATE NOCASE\n",
    "\"\"\")\n"
   ]
  },
  {
   "cell_type": "code",
   "execution_count": 8,
   "id": "320ad488",
   "metadata": {},
   "outputs": [
    {
     "data": {
      "application/vnd.microsoft.datawrangler.viewer.v0+json": {
       "columns": [
        {
         "name": "index",
         "rawType": "int64",
         "type": "integer"
        },
        {
         "name": "BusinessEntityID",
         "rawType": "object",
         "type": "string"
        },
        {
         "name": "PersonType",
         "rawType": "object",
         "type": "string"
        },
        {
         "name": "NameStyle",
         "rawType": "object",
         "type": "string"
        },
        {
         "name": "Title",
         "rawType": "object",
         "type": "string"
        },
        {
         "name": "FirstName",
         "rawType": "object",
         "type": "string"
        },
        {
         "name": "MiddleName",
         "rawType": "object",
         "type": "string"
        },
        {
         "name": "LastName",
         "rawType": "object",
         "type": "string"
        },
        {
         "name": "Suffix",
         "rawType": "object",
         "type": "string"
        },
        {
         "name": "EmailPromotion",
         "rawType": "object",
         "type": "string"
        },
        {
         "name": "AdditionalContactInfo",
         "rawType": "object",
         "type": "string"
        },
        {
         "name": "Demographics",
         "rawType": "object",
         "type": "string"
        },
        {
         "name": "rowguid",
         "rawType": "object",
         "type": "string"
        },
        {
         "name": "ModifiedDate",
         "rawType": "object",
         "type": "string"
        }
       ],
       "conversionMethod": "pd.DataFrame",
       "ref": "355e0b59-afc4-4c7e-aaaf-d9579bf34f27",
       "rows": [
        [
         "0",
         "1",
         "EM",
         "0",
         "",
         "Ken",
         "J",
         "Sánchez",
         "",
         "0",
         "",
         "<IndividualSurvey xmlns=\"http://schemas.microsoft.com/sqlserver/2004/07/adventure-works/IndividualSurvey\"><TotalPurchaseYTD>0</TotalPurchaseYTD></IndividualSurvey>",
         "92C4279F-1207-48A3-8448-4636514EB7E2",
         "2009-01-07 00:00:00"
        ],
        [
         "1",
         "2",
         "EM",
         "0",
         "",
         "Terri",
         "Lee",
         "Duffy",
         "",
         "1",
         "",
         "<IndividualSurvey xmlns=\"http://schemas.microsoft.com/sqlserver/2004/07/adventure-works/IndividualSurvey\"><TotalPurchaseYTD>0</TotalPurchaseYTD></IndividualSurvey>",
         "D8763459-8AA8-47CC-AFF7-C9079AF79033",
         "2008-01-24 00:00:00"
        ],
        [
         "2",
         "3",
         "EM",
         "0",
         "",
         "Roberto",
         "",
         "Tamburello",
         "",
         "0",
         "",
         "<IndividualSurvey xmlns=\"http://schemas.microsoft.com/sqlserver/2004/07/adventure-works/IndividualSurvey\"><TotalPurchaseYTD>0</TotalPurchaseYTD></IndividualSurvey>",
         "E1A2555E-0828-434B-A33B-6F38136A37DE",
         "2007-11-04 00:00:00"
        ]
       ],
       "shape": {
        "columns": 13,
        "rows": 3
       }
      },
      "text/html": [
       "<div>\n",
       "<style scoped>\n",
       "    .dataframe tbody tr th:only-of-type {\n",
       "        vertical-align: middle;\n",
       "    }\n",
       "\n",
       "    .dataframe tbody tr th {\n",
       "        vertical-align: top;\n",
       "    }\n",
       "\n",
       "    .dataframe thead th {\n",
       "        text-align: right;\n",
       "    }\n",
       "</style>\n",
       "<table border=\"1\" class=\"dataframe\">\n",
       "  <thead>\n",
       "    <tr style=\"text-align: right;\">\n",
       "      <th></th>\n",
       "      <th>BusinessEntityID</th>\n",
       "      <th>PersonType</th>\n",
       "      <th>NameStyle</th>\n",
       "      <th>Title</th>\n",
       "      <th>FirstName</th>\n",
       "      <th>MiddleName</th>\n",
       "      <th>LastName</th>\n",
       "      <th>Suffix</th>\n",
       "      <th>EmailPromotion</th>\n",
       "      <th>AdditionalContactInfo</th>\n",
       "      <th>Demographics</th>\n",
       "      <th>rowguid</th>\n",
       "      <th>ModifiedDate</th>\n",
       "    </tr>\n",
       "  </thead>\n",
       "  <tbody>\n",
       "    <tr>\n",
       "      <th>0</th>\n",
       "      <td>1</td>\n",
       "      <td>EM</td>\n",
       "      <td>0</td>\n",
       "      <td></td>\n",
       "      <td>Ken</td>\n",
       "      <td>J</td>\n",
       "      <td>Sánchez</td>\n",
       "      <td></td>\n",
       "      <td>0</td>\n",
       "      <td></td>\n",
       "      <td>&lt;IndividualSurvey xmlns=\"http://schemas.micros...</td>\n",
       "      <td>92C4279F-1207-48A3-8448-4636514EB7E2</td>\n",
       "      <td>2009-01-07 00:00:00</td>\n",
       "    </tr>\n",
       "    <tr>\n",
       "      <th>1</th>\n",
       "      <td>2</td>\n",
       "      <td>EM</td>\n",
       "      <td>0</td>\n",
       "      <td></td>\n",
       "      <td>Terri</td>\n",
       "      <td>Lee</td>\n",
       "      <td>Duffy</td>\n",
       "      <td></td>\n",
       "      <td>1</td>\n",
       "      <td></td>\n",
       "      <td>&lt;IndividualSurvey xmlns=\"http://schemas.micros...</td>\n",
       "      <td>D8763459-8AA8-47CC-AFF7-C9079AF79033</td>\n",
       "      <td>2008-01-24 00:00:00</td>\n",
       "    </tr>\n",
       "    <tr>\n",
       "      <th>2</th>\n",
       "      <td>3</td>\n",
       "      <td>EM</td>\n",
       "      <td>0</td>\n",
       "      <td></td>\n",
       "      <td>Roberto</td>\n",
       "      <td></td>\n",
       "      <td>Tamburello</td>\n",
       "      <td></td>\n",
       "      <td>0</td>\n",
       "      <td></td>\n",
       "      <td>&lt;IndividualSurvey xmlns=\"http://schemas.micros...</td>\n",
       "      <td>E1A2555E-0828-434B-A33B-6F38136A37DE</td>\n",
       "      <td>2007-11-04 00:00:00</td>\n",
       "    </tr>\n",
       "  </tbody>\n",
       "</table>\n",
       "</div>"
      ],
      "text/plain": [
       "  BusinessEntityID PersonType NameStyle Title FirstName MiddleName  \\\n",
       "0                1         EM         0             Ken          J   \n",
       "1                2         EM         0           Terri        Lee   \n",
       "2                3         EM         0         Roberto              \n",
       "\n",
       "     LastName Suffix EmailPromotion AdditionalContactInfo  \\\n",
       "0     Sánchez                     0                         \n",
       "1       Duffy                     1                         \n",
       "2  Tamburello                     0                         \n",
       "\n",
       "                                        Demographics  \\\n",
       "0  <IndividualSurvey xmlns=\"http://schemas.micros...   \n",
       "1  <IndividualSurvey xmlns=\"http://schemas.micros...   \n",
       "2  <IndividualSurvey xmlns=\"http://schemas.micros...   \n",
       "\n",
       "                                rowguid         ModifiedDate  \n",
       "0  92C4279F-1207-48A3-8448-4636514EB7E2  2009-01-07 00:00:00  \n",
       "1  D8763459-8AA8-47CC-AFF7-C9079AF79033  2008-01-24 00:00:00  \n",
       "2  E1A2555E-0828-434B-A33B-6F38136A37DE  2007-11-04 00:00:00  "
      ]
     },
     "execution_count": 8,
     "metadata": {},
     "output_type": "execute_result"
    }
   ],
   "source": [
    "# 5. Mostrar los datos de las personas que tengan asignado el tipo “SP” ó el tipo “VC”.\n",
    "\n",
    "mostrar_query(\"\"\"\n",
    "SELECT * \n",
    "FROM 'Person.Person' p\n",
    "WHERE p.PersonType LIKE 'EM' OR p.PersonType LIKE 'VC'\n",
    "\"\"\")\n"
   ]
  },
  {
   "cell_type": "code",
   "execution_count": 9,
   "id": "341aceb3",
   "metadata": {},
   "outputs": [
    {
     "data": {
      "application/vnd.microsoft.datawrangler.viewer.v0+json": {
       "columns": [
        {
         "name": "index",
         "rawType": "int64",
         "type": "integer"
        },
        {
         "name": "BusinessEntityID",
         "rawType": "object",
         "type": "string"
        },
        {
         "name": "NationalIDNumber",
         "rawType": "object",
         "type": "string"
        },
        {
         "name": "LoginID",
         "rawType": "object",
         "type": "string"
        },
        {
         "name": "OrganizationNode",
         "rawType": "object",
         "type": "string"
        },
        {
         "name": "OrganizationLevel",
         "rawType": "object",
         "type": "string"
        },
        {
         "name": "JobTitle",
         "rawType": "object",
         "type": "string"
        },
        {
         "name": "BirthDate",
         "rawType": "object",
         "type": "string"
        },
        {
         "name": "MaritalStatus",
         "rawType": "object",
         "type": "string"
        },
        {
         "name": "Gender",
         "rawType": "object",
         "type": "string"
        },
        {
         "name": "HireDate",
         "rawType": "object",
         "type": "string"
        },
        {
         "name": "SalariedFlag",
         "rawType": "object",
         "type": "string"
        },
        {
         "name": "VacationHours",
         "rawType": "object",
         "type": "string"
        },
        {
         "name": "SickLeaveHours",
         "rawType": "object",
         "type": "string"
        },
        {
         "name": "CurrentFlag",
         "rawType": "object",
         "type": "string"
        },
        {
         "name": "rowguid",
         "rawType": "object",
         "type": "string"
        },
        {
         "name": "ModifiedDate",
         "rawType": "object",
         "type": "string"
        }
       ],
       "conversionMethod": "pd.DataFrame",
       "ref": "6a7d01ca-deef-4223-93e7-d6558d510ffb",
       "rows": [
        [
         "0",
         "1",
         "295847284",
         "adventure-works\\ken0",
         "",
         "",
         "Chief Executive Officer",
         "1969-01-29",
         "S",
         "M",
         "2009-01-14",
         "1",
         "99",
         "69",
         "1",
         "F01251E5-96A3-448D-981E-0F99D789110D",
         "2014-06-30 00:00:00"
        ],
        [
         "1",
         "2",
         "245797967",
         "adventure-works\\terri0",
         "58",
         "1",
         "Vice President of Engineering",
         "1971-08-01",
         "S",
         "F",
         "2008-01-31",
         "1",
         "1",
         "20",
         "1",
         "45E8F437-670D-4409-93CB-F9424A40D6EE",
         "2014-06-30 00:00:00"
        ],
        [
         "2",
         "3",
         "509647174",
         "adventure-works\\roberto0",
         "5AC0",
         "2",
         "Engineering Manager",
         "1974-11-12",
         "M",
         "M",
         "2007-11-11",
         "1",
         "2",
         "21",
         "1",
         "9BBBFB2C-EFBB-4217-9AB7-F97689328841",
         "2014-06-30 00:00:00"
        ]
       ],
       "shape": {
        "columns": 16,
        "rows": 3
       }
      },
      "text/html": [
       "<div>\n",
       "<style scoped>\n",
       "    .dataframe tbody tr th:only-of-type {\n",
       "        vertical-align: middle;\n",
       "    }\n",
       "\n",
       "    .dataframe tbody tr th {\n",
       "        vertical-align: top;\n",
       "    }\n",
       "\n",
       "    .dataframe thead th {\n",
       "        text-align: right;\n",
       "    }\n",
       "</style>\n",
       "<table border=\"1\" class=\"dataframe\">\n",
       "  <thead>\n",
       "    <tr style=\"text-align: right;\">\n",
       "      <th></th>\n",
       "      <th>BusinessEntityID</th>\n",
       "      <th>NationalIDNumber</th>\n",
       "      <th>LoginID</th>\n",
       "      <th>OrganizationNode</th>\n",
       "      <th>OrganizationLevel</th>\n",
       "      <th>JobTitle</th>\n",
       "      <th>BirthDate</th>\n",
       "      <th>MaritalStatus</th>\n",
       "      <th>Gender</th>\n",
       "      <th>HireDate</th>\n",
       "      <th>SalariedFlag</th>\n",
       "      <th>VacationHours</th>\n",
       "      <th>SickLeaveHours</th>\n",
       "      <th>CurrentFlag</th>\n",
       "      <th>rowguid</th>\n",
       "      <th>ModifiedDate</th>\n",
       "    </tr>\n",
       "  </thead>\n",
       "  <tbody>\n",
       "    <tr>\n",
       "      <th>0</th>\n",
       "      <td>1</td>\n",
       "      <td>295847284</td>\n",
       "      <td>adventure-works\\ken0</td>\n",
       "      <td></td>\n",
       "      <td></td>\n",
       "      <td>Chief Executive Officer</td>\n",
       "      <td>1969-01-29</td>\n",
       "      <td>S</td>\n",
       "      <td>M</td>\n",
       "      <td>2009-01-14</td>\n",
       "      <td>1</td>\n",
       "      <td>99</td>\n",
       "      <td>69</td>\n",
       "      <td>1</td>\n",
       "      <td>F01251E5-96A3-448D-981E-0F99D789110D</td>\n",
       "      <td>2014-06-30 00:00:00</td>\n",
       "    </tr>\n",
       "    <tr>\n",
       "      <th>1</th>\n",
       "      <td>2</td>\n",
       "      <td>245797967</td>\n",
       "      <td>adventure-works\\terri0</td>\n",
       "      <td>58</td>\n",
       "      <td>1</td>\n",
       "      <td>Vice President of Engineering</td>\n",
       "      <td>1971-08-01</td>\n",
       "      <td>S</td>\n",
       "      <td>F</td>\n",
       "      <td>2008-01-31</td>\n",
       "      <td>1</td>\n",
       "      <td>1</td>\n",
       "      <td>20</td>\n",
       "      <td>1</td>\n",
       "      <td>45E8F437-670D-4409-93CB-F9424A40D6EE</td>\n",
       "      <td>2014-06-30 00:00:00</td>\n",
       "    </tr>\n",
       "    <tr>\n",
       "      <th>2</th>\n",
       "      <td>3</td>\n",
       "      <td>509647174</td>\n",
       "      <td>adventure-works\\roberto0</td>\n",
       "      <td>5AC0</td>\n",
       "      <td>2</td>\n",
       "      <td>Engineering Manager</td>\n",
       "      <td>1974-11-12</td>\n",
       "      <td>M</td>\n",
       "      <td>M</td>\n",
       "      <td>2007-11-11</td>\n",
       "      <td>1</td>\n",
       "      <td>2</td>\n",
       "      <td>21</td>\n",
       "      <td>1</td>\n",
       "      <td>9BBBFB2C-EFBB-4217-9AB7-F97689328841</td>\n",
       "      <td>2014-06-30 00:00:00</td>\n",
       "    </tr>\n",
       "  </tbody>\n",
       "</table>\n",
       "</div>"
      ],
      "text/plain": [
       "  BusinessEntityID NationalIDNumber                   LoginID  \\\n",
       "0                1        295847284      adventure-works\\ken0   \n",
       "1                2        245797967    adventure-works\\terri0   \n",
       "2                3        509647174  adventure-works\\roberto0   \n",
       "\n",
       "  OrganizationNode OrganizationLevel                       JobTitle  \\\n",
       "0                                           Chief Executive Officer   \n",
       "1               58                 1  Vice President of Engineering   \n",
       "2             5AC0                 2            Engineering Manager   \n",
       "\n",
       "    BirthDate MaritalStatus Gender    HireDate SalariedFlag VacationHours  \\\n",
       "0  1969-01-29             S      M  2009-01-14            1            99   \n",
       "1  1971-08-01             S      F  2008-01-31            1             1   \n",
       "2  1974-11-12             M      M  2007-11-11            1             2   \n",
       "\n",
       "  SickLeaveHours CurrentFlag                               rowguid  \\\n",
       "0             69           1  F01251E5-96A3-448D-981E-0F99D789110D   \n",
       "1             20           1  45E8F437-670D-4409-93CB-F9424A40D6EE   \n",
       "2             21           1  9BBBFB2C-EFBB-4217-9AB7-F97689328841   \n",
       "\n",
       "          ModifiedDate  \n",
       "0  2014-06-30 00:00:00  \n",
       "1  2014-06-30 00:00:00  \n",
       "2  2014-06-30 00:00:00  "
      ]
     },
     "execution_count": 9,
     "metadata": {},
     "output_type": "execute_result"
    }
   ],
   "source": [
    "#6. Mostrar el contenido de la tabla Employee, del esquema HumanResources\n",
    "\n",
    "mostrar_query(\"\"\"\n",
    "SELECT * \n",
    "FROM 'HumanResources.Employee' AS e\n",
    "\"\"\")\n",
    "\n"
   ]
  },
  {
   "cell_type": "code",
   "execution_count": 10,
   "id": "9a48207e",
   "metadata": {},
   "outputs": [
    {
     "data": {
      "application/vnd.microsoft.datawrangler.viewer.v0+json": {
       "columns": [
        {
         "name": "index",
         "rawType": "int64",
         "type": "integer"
        },
        {
         "name": "id",
         "rawType": "object",
         "type": "string"
        }
       ],
       "conversionMethod": "pd.DataFrame",
       "ref": "cfc1ecc7-51ec-4b11-8e47-626eb1172df5",
       "rows": [],
       "shape": {
        "columns": 1,
        "rows": 0
       }
      },
      "text/html": [
       "<div>\n",
       "<style scoped>\n",
       "    .dataframe tbody tr th:only-of-type {\n",
       "        vertical-align: middle;\n",
       "    }\n",
       "\n",
       "    .dataframe tbody tr th {\n",
       "        vertical-align: top;\n",
       "    }\n",
       "\n",
       "    .dataframe thead th {\n",
       "        text-align: right;\n",
       "    }\n",
       "</style>\n",
       "<table border=\"1\" class=\"dataframe\">\n",
       "  <thead>\n",
       "    <tr style=\"text-align: right;\">\n",
       "      <th></th>\n",
       "      <th>id</th>\n",
       "    </tr>\n",
       "  </thead>\n",
       "  <tbody>\n",
       "  </tbody>\n",
       "</table>\n",
       "</div>"
      ],
      "text/plain": [
       "Empty DataFrame\n",
       "Columns: [id]\n",
       "Index: []"
      ]
     },
     "execution_count": 10,
     "metadata": {},
     "output_type": "execute_result"
    }
   ],
   "source": [
    "# 7. Hallar el Id y fecha de nacimiento de los empleados que tengan como función “Research and\n",
    "# Development Manager” y que tengan menos de 10 “VacationHours”.\n",
    "\n",
    "\n",
    "mostrar_query(\"\"\"\n",
    "SELECT e.BusinessEntityID AS id\n",
    "FROM 'HumanResources.Employee' e\n",
    "WHERE e.JobTitle = 'Research and Development Manager'\n",
    "  AND e.VacationHours < 10\n",
    "\"\"\")\n"
   ]
  },
  {
   "cell_type": "code",
   "execution_count": 11,
   "id": "32bfbfb1",
   "metadata": {},
   "outputs": [
    {
     "data": {
      "application/vnd.microsoft.datawrangler.viewer.v0+json": {
       "columns": [
        {
         "name": "index",
         "rawType": "int64",
         "type": "integer"
        },
        {
         "name": "Gender",
         "rawType": "object",
         "type": "string"
        }
       ],
       "conversionMethod": "pd.DataFrame",
       "ref": "ee273370-b159-4e02-a765-2fedb5d9a291",
       "rows": [
        [
         "0",
         "M"
        ],
        [
         "1",
         "F"
        ]
       ],
       "shape": {
        "columns": 1,
        "rows": 2
       }
      },
      "text/html": [
       "<div>\n",
       "<style scoped>\n",
       "    .dataframe tbody tr th:only-of-type {\n",
       "        vertical-align: middle;\n",
       "    }\n",
       "\n",
       "    .dataframe tbody tr th {\n",
       "        vertical-align: top;\n",
       "    }\n",
       "\n",
       "    .dataframe thead th {\n",
       "        text-align: right;\n",
       "    }\n",
       "</style>\n",
       "<table border=\"1\" class=\"dataframe\">\n",
       "  <thead>\n",
       "    <tr style=\"text-align: right;\">\n",
       "      <th></th>\n",
       "      <th>Gender</th>\n",
       "    </tr>\n",
       "  </thead>\n",
       "  <tbody>\n",
       "    <tr>\n",
       "      <th>0</th>\n",
       "      <td>M</td>\n",
       "    </tr>\n",
       "    <tr>\n",
       "      <th>1</th>\n",
       "      <td>F</td>\n",
       "    </tr>\n",
       "  </tbody>\n",
       "</table>\n",
       "</div>"
      ],
      "text/plain": [
       "  Gender\n",
       "0      M\n",
       "1      F"
      ]
     },
     "execution_count": 11,
     "metadata": {},
     "output_type": "execute_result"
    }
   ],
   "source": [
    "# 8. ¿Cuáles son los tipos de “género” que figuran en la tabla de empleados?\n",
    "\n",
    "mostrar_query(\"\"\"\n",
    "SELECT DISTINCT e.Gender \n",
    "FROM 'HumanResources.Employee' AS e\n",
    "\"\"\")\n",
    "\n"
   ]
  },
  {
   "cell_type": "code",
   "execution_count": 12,
   "id": "5cf60bf2",
   "metadata": {},
   "outputs": [
    {
     "data": {
      "application/vnd.microsoft.datawrangler.viewer.v0+json": {
       "columns": [
        {
         "name": "index",
         "rawType": "int64",
         "type": "integer"
        },
        {
         "name": "id",
         "rawType": "object",
         "type": "string"
        },
        {
         "name": "FirstName",
         "rawType": "object",
         "type": "string"
        },
        {
         "name": "LastName",
         "rawType": "object",
         "type": "string"
        }
       ],
       "conversionMethod": "pd.DataFrame",
       "ref": "29289aa1-5070-45c5-8e7c-0dfc3a9b2b23",
       "rows": [
        [
         "0",
         "84",
         "Frank",
         "Martinez"
        ],
        [
         "1",
         "5",
         "Gail",
         "Erickson"
        ],
        [
         "2",
         "63",
         "Maciej",
         "Dusza"
        ]
       ],
       "shape": {
        "columns": 3,
        "rows": 3
       }
      },
      "text/html": [
       "<div>\n",
       "<style scoped>\n",
       "    .dataframe tbody tr th:only-of-type {\n",
       "        vertical-align: middle;\n",
       "    }\n",
       "\n",
       "    .dataframe tbody tr th {\n",
       "        vertical-align: top;\n",
       "    }\n",
       "\n",
       "    .dataframe thead th {\n",
       "        text-align: right;\n",
       "    }\n",
       "</style>\n",
       "<table border=\"1\" class=\"dataframe\">\n",
       "  <thead>\n",
       "    <tr style=\"text-align: right;\">\n",
       "      <th></th>\n",
       "      <th>id</th>\n",
       "      <th>FirstName</th>\n",
       "      <th>LastName</th>\n",
       "    </tr>\n",
       "  </thead>\n",
       "  <tbody>\n",
       "    <tr>\n",
       "      <th>0</th>\n",
       "      <td>84</td>\n",
       "      <td>Frank</td>\n",
       "      <td>Martinez</td>\n",
       "    </tr>\n",
       "    <tr>\n",
       "      <th>1</th>\n",
       "      <td>5</td>\n",
       "      <td>Gail</td>\n",
       "      <td>Erickson</td>\n",
       "    </tr>\n",
       "    <tr>\n",
       "      <th>2</th>\n",
       "      <td>63</td>\n",
       "      <td>Maciej</td>\n",
       "      <td>Dusza</td>\n",
       "    </tr>\n",
       "  </tbody>\n",
       "</table>\n",
       "</div>"
      ],
      "text/plain": [
       "   id FirstName  LastName\n",
       "0  84     Frank  Martinez\n",
       "1   5      Gail  Erickson\n",
       "2  63    Maciej     Dusza"
      ]
     },
     "execution_count": 12,
     "metadata": {},
     "output_type": "execute_result"
    }
   ],
   "source": [
    "# 9. Mostrar el id, nombres, apellido de los empleados ordenados desde el de fecha de nacimiento\n",
    "# más antigua.\n",
    "\n",
    "\n",
    "mostrar_query(\"\"\"\n",
    "SELECT p.BusinessEntityID AS id, p.FirstName, p.LastName\n",
    "FROM 'HumanResources.Employee' AS e\n",
    "JOIN 'Person.Person' AS p ON e.BusinessEntityID = p.BusinessEntityID\n",
    "ORDER BY e.BirthDate ASC\n",
    "\"\"\")\n"
   ]
  },
  {
   "cell_type": "code",
   "execution_count": 13,
   "id": "cea64a24",
   "metadata": {},
   "outputs": [
    {
     "data": {
      "application/vnd.microsoft.datawrangler.viewer.v0+json": {
       "columns": [
        {
         "name": "index",
         "rawType": "int64",
         "type": "integer"
        },
        {
         "name": "DepartmentID",
         "rawType": "object",
         "type": "string"
        },
        {
         "name": "Name",
         "rawType": "object",
         "type": "string"
        },
        {
         "name": "GroupName",
         "rawType": "object",
         "type": "string"
        },
        {
         "name": "ModifiedDate",
         "rawType": "object",
         "type": "string"
        }
       ],
       "conversionMethod": "pd.DataFrame",
       "ref": "a542296a-7975-4ef4-85d3-95312116a1bd",
       "rows": [
        [
         "0",
         "1",
         "Engineering",
         "Research and Development",
         "2008-04-30 00:00:00"
        ],
        [
         "1",
         "2",
         "Tool Design",
         "Research and Development",
         "2008-04-30 00:00:00"
        ],
        [
         "2",
         "3",
         "Sales",
         "Sales and Marketing",
         "2008-04-30 00:00:00"
        ]
       ],
       "shape": {
        "columns": 4,
        "rows": 3
       }
      },
      "text/html": [
       "<div>\n",
       "<style scoped>\n",
       "    .dataframe tbody tr th:only-of-type {\n",
       "        vertical-align: middle;\n",
       "    }\n",
       "\n",
       "    .dataframe tbody tr th {\n",
       "        vertical-align: top;\n",
       "    }\n",
       "\n",
       "    .dataframe thead th {\n",
       "        text-align: right;\n",
       "    }\n",
       "</style>\n",
       "<table border=\"1\" class=\"dataframe\">\n",
       "  <thead>\n",
       "    <tr style=\"text-align: right;\">\n",
       "      <th></th>\n",
       "      <th>DepartmentID</th>\n",
       "      <th>Name</th>\n",
       "      <th>GroupName</th>\n",
       "      <th>ModifiedDate</th>\n",
       "    </tr>\n",
       "  </thead>\n",
       "  <tbody>\n",
       "    <tr>\n",
       "      <th>0</th>\n",
       "      <td>1</td>\n",
       "      <td>Engineering</td>\n",
       "      <td>Research and Development</td>\n",
       "      <td>2008-04-30 00:00:00</td>\n",
       "    </tr>\n",
       "    <tr>\n",
       "      <th>1</th>\n",
       "      <td>2</td>\n",
       "      <td>Tool Design</td>\n",
       "      <td>Research and Development</td>\n",
       "      <td>2008-04-30 00:00:00</td>\n",
       "    </tr>\n",
       "    <tr>\n",
       "      <th>2</th>\n",
       "      <td>3</td>\n",
       "      <td>Sales</td>\n",
       "      <td>Sales and Marketing</td>\n",
       "      <td>2008-04-30 00:00:00</td>\n",
       "    </tr>\n",
       "  </tbody>\n",
       "</table>\n",
       "</div>"
      ],
      "text/plain": [
       "  DepartmentID         Name                 GroupName         ModifiedDate\n",
       "0            1  Engineering  Research and Development  2008-04-30 00:00:00\n",
       "1            2  Tool Design  Research and Development  2008-04-30 00:00:00\n",
       "2            3        Sales       Sales and Marketing  2008-04-30 00:00:00"
      ]
     },
     "execution_count": 13,
     "metadata": {},
     "output_type": "execute_result"
    }
   ],
   "source": [
    "#10.Mostrar el contenido de la tabla Departments\n",
    "\n",
    "\n",
    "mostrar_query(\"\"\"\n",
    "SELECT * \n",
    "FROM 'HumanResources.Department' AS d\n",
    "\"\"\")\n",
    "\n"
   ]
  },
  {
   "cell_type": "code",
   "execution_count": 14,
   "id": "e80e812c",
   "metadata": {},
   "outputs": [
    {
     "data": {
      "application/vnd.microsoft.datawrangler.viewer.v0+json": {
       "columns": [
        {
         "name": "index",
         "rawType": "int64",
         "type": "integer"
        },
        {
         "name": "DepartmentID",
         "rawType": "object",
         "type": "string"
        },
        {
         "name": "Name",
         "rawType": "object",
         "type": "string"
        },
        {
         "name": "GroupName",
         "rawType": "object",
         "type": "string"
        },
        {
         "name": "ModifiedDate",
         "rawType": "object",
         "type": "string"
        }
       ],
       "conversionMethod": "pd.DataFrame",
       "ref": "7ecf9d74-8cfa-4249-bf80-9111fd2d205e",
       "rows": [
        [
         "0",
         "7",
         "Production",
         "Manufacturing",
         "2008-04-30 00:00:00"
        ],
        [
         "1",
         "8",
         "Production Control",
         "Manufacturing",
         "2008-04-30 00:00:00"
        ],
        [
         "2",
         "12",
         "Document Control",
         "Quality Assurance",
         "2008-04-30 00:00:00"
        ]
       ],
       "shape": {
        "columns": 4,
        "rows": 3
       }
      },
      "text/html": [
       "<div>\n",
       "<style scoped>\n",
       "    .dataframe tbody tr th:only-of-type {\n",
       "        vertical-align: middle;\n",
       "    }\n",
       "\n",
       "    .dataframe tbody tr th {\n",
       "        vertical-align: top;\n",
       "    }\n",
       "\n",
       "    .dataframe thead th {\n",
       "        text-align: right;\n",
       "    }\n",
       "</style>\n",
       "<table border=\"1\" class=\"dataframe\">\n",
       "  <thead>\n",
       "    <tr style=\"text-align: right;\">\n",
       "      <th></th>\n",
       "      <th>DepartmentID</th>\n",
       "      <th>Name</th>\n",
       "      <th>GroupName</th>\n",
       "      <th>ModifiedDate</th>\n",
       "    </tr>\n",
       "  </thead>\n",
       "  <tbody>\n",
       "    <tr>\n",
       "      <th>0</th>\n",
       "      <td>7</td>\n",
       "      <td>Production</td>\n",
       "      <td>Manufacturing</td>\n",
       "      <td>2008-04-30 00:00:00</td>\n",
       "    </tr>\n",
       "    <tr>\n",
       "      <th>1</th>\n",
       "      <td>8</td>\n",
       "      <td>Production Control</td>\n",
       "      <td>Manufacturing</td>\n",
       "      <td>2008-04-30 00:00:00</td>\n",
       "    </tr>\n",
       "    <tr>\n",
       "      <th>2</th>\n",
       "      <td>12</td>\n",
       "      <td>Document Control</td>\n",
       "      <td>Quality Assurance</td>\n",
       "      <td>2008-04-30 00:00:00</td>\n",
       "    </tr>\n",
       "  </tbody>\n",
       "</table>\n",
       "</div>"
      ],
      "text/plain": [
       "  DepartmentID                Name          GroupName         ModifiedDate\n",
       "0            7          Production      Manufacturing  2008-04-30 00:00:00\n",
       "1            8  Production Control      Manufacturing  2008-04-30 00:00:00\n",
       "2           12    Document Control  Quality Assurance  2008-04-30 00:00:00"
      ]
     },
     "execution_count": 14,
     "metadata": {},
     "output_type": "execute_result"
    }
   ],
   "source": [
    "#11.¿Cuáles son los departamentos que están agrupados como “Manufacturing” ó como “Quality\n",
    "#Assurance”?\n",
    "\n",
    "mostrar_query(\"\"\"\n",
    "SELECT * \n",
    "FROM 'HumanResources.Department' AS d\n",
    "WHERE d.GroupName = 'Manufacturing' OR d.GroupName = 'Quality Assurance'\n",
    "\"\"\")\n"
   ]
  },
  {
   "cell_type": "code",
   "execution_count": 15,
   "id": "0afdd3a7",
   "metadata": {},
   "outputs": [
    {
     "data": {
      "application/vnd.microsoft.datawrangler.viewer.v0+json": {
       "columns": [
        {
         "name": "index",
         "rawType": "int64",
         "type": "integer"
        },
        {
         "name": "DepartmentID",
         "rawType": "object",
         "type": "string"
        },
        {
         "name": "Name",
         "rawType": "object",
         "type": "string"
        },
        {
         "name": "GroupName",
         "rawType": "object",
         "type": "string"
        },
        {
         "name": "ModifiedDate",
         "rawType": "object",
         "type": "string"
        }
       ],
       "conversionMethod": "pd.DataFrame",
       "ref": "179e560d-a961-4a85-8a42-90966bdf9bc2",
       "rows": [
        [
         "0",
         "7",
         "Production",
         "Manufacturing",
         "2008-04-30 00:00:00"
        ]
       ],
       "shape": {
        "columns": 4,
        "rows": 1
       }
      },
      "text/html": [
       "<div>\n",
       "<style scoped>\n",
       "    .dataframe tbody tr th:only-of-type {\n",
       "        vertical-align: middle;\n",
       "    }\n",
       "\n",
       "    .dataframe tbody tr th {\n",
       "        vertical-align: top;\n",
       "    }\n",
       "\n",
       "    .dataframe thead th {\n",
       "        text-align: right;\n",
       "    }\n",
       "</style>\n",
       "<table border=\"1\" class=\"dataframe\">\n",
       "  <thead>\n",
       "    <tr style=\"text-align: right;\">\n",
       "      <th></th>\n",
       "      <th>DepartmentID</th>\n",
       "      <th>Name</th>\n",
       "      <th>GroupName</th>\n",
       "      <th>ModifiedDate</th>\n",
       "    </tr>\n",
       "  </thead>\n",
       "  <tbody>\n",
       "    <tr>\n",
       "      <th>0</th>\n",
       "      <td>7</td>\n",
       "      <td>Production</td>\n",
       "      <td>Manufacturing</td>\n",
       "      <td>2008-04-30 00:00:00</td>\n",
       "    </tr>\n",
       "  </tbody>\n",
       "</table>\n",
       "</div>"
      ],
      "text/plain": [
       "  DepartmentID        Name      GroupName         ModifiedDate\n",
       "0            7  Production  Manufacturing  2008-04-30 00:00:00"
      ]
     },
     "execution_count": 15,
     "metadata": {},
     "output_type": "execute_result"
    }
   ],
   "source": [
    "# Ejercicio 12 - ¿Cuáles son los datos de los departamentos cuyo nombre esté relacionado con “Production”?\n",
    "mostrar_query(\"\"\" \n",
    "SELECT * \n",
    "FROM 'HumanResources.Department' AS d\n",
    "WHERE d.Name LIKE 'Production'\n",
    "\"\"\")\n"
   ]
  },
  {
   "cell_type": "code",
   "execution_count": 16,
   "id": "a73a1c32",
   "metadata": {},
   "outputs": [
    {
     "data": {
      "application/vnd.microsoft.datawrangler.viewer.v0+json": {
       "columns": [
        {
         "name": "index",
         "rawType": "int64",
         "type": "integer"
        },
        {
         "name": "DepartmentID",
         "rawType": "object",
         "type": "string"
        },
        {
         "name": "Name",
         "rawType": "object",
         "type": "string"
        },
        {
         "name": "GroupName",
         "rawType": "object",
         "type": "string"
        },
        {
         "name": "ModifiedDate",
         "rawType": "object",
         "type": "string"
        }
       ],
       "conversionMethod": "pd.DataFrame",
       "ref": "787f0faf-f252-4ac5-a032-e93d9f2f9584",
       "rows": [
        [
         "0",
         "1",
         "Engineering",
         "Research and Development",
         "2008-04-30 00:00:00"
        ],
        [
         "1",
         "2",
         "Tool Design",
         "Research and Development",
         "2008-04-30 00:00:00"
        ],
        [
         "2",
         "3",
         "Sales",
         "Sales and Marketing",
         "2008-04-30 00:00:00"
        ]
       ],
       "shape": {
        "columns": 4,
        "rows": 3
       }
      },
      "text/html": [
       "<div>\n",
       "<style scoped>\n",
       "    .dataframe tbody tr th:only-of-type {\n",
       "        vertical-align: middle;\n",
       "    }\n",
       "\n",
       "    .dataframe tbody tr th {\n",
       "        vertical-align: top;\n",
       "    }\n",
       "\n",
       "    .dataframe thead th {\n",
       "        text-align: right;\n",
       "    }\n",
       "</style>\n",
       "<table border=\"1\" class=\"dataframe\">\n",
       "  <thead>\n",
       "    <tr style=\"text-align: right;\">\n",
       "      <th></th>\n",
       "      <th>DepartmentID</th>\n",
       "      <th>Name</th>\n",
       "      <th>GroupName</th>\n",
       "      <th>ModifiedDate</th>\n",
       "    </tr>\n",
       "  </thead>\n",
       "  <tbody>\n",
       "    <tr>\n",
       "      <th>0</th>\n",
       "      <td>1</td>\n",
       "      <td>Engineering</td>\n",
       "      <td>Research and Development</td>\n",
       "      <td>2008-04-30 00:00:00</td>\n",
       "    </tr>\n",
       "    <tr>\n",
       "      <th>1</th>\n",
       "      <td>2</td>\n",
       "      <td>Tool Design</td>\n",
       "      <td>Research and Development</td>\n",
       "      <td>2008-04-30 00:00:00</td>\n",
       "    </tr>\n",
       "    <tr>\n",
       "      <th>2</th>\n",
       "      <td>3</td>\n",
       "      <td>Sales</td>\n",
       "      <td>Sales and Marketing</td>\n",
       "      <td>2008-04-30 00:00:00</td>\n",
       "    </tr>\n",
       "  </tbody>\n",
       "</table>\n",
       "</div>"
      ],
      "text/plain": [
       "  DepartmentID         Name                 GroupName         ModifiedDate\n",
       "0            1  Engineering  Research and Development  2008-04-30 00:00:00\n",
       "1            2  Tool Design  Research and Development  2008-04-30 00:00:00\n",
       "2            3        Sales       Sales and Marketing  2008-04-30 00:00:00"
      ]
     },
     "execution_count": 16,
     "metadata": {},
     "output_type": "execute_result"
    }
   ],
   "source": [
    "# Ejercicio 13 - Mostrar los datos de los departamentos que no estén agrupados como “Research and Develpment”\n",
    "mostrar_query(\"\"\" \n",
    "SELECT * \n",
    "FROM 'HumanResources.Department' AS d\n",
    "WHERE d.Name NOT LIKE 'Research and Develpment'\n",
    "\"\"\")\n"
   ]
  },
  {
   "cell_type": "code",
   "execution_count": 17,
   "id": "ab4febdc",
   "metadata": {},
   "outputs": [
    {
     "data": {
      "application/vnd.microsoft.datawrangler.viewer.v0+json": {
       "columns": [
        {
         "name": "index",
         "rawType": "int64",
         "type": "integer"
        },
        {
         "name": "ProductID",
         "rawType": "object",
         "type": "string"
        },
        {
         "name": "Name",
         "rawType": "object",
         "type": "string"
        },
        {
         "name": "ProductNumber",
         "rawType": "object",
         "type": "string"
        },
        {
         "name": "MakeFlag",
         "rawType": "object",
         "type": "string"
        },
        {
         "name": "FinishedGoodsFlag",
         "rawType": "object",
         "type": "string"
        },
        {
         "name": "Color",
         "rawType": "object",
         "type": "string"
        },
        {
         "name": "SafetyStockLevel",
         "rawType": "object",
         "type": "string"
        },
        {
         "name": "ReorderPoint",
         "rawType": "object",
         "type": "string"
        },
        {
         "name": "StandardCost",
         "rawType": "object",
         "type": "string"
        },
        {
         "name": "ListPrice",
         "rawType": "object",
         "type": "string"
        },
        {
         "name": "Size",
         "rawType": "object",
         "type": "string"
        },
        {
         "name": "SizeUnitMeasureCode",
         "rawType": "object",
         "type": "string"
        },
        {
         "name": "WeightUnitMeasureCode",
         "rawType": "object",
         "type": "string"
        },
        {
         "name": "Weight",
         "rawType": "object",
         "type": "string"
        },
        {
         "name": "DaysToManufacture",
         "rawType": "object",
         "type": "string"
        },
        {
         "name": "ProductLine",
         "rawType": "object",
         "type": "string"
        },
        {
         "name": "Class",
         "rawType": "object",
         "type": "string"
        },
        {
         "name": "Style",
         "rawType": "object",
         "type": "string"
        },
        {
         "name": "ProductSubcategoryID",
         "rawType": "object",
         "type": "string"
        },
        {
         "name": "ProductModelID",
         "rawType": "object",
         "type": "string"
        },
        {
         "name": "SellStartDate",
         "rawType": "object",
         "type": "string"
        },
        {
         "name": "SellEndDate",
         "rawType": "object",
         "type": "string"
        },
        {
         "name": "DiscontinuedDate",
         "rawType": "object",
         "type": "string"
        },
        {
         "name": "rowguid",
         "rawType": "object",
         "type": "string"
        },
        {
         "name": "ModifiedDate",
         "rawType": "object",
         "type": "string"
        }
       ],
       "conversionMethod": "pd.DataFrame",
       "ref": "8959412d-07ba-4e04-bd47-c7b84c5912a5",
       "rows": [
        [
         "0",
         "1",
         "Adjustable Race",
         "AR-5381",
         "0",
         "0",
         "",
         "1000",
         "750",
         "0.0000",
         "0.0000",
         "",
         "",
         "",
         "",
         "0",
         "",
         "",
         "",
         "",
         "",
         "2008-04-30 00:00:00",
         "",
         "",
         "694215B7-08F7-4C0D-ACB1-D734BA44C0C8",
         "2014-02-08 10:01:36"
        ],
        [
         "1",
         "2",
         "Bearing Ball",
         "BA-8327",
         "0",
         "0",
         "",
         "1000",
         "750",
         "0.0000",
         "0.0000",
         "",
         "",
         "",
         "",
         "0",
         "",
         "",
         "",
         "",
         "",
         "2008-04-30 00:00:00",
         "",
         "",
         "58AE3C20-4F3A-4749-A7D4-D568806CC537",
         "2014-02-08 10:01:36"
        ],
        [
         "2",
         "3",
         "BB Ball Bearing",
         "BE-2349",
         "1",
         "0",
         "",
         "800",
         "600",
         "0.0000",
         "0.0000",
         "",
         "",
         "",
         "",
         "1",
         "",
         "",
         "",
         "",
         "",
         "2008-04-30 00:00:00",
         "",
         "",
         "9C21AED2-5BFA-4F18-BCB8-F11638DC2E4E",
         "2014-02-08 10:01:36"
        ]
       ],
       "shape": {
        "columns": 25,
        "rows": 3
       }
      },
      "text/html": [
       "<div>\n",
       "<style scoped>\n",
       "    .dataframe tbody tr th:only-of-type {\n",
       "        vertical-align: middle;\n",
       "    }\n",
       "\n",
       "    .dataframe tbody tr th {\n",
       "        vertical-align: top;\n",
       "    }\n",
       "\n",
       "    .dataframe thead th {\n",
       "        text-align: right;\n",
       "    }\n",
       "</style>\n",
       "<table border=\"1\" class=\"dataframe\">\n",
       "  <thead>\n",
       "    <tr style=\"text-align: right;\">\n",
       "      <th></th>\n",
       "      <th>ProductID</th>\n",
       "      <th>Name</th>\n",
       "      <th>ProductNumber</th>\n",
       "      <th>MakeFlag</th>\n",
       "      <th>FinishedGoodsFlag</th>\n",
       "      <th>Color</th>\n",
       "      <th>SafetyStockLevel</th>\n",
       "      <th>ReorderPoint</th>\n",
       "      <th>StandardCost</th>\n",
       "      <th>ListPrice</th>\n",
       "      <th>...</th>\n",
       "      <th>ProductLine</th>\n",
       "      <th>Class</th>\n",
       "      <th>Style</th>\n",
       "      <th>ProductSubcategoryID</th>\n",
       "      <th>ProductModelID</th>\n",
       "      <th>SellStartDate</th>\n",
       "      <th>SellEndDate</th>\n",
       "      <th>DiscontinuedDate</th>\n",
       "      <th>rowguid</th>\n",
       "      <th>ModifiedDate</th>\n",
       "    </tr>\n",
       "  </thead>\n",
       "  <tbody>\n",
       "    <tr>\n",
       "      <th>0</th>\n",
       "      <td>1</td>\n",
       "      <td>Adjustable Race</td>\n",
       "      <td>AR-5381</td>\n",
       "      <td>0</td>\n",
       "      <td>0</td>\n",
       "      <td></td>\n",
       "      <td>1000</td>\n",
       "      <td>750</td>\n",
       "      <td>0.0000</td>\n",
       "      <td>0.0000</td>\n",
       "      <td>...</td>\n",
       "      <td></td>\n",
       "      <td></td>\n",
       "      <td></td>\n",
       "      <td></td>\n",
       "      <td></td>\n",
       "      <td>2008-04-30 00:00:00</td>\n",
       "      <td></td>\n",
       "      <td></td>\n",
       "      <td>694215B7-08F7-4C0D-ACB1-D734BA44C0C8</td>\n",
       "      <td>2014-02-08 10:01:36</td>\n",
       "    </tr>\n",
       "    <tr>\n",
       "      <th>1</th>\n",
       "      <td>2</td>\n",
       "      <td>Bearing Ball</td>\n",
       "      <td>BA-8327</td>\n",
       "      <td>0</td>\n",
       "      <td>0</td>\n",
       "      <td></td>\n",
       "      <td>1000</td>\n",
       "      <td>750</td>\n",
       "      <td>0.0000</td>\n",
       "      <td>0.0000</td>\n",
       "      <td>...</td>\n",
       "      <td></td>\n",
       "      <td></td>\n",
       "      <td></td>\n",
       "      <td></td>\n",
       "      <td></td>\n",
       "      <td>2008-04-30 00:00:00</td>\n",
       "      <td></td>\n",
       "      <td></td>\n",
       "      <td>58AE3C20-4F3A-4749-A7D4-D568806CC537</td>\n",
       "      <td>2014-02-08 10:01:36</td>\n",
       "    </tr>\n",
       "    <tr>\n",
       "      <th>2</th>\n",
       "      <td>3</td>\n",
       "      <td>BB Ball Bearing</td>\n",
       "      <td>BE-2349</td>\n",
       "      <td>1</td>\n",
       "      <td>0</td>\n",
       "      <td></td>\n",
       "      <td>800</td>\n",
       "      <td>600</td>\n",
       "      <td>0.0000</td>\n",
       "      <td>0.0000</td>\n",
       "      <td>...</td>\n",
       "      <td></td>\n",
       "      <td></td>\n",
       "      <td></td>\n",
       "      <td></td>\n",
       "      <td></td>\n",
       "      <td>2008-04-30 00:00:00</td>\n",
       "      <td></td>\n",
       "      <td></td>\n",
       "      <td>9C21AED2-5BFA-4F18-BCB8-F11638DC2E4E</td>\n",
       "      <td>2014-02-08 10:01:36</td>\n",
       "    </tr>\n",
       "  </tbody>\n",
       "</table>\n",
       "<p>3 rows × 25 columns</p>\n",
       "</div>"
      ],
      "text/plain": [
       "  ProductID             Name ProductNumber MakeFlag FinishedGoodsFlag Color  \\\n",
       "0         1  Adjustable Race       AR-5381        0                 0         \n",
       "1         2     Bearing Ball       BA-8327        0                 0         \n",
       "2         3  BB Ball Bearing       BE-2349        1                 0         \n",
       "\n",
       "  SafetyStockLevel ReorderPoint StandardCost ListPrice  ... ProductLine Class  \\\n",
       "0             1000          750       0.0000    0.0000  ...                     \n",
       "1             1000          750       0.0000    0.0000  ...                     \n",
       "2              800          600       0.0000    0.0000  ...                     \n",
       "\n",
       "  Style ProductSubcategoryID ProductModelID        SellStartDate SellEndDate  \\\n",
       "0                                            2008-04-30 00:00:00               \n",
       "1                                            2008-04-30 00:00:00               \n",
       "2                                            2008-04-30 00:00:00               \n",
       "\n",
       "  DiscontinuedDate                               rowguid         ModifiedDate  \n",
       "0                   694215B7-08F7-4C0D-ACB1-D734BA44C0C8  2014-02-08 10:01:36  \n",
       "1                   58AE3C20-4F3A-4749-A7D4-D568806CC537  2014-02-08 10:01:36  \n",
       "2                   9C21AED2-5BFA-4F18-BCB8-F11638DC2E4E  2014-02-08 10:01:36  \n",
       "\n",
       "[3 rows x 25 columns]"
      ]
     },
     "execution_count": 17,
     "metadata": {},
     "output_type": "execute_result"
    }
   ],
   "source": [
    "# Ejercicio 14 - Mostrar los datos de la tabla Product del esquema Production\n",
    "mostrar_query(\"\"\" \n",
    "SELECT * \n",
    "FROM 'Production.Product' AS p\n",
    "\"\"\")"
   ]
  },
  {
   "cell_type": "code",
   "execution_count": 18,
   "id": "83df0b02",
   "metadata": {},
   "outputs": [
    {
     "data": {
      "application/vnd.microsoft.datawrangler.viewer.v0+json": {
       "columns": [
        {
         "name": "index",
         "rawType": "int64",
         "type": "integer"
        },
        {
         "name": "ProductID",
         "rawType": "object",
         "type": "string"
        },
        {
         "name": "Name",
         "rawType": "object",
         "type": "string"
        },
        {
         "name": "ProductNumber",
         "rawType": "object",
         "type": "string"
        },
        {
         "name": "MakeFlag",
         "rawType": "object",
         "type": "string"
        },
        {
         "name": "FinishedGoodsFlag",
         "rawType": "object",
         "type": "string"
        },
        {
         "name": "Color",
         "rawType": "object",
         "type": "string"
        },
        {
         "name": "SafetyStockLevel",
         "rawType": "object",
         "type": "string"
        },
        {
         "name": "ReorderPoint",
         "rawType": "object",
         "type": "string"
        },
        {
         "name": "StandardCost",
         "rawType": "object",
         "type": "string"
        },
        {
         "name": "ListPrice",
         "rawType": "object",
         "type": "string"
        },
        {
         "name": "Size",
         "rawType": "object",
         "type": "string"
        },
        {
         "name": "SizeUnitMeasureCode",
         "rawType": "object",
         "type": "string"
        },
        {
         "name": "WeightUnitMeasureCode",
         "rawType": "object",
         "type": "string"
        },
        {
         "name": "Weight",
         "rawType": "object",
         "type": "string"
        },
        {
         "name": "DaysToManufacture",
         "rawType": "object",
         "type": "string"
        },
        {
         "name": "ProductLine",
         "rawType": "object",
         "type": "string"
        },
        {
         "name": "Class",
         "rawType": "object",
         "type": "string"
        },
        {
         "name": "Style",
         "rawType": "object",
         "type": "string"
        },
        {
         "name": "ProductSubcategoryID",
         "rawType": "object",
         "type": "string"
        },
        {
         "name": "ProductModelID",
         "rawType": "object",
         "type": "string"
        },
        {
         "name": "SellStartDate",
         "rawType": "object",
         "type": "string"
        },
        {
         "name": "SellEndDate",
         "rawType": "object",
         "type": "string"
        },
        {
         "name": "DiscontinuedDate",
         "rawType": "object",
         "type": "string"
        },
        {
         "name": "rowguid",
         "rawType": "object",
         "type": "string"
        },
        {
         "name": "ModifiedDate",
         "rawType": "object",
         "type": "string"
        }
       ],
       "conversionMethod": "pd.DataFrame",
       "ref": "50b65333-fa00-495e-82ec-f4deacffc26d",
       "rows": [],
       "shape": {
        "columns": 25,
        "rows": 0
       }
      },
      "text/html": [
       "<div>\n",
       "<style scoped>\n",
       "    .dataframe tbody tr th:only-of-type {\n",
       "        vertical-align: middle;\n",
       "    }\n",
       "\n",
       "    .dataframe tbody tr th {\n",
       "        vertical-align: top;\n",
       "    }\n",
       "\n",
       "    .dataframe thead th {\n",
       "        text-align: right;\n",
       "    }\n",
       "</style>\n",
       "<table border=\"1\" class=\"dataframe\">\n",
       "  <thead>\n",
       "    <tr style=\"text-align: right;\">\n",
       "      <th></th>\n",
       "      <th>ProductID</th>\n",
       "      <th>Name</th>\n",
       "      <th>ProductNumber</th>\n",
       "      <th>MakeFlag</th>\n",
       "      <th>FinishedGoodsFlag</th>\n",
       "      <th>Color</th>\n",
       "      <th>SafetyStockLevel</th>\n",
       "      <th>ReorderPoint</th>\n",
       "      <th>StandardCost</th>\n",
       "      <th>ListPrice</th>\n",
       "      <th>...</th>\n",
       "      <th>ProductLine</th>\n",
       "      <th>Class</th>\n",
       "      <th>Style</th>\n",
       "      <th>ProductSubcategoryID</th>\n",
       "      <th>ProductModelID</th>\n",
       "      <th>SellStartDate</th>\n",
       "      <th>SellEndDate</th>\n",
       "      <th>DiscontinuedDate</th>\n",
       "      <th>rowguid</th>\n",
       "      <th>ModifiedDate</th>\n",
       "    </tr>\n",
       "  </thead>\n",
       "  <tbody>\n",
       "  </tbody>\n",
       "</table>\n",
       "<p>0 rows × 25 columns</p>\n",
       "</div>"
      ],
      "text/plain": [
       "Empty DataFrame\n",
       "Columns: [ProductID, Name, ProductNumber, MakeFlag, FinishedGoodsFlag, Color, SafetyStockLevel, ReorderPoint, StandardCost, ListPrice, Size, SizeUnitMeasureCode, WeightUnitMeasureCode, Weight, DaysToManufacture, ProductLine, Class, Style, ProductSubcategoryID, ProductModelID, SellStartDate, SellEndDate, DiscontinuedDate, rowguid, ModifiedDate]\n",
       "Index: []\n",
       "\n",
       "[0 rows x 25 columns]"
      ]
     },
     "execution_count": 18,
     "metadata": {},
     "output_type": "execute_result"
    }
   ],
   "source": [
    "# Ejercicio 15 - Hallar los productos que no tengan asignado color.\n",
    "mostrar_query(\"\"\" \n",
    "SELECT * \n",
    "FROM 'Production.Product' AS p\n",
    "WHERE p.Color IS NULL\n",
    "\"\"\")\n"
   ]
  },
  {
   "cell_type": "code",
   "execution_count": 19,
   "id": "11fb702c",
   "metadata": {},
   "outputs": [
    {
     "data": {
      "application/vnd.microsoft.datawrangler.viewer.v0+json": {
       "columns": [
        {
         "name": "index",
         "rawType": "int64",
         "type": "integer"
        },
        {
         "name": "ProductID",
         "rawType": "object",
         "type": "string"
        },
        {
         "name": "Name",
         "rawType": "object",
         "type": "string"
        },
        {
         "name": "Color",
         "rawType": "object",
         "type": "string"
        }
       ],
       "conversionMethod": "pd.DataFrame",
       "ref": "a48ac27f-f34b-4946-b2fc-a20b5bf2fc65",
       "rows": [
        [
         "0",
         "421",
         "Internal Lock Washer 2",
         ""
        ],
        [
         "1",
         "420",
         "Internal Lock Washer 8",
         ""
        ],
        [
         "2",
         "419",
         "Internal Lock Washer 1",
         ""
        ]
       ],
       "shape": {
        "columns": 3,
        "rows": 3
       }
      },
      "text/html": [
       "<div>\n",
       "<style scoped>\n",
       "    .dataframe tbody tr th:only-of-type {\n",
       "        vertical-align: middle;\n",
       "    }\n",
       "\n",
       "    .dataframe tbody tr th {\n",
       "        vertical-align: top;\n",
       "    }\n",
       "\n",
       "    .dataframe thead th {\n",
       "        text-align: right;\n",
       "    }\n",
       "</style>\n",
       "<table border=\"1\" class=\"dataframe\">\n",
       "  <thead>\n",
       "    <tr style=\"text-align: right;\">\n",
       "      <th></th>\n",
       "      <th>ProductID</th>\n",
       "      <th>Name</th>\n",
       "      <th>Color</th>\n",
       "    </tr>\n",
       "  </thead>\n",
       "  <tbody>\n",
       "    <tr>\n",
       "      <th>0</th>\n",
       "      <td>421</td>\n",
       "      <td>Internal Lock Washer 2</td>\n",
       "      <td></td>\n",
       "    </tr>\n",
       "    <tr>\n",
       "      <th>1</th>\n",
       "      <td>420</td>\n",
       "      <td>Internal Lock Washer 8</td>\n",
       "      <td></td>\n",
       "    </tr>\n",
       "    <tr>\n",
       "      <th>2</th>\n",
       "      <td>419</td>\n",
       "      <td>Internal Lock Washer 1</td>\n",
       "      <td></td>\n",
       "    </tr>\n",
       "  </tbody>\n",
       "</table>\n",
       "</div>"
      ],
      "text/plain": [
       "  ProductID                    Name Color\n",
       "0       421  Internal Lock Washer 2      \n",
       "1       420  Internal Lock Washer 8      \n",
       "2       419  Internal Lock Washer 1      "
      ]
     },
     "execution_count": 19,
     "metadata": {},
     "output_type": "execute_result"
    }
   ],
   "source": [
    "# Ejercicio 16 - Para todos los productos que tengan asignado algún color y que tengan un stock (SafetyStockLevel) mayor a 900, \n",
    "# mostrar su id, nombre y color. Ordenarlo por id descendente y por color ascendente.\n",
    "mostrar_query(\"\"\" \n",
    "SELECT p.ProductID, p.Name, p.Color \n",
    "FROM 'Production.Product' AS p\n",
    "WHERE p.Color IS NOT NULL AND p.SafetyStockLevel > 900\n",
    "ORDER BY p.ProductID DESC, p.Color ASC\n",
    "\"\"\")\n"
   ]
  },
  {
   "cell_type": "code",
   "execution_count": 20,
   "id": "ad2c6f6d",
   "metadata": {},
   "outputs": [
    {
     "data": {
      "application/vnd.microsoft.datawrangler.viewer.v0+json": {
       "columns": [
        {
         "name": "index",
         "rawType": "int64",
         "type": "integer"
        },
        {
         "name": "ProductID",
         "rawType": "object",
         "type": "string"
        },
        {
         "name": "Name",
         "rawType": "object",
         "type": "string"
        }
       ],
       "conversionMethod": "pd.DataFrame",
       "ref": "7f500310-f352-4c93-92a3-1af334fe6f4d",
       "rows": [
        [
         "0",
         "320",
         "Chainring Bolts"
        ],
        [
         "1",
         "321",
         "Chainring Nut"
        ],
        [
         "2",
         "322",
         "Chainring"
        ]
       ],
       "shape": {
        "columns": 2,
        "rows": 3
       }
      },
      "text/html": [
       "<div>\n",
       "<style scoped>\n",
       "    .dataframe tbody tr th:only-of-type {\n",
       "        vertical-align: middle;\n",
       "    }\n",
       "\n",
       "    .dataframe tbody tr th {\n",
       "        vertical-align: top;\n",
       "    }\n",
       "\n",
       "    .dataframe thead th {\n",
       "        text-align: right;\n",
       "    }\n",
       "</style>\n",
       "<table border=\"1\" class=\"dataframe\">\n",
       "  <thead>\n",
       "    <tr style=\"text-align: right;\">\n",
       "      <th></th>\n",
       "      <th>ProductID</th>\n",
       "      <th>Name</th>\n",
       "    </tr>\n",
       "  </thead>\n",
       "  <tbody>\n",
       "    <tr>\n",
       "      <th>0</th>\n",
       "      <td>320</td>\n",
       "      <td>Chainring Bolts</td>\n",
       "    </tr>\n",
       "    <tr>\n",
       "      <th>1</th>\n",
       "      <td>321</td>\n",
       "      <td>Chainring Nut</td>\n",
       "    </tr>\n",
       "    <tr>\n",
       "      <th>2</th>\n",
       "      <td>322</td>\n",
       "      <td>Chainring</td>\n",
       "    </tr>\n",
       "  </tbody>\n",
       "</table>\n",
       "</div>"
      ],
      "text/plain": [
       "  ProductID             Name\n",
       "0       320  Chainring Bolts\n",
       "1       321    Chainring Nut\n",
       "2       322        Chainring"
      ]
     },
     "execution_count": 20,
     "metadata": {},
     "output_type": "execute_result"
    }
   ],
   "source": [
    "# Ejercicio 17 - Hallar el Id y el nombre de los productos cuyo nombre comience con “Chain”\n",
    "mostrar_query(\"\"\" \n",
    "SELECT p.ProductID, p.Name \n",
    "FROM 'Production.Product' AS p\n",
    "WHERE p.Name LIKE 'Chain%'\n",
    "\"\"\")\n"
   ]
  },
  {
   "cell_type": "code",
   "execution_count": 21,
   "id": "956b42d2",
   "metadata": {},
   "outputs": [
    {
     "data": {
      "application/vnd.microsoft.datawrangler.viewer.v0+json": {
       "columns": [
        {
         "name": "index",
         "rawType": "int64",
         "type": "integer"
        },
        {
         "name": "ProductID",
         "rawType": "object",
         "type": "string"
        },
        {
         "name": "Name",
         "rawType": "object",
         "type": "string"
        }
       ],
       "conversionMethod": "pd.DataFrame",
       "ref": "3d4217ed-a067-4cbe-8fc7-f86694e3c85a",
       "rows": [],
       "shape": {
        "columns": 2,
        "rows": 0
       }
      },
      "text/html": [
       "<div>\n",
       "<style scoped>\n",
       "    .dataframe tbody tr th:only-of-type {\n",
       "        vertical-align: middle;\n",
       "    }\n",
       "\n",
       "    .dataframe tbody tr th {\n",
       "        vertical-align: top;\n",
       "    }\n",
       "\n",
       "    .dataframe thead th {\n",
       "        text-align: right;\n",
       "    }\n",
       "</style>\n",
       "<table border=\"1\" class=\"dataframe\">\n",
       "  <thead>\n",
       "    <tr style=\"text-align: right;\">\n",
       "      <th></th>\n",
       "      <th>ProductID</th>\n",
       "      <th>Name</th>\n",
       "    </tr>\n",
       "  </thead>\n",
       "  <tbody>\n",
       "  </tbody>\n",
       "</table>\n",
       "</div>"
      ],
      "text/plain": [
       "Empty DataFrame\n",
       "Columns: [ProductID, Name]\n",
       "Index: []"
      ]
     },
     "execution_count": 21,
     "metadata": {},
     "output_type": "execute_result"
    }
   ],
   "source": [
    "# Ejercicio 18 - Hallar el Id y el nombre de los productos cuyo nombre contenga “helmet”\n",
    "mostrar_query(\"\"\" \n",
    "SELECT p.ProductID, p.Name \n",
    "FROM 'Production.Product' AS p\n",
    "WHERE p.Name LIKE '%helmet%'\n",
    "\"\"\")\n"
   ]
  },
  {
   "cell_type": "code",
   "execution_count": 22,
   "id": "07c31597",
   "metadata": {},
   "outputs": [
    {
     "data": {
      "application/vnd.microsoft.datawrangler.viewer.v0+json": {
       "columns": [
        {
         "name": "index",
         "rawType": "int64",
         "type": "integer"
        },
        {
         "name": "ProductID",
         "rawType": "object",
         "type": "string"
        },
        {
         "name": "Name",
         "rawType": "object",
         "type": "string"
        }
       ],
       "conversionMethod": "pd.DataFrame",
       "ref": "fdfa8199-6457-430e-86df-62518b8ccef0",
       "rows": [
        [
         "0",
         "1",
         "Adjustable Race"
        ],
        [
         "1",
         "2",
         "Bearing Ball"
        ],
        [
         "2",
         "3",
         "BB Ball Bearing"
        ]
       ],
       "shape": {
        "columns": 2,
        "rows": 3
       }
      },
      "text/html": [
       "<div>\n",
       "<style scoped>\n",
       "    .dataframe tbody tr th:only-of-type {\n",
       "        vertical-align: middle;\n",
       "    }\n",
       "\n",
       "    .dataframe tbody tr th {\n",
       "        vertical-align: top;\n",
       "    }\n",
       "\n",
       "    .dataframe thead th {\n",
       "        text-align: right;\n",
       "    }\n",
       "</style>\n",
       "<table border=\"1\" class=\"dataframe\">\n",
       "  <thead>\n",
       "    <tr style=\"text-align: right;\">\n",
       "      <th></th>\n",
       "      <th>ProductID</th>\n",
       "      <th>Name</th>\n",
       "    </tr>\n",
       "  </thead>\n",
       "  <tbody>\n",
       "    <tr>\n",
       "      <th>0</th>\n",
       "      <td>1</td>\n",
       "      <td>Adjustable Race</td>\n",
       "    </tr>\n",
       "    <tr>\n",
       "      <th>1</th>\n",
       "      <td>2</td>\n",
       "      <td>Bearing Ball</td>\n",
       "    </tr>\n",
       "    <tr>\n",
       "      <th>2</th>\n",
       "      <td>3</td>\n",
       "      <td>BB Ball Bearing</td>\n",
       "    </tr>\n",
       "  </tbody>\n",
       "</table>\n",
       "</div>"
      ],
      "text/plain": [
       "  ProductID             Name\n",
       "0         1  Adjustable Race\n",
       "1         2     Bearing Ball\n",
       "2         3  BB Ball Bearing"
      ]
     },
     "execution_count": 22,
     "metadata": {},
     "output_type": "execute_result"
    }
   ],
   "source": [
    "# Ejercicio 19 - Modificar la consulta anterior para que retorne aquellos productos cuyo nombre no contenga “helmet”\n",
    "mostrar_query(\"\"\" \n",
    "SELECT p.ProductID, p.Name \n",
    "FROM 'Production.Product' AS p\n",
    "WHERE p.Name NOT LIKE '%helmet%'\n",
    "\"\"\")\n"
   ]
  },
  {
   "cell_type": "code",
   "execution_count": 23,
   "id": "0bf43610",
   "metadata": {},
   "outputs": [
    {
     "data": {
      "application/vnd.microsoft.datawrangler.viewer.v0+json": {
       "columns": [
        {
         "name": "index",
         "rawType": "int64",
         "type": "integer"
        },
        {
         "name": "BusinessEntityID",
         "rawType": "object",
         "type": "string"
        },
        {
         "name": "PersonType",
         "rawType": "object",
         "type": "string"
        },
        {
         "name": "NameStyle",
         "rawType": "object",
         "type": "string"
        },
        {
         "name": "Title",
         "rawType": "object",
         "type": "string"
        },
        {
         "name": "FirstName",
         "rawType": "object",
         "type": "string"
        },
        {
         "name": "MiddleName",
         "rawType": "object",
         "type": "string"
        },
        {
         "name": "LastName",
         "rawType": "object",
         "type": "string"
        },
        {
         "name": "Suffix",
         "rawType": "object",
         "type": "string"
        },
        {
         "name": "EmailPromotion",
         "rawType": "object",
         "type": "string"
        },
        {
         "name": "AdditionalContactInfo",
         "rawType": "object",
         "type": "string"
        },
        {
         "name": "Demographics",
         "rawType": "object",
         "type": "string"
        },
        {
         "name": "rowguid",
         "rawType": "object",
         "type": "string"
        },
        {
         "name": "ModifiedDate",
         "rawType": "object",
         "type": "string"
        }
       ],
       "conversionMethod": "pd.DataFrame",
       "ref": "49e8e9c3-566a-439b-8849-681e0c6c2663",
       "rows": [],
       "shape": {
        "columns": 13,
        "rows": 0
       }
      },
      "text/html": [
       "<div>\n",
       "<style scoped>\n",
       "    .dataframe tbody tr th:only-of-type {\n",
       "        vertical-align: middle;\n",
       "    }\n",
       "\n",
       "    .dataframe tbody tr th {\n",
       "        vertical-align: top;\n",
       "    }\n",
       "\n",
       "    .dataframe thead th {\n",
       "        text-align: right;\n",
       "    }\n",
       "</style>\n",
       "<table border=\"1\" class=\"dataframe\">\n",
       "  <thead>\n",
       "    <tr style=\"text-align: right;\">\n",
       "      <th></th>\n",
       "      <th>BusinessEntityID</th>\n",
       "      <th>PersonType</th>\n",
       "      <th>NameStyle</th>\n",
       "      <th>Title</th>\n",
       "      <th>FirstName</th>\n",
       "      <th>MiddleName</th>\n",
       "      <th>LastName</th>\n",
       "      <th>Suffix</th>\n",
       "      <th>EmailPromotion</th>\n",
       "      <th>AdditionalContactInfo</th>\n",
       "      <th>Demographics</th>\n",
       "      <th>rowguid</th>\n",
       "      <th>ModifiedDate</th>\n",
       "    </tr>\n",
       "  </thead>\n",
       "  <tbody>\n",
       "  </tbody>\n",
       "</table>\n",
       "</div>"
      ],
      "text/plain": [
       "Empty DataFrame\n",
       "Columns: [BusinessEntityID, PersonType, NameStyle, Title, FirstName, MiddleName, LastName, Suffix, EmailPromotion, AdditionalContactInfo, Demographics, rowguid, ModifiedDate]\n",
       "Index: []"
      ]
     },
     "execution_count": 23,
     "metadata": {},
     "output_type": "execute_result"
    }
   ],
   "source": [
    "# Ejercicio 20 - Mostrar los datos principales de las personas (tabla Person) cuyo LastName termine con “es” y contenga en total 5 caracteres.\n",
    "mostrar_query(\"\"\" \n",
    "SELECT * \n",
    "FROM 'Person.Person' AS p\n",
    "WHERE p.LastName LIKE '___es'\n",
    "\"\"\")\n"
   ]
  },
  {
   "cell_type": "code",
   "execution_count": 24,
   "id": "235af588",
   "metadata": {},
   "outputs": [
    {
     "data": {
      "application/vnd.microsoft.datawrangler.viewer.v0+json": {
       "columns": [
        {
         "name": "index",
         "rawType": "int64",
         "type": "integer"
        },
        {
         "name": "SpecialOfferID",
         "rawType": "object",
         "type": "string"
        },
        {
         "name": "Description",
         "rawType": "object",
         "type": "string"
        },
        {
         "name": "DeltaQty",
         "rawType": "int64",
         "type": "integer"
        }
       ],
       "conversionMethod": "pd.DataFrame",
       "ref": "28082128-ed98-44b8-a3fa-43dd7f725e86",
       "rows": [
        [
         "0",
         "1",
         "No Discount",
         "0"
        ],
        [
         "1",
         "2",
         "Volume Discount 11 to 14",
         "3"
        ],
        [
         "2",
         "3",
         "Volume Discount 15 to 24",
         "9"
        ]
       ],
       "shape": {
        "columns": 3,
        "rows": 3
       }
      },
      "text/html": [
       "<div>\n",
       "<style scoped>\n",
       "    .dataframe tbody tr th:only-of-type {\n",
       "        vertical-align: middle;\n",
       "    }\n",
       "\n",
       "    .dataframe tbody tr th {\n",
       "        vertical-align: top;\n",
       "    }\n",
       "\n",
       "    .dataframe thead th {\n",
       "        text-align: right;\n",
       "    }\n",
       "</style>\n",
       "<table border=\"1\" class=\"dataframe\">\n",
       "  <thead>\n",
       "    <tr style=\"text-align: right;\">\n",
       "      <th></th>\n",
       "      <th>SpecialOfferID</th>\n",
       "      <th>Description</th>\n",
       "      <th>DeltaQty</th>\n",
       "    </tr>\n",
       "  </thead>\n",
       "  <tbody>\n",
       "    <tr>\n",
       "      <th>0</th>\n",
       "      <td>1</td>\n",
       "      <td>No Discount</td>\n",
       "      <td>0</td>\n",
       "    </tr>\n",
       "    <tr>\n",
       "      <th>1</th>\n",
       "      <td>2</td>\n",
       "      <td>Volume Discount 11 to 14</td>\n",
       "      <td>3</td>\n",
       "    </tr>\n",
       "    <tr>\n",
       "      <th>2</th>\n",
       "      <td>3</td>\n",
       "      <td>Volume Discount 15 to 24</td>\n",
       "      <td>9</td>\n",
       "    </tr>\n",
       "  </tbody>\n",
       "</table>\n",
       "</div>"
      ],
      "text/plain": [
       "  SpecialOfferID               Description  DeltaQty\n",
       "0              1               No Discount         0\n",
       "1              2  Volume Discount 11 to 14         3\n",
       "2              3  Volume Discount 15 to 24         9"
      ]
     },
     "execution_count": 24,
     "metadata": {},
     "output_type": "execute_result"
    }
   ],
   "source": [
    "# Ejercicio 21 - Usando la tabla SpecialOffer del esquema Sales, mostrar la diferencia entre MinQty y MaxQty, con el id y descripción.\n",
    "mostrar_query(\"\"\" \n",
    "SELECT so.SpecialOfferID, so.Description, so.MaxQty - so.MinQty AS DeltaQty\n",
    "FROM 'Sales.SpecialOffer' AS so\n",
    "\"\"\")\n"
   ]
  },
  {
   "cell_type": "code",
   "execution_count": 25,
   "id": "e395ec08",
   "metadata": {},
   "outputs": [
    {
     "data": {
      "application/vnd.microsoft.datawrangler.viewer.v0+json": {
       "columns": [
        {
         "name": "index",
         "rawType": "int64",
         "type": "integer"
        },
        {
         "name": "DeltaQty",
         "rawType": "int64",
         "type": "integer"
        }
       ],
       "conversionMethod": "pd.DataFrame",
       "ref": "cdf80098-6d2f-46e4-82c0-ba58e6466525",
       "rows": [
        [
         "0",
         "0"
        ],
        [
         "1",
         "3"
        ],
        [
         "2",
         "9"
        ]
       ],
       "shape": {
        "columns": 1,
        "rows": 3
       }
      },
      "text/html": [
       "<div>\n",
       "<style scoped>\n",
       "    .dataframe tbody tr th:only-of-type {\n",
       "        vertical-align: middle;\n",
       "    }\n",
       "\n",
       "    .dataframe tbody tr th {\n",
       "        vertical-align: top;\n",
       "    }\n",
       "\n",
       "    .dataframe thead th {\n",
       "        text-align: right;\n",
       "    }\n",
       "</style>\n",
       "<table border=\"1\" class=\"dataframe\">\n",
       "  <thead>\n",
       "    <tr style=\"text-align: right;\">\n",
       "      <th></th>\n",
       "      <th>DeltaQty</th>\n",
       "    </tr>\n",
       "  </thead>\n",
       "  <tbody>\n",
       "    <tr>\n",
       "      <th>0</th>\n",
       "      <td>0</td>\n",
       "    </tr>\n",
       "    <tr>\n",
       "      <th>1</th>\n",
       "      <td>3</td>\n",
       "    </tr>\n",
       "    <tr>\n",
       "      <th>2</th>\n",
       "      <td>9</td>\n",
       "    </tr>\n",
       "  </tbody>\n",
       "</table>\n",
       "</div>"
      ],
      "text/plain": [
       "   DeltaQty\n",
       "0         0\n",
       "1         3\n",
       "2         9"
      ]
     },
     "execution_count": 25,
     "metadata": {},
     "output_type": "execute_result"
    }
   ],
   "source": [
    "# Ejercicio 23 - Para resolver el problema anterior, usar la función ISNULL para, cuando no tengan asignado valor, reemplazarlo en el cálculo por 0 (cero).\n",
    "mostrar_query(\"\"\" \n",
    "SELECT \n",
    "  IFNULL(so.MaxQty, 0) - IFNULL(so.MinQty, 0) AS DeltaQty\n",
    "FROM 'Sales.SpecialOffer' AS so\n",
    "\"\"\")\n"
   ]
  },
  {
   "cell_type": "code",
   "execution_count": 26,
   "id": "2897ecac",
   "metadata": {},
   "outputs": [
    {
     "data": {
      "application/vnd.microsoft.datawrangler.viewer.v0+json": {
       "columns": [
        {
         "name": "index",
         "rawType": "int64",
         "type": "integer"
        },
        {
         "name": "COUNT(c.CustomerID)",
         "rawType": "int64",
         "type": "integer"
        }
       ],
       "conversionMethod": "pd.DataFrame",
       "ref": "cc64bef7-f47a-490d-a3aa-2a2ffaf9a473",
       "rows": [
        [
         "0",
         "100"
        ]
       ],
       "shape": {
        "columns": 1,
        "rows": 1
       }
      },
      "text/html": [
       "<div>\n",
       "<style scoped>\n",
       "    .dataframe tbody tr th:only-of-type {\n",
       "        vertical-align: middle;\n",
       "    }\n",
       "\n",
       "    .dataframe tbody tr th {\n",
       "        vertical-align: top;\n",
       "    }\n",
       "\n",
       "    .dataframe thead th {\n",
       "        text-align: right;\n",
       "    }\n",
       "</style>\n",
       "<table border=\"1\" class=\"dataframe\">\n",
       "  <thead>\n",
       "    <tr style=\"text-align: right;\">\n",
       "      <th></th>\n",
       "      <th>COUNT(c.CustomerID)</th>\n",
       "    </tr>\n",
       "  </thead>\n",
       "  <tbody>\n",
       "    <tr>\n",
       "      <th>0</th>\n",
       "      <td>100</td>\n",
       "    </tr>\n",
       "  </tbody>\n",
       "</table>\n",
       "</div>"
      ],
      "text/plain": [
       "   COUNT(c.CustomerID)\n",
       "0                  100"
      ]
     },
     "execution_count": 26,
     "metadata": {},
     "output_type": "execute_result"
    }
   ],
   "source": [
    "# Ejercicio 24 - ¿Cuántos clientes están almacenados en la tabla Customers?\n",
    "mostrar_query(\"\"\" \n",
    "SELECT COUNT(c.CustomerID) \n",
    "FROM 'Sales.Customer' AS c\n",
    "\"\"\")\n",
    "\n"
   ]
  },
  {
   "cell_type": "code",
   "execution_count": 27,
   "id": "e8112c03",
   "metadata": {},
   "outputs": [
    {
     "data": {
      "application/vnd.microsoft.datawrangler.viewer.v0+json": {
       "columns": [
        {
         "name": "index",
         "rawType": "int64",
         "type": "integer"
        },
        {
         "name": "StoreID",
         "rawType": "object",
         "type": "string"
        }
       ],
       "conversionMethod": "pd.DataFrame",
       "ref": "74fb2128-44ae-493c-9cdc-b23286a28382",
       "rows": [],
       "shape": {
        "columns": 1,
        "rows": 0
       }
      },
      "text/html": [
       "<div>\n",
       "<style scoped>\n",
       "    .dataframe tbody tr th:only-of-type {\n",
       "        vertical-align: middle;\n",
       "    }\n",
       "\n",
       "    .dataframe tbody tr th {\n",
       "        vertical-align: top;\n",
       "    }\n",
       "\n",
       "    .dataframe thead th {\n",
       "        text-align: right;\n",
       "    }\n",
       "</style>\n",
       "<table border=\"1\" class=\"dataframe\">\n",
       "  <thead>\n",
       "    <tr style=\"text-align: right;\">\n",
       "      <th></th>\n",
       "      <th>StoreID</th>\n",
       "    </tr>\n",
       "  </thead>\n",
       "  <tbody>\n",
       "  </tbody>\n",
       "</table>\n",
       "</div>"
      ],
      "text/plain": [
       "Empty DataFrame\n",
       "Columns: [StoreID]\n",
       "Index: []"
      ]
     },
     "execution_count": 27,
     "metadata": {},
     "output_type": "execute_result"
    }
   ],
   "source": [
    "# Ejercicio 25 (primera parte) - ¿Cuál es la cantidad de clientes por tienda?\n",
    "mostrar_query(\"\"\" \n",
    "SELECT c.StoreID, COUNT(c.CustomerID) AS CantidadClientes\n",
    "FROM 'Sales.Customer' AS c\n",
    "GROUP BY c.StoreID\n",
    "\"\"\")\n",
    "\n",
    "# Ejercicio 25 (segunda parte) - ¿Cuál es la cantidad de clientes por territorio?\n",
    "mostrar_query(\"\"\" \n",
    "SELECT c.TerritoryID, COUNT(c.CustomerID) AS CantidadClientes\n",
    "FROM 'Sales.Customer' AS c\n",
    "GROUP BY c.TerritoryID\n",
    "\"\"\")\n",
    "\n",
    "# Ejercicio 25 (tercera parte) - ¿Cuáles son las tiendas (su Id) asociadas al territorio Id 4 que tienen menos de 2 clientes?\n",
    "mostrar_query(\"\"\" \n",
    "SELECT c.StoreID \n",
    "FROM 'Sales.Customer' AS c\n",
    "GROUP BY c.StoreID, c.TerritoryID\n",
    "HAVING COUNT(c.CustomerID) < 2 AND c.TerritoryID = 4\n",
    "\"\"\")\n"
   ]
  },
  {
   "cell_type": "code",
   "execution_count": 28,
   "id": "b63740b7",
   "metadata": {},
   "outputs": [
    {
     "data": {
      "application/vnd.microsoft.datawrangler.viewer.v0+json": {
       "columns": [
        {
         "name": "index",
         "rawType": "int64",
         "type": "integer"
        },
        {
         "name": "COUNT(sod.OrderQty)",
         "rawType": "int64",
         "type": "integer"
        }
       ],
       "conversionMethod": "pd.DataFrame",
       "ref": "5de43fab-1343-4c69-9a94-0c70132f6cd6",
       "rows": [
        [
         "0",
         "0"
        ]
       ],
       "shape": {
        "columns": 1,
        "rows": 1
       }
      },
      "text/html": [
       "<div>\n",
       "<style scoped>\n",
       "    .dataframe tbody tr th:only-of-type {\n",
       "        vertical-align: middle;\n",
       "    }\n",
       "\n",
       "    .dataframe tbody tr th {\n",
       "        vertical-align: top;\n",
       "    }\n",
       "\n",
       "    .dataframe thead th {\n",
       "        text-align: right;\n",
       "    }\n",
       "</style>\n",
       "<table border=\"1\" class=\"dataframe\">\n",
       "  <thead>\n",
       "    <tr style=\"text-align: right;\">\n",
       "      <th></th>\n",
       "      <th>COUNT(sod.OrderQty)</th>\n",
       "    </tr>\n",
       "  </thead>\n",
       "  <tbody>\n",
       "    <tr>\n",
       "      <th>0</th>\n",
       "      <td>0</td>\n",
       "    </tr>\n",
       "  </tbody>\n",
       "</table>\n",
       "</div>"
      ],
      "text/plain": [
       "   COUNT(sod.OrderQty)\n",
       "0                    0"
      ]
     },
     "execution_count": 28,
     "metadata": {},
     "output_type": "execute_result"
    }
   ],
   "source": [
    "# Ejercicio 26 - Para la tabla SalesOrderDetail del esquema Sales, calcular cuál es la cantidad total de items ordenados (OrderQty) para el producto con Id igual a 778.\n",
    "mostrar_query(\"\"\" \n",
    "SELECT COUNT(sod.OrderQty)  \n",
    "FROM 'Sales.SalesOrderDetail' AS sod \n",
    "WHERE sod.ProductID = 778\n",
    "\"\"\")\n"
   ]
  },
  {
   "cell_type": "code",
   "execution_count": 29,
   "id": "a1d70adb",
   "metadata": {},
   "outputs": [
    {
     "data": {
      "application/vnd.microsoft.datawrangler.viewer.v0+json": {
       "columns": [
        {
         "name": "index",
         "rawType": "int64",
         "type": "integer"
        },
        {
         "name": "COUNT(DISTINCT sod.SalesOrderID)",
         "rawType": "int64",
         "type": "integer"
        }
       ],
       "conversionMethod": "pd.DataFrame",
       "ref": "a27a55c8-db49-4dea-94b9-bf36fb325017",
       "rows": [
        [
         "0",
         "10"
        ]
       ],
       "shape": {
        "columns": 1,
        "rows": 1
       }
      },
      "text/html": [
       "<div>\n",
       "<style scoped>\n",
       "    .dataframe tbody tr th:only-of-type {\n",
       "        vertical-align: middle;\n",
       "    }\n",
       "\n",
       "    .dataframe tbody tr th {\n",
       "        vertical-align: top;\n",
       "    }\n",
       "\n",
       "    .dataframe thead th {\n",
       "        text-align: right;\n",
       "    }\n",
       "</style>\n",
       "<table border=\"1\" class=\"dataframe\">\n",
       "  <thead>\n",
       "    <tr style=\"text-align: right;\">\n",
       "      <th></th>\n",
       "      <th>COUNT(DISTINCT sod.SalesOrderID)</th>\n",
       "    </tr>\n",
       "  </thead>\n",
       "  <tbody>\n",
       "    <tr>\n",
       "      <th>0</th>\n",
       "      <td>10</td>\n",
       "    </tr>\n",
       "  </tbody>\n",
       "</table>\n",
       "</div>"
      ],
      "text/plain": [
       "   COUNT(DISTINCT sod.SalesOrderID)\n",
       "0                                10"
      ]
     },
     "execution_count": 29,
     "metadata": {},
     "output_type": "execute_result"
    }
   ],
   "source": [
    "# Ejercicio 27a - ¿Cuál es el precio unitario más caro vendido?\n",
    "mostrar_query(\"\"\" \n",
    "SELECT MAX(sod.UnitPrice)  \n",
    "FROM 'Sales.SalesOrderDetail' AS sod\n",
    "\"\"\")\n",
    "\n",
    "# Ejercicio 27b - ¿Cuál es el número total de items ordenado para cada producto?\n",
    "mostrar_query(\"\"\" \n",
    "SELECT sod.ProductID, COUNT(sod.OrderQty)  \n",
    "FROM 'Sales.SalesOrderDetail' AS sod\n",
    "GROUP BY sod.ProductID\n",
    "\"\"\")\n",
    "\n",
    "# Ejercicio 27c - ¿Cuál es la cantidad de líneas de cada orden?\n",
    "mostrar_query(\"\"\" \n",
    "SELECT sod.SalesOrderID, COUNT(sod.ProductID)  \n",
    "FROM 'Sales.SalesOrderDetail' AS sod\n",
    "GROUP BY sod.SalesOrderID\n",
    "\"\"\")\n",
    "\n",
    "# Ejercicio 27d - ¿Cuál es la cantidad de líneas de cada orden, sólo para aquellas órdenes que tengan más de 3 líneas? Ordenar por id de orden descendente.\n",
    "mostrar_query(\"\"\" \n",
    "SELECT sod.SalesOrderID, COUNT(sod.ProductID)  \n",
    "FROM 'Sales.SalesOrderDetail' AS sod\n",
    "GROUP BY sod.SalesOrderID\n",
    "HAVING COUNT(sod.ProductID) > 3\n",
    "ORDER BY sod.SalesOrderID DESC\n",
    "\"\"\")\n",
    "\n",
    "# Ejercicio 27e - ¿Cuál es el importe total (LineTotal) de cada orden, para aquellas que tengan menos de 3 líneas?\n",
    "mostrar_query(\"\"\" \n",
    "SELECT sod.SalesOrderID, SUM(sod.LineTotal) AS lt \n",
    "FROM 'Sales.SalesOrderDetail' AS sod\n",
    "GROUP BY sod.SalesOrderID \n",
    "HAVING COUNT(sod.SalesOrderID) < 3\n",
    "\"\"\")\n",
    "\n",
    "# Ejercicio 27f - ¿Cuál es la cantidad distinta de productos ordenados?\n",
    "mostrar_query(\"\"\" \n",
    "SELECT COUNT(DISTINCT sod.SalesOrderID)  \n",
    "FROM 'Sales.SalesOrderDetail' AS sod\n",
    "\"\"\")\n"
   ]
  },
  {
   "cell_type": "code",
   "execution_count": 30,
   "id": "ef7793db",
   "metadata": {},
   "outputs": [
    {
     "data": {
      "application/vnd.microsoft.datawrangler.viewer.v0+json": {
       "columns": [
        {
         "name": "index",
         "rawType": "int64",
         "type": "integer"
        },
        {
         "name": "Anio",
         "rawType": "object",
         "type": "string"
        },
        {
         "name": "COUNT(soh.SalesOrderID)",
         "rawType": "int64",
         "type": "integer"
        }
       ],
       "conversionMethod": "pd.DataFrame",
       "ref": "19116dcc-0d58-4def-9e4f-884a43e6a041",
       "rows": [
        [
         "0",
         "2011",
         "100"
        ]
       ],
       "shape": {
        "columns": 2,
        "rows": 1
       }
      },
      "text/html": [
       "<div>\n",
       "<style scoped>\n",
       "    .dataframe tbody tr th:only-of-type {\n",
       "        vertical-align: middle;\n",
       "    }\n",
       "\n",
       "    .dataframe tbody tr th {\n",
       "        vertical-align: top;\n",
       "    }\n",
       "\n",
       "    .dataframe thead th {\n",
       "        text-align: right;\n",
       "    }\n",
       "</style>\n",
       "<table border=\"1\" class=\"dataframe\">\n",
       "  <thead>\n",
       "    <tr style=\"text-align: right;\">\n",
       "      <th></th>\n",
       "      <th>Anio</th>\n",
       "      <th>COUNT(soh.SalesOrderID)</th>\n",
       "    </tr>\n",
       "  </thead>\n",
       "  <tbody>\n",
       "    <tr>\n",
       "      <th>0</th>\n",
       "      <td>2011</td>\n",
       "      <td>100</td>\n",
       "    </tr>\n",
       "  </tbody>\n",
       "</table>\n",
       "</div>"
      ],
      "text/plain": [
       "   Anio  COUNT(soh.SalesOrderID)\n",
       "0  2011                      100"
      ]
     },
     "execution_count": 30,
     "metadata": {},
     "output_type": "execute_result"
    }
   ],
   "source": [
    "# Ejercicio 28 - Usando la tabla SalesOrderHeader, ¿cuál es la cantidad de órdenes emitidas en cada año?\n",
    "mostrar_query(\"\"\" \n",
    "SELECT strftime('%Y', soh.OrderDate) AS Anio, COUNT(soh.SalesOrderID) \n",
    "FROM 'Sales.SalesOrderHeader' AS soh\n",
    "GROUP BY strftime('%Y', soh.OrderDate)\n",
    "\"\"\")\n"
   ]
  },
  {
   "cell_type": "code",
   "execution_count": null,
   "id": "a23aa4dd",
   "metadata": {},
   "outputs": [],
   "source": [
    "# Ejercicio 29 - Usando la tabla SalesOrderHeader, ¿cuál es la cantidad de órdenes emitidas para cada cliente en cada año?\n",
    "mostrar_query(\"\"\" \n",
    "SELECT soh.CustomerID, strftime('%Y', soh.OrderDate) AS Anio, COUNT(soh.SalesOrderID) \n",
    "FROM 'Sales.SalesOrderHeader' AS soh\n",
    "GROUP BY soh.CustomerID, strftime('%Y', soh.OrderDate)\n",
    "\"\"\")\n"
   ]
  },
  {
   "cell_type": "code",
   "execution_count": null,
   "id": "c249e146",
   "metadata": {},
   "outputs": [],
   "source": [
    "# Ejercicio 30 - Para los empleados, contar la cantidad de empleados solteros nacidos por año y por género, \n",
    "# para aquellos años donde hayan nacido más de 10 empleados.\n",
    "mostrar_query(\"\"\" \n",
    "SELECT strftime('%Y', e.BirthDate) AS Anio, e.Gender, COUNT(e.LoginID) AS Cantidad \n",
    "FROM 'HumanResources.Employee' AS e\n",
    "GROUP BY strftime('%Y', e.BirthDate), e.Gender\n",
    "HAVING COUNT(e.LoginID) > 10\n",
    "\"\"\")\n"
   ]
  },
  {
   "cell_type": "code",
   "execution_count": null,
   "id": "7751f475",
   "metadata": {},
   "outputs": [],
   "source": [
    "# Ejercicio 31a - ¿Cuál es el promedio del precio de lista por color de producto?\n",
    "mostrar_query(\"\"\" \n",
    "SELECT p.Color, AVG(p.ListPrice) AS PromedioPrecio \n",
    "FROM 'Production.Product' AS p \n",
    "GROUP BY p.Color\n",
    "\"\"\")\n",
    "\n",
    "\n",
    "# Ejercicio 31b - ¿Cuál es el promedio del precio de lista por color de producto para aquellos colores que tengan más de 15 productos?\n",
    "mostrar_query(\"\"\" \n",
    "SELECT p.Color, AVG(p.ListPrice) AS PromedioPrecio \n",
    "FROM 'Production.Product' AS p \n",
    "GROUP BY p.Color \n",
    "HAVING COUNT(p.Color) > 15\n",
    "\"\"\")\n"
   ]
  },
  {
   "cell_type": "code",
   "execution_count": null,
   "id": "92da7852",
   "metadata": {},
   "outputs": [],
   "source": [
    "# Ejercicio 32a - Verificar si existe una Foreign Key entre Employee y Person\n",
    "mostrar_query(\"\"\"\n",
    "PRAGMA foreign_key_list('HumanResources.Employee')\n",
    "\"\"\")\n",
    "\n",
    "# Ejercicio 32b - Obtener el nombre, apellido, cargo y fecha de nacimiento de todos los empleados.\n",
    "mostrar_query(\"\"\" \n",
    "SELECT e.BusinessEntityID, p.FirstName, p.LastName, e.JobTitle, e.BirthDate \n",
    "FROM 'HumanResources.Employee' AS e\n",
    "LEFT JOIN 'Person.Person' AS p ON e.BusinessEntityID = p.BusinessEntityID\n",
    "\"\"\")\n",
    "\n",
    "# Ejercicio 32c - Obtener el nombre y apellido de los empleados que nacieron durante el año 1986 y su “género” es F.\n",
    "mostrar_query(\"\"\" \n",
    "SELECT e.BusinessEntityID, p.FirstName, p.LastName, e.JobTitle, e.BirthDate \n",
    "FROM 'HumanResources.Employee' AS e\n",
    "LEFT JOIN 'Person.Person' AS p ON e.BusinessEntityID = p.BusinessEntityID\n",
    "WHERE strftime('%Y', e.BirthDate) = '1986' AND e.Gender = 'F'\n",
    "\"\"\")\n",
    "\n",
    "# Ejercicio 32d - Contar la cantidad de empleados cuyo nombre comience con la letra “J” y hayan nacido después del año 1977.\n",
    "mostrar_query(\"\"\" \n",
    "SELECT COUNT(e.BusinessEntityID) \n",
    "FROM 'HumanResources.Employee' AS e\n",
    "LEFT JOIN 'Person.Person' AS p ON e.BusinessEntityID = p.BusinessEntityID\n",
    "WHERE strftime('%Y', e.BirthDate) > '1977' AND p.FirstName LIKE 'J%'\n",
    "\"\"\")\n",
    "\n",
    "# Ejercicio 32e - Para las mismas condiciones del punto anterior, ¿cuántos empleados están registrados según su género?\n",
    "mostrar_query(\"\"\" \n",
    "SELECT e.Gender, COUNT(e.BusinessEntityID) \n",
    "FROM 'HumanResources.Employee' AS e\n",
    "LEFT JOIN 'Person.Person' AS p ON e.BusinessEntityID = p.BusinessEntityID\n",
    "WHERE strftime('%Y', e.BirthDate) > '1977' AND p.FirstName LIKE 'J%'\n",
    "GROUP BY e.Gender\n",
    "\"\"\")\n"
   ]
  },
  {
   "cell_type": "code",
   "execution_count": null,
   "id": "46eb619f",
   "metadata": {},
   "outputs": [],
   "source": [
    "# Ejercicio 33a - Obtener nombre, apellido y StoreID para aquellos clientes que estén en TerritoryID = 4 o que pertenezcan al tipo de persona 'SC'\n",
    "mostrar_query(\"\"\" \n",
    "SELECT \n",
    "  p.FirstName, \n",
    "  p.LastName, \n",
    "  c.StoreID\n",
    "FROM 'Sales.Customer' AS c\n",
    "LEFT JOIN 'Person.Person' AS p \n",
    "  ON c.PersonID = p.BusinessEntityID\n",
    "WHERE c.TerritoryID = 4 \n",
    "   OR p.PersonType = 'SC'\n",
    "\"\"\")\n",
    "\n",
    "# Ejercicio 33b - Obtener nombre, apellido y número de orden (SalesOrderID) para los clientes que pertenezcan al tipo de persona 'SC'\n",
    "mostrar_query(\"\"\" \n",
    "SELECT \n",
    "  p.FirstName, \n",
    "  p.LastName, \n",
    "  soh.SalesOrderID\n",
    "FROM 'Sales.Customer' AS c\n",
    "LEFT JOIN 'Person.Person' AS p \n",
    "  ON c.PersonID = p.BusinessEntityID\n",
    "LEFT JOIN 'Sales.SalesOrderHeader' AS soh \n",
    "  ON c.CustomerID = soh.CustomerID\n",
    "WHERE p.PersonType = 'SC'\n",
    "\"\"\")\n",
    "\n"
   ]
  },
  {
   "cell_type": "code",
   "execution_count": null,
   "id": "469d9439",
   "metadata": {},
   "outputs": [],
   "source": [
    "# Ejercicio 34a - Descripción, tamaño y descripción de modelo de productos sin color y con SafetyStockLevel < 1000\n",
    "mostrar_query(\"\"\" \n",
    "SELECT \n",
    "  pd.Description, \n",
    "  p.Size, \n",
    "  pm.CatalogDescription \n",
    "FROM 'Production.Product' AS p\n",
    "LEFT JOIN 'Production.ProductModel' AS pm \n",
    "  ON p.ProductModelID = pm.ProductModelID \n",
    "LEFT JOIN 'Production.ProductModelProductDescriptionCulture' AS pmpdc \n",
    "  ON pm.ProductModelID = pmpdc.ProductModelID \n",
    "LEFT JOIN 'Production.ProductDescription' AS pd \n",
    "  ON pmpdc.ProductDescriptionID = pd.ProductDescriptionID\n",
    "WHERE p.Color IS NULL AND p.SafetyStockLevel < 1000\n",
    "\"\"\")\n",
    "\n",
    "\n",
    "\n",
    "# Ejercicio 34b - Obtener ventas de junio y julio de 2011, incluyendo nombre, apellido del cliente, nro de venta, fecha, nombre y descripción del producto.\n",
    "mostrar_query(\"\"\" \n",
    "SELECT \n",
    "  p.FirstName, \n",
    "  p.LastName, \n",
    "  soh.SalesOrderID, \n",
    "  soh.OrderDate, \n",
    "  pt.Name, \n",
    "  pd.Description\n",
    "FROM 'Sales.SalesOrderHeader' AS soh\n",
    "LEFT JOIN 'Sales.Customer' AS c \n",
    "  ON soh.CustomerID = c.CustomerID \n",
    "LEFT JOIN 'Person.Person' AS p \n",
    "  ON c.PersonID = p.BusinessEntityID\n",
    "LEFT JOIN 'Sales.SalesOrderDetail' AS sod \n",
    "  ON soh.SalesOrderID = sod.SalesOrderID\n",
    "LEFT JOIN 'Production.Product' AS pt \n",
    "  ON sod.ProductID = pt.ProductID\n",
    "LEFT JOIN 'Production.ProductModelProductDescriptionCulture' AS pmpdc \n",
    "  ON pt.ProductModelID = pmpdc.ProductModelID AND pmpdc.CultureID = 'en'\n",
    "LEFT JOIN 'Production.ProductDescription' AS pd \n",
    "  ON pmpdc.ProductDescriptionID = pd.ProductDescriptionID\n",
    "WHERE strftime('%Y', soh.OrderDate) = '2011' \n",
    "  AND strftime('%m', soh.OrderDate) IN ('06', '07')\n",
    "\"\"\")\n"
   ]
  },
  {
   "cell_type": "code",
   "execution_count": null,
   "id": "40a40424",
   "metadata": {},
   "outputs": [],
   "source": [
    "# Ejercicio 36 - Mostrar la descripción de los productos y el ID de la orden de venta. Incluir productos que nunca se hayan vendido.\n",
    "mostrar_query(\"\"\" \n",
    "SELECT pd.Description, sod.SalesOrderDetailID\n",
    "FROM 'Production.Product' AS pt\n",
    "LEFT JOIN 'Production.ProductModelProductDescriptionCulture' AS pmpdc \n",
    "  ON pt.ProductModelID = pmpdc.ProductModelID AND pmpdc.CultureID = 'en'\n",
    "LEFT JOIN 'Production.ProductDescription' AS pd \n",
    "  ON pmpdc.ProductDescriptionID = pd.ProductDescriptionID\n",
    "LEFT JOIN 'Sales.SalesOrderDetail' AS sod \n",
    "  ON pt.ProductID = sod.ProductID\n",
    "\"\"\")\n"
   ]
  },
  {
   "cell_type": "code",
   "execution_count": null,
   "id": "e599378a",
   "metadata": {},
   "outputs": [],
   "source": [
    "# Ejercicio 37 - Mostrar la descripción de los productos que nunca hayan sido vendidos.\n",
    "mostrar_query(\"\"\" \n",
    "SELECT DISTINCT pd.Description\n",
    "FROM 'Production.Product' AS pt\n",
    "LEFT JOIN 'Production.ProductModelProductDescriptionCulture' AS pmpdc \n",
    "  ON pt.ProductModelID = pmpdc.ProductModelID AND pmpdc.CultureID = 'en'\n",
    "LEFT JOIN 'Production.ProductDescription' AS pd \n",
    "  ON pmpdc.ProductDescriptionID = pd.ProductDescriptionID\n",
    "LEFT JOIN 'Sales.SalesOrderDetail' AS sod \n",
    "  ON pt.ProductID = sod.ProductID\n",
    "WHERE sod.SalesOrderDetailID IS NULL AND pd.Description IS NOT NULL\n",
    "\"\"\")\n"
   ]
  },
  {
   "cell_type": "code",
   "execution_count": null,
   "id": "c28f4406",
   "metadata": {},
   "outputs": [],
   "source": [
    "# Ejercicio 38  - Mostrar el ID de todos los vendedores y el ID de la venta (si existió), con revisión 9 en 2013.\n",
    "mostrar_query(\"\"\" \n",
    "SELECT sp.BusinessEntityID, soh.SalesOrderID\n",
    "FROM 'Sales.SalesPerson' AS sp  \n",
    "LEFT JOIN 'Sales.SalesOrderHeader' AS soh \n",
    "    ON sp.BusinessEntityID = soh.SalesPersonID \n",
    "    AND soh.RevisionNumber = 9 \n",
    "    AND strftime('%Y', soh.OrderDate) = '2013'\n",
    "\"\"\")\n"
   ]
  },
  {
   "cell_type": "code",
   "execution_count": null,
   "id": "fe721d6b",
   "metadata": {},
   "outputs": [],
   "source": [
    "# Ejercicio 39 - Mostrar ID, nombre y apellido de los vendedores junto con el ID de venta (revisión 9, año 2013). Incluir vendedores sin ventas.\n",
    "mostrar_query(\"\"\" \n",
    "SELECT sp.BusinessEntityID, p.FirstName, p.LastName, soh.SalesOrderID\n",
    "FROM 'Sales.SalesPerson' AS sp  \n",
    "LEFT JOIN 'Person.Person' AS p \n",
    "  ON sp.BusinessEntityID = p.BusinessEntityID \n",
    "LEFT JOIN 'Sales.SalesOrderHeader' AS soh \n",
    "  ON sp.BusinessEntityID = soh.SalesPersonID \n",
    "     AND soh.RevisionNumber = 9 \n",
    "     AND strftime('%Y', soh.OrderDate) = '2013'\n",
    "\"\"\")\n"
   ]
  },
  {
   "cell_type": "code",
   "execution_count": null,
   "id": "b8985c40",
   "metadata": {},
   "outputs": [],
   "source": [
    "# Ejercicio 40 - Mostrar todos los vendedores junto con los productos que han vendido (si los vendieron)\n",
    "mostrar_query(\"\"\" \n",
    "SELECT \n",
    "  sp.BusinessEntityID, \n",
    "  p.ProductID\n",
    "FROM 'Sales.SalesPerson' AS sp  \n",
    "LEFT JOIN 'Sales.SalesOrderHeader' AS soh \n",
    "  ON sp.BusinessEntityID = soh.SalesPersonID \n",
    "LEFT JOIN 'Sales.SalesOrderDetail' AS sod \n",
    "  ON soh.SalesOrderID = sod.SalesOrderID \n",
    "LEFT JOIN 'Production.Product' AS p \n",
    "  ON sod.ProductID = p.ProductID\n",
    "\"\"\")\n"
   ]
  },
  {
   "cell_type": "code",
   "execution_count": null,
   "id": "dec3d0e8",
   "metadata": {},
   "outputs": [],
   "source": [
    "# Ejercicio 41 - Mostrar todos los valores de BusinessEntityID de SalesPerson junto a cada ProductID de Product (producto cartesiano)\n",
    "mostrar_query(\"\"\" \n",
    "SELECT \n",
    "  sp.BusinessEntityID, \n",
    "  p.ProductID\n",
    "FROM 'Sales.SalesPerson' AS sp\n",
    "CROSS JOIN 'Production.Product' AS p\n",
    "\"\"\")\n"
   ]
  },
  {
   "cell_type": "code",
   "execution_count": null,
   "id": "2c370deb",
   "metadata": {},
   "outputs": [],
   "source": [
    "# Ejercicio 42 - Contar cuántas personas están registradas por tipo de contacto (ContactTypeID). Ordenar por cantidad descendente.\n",
    "mostrar_query(\"\"\" \n",
    "SELECT \n",
    "  bec.ContactTypeID, \n",
    "  COUNT(p.BusinessEntityID) AS CantidadPersonas\n",
    "FROM 'Person.Person' AS p\n",
    "LEFT JOIN 'Person.BusinessEntityContact' AS bec \n",
    "  ON p.BusinessEntityID = bec.PersonID\n",
    "GROUP BY bec.ContactTypeID\n",
    "ORDER BY CantidadPersonas DESC\n",
    "\"\"\")\n"
   ]
  },
  {
   "cell_type": "code",
   "execution_count": null,
   "id": "afb07d33",
   "metadata": {},
   "outputs": [],
   "source": [
    "# Ejercicio 43 - Mostrar nombre y apellido de los empleados que viven en el estado de “Oregon”\n",
    "mostrar_query(\"\"\" \n",
    "SELECT p.FirstName, p.LastName\n",
    "FROM 'HumanResources.Employee' AS e\n",
    "LEFT JOIN 'Person.Person' AS p ON p.BusinessEntityID = e.BusinessEntityID \n",
    "LEFT JOIN 'Person.BusinessEntityAddress' AS bea ON p.BusinessEntityID = bea.BusinessEntityID\n",
    "LEFT JOIN 'Person.Address' AS a ON bea.AddressID = a.AddressID\n",
    "LEFT JOIN 'Person.StateProvince' AS sp ON a.StateProvinceID = sp.StateProvinceID \n",
    "WHERE sp.Name = 'Oregon'\n",
    "\"\"\")\n"
   ]
  },
  {
   "cell_type": "code",
   "execution_count": null,
   "id": "3939de31",
   "metadata": {},
   "outputs": [],
   "source": [
    "# Ejercicio 44 - Calcular la suma de las cuotas de ventas históricas por persona y año. Mostrar el apellido.\n",
    "mostrar_query(\"\"\" \n",
    "SELECT \n",
    "  strftime('%Y', spqh.QuotaDate) AS Anio, \n",
    "  spqh.BusinessEntityID, \n",
    "  p.LastName, \n",
    "  SUM(spqh.SalesQuota) AS TotalQuota\n",
    "FROM 'Sales.SalesPersonQuotaHistory' AS spqh\n",
    "JOIN 'Person.Person' AS p ON spqh.BusinessEntityID = p.BusinessEntityID\n",
    "GROUP BY Anio, spqh.BusinessEntityID, p.LastName\n",
    "\"\"\")\n"
   ]
  },
  {
   "cell_type": "code",
   "execution_count": null,
   "id": "33250fdf",
   "metadata": {},
   "outputs": [],
   "source": [
    "# Ejercicio 45 - Calcular el total vendido por territorio para aquellos con más de 100 ventas. Mostrar ID, nombre del territorio y suma de ventas.\n",
    "mostrar_query(\"\"\" \n",
    "SELECT \n",
    "  soh.TerritoryID, \n",
    "  st.Name, \n",
    "  COUNT(soh.SalesOrderID) AS CantidadOrdenes, \n",
    "  SUM(sod.LineTotal) AS TotalVendido\n",
    "FROM 'Sales.SalesOrderHeader' AS soh\n",
    "JOIN 'Sales.SalesTerritory' AS st ON soh.TerritoryID = st.TerritoryID\n",
    "JOIN 'Sales.SalesOrderDetail' AS sod ON soh.SalesOrderID = sod.SalesOrderID\n",
    "GROUP BY soh.TerritoryID, st.Name \n",
    "HAVING COUNT(soh.SalesOrderID) >= 100\n",
    "\"\"\")\n"
   ]
  },
  {
   "cell_type": "code",
   "execution_count": null,
   "id": "9d66c8c8",
   "metadata": {},
   "outputs": [],
   "source": [
    "# Ejercicio 46 - Mostrar ID y nombre de provincias con más de 1000 domicilios registrados.\n",
    "mostrar_query(\"\"\" \n",
    "SELECT \n",
    "  sp.StateProvinceID, \n",
    "  sp.Name, \n",
    "  COUNT(a.AddressID) AS CantidadDomicilios\n",
    "FROM 'Person.StateProvince' AS sp\n",
    "JOIN 'Person.Address' AS a ON sp.StateProvinceID = a.StateProvinceID\n",
    "GROUP BY sp.StateProvinceID, sp.Name\n",
    "HAVING COUNT(a.AddressID) > 1000\n",
    "\"\"\")\n"
   ]
  },
  {
   "cell_type": "code",
   "execution_count": null,
   "id": "73eba7e2",
   "metadata": {},
   "outputs": [],
   "source": [
    "# Ejercicio 47 - Usar CTE para calcular el máximo, mínimo y promedio de productos en locaciones (tabla ProductInventory)\n",
    "mostrar_query(\"\"\" \n",
    "WITH productos (locacion, cantidad) AS (\n",
    "  SELECT \n",
    "    LocationID, \n",
    "    SUM(pi2.Quantity) \n",
    "  FROM 'Production.ProductInventory' AS pi2\n",
    "  LEFT JOIN 'Production.Product' AS p ON pi2.ProductID = p.ProductID\n",
    "  GROUP BY LocationID\n",
    ")\n",
    "SELECT \n",
    "  AVG(cantidad) AS Promedio, \n",
    "  MIN(cantidad) AS Minimo, \n",
    "  MAX(cantidad) AS Maximo \n",
    "FROM productos\n",
    "\"\"\")\n"
   ]
  },
  {
   "cell_type": "code",
   "execution_count": null,
   "id": "2c2f345c",
   "metadata": {},
   "outputs": [],
   "source": [
    "# Ejercicio 48 (versión optimizada) - Calcular métricas por cliente una sola vez con CTE y luego unir con las órdenes\n",
    "mostrar_query(\"\"\"\n",
    "WITH op1 (cus, c, a, min, max) AS (\n",
    "  SELECT \n",
    "    CustomerID, \n",
    "    COUNT(*), \n",
    "    AVG(TotalDue), \n",
    "    MIN(TotalDue), \n",
    "    MAX(TotalDue)\n",
    "  FROM 'Sales.SalesOrderHeader' AS soh\n",
    "  GROUP BY soh.CustomerID\n",
    ")\n",
    "SELECT \n",
    "  soh.SalesOrderID, \n",
    "  op1.cus AS CustomerID,\n",
    "  op1.c AS CountOfSales, \n",
    "  op1.a AS AvgSale,\n",
    "  op1.min AS LowestSale, \n",
    "  op1.max AS HighestSale\n",
    "FROM op1 \n",
    "JOIN 'Sales.SalesOrderHeader' AS soh ON op1.cus = soh.CustomerID\n",
    "\"\"\")\n"
   ]
  }
 ],
 "metadata": {
  "kernelspec": {
   "display_name": "datascience",
   "language": "python",
   "name": "python3"
  },
  "language_info": {
   "codemirror_mode": {
    "name": "ipython",
    "version": 3
   },
   "file_extension": ".py",
   "mimetype": "text/x-python",
   "name": "python",
   "nbconvert_exporter": "python",
   "pygments_lexer": "ipython3",
   "version": "3.11.9"
  }
 },
 "nbformat": 4,
 "nbformat_minor": 5
}
