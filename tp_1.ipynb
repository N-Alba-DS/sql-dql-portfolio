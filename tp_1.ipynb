{
 "cells": [
  {
   "cell_type": "markdown",
   "id": "095727ac",
   "metadata": {},
   "source": [
    "# General configuration"
   ]
  },
  {
   "cell_type": "code",
   "execution_count": 2,
   "id": "7f3da18c",
   "metadata": {},
   "outputs": [],
   "source": [
    "# Libraries used\n",
    "import sqlite3 \n",
    "import os\n",
    "import pandas as pd"
   ]
  },
  {
   "cell_type": "code",
   "execution_count": 3,
   "id": "357804f9",
   "metadata": {},
   "outputs": [],
   "source": [
    "# Paths \n",
    "wd = os.getcwd()\n",
    "db = \"adventureworks_sql_lite.sqlite\" # same archive contained in the repository\n",
    "db_path = os.path.join(wd, db)\n"
   ]
  },
  {
   "cell_type": "code",
   "execution_count": 4,
   "id": "0e4f295c",
   "metadata": {},
   "outputs": [],
   "source": [
    "# Function used to display the query made with sql on python with sqlite3\n",
    "\n",
    "def mostrar_query (query, limite = 3, dataset = True):\n",
    "    cursor.execute(query)\n",
    "    columnas = [desc[0] for desc in cursor.description]\n",
    "    filas = cursor.fetchmany(limite)\n",
    "    try:\n",
    "        if dataset:\n",
    "            dataset_final = pd.DataFrame(filas, columns=columnas)\n",
    "            return dataset_final\n",
    "        else:\n",
    "            return filas\n",
    "    except Exception as e:\n",
    "        print (f\"No se puede mostrar la consulta, la palida es: {e}\")\n"
   ]
  },
  {
   "cell_type": "code",
   "execution_count": 5,
   "id": "0066a2d5",
   "metadata": {},
   "outputs": [],
   "source": [
    "# Database conection with sqlite3\n",
    "\n",
    "conn = sqlite3.connect(db_path)\n",
    "cursor = conn.cursor()"
   ]
  },
  {
   "cell_type": "markdown",
   "id": "e21af28e",
   "metadata": {},
   "source": [
    "# Exercises"
   ]
  },
  {
   "cell_type": "markdown",
   "id": "76395b5d",
   "metadata": {},
   "source": [
    "##  Thematic Index by Conceptual Unit\n"
   ]
  },
  {
   "cell_type": "markdown",
   "id": "46bbc138",
   "metadata": {},
   "source": [
    "### 1. Fundamentals of SQL Querying\n",
    "*Using SELECT, WHERE, LIKE, logical operators, and NULL handling.*"
   ]
  },
  {
   "cell_type": "code",
   "execution_count": 6,
   "id": "88ec441d",
   "metadata": {},
   "outputs": [
    {
     "data": {
      "application/vnd.microsoft.datawrangler.viewer.v0+json": {
       "columns": [
        {
         "name": "index",
         "rawType": "int64",
         "type": "integer"
        },
        {
         "name": "BusinessEntityID",
         "rawType": "object",
         "type": "string"
        },
        {
         "name": "PersonType",
         "rawType": "object",
         "type": "string"
        },
        {
         "name": "NameStyle",
         "rawType": "object",
         "type": "string"
        },
        {
         "name": "Title",
         "rawType": "object",
         "type": "string"
        },
        {
         "name": "FirstName",
         "rawType": "object",
         "type": "string"
        },
        {
         "name": "MiddleName",
         "rawType": "object",
         "type": "string"
        },
        {
         "name": "LastName",
         "rawType": "object",
         "type": "string"
        },
        {
         "name": "Suffix",
         "rawType": "object",
         "type": "string"
        },
        {
         "name": "EmailPromotion",
         "rawType": "object",
         "type": "string"
        },
        {
         "name": "AdditionalContactInfo",
         "rawType": "object",
         "type": "string"
        },
        {
         "name": "Demographics",
         "rawType": "object",
         "type": "string"
        },
        {
         "name": "rowguid",
         "rawType": "object",
         "type": "string"
        },
        {
         "name": "ModifiedDate",
         "rawType": "object",
         "type": "string"
        }
       ],
       "conversionMethod": "pd.DataFrame",
       "ref": "ccad2708-9dd9-4784-b9fa-806d4c59a177",
       "rows": [
        [
         "0",
         "1",
         "EM",
         "0",
         "",
         "Ken",
         "J",
         "Sánchez",
         "",
         "0",
         "",
         "<IndividualSurvey xmlns=\"http://schemas.microsoft.com/sqlserver/2004/07/adventure-works/IndividualSurvey\"><TotalPurchaseYTD>0</TotalPurchaseYTD></IndividualSurvey>",
         "92C4279F-1207-48A3-8448-4636514EB7E2",
         "2009-01-07 00:00:00"
        ],
        [
         "1",
         "2",
         "EM",
         "0",
         "",
         "Terri",
         "Lee",
         "Duffy",
         "",
         "1",
         "",
         "<IndividualSurvey xmlns=\"http://schemas.microsoft.com/sqlserver/2004/07/adventure-works/IndividualSurvey\"><TotalPurchaseYTD>0</TotalPurchaseYTD></IndividualSurvey>",
         "D8763459-8AA8-47CC-AFF7-C9079AF79033",
         "2008-01-24 00:00:00"
        ],
        [
         "2",
         "3",
         "EM",
         "0",
         "",
         "Roberto",
         "",
         "Tamburello",
         "",
         "0",
         "",
         "<IndividualSurvey xmlns=\"http://schemas.microsoft.com/sqlserver/2004/07/adventure-works/IndividualSurvey\"><TotalPurchaseYTD>0</TotalPurchaseYTD></IndividualSurvey>",
         "E1A2555E-0828-434B-A33B-6F38136A37DE",
         "2007-11-04 00:00:00"
        ]
       ],
       "shape": {
        "columns": 13,
        "rows": 3
       }
      },
      "text/html": [
       "<div>\n",
       "<style scoped>\n",
       "    .dataframe tbody tr th:only-of-type {\n",
       "        vertical-align: middle;\n",
       "    }\n",
       "\n",
       "    .dataframe tbody tr th {\n",
       "        vertical-align: top;\n",
       "    }\n",
       "\n",
       "    .dataframe thead th {\n",
       "        text-align: right;\n",
       "    }\n",
       "</style>\n",
       "<table border=\"1\" class=\"dataframe\">\n",
       "  <thead>\n",
       "    <tr style=\"text-align: right;\">\n",
       "      <th></th>\n",
       "      <th>BusinessEntityID</th>\n",
       "      <th>PersonType</th>\n",
       "      <th>NameStyle</th>\n",
       "      <th>Title</th>\n",
       "      <th>FirstName</th>\n",
       "      <th>MiddleName</th>\n",
       "      <th>LastName</th>\n",
       "      <th>Suffix</th>\n",
       "      <th>EmailPromotion</th>\n",
       "      <th>AdditionalContactInfo</th>\n",
       "      <th>Demographics</th>\n",
       "      <th>rowguid</th>\n",
       "      <th>ModifiedDate</th>\n",
       "    </tr>\n",
       "  </thead>\n",
       "  <tbody>\n",
       "    <tr>\n",
       "      <th>0</th>\n",
       "      <td>1</td>\n",
       "      <td>EM</td>\n",
       "      <td>0</td>\n",
       "      <td></td>\n",
       "      <td>Ken</td>\n",
       "      <td>J</td>\n",
       "      <td>Sánchez</td>\n",
       "      <td></td>\n",
       "      <td>0</td>\n",
       "      <td></td>\n",
       "      <td>&lt;IndividualSurvey xmlns=\"http://schemas.micros...</td>\n",
       "      <td>92C4279F-1207-48A3-8448-4636514EB7E2</td>\n",
       "      <td>2009-01-07 00:00:00</td>\n",
       "    </tr>\n",
       "    <tr>\n",
       "      <th>1</th>\n",
       "      <td>2</td>\n",
       "      <td>EM</td>\n",
       "      <td>0</td>\n",
       "      <td></td>\n",
       "      <td>Terri</td>\n",
       "      <td>Lee</td>\n",
       "      <td>Duffy</td>\n",
       "      <td></td>\n",
       "      <td>1</td>\n",
       "      <td></td>\n",
       "      <td>&lt;IndividualSurvey xmlns=\"http://schemas.micros...</td>\n",
       "      <td>D8763459-8AA8-47CC-AFF7-C9079AF79033</td>\n",
       "      <td>2008-01-24 00:00:00</td>\n",
       "    </tr>\n",
       "    <tr>\n",
       "      <th>2</th>\n",
       "      <td>3</td>\n",
       "      <td>EM</td>\n",
       "      <td>0</td>\n",
       "      <td></td>\n",
       "      <td>Roberto</td>\n",
       "      <td></td>\n",
       "      <td>Tamburello</td>\n",
       "      <td></td>\n",
       "      <td>0</td>\n",
       "      <td></td>\n",
       "      <td>&lt;IndividualSurvey xmlns=\"http://schemas.micros...</td>\n",
       "      <td>E1A2555E-0828-434B-A33B-6F38136A37DE</td>\n",
       "      <td>2007-11-04 00:00:00</td>\n",
       "    </tr>\n",
       "  </tbody>\n",
       "</table>\n",
       "</div>"
      ],
      "text/plain": [
       "  BusinessEntityID PersonType NameStyle Title FirstName MiddleName  \\\n",
       "0                1         EM         0             Ken          J   \n",
       "1                2         EM         0           Terri        Lee   \n",
       "2                3         EM         0         Roberto              \n",
       "\n",
       "     LastName Suffix EmailPromotion AdditionalContactInfo  \\\n",
       "0     Sánchez                     0                         \n",
       "1       Duffy                     1                         \n",
       "2  Tamburello                     0                         \n",
       "\n",
       "                                        Demographics  \\\n",
       "0  <IndividualSurvey xmlns=\"http://schemas.micros...   \n",
       "1  <IndividualSurvey xmlns=\"http://schemas.micros...   \n",
       "2  <IndividualSurvey xmlns=\"http://schemas.micros...   \n",
       "\n",
       "                                rowguid         ModifiedDate  \n",
       "0  92C4279F-1207-48A3-8448-4636514EB7E2  2009-01-07 00:00:00  \n",
       "1  D8763459-8AA8-47CC-AFF7-C9079AF79033  2008-01-24 00:00:00  \n",
       "2  E1A2555E-0828-434B-A33B-6F38136A37DE  2007-11-04 00:00:00  "
      ]
     },
     "execution_count": 6,
     "metadata": {},
     "output_type": "execute_result"
    }
   ],
   "source": [
    "# 1. Mostrar el contenido de la tabla Person, del esquema Person.\n",
    "\n",
    "mostrar_query(\"\"\"SELECT * \n",
    "              from 'Person.Person' p\"\"\")\n",
    "\n"
   ]
  },
  {
   "cell_type": "code",
   "execution_count": 7,
   "id": "b04c9510",
   "metadata": {},
   "outputs": [
    {
     "data": {
      "application/vnd.microsoft.datawrangler.viewer.v0+json": {
       "columns": [
        {
         "name": "index",
         "rawType": "int64",
         "type": "integer"
        },
        {
         "name": "FirstName",
         "rawType": "object",
         "type": "string"
        },
        {
         "name": "LastName",
         "rawType": "object",
         "type": "string"
        }
       ],
       "conversionMethod": "pd.DataFrame",
       "ref": "c6a4bcc4-b3a6-40a7-9dc6-0dc7a6315607",
       "rows": [
        [
         "0",
         "Gail",
         "Erickson"
        ],
        [
         "1",
         "Janice",
         "Galvin"
        ],
        [
         "2",
         "Jill",
         "Williams"
        ]
       ],
       "shape": {
        "columns": 2,
        "rows": 3
       }
      },
      "text/html": [
       "<div>\n",
       "<style scoped>\n",
       "    .dataframe tbody tr th:only-of-type {\n",
       "        vertical-align: middle;\n",
       "    }\n",
       "\n",
       "    .dataframe tbody tr th {\n",
       "        vertical-align: top;\n",
       "    }\n",
       "\n",
       "    .dataframe thead th {\n",
       "        text-align: right;\n",
       "    }\n",
       "</style>\n",
       "<table border=\"1\" class=\"dataframe\">\n",
       "  <thead>\n",
       "    <tr style=\"text-align: right;\">\n",
       "      <th></th>\n",
       "      <th>FirstName</th>\n",
       "      <th>LastName</th>\n",
       "    </tr>\n",
       "  </thead>\n",
       "  <tbody>\n",
       "    <tr>\n",
       "      <th>0</th>\n",
       "      <td>Gail</td>\n",
       "      <td>Erickson</td>\n",
       "    </tr>\n",
       "    <tr>\n",
       "      <th>1</th>\n",
       "      <td>Janice</td>\n",
       "      <td>Galvin</td>\n",
       "    </tr>\n",
       "    <tr>\n",
       "      <th>2</th>\n",
       "      <td>Jill</td>\n",
       "      <td>Williams</td>\n",
       "    </tr>\n",
       "  </tbody>\n",
       "</table>\n",
       "</div>"
      ],
      "text/plain": [
       "  FirstName  LastName\n",
       "0      Gail  Erickson\n",
       "1    Janice    Galvin\n",
       "2      Jill  Williams"
      ]
     },
     "execution_count": 7,
     "metadata": {},
     "output_type": "execute_result"
    }
   ],
   "source": [
    "# 2. Mostrar los nombres y apelllido de cada persona que tenga como tratamiento “Ms.”\n",
    "\n",
    "mostrar_query(\"\"\"\n",
    "SELECT p.FirstName, p.LastName\n",
    "FROM 'Person.Person' p\n",
    "WHERE p.Title LIKE 'Ms%'\n",
    "\"\"\")"
   ]
  },
  {
   "cell_type": "code",
   "execution_count": 8,
   "id": "2a623dbd",
   "metadata": {},
   "outputs": [
    {
     "data": {
      "application/vnd.microsoft.datawrangler.viewer.v0+json": {
       "columns": [
        {
         "name": "index",
         "rawType": "int64",
         "type": "integer"
        },
        {
         "name": "BusinessEntityID",
         "rawType": "object",
         "type": "string"
        },
        {
         "name": "PersonType",
         "rawType": "object",
         "type": "string"
        },
        {
         "name": "NameStyle",
         "rawType": "object",
         "type": "string"
        },
        {
         "name": "Title",
         "rawType": "object",
         "type": "string"
        },
        {
         "name": "FirstName",
         "rawType": "object",
         "type": "string"
        },
        {
         "name": "MiddleName",
         "rawType": "object",
         "type": "string"
        },
        {
         "name": "LastName",
         "rawType": "object",
         "type": "string"
        },
        {
         "name": "Suffix",
         "rawType": "object",
         "type": "string"
        },
        {
         "name": "EmailPromotion",
         "rawType": "object",
         "type": "string"
        },
        {
         "name": "AdditionalContactInfo",
         "rawType": "object",
         "type": "string"
        },
        {
         "name": "Demographics",
         "rawType": "object",
         "type": "string"
        },
        {
         "name": "rowguid",
         "rawType": "object",
         "type": "string"
        },
        {
         "name": "ModifiedDate",
         "rawType": "object",
         "type": "string"
        }
       ],
       "conversionMethod": "pd.DataFrame",
       "ref": "4dac8ea8-4483-4674-8a89-c526ecfd8feb",
       "rows": [],
       "shape": {
        "columns": 13,
        "rows": 0
       }
      },
      "text/html": [
       "<div>\n",
       "<style scoped>\n",
       "    .dataframe tbody tr th:only-of-type {\n",
       "        vertical-align: middle;\n",
       "    }\n",
       "\n",
       "    .dataframe tbody tr th {\n",
       "        vertical-align: top;\n",
       "    }\n",
       "\n",
       "    .dataframe thead th {\n",
       "        text-align: right;\n",
       "    }\n",
       "</style>\n",
       "<table border=\"1\" class=\"dataframe\">\n",
       "  <thead>\n",
       "    <tr style=\"text-align: right;\">\n",
       "      <th></th>\n",
       "      <th>BusinessEntityID</th>\n",
       "      <th>PersonType</th>\n",
       "      <th>NameStyle</th>\n",
       "      <th>Title</th>\n",
       "      <th>FirstName</th>\n",
       "      <th>MiddleName</th>\n",
       "      <th>LastName</th>\n",
       "      <th>Suffix</th>\n",
       "      <th>EmailPromotion</th>\n",
       "      <th>AdditionalContactInfo</th>\n",
       "      <th>Demographics</th>\n",
       "      <th>rowguid</th>\n",
       "      <th>ModifiedDate</th>\n",
       "    </tr>\n",
       "  </thead>\n",
       "  <tbody>\n",
       "  </tbody>\n",
       "</table>\n",
       "</div>"
      ],
      "text/plain": [
       "Empty DataFrame\n",
       "Columns: [BusinessEntityID, PersonType, NameStyle, Title, FirstName, MiddleName, LastName, Suffix, EmailPromotion, AdditionalContactInfo, Demographics, rowguid, ModifiedDate]\n",
       "Index: []"
      ]
     },
     "execution_count": 8,
     "metadata": {},
     "output_type": "execute_result"
    }
   ],
   "source": [
    "#3. Personas con “Mr.” y apellido “White”\n",
    "\n",
    "mostrar_query(\"\"\"\n",
    "SELECT *\n",
    "FROM 'Person.Person' p\n",
    "WHERE p.Title LIKE 'Mr%' COLLATE NOCASE\n",
    "  AND p.LastName LIKE '%White' COLLATE NOCASE\n",
    "\"\"\")\n"
   ]
  },
  {
   "cell_type": "code",
   "execution_count": 9,
   "id": "320ad488",
   "metadata": {},
   "outputs": [
    {
     "data": {
      "application/vnd.microsoft.datawrangler.viewer.v0+json": {
       "columns": [
        {
         "name": "index",
         "rawType": "int64",
         "type": "integer"
        },
        {
         "name": "BusinessEntityID",
         "rawType": "object",
         "type": "string"
        },
        {
         "name": "PersonType",
         "rawType": "object",
         "type": "string"
        },
        {
         "name": "NameStyle",
         "rawType": "object",
         "type": "string"
        },
        {
         "name": "Title",
         "rawType": "object",
         "type": "string"
        },
        {
         "name": "FirstName",
         "rawType": "object",
         "type": "string"
        },
        {
         "name": "MiddleName",
         "rawType": "object",
         "type": "string"
        },
        {
         "name": "LastName",
         "rawType": "object",
         "type": "string"
        },
        {
         "name": "Suffix",
         "rawType": "object",
         "type": "string"
        },
        {
         "name": "EmailPromotion",
         "rawType": "object",
         "type": "string"
        },
        {
         "name": "AdditionalContactInfo",
         "rawType": "object",
         "type": "string"
        },
        {
         "name": "Demographics",
         "rawType": "object",
         "type": "string"
        },
        {
         "name": "rowguid",
         "rawType": "object",
         "type": "string"
        },
        {
         "name": "ModifiedDate",
         "rawType": "object",
         "type": "string"
        }
       ],
       "conversionMethod": "pd.DataFrame",
       "ref": "b1ed4d8e-72f1-4f99-8e28-85a2eaea8673",
       "rows": [
        [
         "0",
         "1",
         "EM",
         "0",
         "",
         "Ken",
         "J",
         "Sánchez",
         "",
         "0",
         "",
         "<IndividualSurvey xmlns=\"http://schemas.microsoft.com/sqlserver/2004/07/adventure-works/IndividualSurvey\"><TotalPurchaseYTD>0</TotalPurchaseYTD></IndividualSurvey>",
         "92C4279F-1207-48A3-8448-4636514EB7E2",
         "2009-01-07 00:00:00"
        ],
        [
         "1",
         "2",
         "EM",
         "0",
         "",
         "Terri",
         "Lee",
         "Duffy",
         "",
         "1",
         "",
         "<IndividualSurvey xmlns=\"http://schemas.microsoft.com/sqlserver/2004/07/adventure-works/IndividualSurvey\"><TotalPurchaseYTD>0</TotalPurchaseYTD></IndividualSurvey>",
         "D8763459-8AA8-47CC-AFF7-C9079AF79033",
         "2008-01-24 00:00:00"
        ],
        [
         "2",
         "3",
         "EM",
         "0",
         "",
         "Roberto",
         "",
         "Tamburello",
         "",
         "0",
         "",
         "<IndividualSurvey xmlns=\"http://schemas.microsoft.com/sqlserver/2004/07/adventure-works/IndividualSurvey\"><TotalPurchaseYTD>0</TotalPurchaseYTD></IndividualSurvey>",
         "E1A2555E-0828-434B-A33B-6F38136A37DE",
         "2007-11-04 00:00:00"
        ]
       ],
       "shape": {
        "columns": 13,
        "rows": 3
       }
      },
      "text/html": [
       "<div>\n",
       "<style scoped>\n",
       "    .dataframe tbody tr th:only-of-type {\n",
       "        vertical-align: middle;\n",
       "    }\n",
       "\n",
       "    .dataframe tbody tr th {\n",
       "        vertical-align: top;\n",
       "    }\n",
       "\n",
       "    .dataframe thead th {\n",
       "        text-align: right;\n",
       "    }\n",
       "</style>\n",
       "<table border=\"1\" class=\"dataframe\">\n",
       "  <thead>\n",
       "    <tr style=\"text-align: right;\">\n",
       "      <th></th>\n",
       "      <th>BusinessEntityID</th>\n",
       "      <th>PersonType</th>\n",
       "      <th>NameStyle</th>\n",
       "      <th>Title</th>\n",
       "      <th>FirstName</th>\n",
       "      <th>MiddleName</th>\n",
       "      <th>LastName</th>\n",
       "      <th>Suffix</th>\n",
       "      <th>EmailPromotion</th>\n",
       "      <th>AdditionalContactInfo</th>\n",
       "      <th>Demographics</th>\n",
       "      <th>rowguid</th>\n",
       "      <th>ModifiedDate</th>\n",
       "    </tr>\n",
       "  </thead>\n",
       "  <tbody>\n",
       "    <tr>\n",
       "      <th>0</th>\n",
       "      <td>1</td>\n",
       "      <td>EM</td>\n",
       "      <td>0</td>\n",
       "      <td></td>\n",
       "      <td>Ken</td>\n",
       "      <td>J</td>\n",
       "      <td>Sánchez</td>\n",
       "      <td></td>\n",
       "      <td>0</td>\n",
       "      <td></td>\n",
       "      <td>&lt;IndividualSurvey xmlns=\"http://schemas.micros...</td>\n",
       "      <td>92C4279F-1207-48A3-8448-4636514EB7E2</td>\n",
       "      <td>2009-01-07 00:00:00</td>\n",
       "    </tr>\n",
       "    <tr>\n",
       "      <th>1</th>\n",
       "      <td>2</td>\n",
       "      <td>EM</td>\n",
       "      <td>0</td>\n",
       "      <td></td>\n",
       "      <td>Terri</td>\n",
       "      <td>Lee</td>\n",
       "      <td>Duffy</td>\n",
       "      <td></td>\n",
       "      <td>1</td>\n",
       "      <td></td>\n",
       "      <td>&lt;IndividualSurvey xmlns=\"http://schemas.micros...</td>\n",
       "      <td>D8763459-8AA8-47CC-AFF7-C9079AF79033</td>\n",
       "      <td>2008-01-24 00:00:00</td>\n",
       "    </tr>\n",
       "    <tr>\n",
       "      <th>2</th>\n",
       "      <td>3</td>\n",
       "      <td>EM</td>\n",
       "      <td>0</td>\n",
       "      <td></td>\n",
       "      <td>Roberto</td>\n",
       "      <td></td>\n",
       "      <td>Tamburello</td>\n",
       "      <td></td>\n",
       "      <td>0</td>\n",
       "      <td></td>\n",
       "      <td>&lt;IndividualSurvey xmlns=\"http://schemas.micros...</td>\n",
       "      <td>E1A2555E-0828-434B-A33B-6F38136A37DE</td>\n",
       "      <td>2007-11-04 00:00:00</td>\n",
       "    </tr>\n",
       "  </tbody>\n",
       "</table>\n",
       "</div>"
      ],
      "text/plain": [
       "  BusinessEntityID PersonType NameStyle Title FirstName MiddleName  \\\n",
       "0                1         EM         0             Ken          J   \n",
       "1                2         EM         0           Terri        Lee   \n",
       "2                3         EM         0         Roberto              \n",
       "\n",
       "     LastName Suffix EmailPromotion AdditionalContactInfo  \\\n",
       "0     Sánchez                     0                         \n",
       "1       Duffy                     1                         \n",
       "2  Tamburello                     0                         \n",
       "\n",
       "                                        Demographics  \\\n",
       "0  <IndividualSurvey xmlns=\"http://schemas.micros...   \n",
       "1  <IndividualSurvey xmlns=\"http://schemas.micros...   \n",
       "2  <IndividualSurvey xmlns=\"http://schemas.micros...   \n",
       "\n",
       "                                rowguid         ModifiedDate  \n",
       "0  92C4279F-1207-48A3-8448-4636514EB7E2  2009-01-07 00:00:00  \n",
       "1  D8763459-8AA8-47CC-AFF7-C9079AF79033  2008-01-24 00:00:00  \n",
       "2  E1A2555E-0828-434B-A33B-6F38136A37DE  2007-11-04 00:00:00  "
      ]
     },
     "execution_count": 9,
     "metadata": {},
     "output_type": "execute_result"
    }
   ],
   "source": [
    "# 5. Mostrar los datos de las personas que tengan asignado el tipo “SP” ó el tipo “VC”.\n",
    "\n",
    "mostrar_query(\"\"\"\n",
    "SELECT * \n",
    "FROM 'Person.Person' p\n",
    "WHERE p.PersonType LIKE 'EM' OR p.PersonType LIKE 'VC'\n",
    "\"\"\")\n"
   ]
  },
  {
   "cell_type": "code",
   "execution_count": 10,
   "id": "341aceb3",
   "metadata": {},
   "outputs": [
    {
     "data": {
      "application/vnd.microsoft.datawrangler.viewer.v0+json": {
       "columns": [
        {
         "name": "index",
         "rawType": "int64",
         "type": "integer"
        },
        {
         "name": "BusinessEntityID",
         "rawType": "object",
         "type": "string"
        },
        {
         "name": "NationalIDNumber",
         "rawType": "object",
         "type": "string"
        },
        {
         "name": "LoginID",
         "rawType": "object",
         "type": "string"
        },
        {
         "name": "OrganizationNode",
         "rawType": "object",
         "type": "string"
        },
        {
         "name": "OrganizationLevel",
         "rawType": "object",
         "type": "string"
        },
        {
         "name": "JobTitle",
         "rawType": "object",
         "type": "string"
        },
        {
         "name": "BirthDate",
         "rawType": "object",
         "type": "string"
        },
        {
         "name": "MaritalStatus",
         "rawType": "object",
         "type": "string"
        },
        {
         "name": "Gender",
         "rawType": "object",
         "type": "string"
        },
        {
         "name": "HireDate",
         "rawType": "object",
         "type": "string"
        },
        {
         "name": "SalariedFlag",
         "rawType": "object",
         "type": "string"
        },
        {
         "name": "VacationHours",
         "rawType": "object",
         "type": "string"
        },
        {
         "name": "SickLeaveHours",
         "rawType": "object",
         "type": "string"
        },
        {
         "name": "CurrentFlag",
         "rawType": "object",
         "type": "string"
        },
        {
         "name": "rowguid",
         "rawType": "object",
         "type": "string"
        },
        {
         "name": "ModifiedDate",
         "rawType": "object",
         "type": "string"
        }
       ],
       "conversionMethod": "pd.DataFrame",
       "ref": "adcf12d9-2d61-4912-9acb-6a67e997b64f",
       "rows": [
        [
         "0",
         "1",
         "295847284",
         "adventure-works\\ken0",
         "",
         "",
         "Chief Executive Officer",
         "1969-01-29",
         "S",
         "M",
         "2009-01-14",
         "1",
         "99",
         "69",
         "1",
         "F01251E5-96A3-448D-981E-0F99D789110D",
         "2014-06-30 00:00:00"
        ],
        [
         "1",
         "2",
         "245797967",
         "adventure-works\\terri0",
         "58",
         "1",
         "Vice President of Engineering",
         "1971-08-01",
         "S",
         "F",
         "2008-01-31",
         "1",
         "1",
         "20",
         "1",
         "45E8F437-670D-4409-93CB-F9424A40D6EE",
         "2014-06-30 00:00:00"
        ],
        [
         "2",
         "3",
         "509647174",
         "adventure-works\\roberto0",
         "5AC0",
         "2",
         "Engineering Manager",
         "1974-11-12",
         "M",
         "M",
         "2007-11-11",
         "1",
         "2",
         "21",
         "1",
         "9BBBFB2C-EFBB-4217-9AB7-F97689328841",
         "2014-06-30 00:00:00"
        ]
       ],
       "shape": {
        "columns": 16,
        "rows": 3
       }
      },
      "text/html": [
       "<div>\n",
       "<style scoped>\n",
       "    .dataframe tbody tr th:only-of-type {\n",
       "        vertical-align: middle;\n",
       "    }\n",
       "\n",
       "    .dataframe tbody tr th {\n",
       "        vertical-align: top;\n",
       "    }\n",
       "\n",
       "    .dataframe thead th {\n",
       "        text-align: right;\n",
       "    }\n",
       "</style>\n",
       "<table border=\"1\" class=\"dataframe\">\n",
       "  <thead>\n",
       "    <tr style=\"text-align: right;\">\n",
       "      <th></th>\n",
       "      <th>BusinessEntityID</th>\n",
       "      <th>NationalIDNumber</th>\n",
       "      <th>LoginID</th>\n",
       "      <th>OrganizationNode</th>\n",
       "      <th>OrganizationLevel</th>\n",
       "      <th>JobTitle</th>\n",
       "      <th>BirthDate</th>\n",
       "      <th>MaritalStatus</th>\n",
       "      <th>Gender</th>\n",
       "      <th>HireDate</th>\n",
       "      <th>SalariedFlag</th>\n",
       "      <th>VacationHours</th>\n",
       "      <th>SickLeaveHours</th>\n",
       "      <th>CurrentFlag</th>\n",
       "      <th>rowguid</th>\n",
       "      <th>ModifiedDate</th>\n",
       "    </tr>\n",
       "  </thead>\n",
       "  <tbody>\n",
       "    <tr>\n",
       "      <th>0</th>\n",
       "      <td>1</td>\n",
       "      <td>295847284</td>\n",
       "      <td>adventure-works\\ken0</td>\n",
       "      <td></td>\n",
       "      <td></td>\n",
       "      <td>Chief Executive Officer</td>\n",
       "      <td>1969-01-29</td>\n",
       "      <td>S</td>\n",
       "      <td>M</td>\n",
       "      <td>2009-01-14</td>\n",
       "      <td>1</td>\n",
       "      <td>99</td>\n",
       "      <td>69</td>\n",
       "      <td>1</td>\n",
       "      <td>F01251E5-96A3-448D-981E-0F99D789110D</td>\n",
       "      <td>2014-06-30 00:00:00</td>\n",
       "    </tr>\n",
       "    <tr>\n",
       "      <th>1</th>\n",
       "      <td>2</td>\n",
       "      <td>245797967</td>\n",
       "      <td>adventure-works\\terri0</td>\n",
       "      <td>58</td>\n",
       "      <td>1</td>\n",
       "      <td>Vice President of Engineering</td>\n",
       "      <td>1971-08-01</td>\n",
       "      <td>S</td>\n",
       "      <td>F</td>\n",
       "      <td>2008-01-31</td>\n",
       "      <td>1</td>\n",
       "      <td>1</td>\n",
       "      <td>20</td>\n",
       "      <td>1</td>\n",
       "      <td>45E8F437-670D-4409-93CB-F9424A40D6EE</td>\n",
       "      <td>2014-06-30 00:00:00</td>\n",
       "    </tr>\n",
       "    <tr>\n",
       "      <th>2</th>\n",
       "      <td>3</td>\n",
       "      <td>509647174</td>\n",
       "      <td>adventure-works\\roberto0</td>\n",
       "      <td>5AC0</td>\n",
       "      <td>2</td>\n",
       "      <td>Engineering Manager</td>\n",
       "      <td>1974-11-12</td>\n",
       "      <td>M</td>\n",
       "      <td>M</td>\n",
       "      <td>2007-11-11</td>\n",
       "      <td>1</td>\n",
       "      <td>2</td>\n",
       "      <td>21</td>\n",
       "      <td>1</td>\n",
       "      <td>9BBBFB2C-EFBB-4217-9AB7-F97689328841</td>\n",
       "      <td>2014-06-30 00:00:00</td>\n",
       "    </tr>\n",
       "  </tbody>\n",
       "</table>\n",
       "</div>"
      ],
      "text/plain": [
       "  BusinessEntityID NationalIDNumber                   LoginID  \\\n",
       "0                1        295847284      adventure-works\\ken0   \n",
       "1                2        245797967    adventure-works\\terri0   \n",
       "2                3        509647174  adventure-works\\roberto0   \n",
       "\n",
       "  OrganizationNode OrganizationLevel                       JobTitle  \\\n",
       "0                                           Chief Executive Officer   \n",
       "1               58                 1  Vice President of Engineering   \n",
       "2             5AC0                 2            Engineering Manager   \n",
       "\n",
       "    BirthDate MaritalStatus Gender    HireDate SalariedFlag VacationHours  \\\n",
       "0  1969-01-29             S      M  2009-01-14            1            99   \n",
       "1  1971-08-01             S      F  2008-01-31            1             1   \n",
       "2  1974-11-12             M      M  2007-11-11            1             2   \n",
       "\n",
       "  SickLeaveHours CurrentFlag                               rowguid  \\\n",
       "0             69           1  F01251E5-96A3-448D-981E-0F99D789110D   \n",
       "1             20           1  45E8F437-670D-4409-93CB-F9424A40D6EE   \n",
       "2             21           1  9BBBFB2C-EFBB-4217-9AB7-F97689328841   \n",
       "\n",
       "          ModifiedDate  \n",
       "0  2014-06-30 00:00:00  \n",
       "1  2014-06-30 00:00:00  \n",
       "2  2014-06-30 00:00:00  "
      ]
     },
     "execution_count": 10,
     "metadata": {},
     "output_type": "execute_result"
    }
   ],
   "source": [
    "#6. Mostrar el contenido de la tabla Employee, del esquema HumanResources\n",
    "\n",
    "mostrar_query(\"\"\"\n",
    "SELECT * \n",
    "FROM 'HumanResources.Employee' AS e\n",
    "\"\"\")\n",
    "\n"
   ]
  },
  {
   "cell_type": "code",
   "execution_count": 11,
   "id": "9a48207e",
   "metadata": {},
   "outputs": [
    {
     "data": {
      "application/vnd.microsoft.datawrangler.viewer.v0+json": {
       "columns": [
        {
         "name": "index",
         "rawType": "int64",
         "type": "integer"
        },
        {
         "name": "id",
         "rawType": "object",
         "type": "string"
        }
       ],
       "conversionMethod": "pd.DataFrame",
       "ref": "01ad070a-40e2-4a4b-999c-0624fdaca966",
       "rows": [],
       "shape": {
        "columns": 1,
        "rows": 0
       }
      },
      "text/html": [
       "<div>\n",
       "<style scoped>\n",
       "    .dataframe tbody tr th:only-of-type {\n",
       "        vertical-align: middle;\n",
       "    }\n",
       "\n",
       "    .dataframe tbody tr th {\n",
       "        vertical-align: top;\n",
       "    }\n",
       "\n",
       "    .dataframe thead th {\n",
       "        text-align: right;\n",
       "    }\n",
       "</style>\n",
       "<table border=\"1\" class=\"dataframe\">\n",
       "  <thead>\n",
       "    <tr style=\"text-align: right;\">\n",
       "      <th></th>\n",
       "      <th>id</th>\n",
       "    </tr>\n",
       "  </thead>\n",
       "  <tbody>\n",
       "  </tbody>\n",
       "</table>\n",
       "</div>"
      ],
      "text/plain": [
       "Empty DataFrame\n",
       "Columns: [id]\n",
       "Index: []"
      ]
     },
     "execution_count": 11,
     "metadata": {},
     "output_type": "execute_result"
    }
   ],
   "source": [
    "# 7. Hallar el Id y fecha de nacimiento de los empleados que tengan como función “Research and\n",
    "# Development Manager” y que tengan menos de 10 “VacationHours”.\n",
    "\n",
    "\n",
    "mostrar_query(\"\"\"\n",
    "SELECT e.BusinessEntityID AS id\n",
    "FROM 'HumanResources.Employee' e\n",
    "WHERE e.JobTitle = 'Research and Development Manager'\n",
    "  AND e.VacationHours < 10\n",
    "\"\"\")\n"
   ]
  },
  {
   "cell_type": "code",
   "execution_count": 12,
   "id": "32bfbfb1",
   "metadata": {},
   "outputs": [
    {
     "data": {
      "application/vnd.microsoft.datawrangler.viewer.v0+json": {
       "columns": [
        {
         "name": "index",
         "rawType": "int64",
         "type": "integer"
        },
        {
         "name": "Gender",
         "rawType": "object",
         "type": "string"
        }
       ],
       "conversionMethod": "pd.DataFrame",
       "ref": "7d57d6f2-bb7c-4940-b8ac-8fcc7c8b38dd",
       "rows": [
        [
         "0",
         "M"
        ],
        [
         "1",
         "F"
        ]
       ],
       "shape": {
        "columns": 1,
        "rows": 2
       }
      },
      "text/html": [
       "<div>\n",
       "<style scoped>\n",
       "    .dataframe tbody tr th:only-of-type {\n",
       "        vertical-align: middle;\n",
       "    }\n",
       "\n",
       "    .dataframe tbody tr th {\n",
       "        vertical-align: top;\n",
       "    }\n",
       "\n",
       "    .dataframe thead th {\n",
       "        text-align: right;\n",
       "    }\n",
       "</style>\n",
       "<table border=\"1\" class=\"dataframe\">\n",
       "  <thead>\n",
       "    <tr style=\"text-align: right;\">\n",
       "      <th></th>\n",
       "      <th>Gender</th>\n",
       "    </tr>\n",
       "  </thead>\n",
       "  <tbody>\n",
       "    <tr>\n",
       "      <th>0</th>\n",
       "      <td>M</td>\n",
       "    </tr>\n",
       "    <tr>\n",
       "      <th>1</th>\n",
       "      <td>F</td>\n",
       "    </tr>\n",
       "  </tbody>\n",
       "</table>\n",
       "</div>"
      ],
      "text/plain": [
       "  Gender\n",
       "0      M\n",
       "1      F"
      ]
     },
     "execution_count": 12,
     "metadata": {},
     "output_type": "execute_result"
    }
   ],
   "source": [
    "# 8. ¿Cuáles son los tipos de “género” que figuran en la tabla de empleados?\n",
    "\n",
    "mostrar_query(\"\"\"\n",
    "SELECT DISTINCT e.Gender \n",
    "FROM 'HumanResources.Employee' AS e\n",
    "\"\"\")\n",
    "\n"
   ]
  },
  {
   "cell_type": "code",
   "execution_count": 13,
   "id": "5cf60bf2",
   "metadata": {},
   "outputs": [
    {
     "data": {
      "application/vnd.microsoft.datawrangler.viewer.v0+json": {
       "columns": [
        {
         "name": "index",
         "rawType": "int64",
         "type": "integer"
        },
        {
         "name": "id",
         "rawType": "object",
         "type": "string"
        },
        {
         "name": "FirstName",
         "rawType": "object",
         "type": "string"
        },
        {
         "name": "LastName",
         "rawType": "object",
         "type": "string"
        }
       ],
       "conversionMethod": "pd.DataFrame",
       "ref": "8c73327a-4be2-4cc5-9950-88501cab2ae1",
       "rows": [
        [
         "0",
         "84",
         "Frank",
         "Martinez"
        ],
        [
         "1",
         "5",
         "Gail",
         "Erickson"
        ],
        [
         "2",
         "63",
         "Maciej",
         "Dusza"
        ]
       ],
       "shape": {
        "columns": 3,
        "rows": 3
       }
      },
      "text/html": [
       "<div>\n",
       "<style scoped>\n",
       "    .dataframe tbody tr th:only-of-type {\n",
       "        vertical-align: middle;\n",
       "    }\n",
       "\n",
       "    .dataframe tbody tr th {\n",
       "        vertical-align: top;\n",
       "    }\n",
       "\n",
       "    .dataframe thead th {\n",
       "        text-align: right;\n",
       "    }\n",
       "</style>\n",
       "<table border=\"1\" class=\"dataframe\">\n",
       "  <thead>\n",
       "    <tr style=\"text-align: right;\">\n",
       "      <th></th>\n",
       "      <th>id</th>\n",
       "      <th>FirstName</th>\n",
       "      <th>LastName</th>\n",
       "    </tr>\n",
       "  </thead>\n",
       "  <tbody>\n",
       "    <tr>\n",
       "      <th>0</th>\n",
       "      <td>84</td>\n",
       "      <td>Frank</td>\n",
       "      <td>Martinez</td>\n",
       "    </tr>\n",
       "    <tr>\n",
       "      <th>1</th>\n",
       "      <td>5</td>\n",
       "      <td>Gail</td>\n",
       "      <td>Erickson</td>\n",
       "    </tr>\n",
       "    <tr>\n",
       "      <th>2</th>\n",
       "      <td>63</td>\n",
       "      <td>Maciej</td>\n",
       "      <td>Dusza</td>\n",
       "    </tr>\n",
       "  </tbody>\n",
       "</table>\n",
       "</div>"
      ],
      "text/plain": [
       "   id FirstName  LastName\n",
       "0  84     Frank  Martinez\n",
       "1   5      Gail  Erickson\n",
       "2  63    Maciej     Dusza"
      ]
     },
     "execution_count": 13,
     "metadata": {},
     "output_type": "execute_result"
    }
   ],
   "source": [
    "# 9. Mostrar el id, nombres, apellido de los empleados ordenados desde el de fecha de nacimiento\n",
    "# más antigua.\n",
    "\n",
    "\n",
    "mostrar_query(\"\"\"\n",
    "SELECT p.BusinessEntityID AS id, p.FirstName, p.LastName\n",
    "FROM 'HumanResources.Employee' AS e\n",
    "JOIN 'Person.Person' AS p ON e.BusinessEntityID = p.BusinessEntityID\n",
    "ORDER BY e.BirthDate ASC\n",
    "\"\"\")\n"
   ]
  },
  {
   "cell_type": "code",
   "execution_count": 14,
   "id": "cea64a24",
   "metadata": {},
   "outputs": [
    {
     "data": {
      "application/vnd.microsoft.datawrangler.viewer.v0+json": {
       "columns": [
        {
         "name": "index",
         "rawType": "int64",
         "type": "integer"
        },
        {
         "name": "DepartmentID",
         "rawType": "object",
         "type": "string"
        },
        {
         "name": "Name",
         "rawType": "object",
         "type": "string"
        },
        {
         "name": "GroupName",
         "rawType": "object",
         "type": "string"
        },
        {
         "name": "ModifiedDate",
         "rawType": "object",
         "type": "string"
        }
       ],
       "conversionMethod": "pd.DataFrame",
       "ref": "06c99d8e-a494-41e7-b622-d277328e412b",
       "rows": [
        [
         "0",
         "1",
         "Engineering",
         "Research and Development",
         "2008-04-30 00:00:00"
        ],
        [
         "1",
         "2",
         "Tool Design",
         "Research and Development",
         "2008-04-30 00:00:00"
        ],
        [
         "2",
         "3",
         "Sales",
         "Sales and Marketing",
         "2008-04-30 00:00:00"
        ]
       ],
       "shape": {
        "columns": 4,
        "rows": 3
       }
      },
      "text/html": [
       "<div>\n",
       "<style scoped>\n",
       "    .dataframe tbody tr th:only-of-type {\n",
       "        vertical-align: middle;\n",
       "    }\n",
       "\n",
       "    .dataframe tbody tr th {\n",
       "        vertical-align: top;\n",
       "    }\n",
       "\n",
       "    .dataframe thead th {\n",
       "        text-align: right;\n",
       "    }\n",
       "</style>\n",
       "<table border=\"1\" class=\"dataframe\">\n",
       "  <thead>\n",
       "    <tr style=\"text-align: right;\">\n",
       "      <th></th>\n",
       "      <th>DepartmentID</th>\n",
       "      <th>Name</th>\n",
       "      <th>GroupName</th>\n",
       "      <th>ModifiedDate</th>\n",
       "    </tr>\n",
       "  </thead>\n",
       "  <tbody>\n",
       "    <tr>\n",
       "      <th>0</th>\n",
       "      <td>1</td>\n",
       "      <td>Engineering</td>\n",
       "      <td>Research and Development</td>\n",
       "      <td>2008-04-30 00:00:00</td>\n",
       "    </tr>\n",
       "    <tr>\n",
       "      <th>1</th>\n",
       "      <td>2</td>\n",
       "      <td>Tool Design</td>\n",
       "      <td>Research and Development</td>\n",
       "      <td>2008-04-30 00:00:00</td>\n",
       "    </tr>\n",
       "    <tr>\n",
       "      <th>2</th>\n",
       "      <td>3</td>\n",
       "      <td>Sales</td>\n",
       "      <td>Sales and Marketing</td>\n",
       "      <td>2008-04-30 00:00:00</td>\n",
       "    </tr>\n",
       "  </tbody>\n",
       "</table>\n",
       "</div>"
      ],
      "text/plain": [
       "  DepartmentID         Name                 GroupName         ModifiedDate\n",
       "0            1  Engineering  Research and Development  2008-04-30 00:00:00\n",
       "1            2  Tool Design  Research and Development  2008-04-30 00:00:00\n",
       "2            3        Sales       Sales and Marketing  2008-04-30 00:00:00"
      ]
     },
     "execution_count": 14,
     "metadata": {},
     "output_type": "execute_result"
    }
   ],
   "source": [
    "#10.Mostrar el contenido de la tabla Departments\n",
    "\n",
    "\n",
    "mostrar_query(\"\"\"\n",
    "SELECT * \n",
    "FROM 'HumanResources.Department' AS d\n",
    "\"\"\")\n",
    "\n"
   ]
  },
  {
   "cell_type": "code",
   "execution_count": 15,
   "id": "e80e812c",
   "metadata": {},
   "outputs": [
    {
     "data": {
      "application/vnd.microsoft.datawrangler.viewer.v0+json": {
       "columns": [
        {
         "name": "index",
         "rawType": "int64",
         "type": "integer"
        },
        {
         "name": "DepartmentID",
         "rawType": "object",
         "type": "string"
        },
        {
         "name": "Name",
         "rawType": "object",
         "type": "string"
        },
        {
         "name": "GroupName",
         "rawType": "object",
         "type": "string"
        },
        {
         "name": "ModifiedDate",
         "rawType": "object",
         "type": "string"
        }
       ],
       "conversionMethod": "pd.DataFrame",
       "ref": "a5eb5c6e-5c1e-47ae-a632-bc0cb002eda7",
       "rows": [
        [
         "0",
         "7",
         "Production",
         "Manufacturing",
         "2008-04-30 00:00:00"
        ],
        [
         "1",
         "8",
         "Production Control",
         "Manufacturing",
         "2008-04-30 00:00:00"
        ],
        [
         "2",
         "12",
         "Document Control",
         "Quality Assurance",
         "2008-04-30 00:00:00"
        ]
       ],
       "shape": {
        "columns": 4,
        "rows": 3
       }
      },
      "text/html": [
       "<div>\n",
       "<style scoped>\n",
       "    .dataframe tbody tr th:only-of-type {\n",
       "        vertical-align: middle;\n",
       "    }\n",
       "\n",
       "    .dataframe tbody tr th {\n",
       "        vertical-align: top;\n",
       "    }\n",
       "\n",
       "    .dataframe thead th {\n",
       "        text-align: right;\n",
       "    }\n",
       "</style>\n",
       "<table border=\"1\" class=\"dataframe\">\n",
       "  <thead>\n",
       "    <tr style=\"text-align: right;\">\n",
       "      <th></th>\n",
       "      <th>DepartmentID</th>\n",
       "      <th>Name</th>\n",
       "      <th>GroupName</th>\n",
       "      <th>ModifiedDate</th>\n",
       "    </tr>\n",
       "  </thead>\n",
       "  <tbody>\n",
       "    <tr>\n",
       "      <th>0</th>\n",
       "      <td>7</td>\n",
       "      <td>Production</td>\n",
       "      <td>Manufacturing</td>\n",
       "      <td>2008-04-30 00:00:00</td>\n",
       "    </tr>\n",
       "    <tr>\n",
       "      <th>1</th>\n",
       "      <td>8</td>\n",
       "      <td>Production Control</td>\n",
       "      <td>Manufacturing</td>\n",
       "      <td>2008-04-30 00:00:00</td>\n",
       "    </tr>\n",
       "    <tr>\n",
       "      <th>2</th>\n",
       "      <td>12</td>\n",
       "      <td>Document Control</td>\n",
       "      <td>Quality Assurance</td>\n",
       "      <td>2008-04-30 00:00:00</td>\n",
       "    </tr>\n",
       "  </tbody>\n",
       "</table>\n",
       "</div>"
      ],
      "text/plain": [
       "  DepartmentID                Name          GroupName         ModifiedDate\n",
       "0            7          Production      Manufacturing  2008-04-30 00:00:00\n",
       "1            8  Production Control      Manufacturing  2008-04-30 00:00:00\n",
       "2           12    Document Control  Quality Assurance  2008-04-30 00:00:00"
      ]
     },
     "execution_count": 15,
     "metadata": {},
     "output_type": "execute_result"
    }
   ],
   "source": [
    "#11.¿Cuáles son los departamentos que están agrupados como “Manufacturing” ó como “Quality\n",
    "#Assurance”?\n",
    "\n",
    "mostrar_query(\"\"\"\n",
    "SELECT * \n",
    "FROM 'HumanResources.Department' AS d\n",
    "WHERE d.GroupName = 'Manufacturing' OR d.GroupName = 'Quality Assurance'\n",
    "\"\"\")\n"
   ]
  },
  {
   "cell_type": "markdown",
   "id": "5ef41cc8",
   "metadata": {},
   "source": [
    "### 2. Joins and Table Relationships  \n"
   ]
  },
  {
   "cell_type": "code",
   "execution_count": 16,
   "id": "0afdd3a7",
   "metadata": {},
   "outputs": [
    {
     "data": {
      "application/vnd.microsoft.datawrangler.viewer.v0+json": {
       "columns": [
        {
         "name": "index",
         "rawType": "int64",
         "type": "integer"
        },
        {
         "name": "DepartmentID",
         "rawType": "object",
         "type": "string"
        },
        {
         "name": "Name",
         "rawType": "object",
         "type": "string"
        },
        {
         "name": "GroupName",
         "rawType": "object",
         "type": "string"
        },
        {
         "name": "ModifiedDate",
         "rawType": "object",
         "type": "string"
        }
       ],
       "conversionMethod": "pd.DataFrame",
       "ref": "8c6120b7-6e12-4783-9996-3aad6bb75c0a",
       "rows": [
        [
         "0",
         "7",
         "Production",
         "Manufacturing",
         "2008-04-30 00:00:00"
        ]
       ],
       "shape": {
        "columns": 4,
        "rows": 1
       }
      },
      "text/html": [
       "<div>\n",
       "<style scoped>\n",
       "    .dataframe tbody tr th:only-of-type {\n",
       "        vertical-align: middle;\n",
       "    }\n",
       "\n",
       "    .dataframe tbody tr th {\n",
       "        vertical-align: top;\n",
       "    }\n",
       "\n",
       "    .dataframe thead th {\n",
       "        text-align: right;\n",
       "    }\n",
       "</style>\n",
       "<table border=\"1\" class=\"dataframe\">\n",
       "  <thead>\n",
       "    <tr style=\"text-align: right;\">\n",
       "      <th></th>\n",
       "      <th>DepartmentID</th>\n",
       "      <th>Name</th>\n",
       "      <th>GroupName</th>\n",
       "      <th>ModifiedDate</th>\n",
       "    </tr>\n",
       "  </thead>\n",
       "  <tbody>\n",
       "    <tr>\n",
       "      <th>0</th>\n",
       "      <td>7</td>\n",
       "      <td>Production</td>\n",
       "      <td>Manufacturing</td>\n",
       "      <td>2008-04-30 00:00:00</td>\n",
       "    </tr>\n",
       "  </tbody>\n",
       "</table>\n",
       "</div>"
      ],
      "text/plain": [
       "  DepartmentID        Name      GroupName         ModifiedDate\n",
       "0            7  Production  Manufacturing  2008-04-30 00:00:00"
      ]
     },
     "execution_count": 16,
     "metadata": {},
     "output_type": "execute_result"
    }
   ],
   "source": [
    "# Ejercicio 12 - ¿Cuáles son los datos de los departamentos cuyo nombre esté relacionado con “Production”?\n",
    "mostrar_query(\"\"\" \n",
    "SELECT * \n",
    "FROM 'HumanResources.Department' AS d\n",
    "WHERE d.Name LIKE 'Production'\n",
    "\"\"\")\n"
   ]
  },
  {
   "cell_type": "code",
   "execution_count": 17,
   "id": "a73a1c32",
   "metadata": {},
   "outputs": [
    {
     "data": {
      "application/vnd.microsoft.datawrangler.viewer.v0+json": {
       "columns": [
        {
         "name": "index",
         "rawType": "int64",
         "type": "integer"
        },
        {
         "name": "DepartmentID",
         "rawType": "object",
         "type": "string"
        },
        {
         "name": "Name",
         "rawType": "object",
         "type": "string"
        },
        {
         "name": "GroupName",
         "rawType": "object",
         "type": "string"
        },
        {
         "name": "ModifiedDate",
         "rawType": "object",
         "type": "string"
        }
       ],
       "conversionMethod": "pd.DataFrame",
       "ref": "cd45dc06-2448-4dc8-8c44-b27dc600cc2c",
       "rows": [
        [
         "0",
         "1",
         "Engineering",
         "Research and Development",
         "2008-04-30 00:00:00"
        ],
        [
         "1",
         "2",
         "Tool Design",
         "Research and Development",
         "2008-04-30 00:00:00"
        ],
        [
         "2",
         "3",
         "Sales",
         "Sales and Marketing",
         "2008-04-30 00:00:00"
        ]
       ],
       "shape": {
        "columns": 4,
        "rows": 3
       }
      },
      "text/html": [
       "<div>\n",
       "<style scoped>\n",
       "    .dataframe tbody tr th:only-of-type {\n",
       "        vertical-align: middle;\n",
       "    }\n",
       "\n",
       "    .dataframe tbody tr th {\n",
       "        vertical-align: top;\n",
       "    }\n",
       "\n",
       "    .dataframe thead th {\n",
       "        text-align: right;\n",
       "    }\n",
       "</style>\n",
       "<table border=\"1\" class=\"dataframe\">\n",
       "  <thead>\n",
       "    <tr style=\"text-align: right;\">\n",
       "      <th></th>\n",
       "      <th>DepartmentID</th>\n",
       "      <th>Name</th>\n",
       "      <th>GroupName</th>\n",
       "      <th>ModifiedDate</th>\n",
       "    </tr>\n",
       "  </thead>\n",
       "  <tbody>\n",
       "    <tr>\n",
       "      <th>0</th>\n",
       "      <td>1</td>\n",
       "      <td>Engineering</td>\n",
       "      <td>Research and Development</td>\n",
       "      <td>2008-04-30 00:00:00</td>\n",
       "    </tr>\n",
       "    <tr>\n",
       "      <th>1</th>\n",
       "      <td>2</td>\n",
       "      <td>Tool Design</td>\n",
       "      <td>Research and Development</td>\n",
       "      <td>2008-04-30 00:00:00</td>\n",
       "    </tr>\n",
       "    <tr>\n",
       "      <th>2</th>\n",
       "      <td>3</td>\n",
       "      <td>Sales</td>\n",
       "      <td>Sales and Marketing</td>\n",
       "      <td>2008-04-30 00:00:00</td>\n",
       "    </tr>\n",
       "  </tbody>\n",
       "</table>\n",
       "</div>"
      ],
      "text/plain": [
       "  DepartmentID         Name                 GroupName         ModifiedDate\n",
       "0            1  Engineering  Research and Development  2008-04-30 00:00:00\n",
       "1            2  Tool Design  Research and Development  2008-04-30 00:00:00\n",
       "2            3        Sales       Sales and Marketing  2008-04-30 00:00:00"
      ]
     },
     "execution_count": 17,
     "metadata": {},
     "output_type": "execute_result"
    }
   ],
   "source": [
    "# Ejercicio 13 - Mostrar los datos de los departamentos que no estén agrupados como “Research and Develpment”\n",
    "mostrar_query(\"\"\" \n",
    "SELECT * \n",
    "FROM 'HumanResources.Department' AS d\n",
    "WHERE d.Name NOT LIKE 'Research and Develpment'\n",
    "\"\"\")\n"
   ]
  },
  {
   "cell_type": "code",
   "execution_count": 18,
   "id": "ab4febdc",
   "metadata": {},
   "outputs": [
    {
     "data": {
      "application/vnd.microsoft.datawrangler.viewer.v0+json": {
       "columns": [
        {
         "name": "index",
         "rawType": "int64",
         "type": "integer"
        },
        {
         "name": "ProductID",
         "rawType": "object",
         "type": "string"
        },
        {
         "name": "Name",
         "rawType": "object",
         "type": "string"
        },
        {
         "name": "ProductNumber",
         "rawType": "object",
         "type": "string"
        },
        {
         "name": "MakeFlag",
         "rawType": "object",
         "type": "string"
        },
        {
         "name": "FinishedGoodsFlag",
         "rawType": "object",
         "type": "string"
        },
        {
         "name": "Color",
         "rawType": "object",
         "type": "string"
        },
        {
         "name": "SafetyStockLevel",
         "rawType": "object",
         "type": "string"
        },
        {
         "name": "ReorderPoint",
         "rawType": "object",
         "type": "string"
        },
        {
         "name": "StandardCost",
         "rawType": "object",
         "type": "string"
        },
        {
         "name": "ListPrice",
         "rawType": "object",
         "type": "string"
        },
        {
         "name": "Size",
         "rawType": "object",
         "type": "string"
        },
        {
         "name": "SizeUnitMeasureCode",
         "rawType": "object",
         "type": "string"
        },
        {
         "name": "WeightUnitMeasureCode",
         "rawType": "object",
         "type": "string"
        },
        {
         "name": "Weight",
         "rawType": "object",
         "type": "string"
        },
        {
         "name": "DaysToManufacture",
         "rawType": "object",
         "type": "string"
        },
        {
         "name": "ProductLine",
         "rawType": "object",
         "type": "string"
        },
        {
         "name": "Class",
         "rawType": "object",
         "type": "string"
        },
        {
         "name": "Style",
         "rawType": "object",
         "type": "string"
        },
        {
         "name": "ProductSubcategoryID",
         "rawType": "object",
         "type": "string"
        },
        {
         "name": "ProductModelID",
         "rawType": "object",
         "type": "string"
        },
        {
         "name": "SellStartDate",
         "rawType": "object",
         "type": "string"
        },
        {
         "name": "SellEndDate",
         "rawType": "object",
         "type": "string"
        },
        {
         "name": "DiscontinuedDate",
         "rawType": "object",
         "type": "string"
        },
        {
         "name": "rowguid",
         "rawType": "object",
         "type": "string"
        },
        {
         "name": "ModifiedDate",
         "rawType": "object",
         "type": "string"
        }
       ],
       "conversionMethod": "pd.DataFrame",
       "ref": "7efcbbd3-fb6c-4994-8d46-164842f33924",
       "rows": [
        [
         "0",
         "1",
         "Adjustable Race",
         "AR-5381",
         "0",
         "0",
         "",
         "1000",
         "750",
         "0.0000",
         "0.0000",
         "",
         "",
         "",
         "",
         "0",
         "",
         "",
         "",
         "",
         "",
         "2008-04-30 00:00:00",
         "",
         "",
         "694215B7-08F7-4C0D-ACB1-D734BA44C0C8",
         "2014-02-08 10:01:36"
        ],
        [
         "1",
         "2",
         "Bearing Ball",
         "BA-8327",
         "0",
         "0",
         "",
         "1000",
         "750",
         "0.0000",
         "0.0000",
         "",
         "",
         "",
         "",
         "0",
         "",
         "",
         "",
         "",
         "",
         "2008-04-30 00:00:00",
         "",
         "",
         "58AE3C20-4F3A-4749-A7D4-D568806CC537",
         "2014-02-08 10:01:36"
        ],
        [
         "2",
         "3",
         "BB Ball Bearing",
         "BE-2349",
         "1",
         "0",
         "",
         "800",
         "600",
         "0.0000",
         "0.0000",
         "",
         "",
         "",
         "",
         "1",
         "",
         "",
         "",
         "",
         "",
         "2008-04-30 00:00:00",
         "",
         "",
         "9C21AED2-5BFA-4F18-BCB8-F11638DC2E4E",
         "2014-02-08 10:01:36"
        ]
       ],
       "shape": {
        "columns": 25,
        "rows": 3
       }
      },
      "text/html": [
       "<div>\n",
       "<style scoped>\n",
       "    .dataframe tbody tr th:only-of-type {\n",
       "        vertical-align: middle;\n",
       "    }\n",
       "\n",
       "    .dataframe tbody tr th {\n",
       "        vertical-align: top;\n",
       "    }\n",
       "\n",
       "    .dataframe thead th {\n",
       "        text-align: right;\n",
       "    }\n",
       "</style>\n",
       "<table border=\"1\" class=\"dataframe\">\n",
       "  <thead>\n",
       "    <tr style=\"text-align: right;\">\n",
       "      <th></th>\n",
       "      <th>ProductID</th>\n",
       "      <th>Name</th>\n",
       "      <th>ProductNumber</th>\n",
       "      <th>MakeFlag</th>\n",
       "      <th>FinishedGoodsFlag</th>\n",
       "      <th>Color</th>\n",
       "      <th>SafetyStockLevel</th>\n",
       "      <th>ReorderPoint</th>\n",
       "      <th>StandardCost</th>\n",
       "      <th>ListPrice</th>\n",
       "      <th>...</th>\n",
       "      <th>ProductLine</th>\n",
       "      <th>Class</th>\n",
       "      <th>Style</th>\n",
       "      <th>ProductSubcategoryID</th>\n",
       "      <th>ProductModelID</th>\n",
       "      <th>SellStartDate</th>\n",
       "      <th>SellEndDate</th>\n",
       "      <th>DiscontinuedDate</th>\n",
       "      <th>rowguid</th>\n",
       "      <th>ModifiedDate</th>\n",
       "    </tr>\n",
       "  </thead>\n",
       "  <tbody>\n",
       "    <tr>\n",
       "      <th>0</th>\n",
       "      <td>1</td>\n",
       "      <td>Adjustable Race</td>\n",
       "      <td>AR-5381</td>\n",
       "      <td>0</td>\n",
       "      <td>0</td>\n",
       "      <td></td>\n",
       "      <td>1000</td>\n",
       "      <td>750</td>\n",
       "      <td>0.0000</td>\n",
       "      <td>0.0000</td>\n",
       "      <td>...</td>\n",
       "      <td></td>\n",
       "      <td></td>\n",
       "      <td></td>\n",
       "      <td></td>\n",
       "      <td></td>\n",
       "      <td>2008-04-30 00:00:00</td>\n",
       "      <td></td>\n",
       "      <td></td>\n",
       "      <td>694215B7-08F7-4C0D-ACB1-D734BA44C0C8</td>\n",
       "      <td>2014-02-08 10:01:36</td>\n",
       "    </tr>\n",
       "    <tr>\n",
       "      <th>1</th>\n",
       "      <td>2</td>\n",
       "      <td>Bearing Ball</td>\n",
       "      <td>BA-8327</td>\n",
       "      <td>0</td>\n",
       "      <td>0</td>\n",
       "      <td></td>\n",
       "      <td>1000</td>\n",
       "      <td>750</td>\n",
       "      <td>0.0000</td>\n",
       "      <td>0.0000</td>\n",
       "      <td>...</td>\n",
       "      <td></td>\n",
       "      <td></td>\n",
       "      <td></td>\n",
       "      <td></td>\n",
       "      <td></td>\n",
       "      <td>2008-04-30 00:00:00</td>\n",
       "      <td></td>\n",
       "      <td></td>\n",
       "      <td>58AE3C20-4F3A-4749-A7D4-D568806CC537</td>\n",
       "      <td>2014-02-08 10:01:36</td>\n",
       "    </tr>\n",
       "    <tr>\n",
       "      <th>2</th>\n",
       "      <td>3</td>\n",
       "      <td>BB Ball Bearing</td>\n",
       "      <td>BE-2349</td>\n",
       "      <td>1</td>\n",
       "      <td>0</td>\n",
       "      <td></td>\n",
       "      <td>800</td>\n",
       "      <td>600</td>\n",
       "      <td>0.0000</td>\n",
       "      <td>0.0000</td>\n",
       "      <td>...</td>\n",
       "      <td></td>\n",
       "      <td></td>\n",
       "      <td></td>\n",
       "      <td></td>\n",
       "      <td></td>\n",
       "      <td>2008-04-30 00:00:00</td>\n",
       "      <td></td>\n",
       "      <td></td>\n",
       "      <td>9C21AED2-5BFA-4F18-BCB8-F11638DC2E4E</td>\n",
       "      <td>2014-02-08 10:01:36</td>\n",
       "    </tr>\n",
       "  </tbody>\n",
       "</table>\n",
       "<p>3 rows × 25 columns</p>\n",
       "</div>"
      ],
      "text/plain": [
       "  ProductID             Name ProductNumber MakeFlag FinishedGoodsFlag Color  \\\n",
       "0         1  Adjustable Race       AR-5381        0                 0         \n",
       "1         2     Bearing Ball       BA-8327        0                 0         \n",
       "2         3  BB Ball Bearing       BE-2349        1                 0         \n",
       "\n",
       "  SafetyStockLevel ReorderPoint StandardCost ListPrice  ... ProductLine Class  \\\n",
       "0             1000          750       0.0000    0.0000  ...                     \n",
       "1             1000          750       0.0000    0.0000  ...                     \n",
       "2              800          600       0.0000    0.0000  ...                     \n",
       "\n",
       "  Style ProductSubcategoryID ProductModelID        SellStartDate SellEndDate  \\\n",
       "0                                            2008-04-30 00:00:00               \n",
       "1                                            2008-04-30 00:00:00               \n",
       "2                                            2008-04-30 00:00:00               \n",
       "\n",
       "  DiscontinuedDate                               rowguid         ModifiedDate  \n",
       "0                   694215B7-08F7-4C0D-ACB1-D734BA44C0C8  2014-02-08 10:01:36  \n",
       "1                   58AE3C20-4F3A-4749-A7D4-D568806CC537  2014-02-08 10:01:36  \n",
       "2                   9C21AED2-5BFA-4F18-BCB8-F11638DC2E4E  2014-02-08 10:01:36  \n",
       "\n",
       "[3 rows x 25 columns]"
      ]
     },
     "execution_count": 18,
     "metadata": {},
     "output_type": "execute_result"
    }
   ],
   "source": [
    "# Ejercicio 14 - Mostrar los datos de la tabla Product del esquema Production\n",
    "mostrar_query(\"\"\" \n",
    "SELECT * \n",
    "FROM 'Production.Product' AS p\n",
    "\"\"\")"
   ]
  },
  {
   "cell_type": "code",
   "execution_count": 19,
   "id": "83df0b02",
   "metadata": {},
   "outputs": [
    {
     "data": {
      "application/vnd.microsoft.datawrangler.viewer.v0+json": {
       "columns": [
        {
         "name": "index",
         "rawType": "int64",
         "type": "integer"
        },
        {
         "name": "ProductID",
         "rawType": "object",
         "type": "string"
        },
        {
         "name": "Name",
         "rawType": "object",
         "type": "string"
        },
        {
         "name": "ProductNumber",
         "rawType": "object",
         "type": "string"
        },
        {
         "name": "MakeFlag",
         "rawType": "object",
         "type": "string"
        },
        {
         "name": "FinishedGoodsFlag",
         "rawType": "object",
         "type": "string"
        },
        {
         "name": "Color",
         "rawType": "object",
         "type": "string"
        },
        {
         "name": "SafetyStockLevel",
         "rawType": "object",
         "type": "string"
        },
        {
         "name": "ReorderPoint",
         "rawType": "object",
         "type": "string"
        },
        {
         "name": "StandardCost",
         "rawType": "object",
         "type": "string"
        },
        {
         "name": "ListPrice",
         "rawType": "object",
         "type": "string"
        },
        {
         "name": "Size",
         "rawType": "object",
         "type": "string"
        },
        {
         "name": "SizeUnitMeasureCode",
         "rawType": "object",
         "type": "string"
        },
        {
         "name": "WeightUnitMeasureCode",
         "rawType": "object",
         "type": "string"
        },
        {
         "name": "Weight",
         "rawType": "object",
         "type": "string"
        },
        {
         "name": "DaysToManufacture",
         "rawType": "object",
         "type": "string"
        },
        {
         "name": "ProductLine",
         "rawType": "object",
         "type": "string"
        },
        {
         "name": "Class",
         "rawType": "object",
         "type": "string"
        },
        {
         "name": "Style",
         "rawType": "object",
         "type": "string"
        },
        {
         "name": "ProductSubcategoryID",
         "rawType": "object",
         "type": "string"
        },
        {
         "name": "ProductModelID",
         "rawType": "object",
         "type": "string"
        },
        {
         "name": "SellStartDate",
         "rawType": "object",
         "type": "string"
        },
        {
         "name": "SellEndDate",
         "rawType": "object",
         "type": "string"
        },
        {
         "name": "DiscontinuedDate",
         "rawType": "object",
         "type": "string"
        },
        {
         "name": "rowguid",
         "rawType": "object",
         "type": "string"
        },
        {
         "name": "ModifiedDate",
         "rawType": "object",
         "type": "string"
        }
       ],
       "conversionMethod": "pd.DataFrame",
       "ref": "fb4c60ad-1412-44d0-ae29-47a0c1a5926b",
       "rows": [],
       "shape": {
        "columns": 25,
        "rows": 0
       }
      },
      "text/html": [
       "<div>\n",
       "<style scoped>\n",
       "    .dataframe tbody tr th:only-of-type {\n",
       "        vertical-align: middle;\n",
       "    }\n",
       "\n",
       "    .dataframe tbody tr th {\n",
       "        vertical-align: top;\n",
       "    }\n",
       "\n",
       "    .dataframe thead th {\n",
       "        text-align: right;\n",
       "    }\n",
       "</style>\n",
       "<table border=\"1\" class=\"dataframe\">\n",
       "  <thead>\n",
       "    <tr style=\"text-align: right;\">\n",
       "      <th></th>\n",
       "      <th>ProductID</th>\n",
       "      <th>Name</th>\n",
       "      <th>ProductNumber</th>\n",
       "      <th>MakeFlag</th>\n",
       "      <th>FinishedGoodsFlag</th>\n",
       "      <th>Color</th>\n",
       "      <th>SafetyStockLevel</th>\n",
       "      <th>ReorderPoint</th>\n",
       "      <th>StandardCost</th>\n",
       "      <th>ListPrice</th>\n",
       "      <th>...</th>\n",
       "      <th>ProductLine</th>\n",
       "      <th>Class</th>\n",
       "      <th>Style</th>\n",
       "      <th>ProductSubcategoryID</th>\n",
       "      <th>ProductModelID</th>\n",
       "      <th>SellStartDate</th>\n",
       "      <th>SellEndDate</th>\n",
       "      <th>DiscontinuedDate</th>\n",
       "      <th>rowguid</th>\n",
       "      <th>ModifiedDate</th>\n",
       "    </tr>\n",
       "  </thead>\n",
       "  <tbody>\n",
       "  </tbody>\n",
       "</table>\n",
       "<p>0 rows × 25 columns</p>\n",
       "</div>"
      ],
      "text/plain": [
       "Empty DataFrame\n",
       "Columns: [ProductID, Name, ProductNumber, MakeFlag, FinishedGoodsFlag, Color, SafetyStockLevel, ReorderPoint, StandardCost, ListPrice, Size, SizeUnitMeasureCode, WeightUnitMeasureCode, Weight, DaysToManufacture, ProductLine, Class, Style, ProductSubcategoryID, ProductModelID, SellStartDate, SellEndDate, DiscontinuedDate, rowguid, ModifiedDate]\n",
       "Index: []\n",
       "\n",
       "[0 rows x 25 columns]"
      ]
     },
     "execution_count": 19,
     "metadata": {},
     "output_type": "execute_result"
    }
   ],
   "source": [
    "# Ejercicio 15 - Hallar los productos que no tengan asignado color.\n",
    "mostrar_query(\"\"\" \n",
    "SELECT * \n",
    "FROM 'Production.Product' AS p\n",
    "WHERE p.Color IS NULL\n",
    "\"\"\")\n"
   ]
  },
  {
   "cell_type": "code",
   "execution_count": 20,
   "id": "11fb702c",
   "metadata": {},
   "outputs": [
    {
     "data": {
      "application/vnd.microsoft.datawrangler.viewer.v0+json": {
       "columns": [
        {
         "name": "index",
         "rawType": "int64",
         "type": "integer"
        },
        {
         "name": "ProductID",
         "rawType": "object",
         "type": "string"
        },
        {
         "name": "Name",
         "rawType": "object",
         "type": "string"
        },
        {
         "name": "Color",
         "rawType": "object",
         "type": "string"
        }
       ],
       "conversionMethod": "pd.DataFrame",
       "ref": "d33c3804-2c6a-4943-ac4f-238933d39e65",
       "rows": [
        [
         "0",
         "421",
         "Internal Lock Washer 2",
         ""
        ],
        [
         "1",
         "420",
         "Internal Lock Washer 8",
         ""
        ],
        [
         "2",
         "419",
         "Internal Lock Washer 1",
         ""
        ]
       ],
       "shape": {
        "columns": 3,
        "rows": 3
       }
      },
      "text/html": [
       "<div>\n",
       "<style scoped>\n",
       "    .dataframe tbody tr th:only-of-type {\n",
       "        vertical-align: middle;\n",
       "    }\n",
       "\n",
       "    .dataframe tbody tr th {\n",
       "        vertical-align: top;\n",
       "    }\n",
       "\n",
       "    .dataframe thead th {\n",
       "        text-align: right;\n",
       "    }\n",
       "</style>\n",
       "<table border=\"1\" class=\"dataframe\">\n",
       "  <thead>\n",
       "    <tr style=\"text-align: right;\">\n",
       "      <th></th>\n",
       "      <th>ProductID</th>\n",
       "      <th>Name</th>\n",
       "      <th>Color</th>\n",
       "    </tr>\n",
       "  </thead>\n",
       "  <tbody>\n",
       "    <tr>\n",
       "      <th>0</th>\n",
       "      <td>421</td>\n",
       "      <td>Internal Lock Washer 2</td>\n",
       "      <td></td>\n",
       "    </tr>\n",
       "    <tr>\n",
       "      <th>1</th>\n",
       "      <td>420</td>\n",
       "      <td>Internal Lock Washer 8</td>\n",
       "      <td></td>\n",
       "    </tr>\n",
       "    <tr>\n",
       "      <th>2</th>\n",
       "      <td>419</td>\n",
       "      <td>Internal Lock Washer 1</td>\n",
       "      <td></td>\n",
       "    </tr>\n",
       "  </tbody>\n",
       "</table>\n",
       "</div>"
      ],
      "text/plain": [
       "  ProductID                    Name Color\n",
       "0       421  Internal Lock Washer 2      \n",
       "1       420  Internal Lock Washer 8      \n",
       "2       419  Internal Lock Washer 1      "
      ]
     },
     "execution_count": 20,
     "metadata": {},
     "output_type": "execute_result"
    }
   ],
   "source": [
    "# Ejercicio 16 - Para todos los productos que tengan asignado algún color y que tengan un stock (SafetyStockLevel) mayor a 900, \n",
    "# mostrar su id, nombre y color. Ordenarlo por id descendente y por color ascendente.\n",
    "mostrar_query(\"\"\" \n",
    "SELECT p.ProductID, p.Name, p.Color \n",
    "FROM 'Production.Product' AS p\n",
    "WHERE p.Color IS NOT NULL AND p.SafetyStockLevel > 900\n",
    "ORDER BY p.ProductID DESC, p.Color ASC\n",
    "\"\"\")\n"
   ]
  },
  {
   "cell_type": "code",
   "execution_count": 21,
   "id": "a80b59d6",
   "metadata": {},
   "outputs": [
    {
     "data": {
      "application/vnd.microsoft.datawrangler.viewer.v0+json": {
       "columns": [
        {
         "name": "index",
         "rawType": "int64",
         "type": "integer"
        },
        {
         "name": "Gender",
         "rawType": "object",
         "type": "string"
        },
        {
         "name": "COUNT(e.BusinessEntityID)",
         "rawType": "int64",
         "type": "integer"
        }
       ],
       "conversionMethod": "pd.DataFrame",
       "ref": "7806f6f5-9344-47a9-a1d7-d3eb8c0600f8",
       "rows": [
        [
         "0",
         "F",
         "2"
        ],
        [
         "1",
         "M",
         "5"
        ]
       ],
       "shape": {
        "columns": 2,
        "rows": 2
       }
      },
      "text/html": [
       "<div>\n",
       "<style scoped>\n",
       "    .dataframe tbody tr th:only-of-type {\n",
       "        vertical-align: middle;\n",
       "    }\n",
       "\n",
       "    .dataframe tbody tr th {\n",
       "        vertical-align: top;\n",
       "    }\n",
       "\n",
       "    .dataframe thead th {\n",
       "        text-align: right;\n",
       "    }\n",
       "</style>\n",
       "<table border=\"1\" class=\"dataframe\">\n",
       "  <thead>\n",
       "    <tr style=\"text-align: right;\">\n",
       "      <th></th>\n",
       "      <th>Gender</th>\n",
       "      <th>COUNT(e.BusinessEntityID)</th>\n",
       "    </tr>\n",
       "  </thead>\n",
       "  <tbody>\n",
       "    <tr>\n",
       "      <th>0</th>\n",
       "      <td>F</td>\n",
       "      <td>2</td>\n",
       "    </tr>\n",
       "    <tr>\n",
       "      <th>1</th>\n",
       "      <td>M</td>\n",
       "      <td>5</td>\n",
       "    </tr>\n",
       "  </tbody>\n",
       "</table>\n",
       "</div>"
      ],
      "text/plain": [
       "  Gender  COUNT(e.BusinessEntityID)\n",
       "0      F                          2\n",
       "1      M                          5"
      ]
     },
     "execution_count": 21,
     "metadata": {},
     "output_type": "execute_result"
    }
   ],
   "source": [
    "# Ejercicio 32a - Verificar si existe una Foreign Key entre Employee y Person\n",
    "mostrar_query(\"\"\"\n",
    "PRAGMA foreign_key_list('HumanResources.Employee')\n",
    "\"\"\")\n",
    "\n",
    "# Ejercicio 32b - Obtener el nombre, apellido, cargo y fecha de nacimiento de todos los empleados.\n",
    "mostrar_query(\"\"\" \n",
    "SELECT e.BusinessEntityID, p.FirstName, p.LastName, e.JobTitle, e.BirthDate \n",
    "FROM 'HumanResources.Employee' AS e\n",
    "LEFT JOIN 'Person.Person' AS p ON e.BusinessEntityID = p.BusinessEntityID\n",
    "\"\"\")\n",
    "\n",
    "# Ejercicio 32c - Obtener el nombre y apellido de los empleados que nacieron durante el año 1986 y su “género” es F.\n",
    "mostrar_query(\"\"\" \n",
    "SELECT e.BusinessEntityID, p.FirstName, p.LastName, e.JobTitle, e.BirthDate \n",
    "FROM 'HumanResources.Employee' AS e\n",
    "LEFT JOIN 'Person.Person' AS p ON e.BusinessEntityID = p.BusinessEntityID\n",
    "WHERE strftime('%Y', e.BirthDate) = '1986' AND e.Gender = 'F'\n",
    "\"\"\")\n",
    "\n",
    "# Ejercicio 32d - Contar la cantidad de empleados cuyo nombre comience con la letra “J” y hayan nacido después del año 1977.\n",
    "mostrar_query(\"\"\" \n",
    "SELECT COUNT(e.BusinessEntityID) \n",
    "FROM 'HumanResources.Employee' AS e\n",
    "LEFT JOIN 'Person.Person' AS p ON e.BusinessEntityID = p.BusinessEntityID\n",
    "WHERE strftime('%Y', e.BirthDate) > '1977' AND p.FirstName LIKE 'J%'\n",
    "\"\"\")\n",
    "\n",
    "# Ejercicio 32e - Para las mismas condiciones del punto anterior, ¿cuántos empleados están registrados según su género?\n",
    "mostrar_query(\"\"\" \n",
    "SELECT e.Gender, COUNT(e.BusinessEntityID) \n",
    "FROM 'HumanResources.Employee' AS e\n",
    "LEFT JOIN 'Person.Person' AS p ON e.BusinessEntityID = p.BusinessEntityID\n",
    "WHERE strftime('%Y', e.BirthDate) > '1977' AND p.FirstName LIKE 'J%'\n",
    "GROUP BY e.Gender\n",
    "\"\"\")\n"
   ]
  },
  {
   "cell_type": "code",
   "execution_count": 22,
   "id": "91ce5548",
   "metadata": {},
   "outputs": [
    {
     "data": {
      "application/vnd.microsoft.datawrangler.viewer.v0+json": {
       "columns": [
        {
         "name": "index",
         "rawType": "int64",
         "type": "integer"
        },
        {
         "name": "FirstName",
         "rawType": "object",
         "type": "string"
        },
        {
         "name": "LastName",
         "rawType": "object",
         "type": "string"
        },
        {
         "name": "SalesOrderID",
         "rawType": "object",
         "type": "string"
        }
       ],
       "conversionMethod": "pd.DataFrame",
       "ref": "8f9d378d-b616-4b64-8576-ce2c7d0212ed",
       "rows": [],
       "shape": {
        "columns": 3,
        "rows": 0
       }
      },
      "text/html": [
       "<div>\n",
       "<style scoped>\n",
       "    .dataframe tbody tr th:only-of-type {\n",
       "        vertical-align: middle;\n",
       "    }\n",
       "\n",
       "    .dataframe tbody tr th {\n",
       "        vertical-align: top;\n",
       "    }\n",
       "\n",
       "    .dataframe thead th {\n",
       "        text-align: right;\n",
       "    }\n",
       "</style>\n",
       "<table border=\"1\" class=\"dataframe\">\n",
       "  <thead>\n",
       "    <tr style=\"text-align: right;\">\n",
       "      <th></th>\n",
       "      <th>FirstName</th>\n",
       "      <th>LastName</th>\n",
       "      <th>SalesOrderID</th>\n",
       "    </tr>\n",
       "  </thead>\n",
       "  <tbody>\n",
       "  </tbody>\n",
       "</table>\n",
       "</div>"
      ],
      "text/plain": [
       "Empty DataFrame\n",
       "Columns: [FirstName, LastName, SalesOrderID]\n",
       "Index: []"
      ]
     },
     "execution_count": 22,
     "metadata": {},
     "output_type": "execute_result"
    }
   ],
   "source": [
    "# Ejercicio 33a - Obtener nombre, apellido y StoreID para aquellos clientes que estén en TerritoryID = 4 o que pertenezcan al tipo de persona 'SC'\n",
    "mostrar_query(\"\"\" \n",
    "SELECT \n",
    "  p.FirstName, \n",
    "  p.LastName, \n",
    "  c.StoreID\n",
    "FROM 'Sales.Customer' AS c\n",
    "LEFT JOIN 'Person.Person' AS p \n",
    "  ON c.PersonID = p.BusinessEntityID\n",
    "WHERE c.TerritoryID = 4 \n",
    "   OR p.PersonType = 'SC'\n",
    "\"\"\")\n",
    "\n",
    "# Ejercicio 33b - Obtener nombre, apellido y número de orden (SalesOrderID) para los clientes que pertenezcan al tipo de persona 'SC'\n",
    "mostrar_query(\"\"\" \n",
    "SELECT \n",
    "  p.FirstName, \n",
    "  p.LastName, \n",
    "  soh.SalesOrderID\n",
    "FROM 'Sales.Customer' AS c\n",
    "LEFT JOIN 'Person.Person' AS p \n",
    "  ON c.PersonID = p.BusinessEntityID\n",
    "LEFT JOIN 'Sales.SalesOrderHeader' AS soh \n",
    "  ON c.CustomerID = soh.CustomerID\n",
    "WHERE p.PersonType = 'SC'\n",
    "\"\"\")\n",
    "\n"
   ]
  },
  {
   "cell_type": "code",
   "execution_count": 23,
   "id": "5d403879",
   "metadata": {},
   "outputs": [
    {
     "data": {
      "application/vnd.microsoft.datawrangler.viewer.v0+json": {
       "columns": [
        {
         "name": "index",
         "rawType": "int64",
         "type": "integer"
        },
        {
         "name": "FirstName",
         "rawType": "object",
         "type": "unknown"
        },
        {
         "name": "LastName",
         "rawType": "object",
         "type": "unknown"
        },
        {
         "name": "SalesOrderID",
         "rawType": "object",
         "type": "string"
        },
        {
         "name": "OrderDate",
         "rawType": "object",
         "type": "string"
        },
        {
         "name": "Name",
         "rawType": "object",
         "type": "unknown"
        },
        {
         "name": "Description",
         "rawType": "object",
         "type": "unknown"
        }
       ],
       "conversionMethod": "pd.DataFrame",
       "ref": "9f912b5d-ff4e-401f-8179-41324dc4047c",
       "rows": [
        [
         "0",
         null,
         null,
         "43702",
         "2011-06-01 00:00:00",
         null,
         null
        ],
        [
         "1",
         null,
         null,
         "43703",
         "2011-06-01 00:00:00",
         null,
         null
        ],
        [
         "2",
         null,
         null,
         "43704",
         "2011-06-01 00:00:00",
         null,
         null
        ]
       ],
       "shape": {
        "columns": 6,
        "rows": 3
       }
      },
      "text/html": [
       "<div>\n",
       "<style scoped>\n",
       "    .dataframe tbody tr th:only-of-type {\n",
       "        vertical-align: middle;\n",
       "    }\n",
       "\n",
       "    .dataframe tbody tr th {\n",
       "        vertical-align: top;\n",
       "    }\n",
       "\n",
       "    .dataframe thead th {\n",
       "        text-align: right;\n",
       "    }\n",
       "</style>\n",
       "<table border=\"1\" class=\"dataframe\">\n",
       "  <thead>\n",
       "    <tr style=\"text-align: right;\">\n",
       "      <th></th>\n",
       "      <th>FirstName</th>\n",
       "      <th>LastName</th>\n",
       "      <th>SalesOrderID</th>\n",
       "      <th>OrderDate</th>\n",
       "      <th>Name</th>\n",
       "      <th>Description</th>\n",
       "    </tr>\n",
       "  </thead>\n",
       "  <tbody>\n",
       "    <tr>\n",
       "      <th>0</th>\n",
       "      <td>None</td>\n",
       "      <td>None</td>\n",
       "      <td>43702</td>\n",
       "      <td>2011-06-01 00:00:00</td>\n",
       "      <td>None</td>\n",
       "      <td>None</td>\n",
       "    </tr>\n",
       "    <tr>\n",
       "      <th>1</th>\n",
       "      <td>None</td>\n",
       "      <td>None</td>\n",
       "      <td>43703</td>\n",
       "      <td>2011-06-01 00:00:00</td>\n",
       "      <td>None</td>\n",
       "      <td>None</td>\n",
       "    </tr>\n",
       "    <tr>\n",
       "      <th>2</th>\n",
       "      <td>None</td>\n",
       "      <td>None</td>\n",
       "      <td>43704</td>\n",
       "      <td>2011-06-01 00:00:00</td>\n",
       "      <td>None</td>\n",
       "      <td>None</td>\n",
       "    </tr>\n",
       "  </tbody>\n",
       "</table>\n",
       "</div>"
      ],
      "text/plain": [
       "  FirstName LastName SalesOrderID            OrderDate  Name Description\n",
       "0      None     None        43702  2011-06-01 00:00:00  None        None\n",
       "1      None     None        43703  2011-06-01 00:00:00  None        None\n",
       "2      None     None        43704  2011-06-01 00:00:00  None        None"
      ]
     },
     "execution_count": 23,
     "metadata": {},
     "output_type": "execute_result"
    }
   ],
   "source": [
    "# Ejercicio 34a - Descripción, tamaño y descripción de modelo de productos sin color y con SafetyStockLevel < 1000\n",
    "mostrar_query(\"\"\" \n",
    "SELECT \n",
    "  pd.Description, \n",
    "  p.Size, \n",
    "  pm.CatalogDescription \n",
    "FROM 'Production.Product' AS p\n",
    "LEFT JOIN 'Production.ProductModel' AS pm \n",
    "  ON p.ProductModelID = pm.ProductModelID \n",
    "LEFT JOIN 'Production.ProductModelProductDescriptionCulture' AS pmpdc \n",
    "  ON pm.ProductModelID = pmpdc.ProductModelID \n",
    "LEFT JOIN 'Production.ProductDescription' AS pd \n",
    "  ON pmpdc.ProductDescriptionID = pd.ProductDescriptionID\n",
    "WHERE p.Color IS NULL AND p.SafetyStockLevel < 1000\n",
    "\"\"\")\n",
    "\n",
    "\n",
    "\n",
    "# Ejercicio 34b - Obtener ventas de junio y julio de 2011, incluyendo nombre, apellido del cliente, nro de venta, fecha, nombre y descripción del producto.\n",
    "mostrar_query(\"\"\" \n",
    "SELECT \n",
    "  p.FirstName, \n",
    "  p.LastName, \n",
    "  soh.SalesOrderID, \n",
    "  soh.OrderDate, \n",
    "  pt.Name, \n",
    "  pd.Description\n",
    "FROM 'Sales.SalesOrderHeader' AS soh\n",
    "LEFT JOIN 'Sales.Customer' AS c \n",
    "  ON soh.CustomerID = c.CustomerID \n",
    "LEFT JOIN 'Person.Person' AS p \n",
    "  ON c.PersonID = p.BusinessEntityID\n",
    "LEFT JOIN 'Sales.SalesOrderDetail' AS sod \n",
    "  ON soh.SalesOrderID = sod.SalesOrderID\n",
    "LEFT JOIN 'Production.Product' AS pt \n",
    "  ON sod.ProductID = pt.ProductID\n",
    "LEFT JOIN 'Production.ProductModelProductDescriptionCulture' AS pmpdc \n",
    "  ON pt.ProductModelID = pmpdc.ProductModelID AND pmpdc.CultureID = 'en'\n",
    "LEFT JOIN 'Production.ProductDescription' AS pd \n",
    "  ON pmpdc.ProductDescriptionID = pd.ProductDescriptionID\n",
    "WHERE strftime('%Y', soh.OrderDate) = '2011' \n",
    "  AND strftime('%m', soh.OrderDate) IN ('06', '07')\n",
    "\"\"\")\n"
   ]
  },
  {
   "cell_type": "code",
   "execution_count": 26,
   "id": "4fb443ff",
   "metadata": {},
   "outputs": [
    {
     "data": {
      "application/vnd.microsoft.datawrangler.viewer.v0+json": {
       "columns": [
        {
         "name": "index",
         "rawType": "int64",
         "type": "integer"
        },
        {
         "name": "BusinessEntityID",
         "rawType": "object",
         "type": "string"
        },
        {
         "name": "SalesOrderID",
         "rawType": "object",
         "type": "unknown"
        }
       ],
       "conversionMethod": "pd.DataFrame",
       "ref": "b8f37594-f3d5-415f-809b-b8fa785a5145",
       "rows": [
        [
         "0",
         "274",
         null
        ],
        [
         "1",
         "275",
         null
        ],
        [
         "2",
         "276",
         null
        ]
       ],
       "shape": {
        "columns": 2,
        "rows": 3
       }
      },
      "text/html": [
       "<div>\n",
       "<style scoped>\n",
       "    .dataframe tbody tr th:only-of-type {\n",
       "        vertical-align: middle;\n",
       "    }\n",
       "\n",
       "    .dataframe tbody tr th {\n",
       "        vertical-align: top;\n",
       "    }\n",
       "\n",
       "    .dataframe thead th {\n",
       "        text-align: right;\n",
       "    }\n",
       "</style>\n",
       "<table border=\"1\" class=\"dataframe\">\n",
       "  <thead>\n",
       "    <tr style=\"text-align: right;\">\n",
       "      <th></th>\n",
       "      <th>BusinessEntityID</th>\n",
       "      <th>SalesOrderID</th>\n",
       "    </tr>\n",
       "  </thead>\n",
       "  <tbody>\n",
       "    <tr>\n",
       "      <th>0</th>\n",
       "      <td>274</td>\n",
       "      <td>None</td>\n",
       "    </tr>\n",
       "    <tr>\n",
       "      <th>1</th>\n",
       "      <td>275</td>\n",
       "      <td>None</td>\n",
       "    </tr>\n",
       "    <tr>\n",
       "      <th>2</th>\n",
       "      <td>276</td>\n",
       "      <td>None</td>\n",
       "    </tr>\n",
       "  </tbody>\n",
       "</table>\n",
       "</div>"
      ],
      "text/plain": [
       "  BusinessEntityID SalesOrderID\n",
       "0              274         None\n",
       "1              275         None\n",
       "2              276         None"
      ]
     },
     "execution_count": 26,
     "metadata": {},
     "output_type": "execute_result"
    }
   ],
   "source": [
    "# Ejercicio 38  - Mostrar el ID de todos los vendedores y el ID de la venta (si existió), con revisión 9 en 2013.\n",
    "mostrar_query(\"\"\" \n",
    "SELECT sp.BusinessEntityID, soh.SalesOrderID\n",
    "FROM 'Sales.SalesPerson' AS sp  \n",
    "LEFT JOIN 'Sales.SalesOrderHeader' AS soh \n",
    "    ON sp.BusinessEntityID = soh.SalesPersonID \n",
    "    AND soh.RevisionNumber = 9 \n",
    "    AND strftime('%Y', soh.OrderDate) = '2013'\n",
    "\"\"\")\n"
   ]
  },
  {
   "cell_type": "code",
   "execution_count": 27,
   "id": "3585b9e1",
   "metadata": {},
   "outputs": [
    {
     "data": {
      "application/vnd.microsoft.datawrangler.viewer.v0+json": {
       "columns": [
        {
         "name": "index",
         "rawType": "int64",
         "type": "integer"
        },
        {
         "name": "BusinessEntityID",
         "rawType": "object",
         "type": "string"
        },
        {
         "name": "FirstName",
         "rawType": "object",
         "type": "unknown"
        },
        {
         "name": "LastName",
         "rawType": "object",
         "type": "unknown"
        },
        {
         "name": "SalesOrderID",
         "rawType": "object",
         "type": "unknown"
        }
       ],
       "conversionMethod": "pd.DataFrame",
       "ref": "47ed5092-a852-44a0-ab7c-906e46d744b0",
       "rows": [
        [
         "0",
         "274",
         null,
         null,
         null
        ],
        [
         "1",
         "275",
         null,
         null,
         null
        ],
        [
         "2",
         "276",
         null,
         null,
         null
        ]
       ],
       "shape": {
        "columns": 4,
        "rows": 3
       }
      },
      "text/html": [
       "<div>\n",
       "<style scoped>\n",
       "    .dataframe tbody tr th:only-of-type {\n",
       "        vertical-align: middle;\n",
       "    }\n",
       "\n",
       "    .dataframe tbody tr th {\n",
       "        vertical-align: top;\n",
       "    }\n",
       "\n",
       "    .dataframe thead th {\n",
       "        text-align: right;\n",
       "    }\n",
       "</style>\n",
       "<table border=\"1\" class=\"dataframe\">\n",
       "  <thead>\n",
       "    <tr style=\"text-align: right;\">\n",
       "      <th></th>\n",
       "      <th>BusinessEntityID</th>\n",
       "      <th>FirstName</th>\n",
       "      <th>LastName</th>\n",
       "      <th>SalesOrderID</th>\n",
       "    </tr>\n",
       "  </thead>\n",
       "  <tbody>\n",
       "    <tr>\n",
       "      <th>0</th>\n",
       "      <td>274</td>\n",
       "      <td>None</td>\n",
       "      <td>None</td>\n",
       "      <td>None</td>\n",
       "    </tr>\n",
       "    <tr>\n",
       "      <th>1</th>\n",
       "      <td>275</td>\n",
       "      <td>None</td>\n",
       "      <td>None</td>\n",
       "      <td>None</td>\n",
       "    </tr>\n",
       "    <tr>\n",
       "      <th>2</th>\n",
       "      <td>276</td>\n",
       "      <td>None</td>\n",
       "      <td>None</td>\n",
       "      <td>None</td>\n",
       "    </tr>\n",
       "  </tbody>\n",
       "</table>\n",
       "</div>"
      ],
      "text/plain": [
       "  BusinessEntityID FirstName LastName SalesOrderID\n",
       "0              274      None     None         None\n",
       "1              275      None     None         None\n",
       "2              276      None     None         None"
      ]
     },
     "execution_count": 27,
     "metadata": {},
     "output_type": "execute_result"
    }
   ],
   "source": [
    "# Ejercicio 39 - Mostrar ID, nombre y apellido de los vendedores junto con el ID de venta (revisión 9, año 2013). Incluir vendedores sin ventas.\n",
    "mostrar_query(\"\"\" \n",
    "SELECT sp.BusinessEntityID, p.FirstName, p.LastName, soh.SalesOrderID\n",
    "FROM 'Sales.SalesPerson' AS sp  \n",
    "LEFT JOIN 'Person.Person' AS p \n",
    "  ON sp.BusinessEntityID = p.BusinessEntityID \n",
    "LEFT JOIN 'Sales.SalesOrderHeader' AS soh \n",
    "  ON sp.BusinessEntityID = soh.SalesPersonID \n",
    "     AND soh.RevisionNumber = 9 \n",
    "     AND strftime('%Y', soh.OrderDate) = '2013'\n",
    "\"\"\")\n"
   ]
  },
  {
   "cell_type": "markdown",
   "id": "dad48fe0",
   "metadata": {},
   "source": [
    "### 3. Aggregation, Grouping, and Scalar Functions  \n"
   ]
  },
  {
   "cell_type": "code",
   "execution_count": 28,
   "id": "ad2c6f6d",
   "metadata": {},
   "outputs": [
    {
     "data": {
      "application/vnd.microsoft.datawrangler.viewer.v0+json": {
       "columns": [
        {
         "name": "index",
         "rawType": "int64",
         "type": "integer"
        },
        {
         "name": "ProductID",
         "rawType": "object",
         "type": "string"
        },
        {
         "name": "Name",
         "rawType": "object",
         "type": "string"
        }
       ],
       "conversionMethod": "pd.DataFrame",
       "ref": "dc586ea9-d0ef-4afd-96a1-92bc0a539cf6",
       "rows": [
        [
         "0",
         "320",
         "Chainring Bolts"
        ],
        [
         "1",
         "321",
         "Chainring Nut"
        ],
        [
         "2",
         "322",
         "Chainring"
        ]
       ],
       "shape": {
        "columns": 2,
        "rows": 3
       }
      },
      "text/html": [
       "<div>\n",
       "<style scoped>\n",
       "    .dataframe tbody tr th:only-of-type {\n",
       "        vertical-align: middle;\n",
       "    }\n",
       "\n",
       "    .dataframe tbody tr th {\n",
       "        vertical-align: top;\n",
       "    }\n",
       "\n",
       "    .dataframe thead th {\n",
       "        text-align: right;\n",
       "    }\n",
       "</style>\n",
       "<table border=\"1\" class=\"dataframe\">\n",
       "  <thead>\n",
       "    <tr style=\"text-align: right;\">\n",
       "      <th></th>\n",
       "      <th>ProductID</th>\n",
       "      <th>Name</th>\n",
       "    </tr>\n",
       "  </thead>\n",
       "  <tbody>\n",
       "    <tr>\n",
       "      <th>0</th>\n",
       "      <td>320</td>\n",
       "      <td>Chainring Bolts</td>\n",
       "    </tr>\n",
       "    <tr>\n",
       "      <th>1</th>\n",
       "      <td>321</td>\n",
       "      <td>Chainring Nut</td>\n",
       "    </tr>\n",
       "    <tr>\n",
       "      <th>2</th>\n",
       "      <td>322</td>\n",
       "      <td>Chainring</td>\n",
       "    </tr>\n",
       "  </tbody>\n",
       "</table>\n",
       "</div>"
      ],
      "text/plain": [
       "  ProductID             Name\n",
       "0       320  Chainring Bolts\n",
       "1       321    Chainring Nut\n",
       "2       322        Chainring"
      ]
     },
     "execution_count": 28,
     "metadata": {},
     "output_type": "execute_result"
    }
   ],
   "source": [
    "# Ejercicio 17 - Hallar el Id y el nombre de los productos cuyo nombre comience con “Chain”\n",
    "mostrar_query(\"\"\" \n",
    "SELECT p.ProductID, p.Name \n",
    "FROM 'Production.Product' AS p\n",
    "WHERE p.Name LIKE 'Chain%'\n",
    "\"\"\")\n"
   ]
  },
  {
   "cell_type": "code",
   "execution_count": 29,
   "id": "956b42d2",
   "metadata": {},
   "outputs": [
    {
     "data": {
      "application/vnd.microsoft.datawrangler.viewer.v0+json": {
       "columns": [
        {
         "name": "index",
         "rawType": "int64",
         "type": "integer"
        },
        {
         "name": "ProductID",
         "rawType": "object",
         "type": "string"
        },
        {
         "name": "Name",
         "rawType": "object",
         "type": "string"
        }
       ],
       "conversionMethod": "pd.DataFrame",
       "ref": "8c6f9bf4-c203-4c73-8c72-9d6eb9ea7faa",
       "rows": [],
       "shape": {
        "columns": 2,
        "rows": 0
       }
      },
      "text/html": [
       "<div>\n",
       "<style scoped>\n",
       "    .dataframe tbody tr th:only-of-type {\n",
       "        vertical-align: middle;\n",
       "    }\n",
       "\n",
       "    .dataframe tbody tr th {\n",
       "        vertical-align: top;\n",
       "    }\n",
       "\n",
       "    .dataframe thead th {\n",
       "        text-align: right;\n",
       "    }\n",
       "</style>\n",
       "<table border=\"1\" class=\"dataframe\">\n",
       "  <thead>\n",
       "    <tr style=\"text-align: right;\">\n",
       "      <th></th>\n",
       "      <th>ProductID</th>\n",
       "      <th>Name</th>\n",
       "    </tr>\n",
       "  </thead>\n",
       "  <tbody>\n",
       "  </tbody>\n",
       "</table>\n",
       "</div>"
      ],
      "text/plain": [
       "Empty DataFrame\n",
       "Columns: [ProductID, Name]\n",
       "Index: []"
      ]
     },
     "execution_count": 29,
     "metadata": {},
     "output_type": "execute_result"
    }
   ],
   "source": [
    "# Ejercicio 18 - Hallar el Id y el nombre de los productos cuyo nombre contenga “helmet”\n",
    "mostrar_query(\"\"\" \n",
    "SELECT p.ProductID, p.Name \n",
    "FROM 'Production.Product' AS p\n",
    "WHERE p.Name LIKE '%helmet%'\n",
    "\"\"\")\n"
   ]
  },
  {
   "cell_type": "code",
   "execution_count": 30,
   "id": "07c31597",
   "metadata": {},
   "outputs": [
    {
     "data": {
      "application/vnd.microsoft.datawrangler.viewer.v0+json": {
       "columns": [
        {
         "name": "index",
         "rawType": "int64",
         "type": "integer"
        },
        {
         "name": "ProductID",
         "rawType": "object",
         "type": "string"
        },
        {
         "name": "Name",
         "rawType": "object",
         "type": "string"
        }
       ],
       "conversionMethod": "pd.DataFrame",
       "ref": "131a3841-404c-4cb9-88fb-f1e32036e9a0",
       "rows": [
        [
         "0",
         "1",
         "Adjustable Race"
        ],
        [
         "1",
         "2",
         "Bearing Ball"
        ],
        [
         "2",
         "3",
         "BB Ball Bearing"
        ]
       ],
       "shape": {
        "columns": 2,
        "rows": 3
       }
      },
      "text/html": [
       "<div>\n",
       "<style scoped>\n",
       "    .dataframe tbody tr th:only-of-type {\n",
       "        vertical-align: middle;\n",
       "    }\n",
       "\n",
       "    .dataframe tbody tr th {\n",
       "        vertical-align: top;\n",
       "    }\n",
       "\n",
       "    .dataframe thead th {\n",
       "        text-align: right;\n",
       "    }\n",
       "</style>\n",
       "<table border=\"1\" class=\"dataframe\">\n",
       "  <thead>\n",
       "    <tr style=\"text-align: right;\">\n",
       "      <th></th>\n",
       "      <th>ProductID</th>\n",
       "      <th>Name</th>\n",
       "    </tr>\n",
       "  </thead>\n",
       "  <tbody>\n",
       "    <tr>\n",
       "      <th>0</th>\n",
       "      <td>1</td>\n",
       "      <td>Adjustable Race</td>\n",
       "    </tr>\n",
       "    <tr>\n",
       "      <th>1</th>\n",
       "      <td>2</td>\n",
       "      <td>Bearing Ball</td>\n",
       "    </tr>\n",
       "    <tr>\n",
       "      <th>2</th>\n",
       "      <td>3</td>\n",
       "      <td>BB Ball Bearing</td>\n",
       "    </tr>\n",
       "  </tbody>\n",
       "</table>\n",
       "</div>"
      ],
      "text/plain": [
       "  ProductID             Name\n",
       "0         1  Adjustable Race\n",
       "1         2     Bearing Ball\n",
       "2         3  BB Ball Bearing"
      ]
     },
     "execution_count": 30,
     "metadata": {},
     "output_type": "execute_result"
    }
   ],
   "source": [
    "# Ejercicio 19 - Modificar la consulta anterior para que retorne aquellos productos cuyo nombre no contenga “helmet”\n",
    "mostrar_query(\"\"\" \n",
    "SELECT p.ProductID, p.Name \n",
    "FROM 'Production.Product' AS p\n",
    "WHERE p.Name NOT LIKE '%helmet%'\n",
    "\"\"\")\n"
   ]
  },
  {
   "cell_type": "code",
   "execution_count": 31,
   "id": "0bf43610",
   "metadata": {},
   "outputs": [
    {
     "data": {
      "application/vnd.microsoft.datawrangler.viewer.v0+json": {
       "columns": [
        {
         "name": "index",
         "rawType": "int64",
         "type": "integer"
        },
        {
         "name": "BusinessEntityID",
         "rawType": "object",
         "type": "string"
        },
        {
         "name": "PersonType",
         "rawType": "object",
         "type": "string"
        },
        {
         "name": "NameStyle",
         "rawType": "object",
         "type": "string"
        },
        {
         "name": "Title",
         "rawType": "object",
         "type": "string"
        },
        {
         "name": "FirstName",
         "rawType": "object",
         "type": "string"
        },
        {
         "name": "MiddleName",
         "rawType": "object",
         "type": "string"
        },
        {
         "name": "LastName",
         "rawType": "object",
         "type": "string"
        },
        {
         "name": "Suffix",
         "rawType": "object",
         "type": "string"
        },
        {
         "name": "EmailPromotion",
         "rawType": "object",
         "type": "string"
        },
        {
         "name": "AdditionalContactInfo",
         "rawType": "object",
         "type": "string"
        },
        {
         "name": "Demographics",
         "rawType": "object",
         "type": "string"
        },
        {
         "name": "rowguid",
         "rawType": "object",
         "type": "string"
        },
        {
         "name": "ModifiedDate",
         "rawType": "object",
         "type": "string"
        }
       ],
       "conversionMethod": "pd.DataFrame",
       "ref": "bd28290a-75cd-4fcc-ac63-03bf9f98e2d5",
       "rows": [],
       "shape": {
        "columns": 13,
        "rows": 0
       }
      },
      "text/html": [
       "<div>\n",
       "<style scoped>\n",
       "    .dataframe tbody tr th:only-of-type {\n",
       "        vertical-align: middle;\n",
       "    }\n",
       "\n",
       "    .dataframe tbody tr th {\n",
       "        vertical-align: top;\n",
       "    }\n",
       "\n",
       "    .dataframe thead th {\n",
       "        text-align: right;\n",
       "    }\n",
       "</style>\n",
       "<table border=\"1\" class=\"dataframe\">\n",
       "  <thead>\n",
       "    <tr style=\"text-align: right;\">\n",
       "      <th></th>\n",
       "      <th>BusinessEntityID</th>\n",
       "      <th>PersonType</th>\n",
       "      <th>NameStyle</th>\n",
       "      <th>Title</th>\n",
       "      <th>FirstName</th>\n",
       "      <th>MiddleName</th>\n",
       "      <th>LastName</th>\n",
       "      <th>Suffix</th>\n",
       "      <th>EmailPromotion</th>\n",
       "      <th>AdditionalContactInfo</th>\n",
       "      <th>Demographics</th>\n",
       "      <th>rowguid</th>\n",
       "      <th>ModifiedDate</th>\n",
       "    </tr>\n",
       "  </thead>\n",
       "  <tbody>\n",
       "  </tbody>\n",
       "</table>\n",
       "</div>"
      ],
      "text/plain": [
       "Empty DataFrame\n",
       "Columns: [BusinessEntityID, PersonType, NameStyle, Title, FirstName, MiddleName, LastName, Suffix, EmailPromotion, AdditionalContactInfo, Demographics, rowguid, ModifiedDate]\n",
       "Index: []"
      ]
     },
     "execution_count": 31,
     "metadata": {},
     "output_type": "execute_result"
    }
   ],
   "source": [
    "# Ejercicio 20 - Mostrar los datos principales de las personas (tabla Person) cuyo LastName termine con “es” y contenga en total 5 caracteres.\n",
    "mostrar_query(\"\"\" \n",
    "SELECT * \n",
    "FROM 'Person.Person' AS p\n",
    "WHERE p.LastName LIKE '___es'\n",
    "\"\"\")\n"
   ]
  },
  {
   "cell_type": "code",
   "execution_count": 32,
   "id": "235af588",
   "metadata": {},
   "outputs": [
    {
     "data": {
      "application/vnd.microsoft.datawrangler.viewer.v0+json": {
       "columns": [
        {
         "name": "index",
         "rawType": "int64",
         "type": "integer"
        },
        {
         "name": "SpecialOfferID",
         "rawType": "object",
         "type": "string"
        },
        {
         "name": "Description",
         "rawType": "object",
         "type": "string"
        },
        {
         "name": "DeltaQty",
         "rawType": "int64",
         "type": "integer"
        }
       ],
       "conversionMethod": "pd.DataFrame",
       "ref": "2443d749-bd70-4c2b-86f1-a1a6df6fb926",
       "rows": [
        [
         "0",
         "1",
         "No Discount",
         "0"
        ],
        [
         "1",
         "2",
         "Volume Discount 11 to 14",
         "3"
        ],
        [
         "2",
         "3",
         "Volume Discount 15 to 24",
         "9"
        ]
       ],
       "shape": {
        "columns": 3,
        "rows": 3
       }
      },
      "text/html": [
       "<div>\n",
       "<style scoped>\n",
       "    .dataframe tbody tr th:only-of-type {\n",
       "        vertical-align: middle;\n",
       "    }\n",
       "\n",
       "    .dataframe tbody tr th {\n",
       "        vertical-align: top;\n",
       "    }\n",
       "\n",
       "    .dataframe thead th {\n",
       "        text-align: right;\n",
       "    }\n",
       "</style>\n",
       "<table border=\"1\" class=\"dataframe\">\n",
       "  <thead>\n",
       "    <tr style=\"text-align: right;\">\n",
       "      <th></th>\n",
       "      <th>SpecialOfferID</th>\n",
       "      <th>Description</th>\n",
       "      <th>DeltaQty</th>\n",
       "    </tr>\n",
       "  </thead>\n",
       "  <tbody>\n",
       "    <tr>\n",
       "      <th>0</th>\n",
       "      <td>1</td>\n",
       "      <td>No Discount</td>\n",
       "      <td>0</td>\n",
       "    </tr>\n",
       "    <tr>\n",
       "      <th>1</th>\n",
       "      <td>2</td>\n",
       "      <td>Volume Discount 11 to 14</td>\n",
       "      <td>3</td>\n",
       "    </tr>\n",
       "    <tr>\n",
       "      <th>2</th>\n",
       "      <td>3</td>\n",
       "      <td>Volume Discount 15 to 24</td>\n",
       "      <td>9</td>\n",
       "    </tr>\n",
       "  </tbody>\n",
       "</table>\n",
       "</div>"
      ],
      "text/plain": [
       "  SpecialOfferID               Description  DeltaQty\n",
       "0              1               No Discount         0\n",
       "1              2  Volume Discount 11 to 14         3\n",
       "2              3  Volume Discount 15 to 24         9"
      ]
     },
     "execution_count": 32,
     "metadata": {},
     "output_type": "execute_result"
    }
   ],
   "source": [
    "# Ejercicio 21 - Usando la tabla SpecialOffer del esquema Sales, mostrar la diferencia entre MinQty y MaxQty, con el id y descripción.\n",
    "mostrar_query(\"\"\" \n",
    "SELECT so.SpecialOfferID, so.Description, so.MaxQty - so.MinQty AS DeltaQty\n",
    "FROM 'Sales.SpecialOffer' AS so\n",
    "\"\"\")\n"
   ]
  },
  {
   "cell_type": "code",
   "execution_count": 33,
   "id": "e395ec08",
   "metadata": {},
   "outputs": [
    {
     "data": {
      "application/vnd.microsoft.datawrangler.viewer.v0+json": {
       "columns": [
        {
         "name": "index",
         "rawType": "int64",
         "type": "integer"
        },
        {
         "name": "DeltaQty",
         "rawType": "int64",
         "type": "integer"
        }
       ],
       "conversionMethod": "pd.DataFrame",
       "ref": "f5a84aa6-6044-4398-85d2-580f1bb760fe",
       "rows": [
        [
         "0",
         "0"
        ],
        [
         "1",
         "3"
        ],
        [
         "2",
         "9"
        ]
       ],
       "shape": {
        "columns": 1,
        "rows": 3
       }
      },
      "text/html": [
       "<div>\n",
       "<style scoped>\n",
       "    .dataframe tbody tr th:only-of-type {\n",
       "        vertical-align: middle;\n",
       "    }\n",
       "\n",
       "    .dataframe tbody tr th {\n",
       "        vertical-align: top;\n",
       "    }\n",
       "\n",
       "    .dataframe thead th {\n",
       "        text-align: right;\n",
       "    }\n",
       "</style>\n",
       "<table border=\"1\" class=\"dataframe\">\n",
       "  <thead>\n",
       "    <tr style=\"text-align: right;\">\n",
       "      <th></th>\n",
       "      <th>DeltaQty</th>\n",
       "    </tr>\n",
       "  </thead>\n",
       "  <tbody>\n",
       "    <tr>\n",
       "      <th>0</th>\n",
       "      <td>0</td>\n",
       "    </tr>\n",
       "    <tr>\n",
       "      <th>1</th>\n",
       "      <td>3</td>\n",
       "    </tr>\n",
       "    <tr>\n",
       "      <th>2</th>\n",
       "      <td>9</td>\n",
       "    </tr>\n",
       "  </tbody>\n",
       "</table>\n",
       "</div>"
      ],
      "text/plain": [
       "   DeltaQty\n",
       "0         0\n",
       "1         3\n",
       "2         9"
      ]
     },
     "execution_count": 33,
     "metadata": {},
     "output_type": "execute_result"
    }
   ],
   "source": [
    "# Ejercicio 23 - Para resolver el problema anterior, usar la función ISNULL para, cuando no tengan asignado valor, reemplazarlo en el cálculo por 0 (cero).\n",
    "mostrar_query(\"\"\" \n",
    "SELECT \n",
    "  IFNULL(so.MaxQty, 0) - IFNULL(so.MinQty, 0) AS DeltaQty\n",
    "FROM 'Sales.SpecialOffer' AS so\n",
    "\"\"\")\n"
   ]
  },
  {
   "cell_type": "code",
   "execution_count": 34,
   "id": "2897ecac",
   "metadata": {},
   "outputs": [
    {
     "data": {
      "application/vnd.microsoft.datawrangler.viewer.v0+json": {
       "columns": [
        {
         "name": "index",
         "rawType": "int64",
         "type": "integer"
        },
        {
         "name": "COUNT(c.CustomerID)",
         "rawType": "int64",
         "type": "integer"
        }
       ],
       "conversionMethod": "pd.DataFrame",
       "ref": "cb071923-658c-44ee-9ae5-8412a1152bde",
       "rows": [
        [
         "0",
         "100"
        ]
       ],
       "shape": {
        "columns": 1,
        "rows": 1
       }
      },
      "text/html": [
       "<div>\n",
       "<style scoped>\n",
       "    .dataframe tbody tr th:only-of-type {\n",
       "        vertical-align: middle;\n",
       "    }\n",
       "\n",
       "    .dataframe tbody tr th {\n",
       "        vertical-align: top;\n",
       "    }\n",
       "\n",
       "    .dataframe thead th {\n",
       "        text-align: right;\n",
       "    }\n",
       "</style>\n",
       "<table border=\"1\" class=\"dataframe\">\n",
       "  <thead>\n",
       "    <tr style=\"text-align: right;\">\n",
       "      <th></th>\n",
       "      <th>COUNT(c.CustomerID)</th>\n",
       "    </tr>\n",
       "  </thead>\n",
       "  <tbody>\n",
       "    <tr>\n",
       "      <th>0</th>\n",
       "      <td>100</td>\n",
       "    </tr>\n",
       "  </tbody>\n",
       "</table>\n",
       "</div>"
      ],
      "text/plain": [
       "   COUNT(c.CustomerID)\n",
       "0                  100"
      ]
     },
     "execution_count": 34,
     "metadata": {},
     "output_type": "execute_result"
    }
   ],
   "source": [
    "# Ejercicio 24 - ¿Cuántos clientes están almacenados en la tabla Customers?\n",
    "mostrar_query(\"\"\" \n",
    "SELECT COUNT(c.CustomerID) \n",
    "FROM 'Sales.Customer' AS c\n",
    "\"\"\")\n",
    "\n"
   ]
  },
  {
   "cell_type": "code",
   "execution_count": 35,
   "id": "e8112c03",
   "metadata": {},
   "outputs": [
    {
     "data": {
      "application/vnd.microsoft.datawrangler.viewer.v0+json": {
       "columns": [
        {
         "name": "index",
         "rawType": "int64",
         "type": "integer"
        },
        {
         "name": "StoreID",
         "rawType": "object",
         "type": "string"
        }
       ],
       "conversionMethod": "pd.DataFrame",
       "ref": "ab148acf-a269-4d9a-9f0e-7abf953a2b6a",
       "rows": [],
       "shape": {
        "columns": 1,
        "rows": 0
       }
      },
      "text/html": [
       "<div>\n",
       "<style scoped>\n",
       "    .dataframe tbody tr th:only-of-type {\n",
       "        vertical-align: middle;\n",
       "    }\n",
       "\n",
       "    .dataframe tbody tr th {\n",
       "        vertical-align: top;\n",
       "    }\n",
       "\n",
       "    .dataframe thead th {\n",
       "        text-align: right;\n",
       "    }\n",
       "</style>\n",
       "<table border=\"1\" class=\"dataframe\">\n",
       "  <thead>\n",
       "    <tr style=\"text-align: right;\">\n",
       "      <th></th>\n",
       "      <th>StoreID</th>\n",
       "    </tr>\n",
       "  </thead>\n",
       "  <tbody>\n",
       "  </tbody>\n",
       "</table>\n",
       "</div>"
      ],
      "text/plain": [
       "Empty DataFrame\n",
       "Columns: [StoreID]\n",
       "Index: []"
      ]
     },
     "execution_count": 35,
     "metadata": {},
     "output_type": "execute_result"
    }
   ],
   "source": [
    "# Ejercicio 25 (primera parte) - ¿Cuál es la cantidad de clientes por tienda?\n",
    "mostrar_query(\"\"\" \n",
    "SELECT c.StoreID, COUNT(c.CustomerID) AS CantidadClientes\n",
    "FROM 'Sales.Customer' AS c\n",
    "GROUP BY c.StoreID\n",
    "\"\"\")\n",
    "\n",
    "# Ejercicio 25 (segunda parte) - ¿Cuál es la cantidad de clientes por territorio?\n",
    "mostrar_query(\"\"\" \n",
    "SELECT c.TerritoryID, COUNT(c.CustomerID) AS CantidadClientes\n",
    "FROM 'Sales.Customer' AS c\n",
    "GROUP BY c.TerritoryID\n",
    "\"\"\")\n",
    "\n",
    "# Ejercicio 25 (tercera parte) - ¿Cuáles son las tiendas (su Id) asociadas al territorio Id 4 que tienen menos de 2 clientes?\n",
    "mostrar_query(\"\"\" \n",
    "SELECT c.StoreID \n",
    "FROM 'Sales.Customer' AS c\n",
    "GROUP BY c.StoreID, c.TerritoryID\n",
    "HAVING COUNT(c.CustomerID) < 2 AND c.TerritoryID = 4\n",
    "\"\"\")\n"
   ]
  },
  {
   "cell_type": "code",
   "execution_count": 36,
   "id": "b63740b7",
   "metadata": {},
   "outputs": [
    {
     "data": {
      "application/vnd.microsoft.datawrangler.viewer.v0+json": {
       "columns": [
        {
         "name": "index",
         "rawType": "int64",
         "type": "integer"
        },
        {
         "name": "COUNT(sod.OrderQty)",
         "rawType": "int64",
         "type": "integer"
        }
       ],
       "conversionMethod": "pd.DataFrame",
       "ref": "d66bf8c2-8fd3-4429-b30d-f9ff1a0ee74c",
       "rows": [
        [
         "0",
         "0"
        ]
       ],
       "shape": {
        "columns": 1,
        "rows": 1
       }
      },
      "text/html": [
       "<div>\n",
       "<style scoped>\n",
       "    .dataframe tbody tr th:only-of-type {\n",
       "        vertical-align: middle;\n",
       "    }\n",
       "\n",
       "    .dataframe tbody tr th {\n",
       "        vertical-align: top;\n",
       "    }\n",
       "\n",
       "    .dataframe thead th {\n",
       "        text-align: right;\n",
       "    }\n",
       "</style>\n",
       "<table border=\"1\" class=\"dataframe\">\n",
       "  <thead>\n",
       "    <tr style=\"text-align: right;\">\n",
       "      <th></th>\n",
       "      <th>COUNT(sod.OrderQty)</th>\n",
       "    </tr>\n",
       "  </thead>\n",
       "  <tbody>\n",
       "    <tr>\n",
       "      <th>0</th>\n",
       "      <td>0</td>\n",
       "    </tr>\n",
       "  </tbody>\n",
       "</table>\n",
       "</div>"
      ],
      "text/plain": [
       "   COUNT(sod.OrderQty)\n",
       "0                    0"
      ]
     },
     "execution_count": 36,
     "metadata": {},
     "output_type": "execute_result"
    }
   ],
   "source": [
    "# Ejercicio 26 - Para la tabla SalesOrderDetail del esquema Sales, calcular cuál es la cantidad total de items ordenados (OrderQty) para el producto con Id igual a 778.\n",
    "mostrar_query(\"\"\" \n",
    "SELECT COUNT(sod.OrderQty)  \n",
    "FROM 'Sales.SalesOrderDetail' AS sod \n",
    "WHERE sod.ProductID = 778\n",
    "\"\"\")\n"
   ]
  },
  {
   "cell_type": "code",
   "execution_count": 37,
   "id": "a1d70adb",
   "metadata": {},
   "outputs": [
    {
     "data": {
      "application/vnd.microsoft.datawrangler.viewer.v0+json": {
       "columns": [
        {
         "name": "index",
         "rawType": "int64",
         "type": "integer"
        },
        {
         "name": "COUNT(DISTINCT sod.SalesOrderID)",
         "rawType": "int64",
         "type": "integer"
        }
       ],
       "conversionMethod": "pd.DataFrame",
       "ref": "f5285d65-2eeb-4f79-9ff3-0e6fabe7a6bf",
       "rows": [
        [
         "0",
         "10"
        ]
       ],
       "shape": {
        "columns": 1,
        "rows": 1
       }
      },
      "text/html": [
       "<div>\n",
       "<style scoped>\n",
       "    .dataframe tbody tr th:only-of-type {\n",
       "        vertical-align: middle;\n",
       "    }\n",
       "\n",
       "    .dataframe tbody tr th {\n",
       "        vertical-align: top;\n",
       "    }\n",
       "\n",
       "    .dataframe thead th {\n",
       "        text-align: right;\n",
       "    }\n",
       "</style>\n",
       "<table border=\"1\" class=\"dataframe\">\n",
       "  <thead>\n",
       "    <tr style=\"text-align: right;\">\n",
       "      <th></th>\n",
       "      <th>COUNT(DISTINCT sod.SalesOrderID)</th>\n",
       "    </tr>\n",
       "  </thead>\n",
       "  <tbody>\n",
       "    <tr>\n",
       "      <th>0</th>\n",
       "      <td>10</td>\n",
       "    </tr>\n",
       "  </tbody>\n",
       "</table>\n",
       "</div>"
      ],
      "text/plain": [
       "   COUNT(DISTINCT sod.SalesOrderID)\n",
       "0                                10"
      ]
     },
     "execution_count": 37,
     "metadata": {},
     "output_type": "execute_result"
    }
   ],
   "source": [
    "# Ejercicio 27a - ¿Cuál es el precio unitario más caro vendido?\n",
    "mostrar_query(\"\"\" \n",
    "SELECT MAX(sod.UnitPrice)  \n",
    "FROM 'Sales.SalesOrderDetail' AS sod\n",
    "\"\"\")\n",
    "\n",
    "# Ejercicio 27b - ¿Cuál es el número total de items ordenado para cada producto?\n",
    "mostrar_query(\"\"\" \n",
    "SELECT sod.ProductID, COUNT(sod.OrderQty)  \n",
    "FROM 'Sales.SalesOrderDetail' AS sod\n",
    "GROUP BY sod.ProductID\n",
    "\"\"\")\n",
    "\n",
    "# Ejercicio 27c - ¿Cuál es la cantidad de líneas de cada orden?\n",
    "mostrar_query(\"\"\" \n",
    "SELECT sod.SalesOrderID, COUNT(sod.ProductID)  \n",
    "FROM 'Sales.SalesOrderDetail' AS sod\n",
    "GROUP BY sod.SalesOrderID\n",
    "\"\"\")\n",
    "\n",
    "# Ejercicio 27d - ¿Cuál es la cantidad de líneas de cada orden, sólo para aquellas órdenes que tengan más de 3 líneas? Ordenar por id de orden descendente.\n",
    "mostrar_query(\"\"\" \n",
    "SELECT sod.SalesOrderID, COUNT(sod.ProductID)  \n",
    "FROM 'Sales.SalesOrderDetail' AS sod\n",
    "GROUP BY sod.SalesOrderID\n",
    "HAVING COUNT(sod.ProductID) > 3\n",
    "ORDER BY sod.SalesOrderID DESC\n",
    "\"\"\")\n",
    "\n",
    "# Ejercicio 27e - ¿Cuál es el importe total (LineTotal) de cada orden, para aquellas que tengan menos de 3 líneas?\n",
    "mostrar_query(\"\"\" \n",
    "SELECT sod.SalesOrderID, SUM(sod.LineTotal) AS lt \n",
    "FROM 'Sales.SalesOrderDetail' AS sod\n",
    "GROUP BY sod.SalesOrderID \n",
    "HAVING COUNT(sod.SalesOrderID) < 3\n",
    "\"\"\")\n",
    "\n",
    "# Ejercicio 27f - ¿Cuál es la cantidad distinta de productos ordenados?\n",
    "mostrar_query(\"\"\" \n",
    "SELECT COUNT(DISTINCT sod.SalesOrderID)  \n",
    "FROM 'Sales.SalesOrderDetail' AS sod\n",
    "\"\"\")\n"
   ]
  },
  {
   "cell_type": "code",
   "execution_count": 38,
   "id": "ef7793db",
   "metadata": {},
   "outputs": [
    {
     "data": {
      "application/vnd.microsoft.datawrangler.viewer.v0+json": {
       "columns": [
        {
         "name": "index",
         "rawType": "int64",
         "type": "integer"
        },
        {
         "name": "Anio",
         "rawType": "object",
         "type": "string"
        },
        {
         "name": "COUNT(soh.SalesOrderID)",
         "rawType": "int64",
         "type": "integer"
        }
       ],
       "conversionMethod": "pd.DataFrame",
       "ref": "27fdea18-78b9-473f-ab0e-a02e8ba0b1e8",
       "rows": [
        [
         "0",
         "2011",
         "100"
        ]
       ],
       "shape": {
        "columns": 2,
        "rows": 1
       }
      },
      "text/html": [
       "<div>\n",
       "<style scoped>\n",
       "    .dataframe tbody tr th:only-of-type {\n",
       "        vertical-align: middle;\n",
       "    }\n",
       "\n",
       "    .dataframe tbody tr th {\n",
       "        vertical-align: top;\n",
       "    }\n",
       "\n",
       "    .dataframe thead th {\n",
       "        text-align: right;\n",
       "    }\n",
       "</style>\n",
       "<table border=\"1\" class=\"dataframe\">\n",
       "  <thead>\n",
       "    <tr style=\"text-align: right;\">\n",
       "      <th></th>\n",
       "      <th>Anio</th>\n",
       "      <th>COUNT(soh.SalesOrderID)</th>\n",
       "    </tr>\n",
       "  </thead>\n",
       "  <tbody>\n",
       "    <tr>\n",
       "      <th>0</th>\n",
       "      <td>2011</td>\n",
       "      <td>100</td>\n",
       "    </tr>\n",
       "  </tbody>\n",
       "</table>\n",
       "</div>"
      ],
      "text/plain": [
       "   Anio  COUNT(soh.SalesOrderID)\n",
       "0  2011                      100"
      ]
     },
     "execution_count": 38,
     "metadata": {},
     "output_type": "execute_result"
    }
   ],
   "source": [
    "# Ejercicio 28 - Usando la tabla SalesOrderHeader, ¿cuál es la cantidad de órdenes emitidas en cada año?\n",
    "mostrar_query(\"\"\" \n",
    "SELECT strftime('%Y', soh.OrderDate) AS Anio, COUNT(soh.SalesOrderID) \n",
    "FROM 'Sales.SalesOrderHeader' AS soh\n",
    "GROUP BY strftime('%Y', soh.OrderDate)\n",
    "\"\"\")\n"
   ]
  },
  {
   "cell_type": "code",
   "execution_count": 39,
   "id": "a23aa4dd",
   "metadata": {},
   "outputs": [
    {
     "data": {
      "application/vnd.microsoft.datawrangler.viewer.v0+json": {
       "columns": [
        {
         "name": "index",
         "rawType": "int64",
         "type": "integer"
        },
        {
         "name": "CustomerID",
         "rawType": "object",
         "type": "string"
        },
        {
         "name": "Anio",
         "rawType": "object",
         "type": "string"
        },
        {
         "name": "COUNT(soh.SalesOrderID)",
         "rawType": "int64",
         "type": "integer"
        }
       ],
       "conversionMethod": "pd.DataFrame",
       "ref": "f56d3b1f-ee2e-4968-93af-9ba5db068348",
       "rows": [
        [
         "0",
         "11002",
         "2011",
         "1"
        ],
        [
         "1",
         "11003",
         "2011",
         "1"
        ],
        [
         "2",
         "11005",
         "2011",
         "1"
        ]
       ],
       "shape": {
        "columns": 3,
        "rows": 3
       }
      },
      "text/html": [
       "<div>\n",
       "<style scoped>\n",
       "    .dataframe tbody tr th:only-of-type {\n",
       "        vertical-align: middle;\n",
       "    }\n",
       "\n",
       "    .dataframe tbody tr th {\n",
       "        vertical-align: top;\n",
       "    }\n",
       "\n",
       "    .dataframe thead th {\n",
       "        text-align: right;\n",
       "    }\n",
       "</style>\n",
       "<table border=\"1\" class=\"dataframe\">\n",
       "  <thead>\n",
       "    <tr style=\"text-align: right;\">\n",
       "      <th></th>\n",
       "      <th>CustomerID</th>\n",
       "      <th>Anio</th>\n",
       "      <th>COUNT(soh.SalesOrderID)</th>\n",
       "    </tr>\n",
       "  </thead>\n",
       "  <tbody>\n",
       "    <tr>\n",
       "      <th>0</th>\n",
       "      <td>11002</td>\n",
       "      <td>2011</td>\n",
       "      <td>1</td>\n",
       "    </tr>\n",
       "    <tr>\n",
       "      <th>1</th>\n",
       "      <td>11003</td>\n",
       "      <td>2011</td>\n",
       "      <td>1</td>\n",
       "    </tr>\n",
       "    <tr>\n",
       "      <th>2</th>\n",
       "      <td>11005</td>\n",
       "      <td>2011</td>\n",
       "      <td>1</td>\n",
       "    </tr>\n",
       "  </tbody>\n",
       "</table>\n",
       "</div>"
      ],
      "text/plain": [
       "  CustomerID  Anio  COUNT(soh.SalesOrderID)\n",
       "0      11002  2011                        1\n",
       "1      11003  2011                        1\n",
       "2      11005  2011                        1"
      ]
     },
     "execution_count": 39,
     "metadata": {},
     "output_type": "execute_result"
    }
   ],
   "source": [
    "# Ejercicio 29 - Usando la tabla SalesOrderHeader, ¿cuál es la cantidad de órdenes emitidas para cada cliente en cada año?\n",
    "mostrar_query(\"\"\" \n",
    "SELECT soh.CustomerID, strftime('%Y', soh.OrderDate) AS Anio, COUNT(soh.SalesOrderID) \n",
    "FROM 'Sales.SalesOrderHeader' AS soh\n",
    "GROUP BY soh.CustomerID, strftime('%Y', soh.OrderDate)\n",
    "\"\"\")\n"
   ]
  },
  {
   "cell_type": "code",
   "execution_count": 40,
   "id": "c249e146",
   "metadata": {},
   "outputs": [
    {
     "data": {
      "application/vnd.microsoft.datawrangler.viewer.v0+json": {
       "columns": [
        {
         "name": "index",
         "rawType": "int64",
         "type": "integer"
        },
        {
         "name": "Anio",
         "rawType": "object",
         "type": "string"
        },
        {
         "name": "Gender",
         "rawType": "object",
         "type": "string"
        },
        {
         "name": "Cantidad",
         "rawType": "object",
         "type": "string"
        }
       ],
       "conversionMethod": "pd.DataFrame",
       "ref": "892075f2-77ca-482d-b572-7d12d5452044",
       "rows": [],
       "shape": {
        "columns": 3,
        "rows": 0
       }
      },
      "text/html": [
       "<div>\n",
       "<style scoped>\n",
       "    .dataframe tbody tr th:only-of-type {\n",
       "        vertical-align: middle;\n",
       "    }\n",
       "\n",
       "    .dataframe tbody tr th {\n",
       "        vertical-align: top;\n",
       "    }\n",
       "\n",
       "    .dataframe thead th {\n",
       "        text-align: right;\n",
       "    }\n",
       "</style>\n",
       "<table border=\"1\" class=\"dataframe\">\n",
       "  <thead>\n",
       "    <tr style=\"text-align: right;\">\n",
       "      <th></th>\n",
       "      <th>Anio</th>\n",
       "      <th>Gender</th>\n",
       "      <th>Cantidad</th>\n",
       "    </tr>\n",
       "  </thead>\n",
       "  <tbody>\n",
       "  </tbody>\n",
       "</table>\n",
       "</div>"
      ],
      "text/plain": [
       "Empty DataFrame\n",
       "Columns: [Anio, Gender, Cantidad]\n",
       "Index: []"
      ]
     },
     "execution_count": 40,
     "metadata": {},
     "output_type": "execute_result"
    }
   ],
   "source": [
    "# Ejercicio 30 - Para los empleados, contar la cantidad de empleados solteros nacidos por año y por género, \n",
    "# para aquellos años donde hayan nacido más de 10 empleados.\n",
    "mostrar_query(\"\"\" \n",
    "SELECT strftime('%Y', e.BirthDate) AS Anio, e.Gender, COUNT(e.LoginID) AS Cantidad \n",
    "FROM 'HumanResources.Employee' AS e\n",
    "GROUP BY strftime('%Y', e.BirthDate), e.Gender\n",
    "HAVING COUNT(e.LoginID) > 10\n",
    "\"\"\")\n"
   ]
  },
  {
   "cell_type": "code",
   "execution_count": 41,
   "id": "7751f475",
   "metadata": {},
   "outputs": [
    {
     "data": {
      "application/vnd.microsoft.datawrangler.viewer.v0+json": {
       "columns": [
        {
         "name": "index",
         "rawType": "int64",
         "type": "integer"
        },
        {
         "name": "Color",
         "rawType": "object",
         "type": "string"
        },
        {
         "name": "PromedioPrecio",
         "rawType": "float64",
         "type": "float"
        }
       ],
       "conversionMethod": "pd.DataFrame",
       "ref": "4081f5a8-34d7-4ae3-b6e0-80f322b22e9b",
       "rows": [
        [
         "0",
         "",
         "0.0"
        ]
       ],
       "shape": {
        "columns": 2,
        "rows": 1
       }
      },
      "text/html": [
       "<div>\n",
       "<style scoped>\n",
       "    .dataframe tbody tr th:only-of-type {\n",
       "        vertical-align: middle;\n",
       "    }\n",
       "\n",
       "    .dataframe tbody tr th {\n",
       "        vertical-align: top;\n",
       "    }\n",
       "\n",
       "    .dataframe thead th {\n",
       "        text-align: right;\n",
       "    }\n",
       "</style>\n",
       "<table border=\"1\" class=\"dataframe\">\n",
       "  <thead>\n",
       "    <tr style=\"text-align: right;\">\n",
       "      <th></th>\n",
       "      <th>Color</th>\n",
       "      <th>PromedioPrecio</th>\n",
       "    </tr>\n",
       "  </thead>\n",
       "  <tbody>\n",
       "    <tr>\n",
       "      <th>0</th>\n",
       "      <td></td>\n",
       "      <td>0.0</td>\n",
       "    </tr>\n",
       "  </tbody>\n",
       "</table>\n",
       "</div>"
      ],
      "text/plain": [
       "  Color  PromedioPrecio\n",
       "0                   0.0"
      ]
     },
     "execution_count": 41,
     "metadata": {},
     "output_type": "execute_result"
    }
   ],
   "source": [
    "# Ejercicio 31a - ¿Cuál es el promedio del precio de lista por color de producto?\n",
    "mostrar_query(\"\"\" \n",
    "SELECT p.Color, AVG(p.ListPrice) AS PromedioPrecio \n",
    "FROM 'Production.Product' AS p \n",
    "GROUP BY p.Color\n",
    "\"\"\")\n",
    "\n",
    "\n",
    "# Ejercicio 31b - ¿Cuál es el promedio del precio de lista por color de producto para aquellos colores que tengan más de 15 productos?\n",
    "mostrar_query(\"\"\" \n",
    "SELECT p.Color, AVG(p.ListPrice) AS PromedioPrecio \n",
    "FROM 'Production.Product' AS p \n",
    "GROUP BY p.Color \n",
    "HAVING COUNT(p.Color) > 15\n",
    "\"\"\")\n"
   ]
  },
  {
   "cell_type": "markdown",
   "id": "d2767bf6",
   "metadata": {},
   "source": [
    "### 4. Logical Modeling and Cross-Analysis  \n"
   ]
  },
  {
   "cell_type": "code",
   "execution_count": 42,
   "id": "b8985c40",
   "metadata": {},
   "outputs": [
    {
     "data": {
      "application/vnd.microsoft.datawrangler.viewer.v0+json": {
       "columns": [
        {
         "name": "index",
         "rawType": "int64",
         "type": "integer"
        },
        {
         "name": "BusinessEntityID",
         "rawType": "object",
         "type": "string"
        },
        {
         "name": "ProductID",
         "rawType": "object",
         "type": "unknown"
        }
       ],
       "conversionMethod": "pd.DataFrame",
       "ref": "98393940-7e62-495c-ad10-15c9e6209b2f",
       "rows": [
        [
         "0",
         "274",
         null
        ],
        [
         "1",
         "275",
         null
        ],
        [
         "2",
         "275",
         null
        ]
       ],
       "shape": {
        "columns": 2,
        "rows": 3
       }
      },
      "text/html": [
       "<div>\n",
       "<style scoped>\n",
       "    .dataframe tbody tr th:only-of-type {\n",
       "        vertical-align: middle;\n",
       "    }\n",
       "\n",
       "    .dataframe tbody tr th {\n",
       "        vertical-align: top;\n",
       "    }\n",
       "\n",
       "    .dataframe thead th {\n",
       "        text-align: right;\n",
       "    }\n",
       "</style>\n",
       "<table border=\"1\" class=\"dataframe\">\n",
       "  <thead>\n",
       "    <tr style=\"text-align: right;\">\n",
       "      <th></th>\n",
       "      <th>BusinessEntityID</th>\n",
       "      <th>ProductID</th>\n",
       "    </tr>\n",
       "  </thead>\n",
       "  <tbody>\n",
       "    <tr>\n",
       "      <th>0</th>\n",
       "      <td>274</td>\n",
       "      <td>None</td>\n",
       "    </tr>\n",
       "    <tr>\n",
       "      <th>1</th>\n",
       "      <td>275</td>\n",
       "      <td>None</td>\n",
       "    </tr>\n",
       "    <tr>\n",
       "      <th>2</th>\n",
       "      <td>275</td>\n",
       "      <td>None</td>\n",
       "    </tr>\n",
       "  </tbody>\n",
       "</table>\n",
       "</div>"
      ],
      "text/plain": [
       "  BusinessEntityID ProductID\n",
       "0              274      None\n",
       "1              275      None\n",
       "2              275      None"
      ]
     },
     "execution_count": 42,
     "metadata": {},
     "output_type": "execute_result"
    }
   ],
   "source": [
    "# Ejercicio 40 - Mostrar todos los vendedores junto con los productos que han vendido (si los vendieron)\n",
    "mostrar_query(\"\"\" \n",
    "SELECT \n",
    "  sp.BusinessEntityID, \n",
    "  p.ProductID\n",
    "FROM 'Sales.SalesPerson' AS sp  \n",
    "LEFT JOIN 'Sales.SalesOrderHeader' AS soh \n",
    "  ON sp.BusinessEntityID = soh.SalesPersonID \n",
    "LEFT JOIN 'Sales.SalesOrderDetail' AS sod \n",
    "  ON soh.SalesOrderID = sod.SalesOrderID \n",
    "LEFT JOIN 'Production.Product' AS p \n",
    "  ON sod.ProductID = p.ProductID\n",
    "\"\"\")\n"
   ]
  },
  {
   "cell_type": "code",
   "execution_count": 43,
   "id": "dec3d0e8",
   "metadata": {},
   "outputs": [
    {
     "data": {
      "application/vnd.microsoft.datawrangler.viewer.v0+json": {
       "columns": [
        {
         "name": "index",
         "rawType": "int64",
         "type": "integer"
        },
        {
         "name": "BusinessEntityID",
         "rawType": "object",
         "type": "string"
        },
        {
         "name": "ProductID",
         "rawType": "object",
         "type": "string"
        }
       ],
       "conversionMethod": "pd.DataFrame",
       "ref": "54732f74-8405-47b3-aaac-0885baf6b602",
       "rows": [
        [
         "0",
         "274",
         "1"
        ],
        [
         "1",
         "274",
         "2"
        ],
        [
         "2",
         "274",
         "3"
        ]
       ],
       "shape": {
        "columns": 2,
        "rows": 3
       }
      },
      "text/html": [
       "<div>\n",
       "<style scoped>\n",
       "    .dataframe tbody tr th:only-of-type {\n",
       "        vertical-align: middle;\n",
       "    }\n",
       "\n",
       "    .dataframe tbody tr th {\n",
       "        vertical-align: top;\n",
       "    }\n",
       "\n",
       "    .dataframe thead th {\n",
       "        text-align: right;\n",
       "    }\n",
       "</style>\n",
       "<table border=\"1\" class=\"dataframe\">\n",
       "  <thead>\n",
       "    <tr style=\"text-align: right;\">\n",
       "      <th></th>\n",
       "      <th>BusinessEntityID</th>\n",
       "      <th>ProductID</th>\n",
       "    </tr>\n",
       "  </thead>\n",
       "  <tbody>\n",
       "    <tr>\n",
       "      <th>0</th>\n",
       "      <td>274</td>\n",
       "      <td>1</td>\n",
       "    </tr>\n",
       "    <tr>\n",
       "      <th>1</th>\n",
       "      <td>274</td>\n",
       "      <td>2</td>\n",
       "    </tr>\n",
       "    <tr>\n",
       "      <th>2</th>\n",
       "      <td>274</td>\n",
       "      <td>3</td>\n",
       "    </tr>\n",
       "  </tbody>\n",
       "</table>\n",
       "</div>"
      ],
      "text/plain": [
       "  BusinessEntityID ProductID\n",
       "0              274         1\n",
       "1              274         2\n",
       "2              274         3"
      ]
     },
     "execution_count": 43,
     "metadata": {},
     "output_type": "execute_result"
    }
   ],
   "source": [
    "# Ejercicio 41 - Mostrar todos los valores de BusinessEntityID de SalesPerson junto a cada ProductID de Product (producto cartesiano)\n",
    "mostrar_query(\"\"\" \n",
    "SELECT \n",
    "  sp.BusinessEntityID, \n",
    "  p.ProductID\n",
    "FROM 'Sales.SalesPerson' AS sp\n",
    "CROSS JOIN 'Production.Product' AS p\n",
    "\"\"\")\n"
   ]
  },
  {
   "cell_type": "code",
   "execution_count": 44,
   "id": "2c370deb",
   "metadata": {},
   "outputs": [
    {
     "data": {
      "application/vnd.microsoft.datawrangler.viewer.v0+json": {
       "columns": [
        {
         "name": "index",
         "rawType": "int64",
         "type": "integer"
        },
        {
         "name": "ContactTypeID",
         "rawType": "object",
         "type": "unknown"
        },
        {
         "name": "CantidadPersonas",
         "rawType": "int64",
         "type": "integer"
        }
       ],
       "conversionMethod": "pd.DataFrame",
       "ref": "4bf94bba-97df-4f2e-af57-a7dde63779d5",
       "rows": [
        [
         "0",
         null,
         "100"
        ]
       ],
       "shape": {
        "columns": 2,
        "rows": 1
       }
      },
      "text/html": [
       "<div>\n",
       "<style scoped>\n",
       "    .dataframe tbody tr th:only-of-type {\n",
       "        vertical-align: middle;\n",
       "    }\n",
       "\n",
       "    .dataframe tbody tr th {\n",
       "        vertical-align: top;\n",
       "    }\n",
       "\n",
       "    .dataframe thead th {\n",
       "        text-align: right;\n",
       "    }\n",
       "</style>\n",
       "<table border=\"1\" class=\"dataframe\">\n",
       "  <thead>\n",
       "    <tr style=\"text-align: right;\">\n",
       "      <th></th>\n",
       "      <th>ContactTypeID</th>\n",
       "      <th>CantidadPersonas</th>\n",
       "    </tr>\n",
       "  </thead>\n",
       "  <tbody>\n",
       "    <tr>\n",
       "      <th>0</th>\n",
       "      <td>None</td>\n",
       "      <td>100</td>\n",
       "    </tr>\n",
       "  </tbody>\n",
       "</table>\n",
       "</div>"
      ],
      "text/plain": [
       "  ContactTypeID  CantidadPersonas\n",
       "0          None               100"
      ]
     },
     "execution_count": 44,
     "metadata": {},
     "output_type": "execute_result"
    }
   ],
   "source": [
    "# Ejercicio 42 - Contar cuántas personas están registradas por tipo de contacto (ContactTypeID). Ordenar por cantidad descendente.\n",
    "mostrar_query(\"\"\" \n",
    "SELECT \n",
    "  bec.ContactTypeID, \n",
    "  COUNT(p.BusinessEntityID) AS CantidadPersonas\n",
    "FROM 'Person.Person' AS p\n",
    "LEFT JOIN 'Person.BusinessEntityContact' AS bec \n",
    "  ON p.BusinessEntityID = bec.PersonID\n",
    "GROUP BY bec.ContactTypeID\n",
    "ORDER BY CantidadPersonas DESC\n",
    "\"\"\")\n"
   ]
  },
  {
   "cell_type": "code",
   "execution_count": 46,
   "id": "3939de31",
   "metadata": {},
   "outputs": [
    {
     "data": {
      "application/vnd.microsoft.datawrangler.viewer.v0+json": {
       "columns": [
        {
         "name": "index",
         "rawType": "int64",
         "type": "integer"
        },
        {
         "name": "Anio",
         "rawType": "object",
         "type": "string"
        },
        {
         "name": "BusinessEntityID",
         "rawType": "object",
         "type": "string"
        },
        {
         "name": "LastName",
         "rawType": "object",
         "type": "string"
        },
        {
         "name": "TotalQuota",
         "rawType": "object",
         "type": "string"
        }
       ],
       "conversionMethod": "pd.DataFrame",
       "ref": "c1242749-d7eb-4e14-8586-ee76e138ca52",
       "rows": [],
       "shape": {
        "columns": 4,
        "rows": 0
       }
      },
      "text/html": [
       "<div>\n",
       "<style scoped>\n",
       "    .dataframe tbody tr th:only-of-type {\n",
       "        vertical-align: middle;\n",
       "    }\n",
       "\n",
       "    .dataframe tbody tr th {\n",
       "        vertical-align: top;\n",
       "    }\n",
       "\n",
       "    .dataframe thead th {\n",
       "        text-align: right;\n",
       "    }\n",
       "</style>\n",
       "<table border=\"1\" class=\"dataframe\">\n",
       "  <thead>\n",
       "    <tr style=\"text-align: right;\">\n",
       "      <th></th>\n",
       "      <th>Anio</th>\n",
       "      <th>BusinessEntityID</th>\n",
       "      <th>LastName</th>\n",
       "      <th>TotalQuota</th>\n",
       "    </tr>\n",
       "  </thead>\n",
       "  <tbody>\n",
       "  </tbody>\n",
       "</table>\n",
       "</div>"
      ],
      "text/plain": [
       "Empty DataFrame\n",
       "Columns: [Anio, BusinessEntityID, LastName, TotalQuota]\n",
       "Index: []"
      ]
     },
     "execution_count": 46,
     "metadata": {},
     "output_type": "execute_result"
    }
   ],
   "source": [
    "# Ejercicio 44 - Calcular la suma de las cuotas de ventas históricas por persona y año. Mostrar el apellido.\n",
    "mostrar_query(\"\"\" \n",
    "SELECT \n",
    "  strftime('%Y', spqh.QuotaDate) AS Anio, \n",
    "  spqh.BusinessEntityID, \n",
    "  p.LastName, \n",
    "  SUM(spqh.SalesQuota) AS TotalQuota\n",
    "FROM 'Sales.SalesPersonQuotaHistory' AS spqh\n",
    "JOIN 'Person.Person' AS p ON spqh.BusinessEntityID = p.BusinessEntityID\n",
    "GROUP BY Anio, spqh.BusinessEntityID, p.LastName\n",
    "\"\"\")\n"
   ]
  },
  {
   "cell_type": "code",
   "execution_count": 47,
   "id": "33250fdf",
   "metadata": {},
   "outputs": [
    {
     "data": {
      "application/vnd.microsoft.datawrangler.viewer.v0+json": {
       "columns": [
        {
         "name": "index",
         "rawType": "int64",
         "type": "integer"
        },
        {
         "name": "TerritoryID",
         "rawType": "object",
         "type": "string"
        },
        {
         "name": "Name",
         "rawType": "object",
         "type": "string"
        },
        {
         "name": "CantidadOrdenes",
         "rawType": "object",
         "type": "string"
        },
        {
         "name": "TotalVendido",
         "rawType": "object",
         "type": "string"
        }
       ],
       "conversionMethod": "pd.DataFrame",
       "ref": "5a12dd7a-1abb-4c17-9978-47d7e322466e",
       "rows": [],
       "shape": {
        "columns": 4,
        "rows": 0
       }
      },
      "text/html": [
       "<div>\n",
       "<style scoped>\n",
       "    .dataframe tbody tr th:only-of-type {\n",
       "        vertical-align: middle;\n",
       "    }\n",
       "\n",
       "    .dataframe tbody tr th {\n",
       "        vertical-align: top;\n",
       "    }\n",
       "\n",
       "    .dataframe thead th {\n",
       "        text-align: right;\n",
       "    }\n",
       "</style>\n",
       "<table border=\"1\" class=\"dataframe\">\n",
       "  <thead>\n",
       "    <tr style=\"text-align: right;\">\n",
       "      <th></th>\n",
       "      <th>TerritoryID</th>\n",
       "      <th>Name</th>\n",
       "      <th>CantidadOrdenes</th>\n",
       "      <th>TotalVendido</th>\n",
       "    </tr>\n",
       "  </thead>\n",
       "  <tbody>\n",
       "  </tbody>\n",
       "</table>\n",
       "</div>"
      ],
      "text/plain": [
       "Empty DataFrame\n",
       "Columns: [TerritoryID, Name, CantidadOrdenes, TotalVendido]\n",
       "Index: []"
      ]
     },
     "execution_count": 47,
     "metadata": {},
     "output_type": "execute_result"
    }
   ],
   "source": [
    "# Ejercicio 45 - Calcular el total vendido por territorio para aquellos con más de 100 ventas. Mostrar ID, nombre del territorio y suma de ventas.\n",
    "mostrar_query(\"\"\" \n",
    "SELECT \n",
    "  soh.TerritoryID, \n",
    "  st.Name, \n",
    "  COUNT(soh.SalesOrderID) AS CantidadOrdenes, \n",
    "  SUM(sod.LineTotal) AS TotalVendido\n",
    "FROM 'Sales.SalesOrderHeader' AS soh\n",
    "JOIN 'Sales.SalesTerritory' AS st ON soh.TerritoryID = st.TerritoryID\n",
    "JOIN 'Sales.SalesOrderDetail' AS sod ON soh.SalesOrderID = sod.SalesOrderID\n",
    "GROUP BY soh.TerritoryID, st.Name \n",
    "HAVING COUNT(soh.SalesOrderID) >= 100\n",
    "\"\"\")\n"
   ]
  },
  {
   "cell_type": "code",
   "execution_count": 48,
   "id": "9d66c8c8",
   "metadata": {},
   "outputs": [
    {
     "data": {
      "application/vnd.microsoft.datawrangler.viewer.v0+json": {
       "columns": [
        {
         "name": "index",
         "rawType": "int64",
         "type": "integer"
        },
        {
         "name": "StateProvinceID",
         "rawType": "object",
         "type": "string"
        },
        {
         "name": "Name",
         "rawType": "object",
         "type": "string"
        },
        {
         "name": "CantidadDomicilios",
         "rawType": "object",
         "type": "string"
        }
       ],
       "conversionMethod": "pd.DataFrame",
       "ref": "5d5b4cea-ee2e-48b2-b4ea-89d5306a13c4",
       "rows": [],
       "shape": {
        "columns": 3,
        "rows": 0
       }
      },
      "text/html": [
       "<div>\n",
       "<style scoped>\n",
       "    .dataframe tbody tr th:only-of-type {\n",
       "        vertical-align: middle;\n",
       "    }\n",
       "\n",
       "    .dataframe tbody tr th {\n",
       "        vertical-align: top;\n",
       "    }\n",
       "\n",
       "    .dataframe thead th {\n",
       "        text-align: right;\n",
       "    }\n",
       "</style>\n",
       "<table border=\"1\" class=\"dataframe\">\n",
       "  <thead>\n",
       "    <tr style=\"text-align: right;\">\n",
       "      <th></th>\n",
       "      <th>StateProvinceID</th>\n",
       "      <th>Name</th>\n",
       "      <th>CantidadDomicilios</th>\n",
       "    </tr>\n",
       "  </thead>\n",
       "  <tbody>\n",
       "  </tbody>\n",
       "</table>\n",
       "</div>"
      ],
      "text/plain": [
       "Empty DataFrame\n",
       "Columns: [StateProvinceID, Name, CantidadDomicilios]\n",
       "Index: []"
      ]
     },
     "execution_count": 48,
     "metadata": {},
     "output_type": "execute_result"
    }
   ],
   "source": [
    "# Ejercicio 46 - Mostrar ID y nombre de provincias con más de 1000 domicilios registrados.\n",
    "mostrar_query(\"\"\" \n",
    "SELECT \n",
    "  sp.StateProvinceID, \n",
    "  sp.Name, \n",
    "  COUNT(a.AddressID) AS CantidadDomicilios\n",
    "FROM 'Person.StateProvince' AS sp\n",
    "JOIN 'Person.Address' AS a ON sp.StateProvinceID = a.StateProvinceID\n",
    "GROUP BY sp.StateProvinceID, sp.Name\n",
    "HAVING COUNT(a.AddressID) > 1000\n",
    "\"\"\")\n"
   ]
  },
  {
   "cell_type": "markdown",
   "id": "4634a8a9",
   "metadata": {},
   "source": [
    "### 5. Subqueries and Common Table Expressions (CTEs)  \n",
    "*Modular SQL logic with CTEs. Replacing correlated subqueries. Query chaining.*"
   ]
  },
  {
   "cell_type": "code",
   "execution_count": 50,
   "id": "2c2f345c",
   "metadata": {},
   "outputs": [
    {
     "data": {
      "application/vnd.microsoft.datawrangler.viewer.v0+json": {
       "columns": [
        {
         "name": "index",
         "rawType": "int64",
         "type": "integer"
        },
        {
         "name": "SalesOrderID",
         "rawType": "object",
         "type": "string"
        },
        {
         "name": "CustomerID",
         "rawType": "object",
         "type": "string"
        },
        {
         "name": "CountOfSales",
         "rawType": "int64",
         "type": "integer"
        },
        {
         "name": "AvgSale",
         "rawType": "float64",
         "type": "float"
        },
        {
         "name": "LowestSale",
         "rawType": "object",
         "type": "string"
        },
        {
         "name": "HighestSale",
         "rawType": "object",
         "type": "string"
        }
       ],
       "conversionMethod": "pd.DataFrame",
       "ref": "d457dfba-66a3-4df9-b700-bca0f690b611",
       "rows": [
        [
         "0",
         "43659",
         "29825",
         "1",
         "23153.2339",
         "23153.2339",
         "23153.2339"
        ],
        [
         "1",
         "43660",
         "29672",
         "1",
         "1457.3288",
         "1457.3288",
         "1457.3288"
        ],
        [
         "2",
         "43661",
         "29734",
         "1",
         "36865.8012",
         "36865.8012",
         "36865.8012"
        ]
       ],
       "shape": {
        "columns": 6,
        "rows": 3
       }
      },
      "text/html": [
       "<div>\n",
       "<style scoped>\n",
       "    .dataframe tbody tr th:only-of-type {\n",
       "        vertical-align: middle;\n",
       "    }\n",
       "\n",
       "    .dataframe tbody tr th {\n",
       "        vertical-align: top;\n",
       "    }\n",
       "\n",
       "    .dataframe thead th {\n",
       "        text-align: right;\n",
       "    }\n",
       "</style>\n",
       "<table border=\"1\" class=\"dataframe\">\n",
       "  <thead>\n",
       "    <tr style=\"text-align: right;\">\n",
       "      <th></th>\n",
       "      <th>SalesOrderID</th>\n",
       "      <th>CustomerID</th>\n",
       "      <th>CountOfSales</th>\n",
       "      <th>AvgSale</th>\n",
       "      <th>LowestSale</th>\n",
       "      <th>HighestSale</th>\n",
       "    </tr>\n",
       "  </thead>\n",
       "  <tbody>\n",
       "    <tr>\n",
       "      <th>0</th>\n",
       "      <td>43659</td>\n",
       "      <td>29825</td>\n",
       "      <td>1</td>\n",
       "      <td>23153.2339</td>\n",
       "      <td>23153.2339</td>\n",
       "      <td>23153.2339</td>\n",
       "    </tr>\n",
       "    <tr>\n",
       "      <th>1</th>\n",
       "      <td>43660</td>\n",
       "      <td>29672</td>\n",
       "      <td>1</td>\n",
       "      <td>1457.3288</td>\n",
       "      <td>1457.3288</td>\n",
       "      <td>1457.3288</td>\n",
       "    </tr>\n",
       "    <tr>\n",
       "      <th>2</th>\n",
       "      <td>43661</td>\n",
       "      <td>29734</td>\n",
       "      <td>1</td>\n",
       "      <td>36865.8012</td>\n",
       "      <td>36865.8012</td>\n",
       "      <td>36865.8012</td>\n",
       "    </tr>\n",
       "  </tbody>\n",
       "</table>\n",
       "</div>"
      ],
      "text/plain": [
       "  SalesOrderID CustomerID  CountOfSales     AvgSale  LowestSale HighestSale\n",
       "0        43659      29825             1  23153.2339  23153.2339  23153.2339\n",
       "1        43660      29672             1   1457.3288   1457.3288   1457.3288\n",
       "2        43661      29734             1  36865.8012  36865.8012  36865.8012"
      ]
     },
     "execution_count": 50,
     "metadata": {},
     "output_type": "execute_result"
    }
   ],
   "source": [
    "# Ejercicio 48 (versión optimizada) - Calcular métricas por cliente una sola vez con CTE y luego unir con las órdenes\n",
    "mostrar_query(\"\"\"\n",
    "WITH op1 (cus, c, a, min, max) AS (\n",
    "  SELECT \n",
    "    CustomerID, \n",
    "    COUNT(*), \n",
    "    AVG(TotalDue), \n",
    "    MIN(TotalDue), \n",
    "    MAX(TotalDue)\n",
    "  FROM 'Sales.SalesOrderHeader' AS soh\n",
    "  GROUP BY soh.CustomerID\n",
    ")\n",
    "SELECT \n",
    "  soh.SalesOrderID, \n",
    "  op1.cus AS CustomerID,\n",
    "  op1.c AS CountOfSales, \n",
    "  op1.a AS AvgSale,\n",
    "  op1.min AS LowestSale, \n",
    "  op1.max AS HighestSale\n",
    "FROM op1 \n",
    "JOIN 'Sales.SalesOrderHeader' AS soh ON op1.cus = soh.CustomerID\n",
    "\"\"\")\n"
   ]
  },
  {
   "cell_type": "code",
   "execution_count": 51,
   "id": "359755ed",
   "metadata": {},
   "outputs": [
    {
     "data": {
      "application/vnd.microsoft.datawrangler.viewer.v0+json": {
       "columns": [
        {
         "name": "index",
         "rawType": "int64",
         "type": "integer"
        },
        {
         "name": "CustomerID",
         "rawType": "object",
         "type": "string"
        },
        {
         "name": "NombreProducto",
         "rawType": "object",
         "type": "unknown"
        }
       ],
       "conversionMethod": "pd.DataFrame",
       "ref": "8fd2cc8e-5125-4684-91c4-232efce727a9",
       "rows": [
        [
         "0",
         "29825",
         null
        ],
        [
         "1",
         "29825",
         null
        ],
        [
         "2",
         "29825",
         null
        ]
       ],
       "shape": {
        "columns": 2,
        "rows": 3
       }
      },
      "text/html": [
       "<div>\n",
       "<style scoped>\n",
       "    .dataframe tbody tr th:only-of-type {\n",
       "        vertical-align: middle;\n",
       "    }\n",
       "\n",
       "    .dataframe tbody tr th {\n",
       "        vertical-align: top;\n",
       "    }\n",
       "\n",
       "    .dataframe thead th {\n",
       "        text-align: right;\n",
       "    }\n",
       "</style>\n",
       "<table border=\"1\" class=\"dataframe\">\n",
       "  <thead>\n",
       "    <tr style=\"text-align: right;\">\n",
       "      <th></th>\n",
       "      <th>CustomerID</th>\n",
       "      <th>NombreProducto</th>\n",
       "    </tr>\n",
       "  </thead>\n",
       "  <tbody>\n",
       "    <tr>\n",
       "      <th>0</th>\n",
       "      <td>29825</td>\n",
       "      <td>None</td>\n",
       "    </tr>\n",
       "    <tr>\n",
       "      <th>1</th>\n",
       "      <td>29825</td>\n",
       "      <td>None</td>\n",
       "    </tr>\n",
       "    <tr>\n",
       "      <th>2</th>\n",
       "      <td>29825</td>\n",
       "      <td>None</td>\n",
       "    </tr>\n",
       "  </tbody>\n",
       "</table>\n",
       "</div>"
      ],
      "text/plain": [
       "  CustomerID NombreProducto\n",
       "0      29825           None\n",
       "1      29825           None\n",
       "2      29825           None"
      ]
     },
     "execution_count": 51,
     "metadata": {},
     "output_type": "execute_result"
    }
   ],
   "source": [
    "# Ejercicio 49 - Devolver una lista de los clientes con los productos solicitados en su pedido más reciente\n",
    "mostrar_query(\"\"\" \n",
    "WITH fecha_ultima_compra AS (\n",
    "  SELECT soh.CustomerID, soh.SalesOrderID, soh.OrderDate\n",
    "  FROM 'Sales.SalesOrderHeader' AS soh\n",
    "  WHERE soh.OrderDate = (\n",
    "    SELECT MAX(soh2.OrderDate)\n",
    "    FROM 'Sales.SalesOrderHeader' AS soh2\n",
    "    WHERE soh2.CustomerID = soh.CustomerID\n",
    "  )\n",
    ")\n",
    "SELECT \n",
    "  fuc.CustomerID, \n",
    "  p.Name AS NombreProducto\n",
    "FROM fecha_ultima_compra AS fuc\n",
    "LEFT JOIN 'Sales.SalesOrderDetail' AS sod ON sod.SalesOrderID = fuc.SalesOrderID\n",
    "LEFT JOIN 'Production.Product' AS p ON sod.ProductID = p.ProductID\n",
    "\"\"\")\n"
   ]
  },
  {
   "cell_type": "code",
   "execution_count": 52,
   "id": "bbd1ea61",
   "metadata": {},
   "outputs": [
    {
     "data": {
      "application/vnd.microsoft.datawrangler.viewer.v0+json": {
       "columns": [
        {
         "name": "index",
         "rawType": "int64",
         "type": "integer"
        },
        {
         "name": "BusinessEntityID",
         "rawType": "object",
         "type": "string"
        },
        {
         "name": "DepartmentID",
         "rawType": "object",
         "type": "unknown"
        },
        {
         "name": "Rate",
         "rawType": "object",
         "type": "unknown"
        },
        {
         "name": "avg_dep",
         "rawType": "object",
         "type": "unknown"
        }
       ],
       "conversionMethod": "pd.DataFrame",
       "ref": "5c479115-aa5f-40e4-9ada-0b1509a38295",
       "rows": [
        [
         "0",
         "1",
         null,
         null,
         null
        ],
        [
         "1",
         "2",
         null,
         null,
         null
        ],
        [
         "2",
         "3",
         null,
         null,
         null
        ]
       ],
       "shape": {
        "columns": 4,
        "rows": 3
       }
      },
      "text/html": [
       "<div>\n",
       "<style scoped>\n",
       "    .dataframe tbody tr th:only-of-type {\n",
       "        vertical-align: middle;\n",
       "    }\n",
       "\n",
       "    .dataframe tbody tr th {\n",
       "        vertical-align: top;\n",
       "    }\n",
       "\n",
       "    .dataframe thead th {\n",
       "        text-align: right;\n",
       "    }\n",
       "</style>\n",
       "<table border=\"1\" class=\"dataframe\">\n",
       "  <thead>\n",
       "    <tr style=\"text-align: right;\">\n",
       "      <th></th>\n",
       "      <th>BusinessEntityID</th>\n",
       "      <th>DepartmentID</th>\n",
       "      <th>Rate</th>\n",
       "      <th>avg_dep</th>\n",
       "    </tr>\n",
       "  </thead>\n",
       "  <tbody>\n",
       "    <tr>\n",
       "      <th>0</th>\n",
       "      <td>1</td>\n",
       "      <td>None</td>\n",
       "      <td>None</td>\n",
       "      <td>None</td>\n",
       "    </tr>\n",
       "    <tr>\n",
       "      <th>1</th>\n",
       "      <td>2</td>\n",
       "      <td>None</td>\n",
       "      <td>None</td>\n",
       "      <td>None</td>\n",
       "    </tr>\n",
       "    <tr>\n",
       "      <th>2</th>\n",
       "      <td>3</td>\n",
       "      <td>None</td>\n",
       "      <td>None</td>\n",
       "      <td>None</td>\n",
       "    </tr>\n",
       "  </tbody>\n",
       "</table>\n",
       "</div>"
      ],
      "text/plain": [
       "  BusinessEntityID DepartmentID  Rate avg_dep\n",
       "0                1         None  None    None\n",
       "1                2         None  None    None\n",
       "2                3         None  None    None"
      ]
     },
     "execution_count": 52,
     "metadata": {},
     "output_type": "execute_result"
    }
   ],
   "source": [
    "# Ejercicio 50 - Mostrar el Rate del empleado y el promedio de Rate del departamento actual (usando CTE)\n",
    "mostrar_query(\"\"\"\n",
    "WITH promedio_departamento AS (\n",
    "  SELECT \n",
    "    edh2.DepartmentID, \n",
    "    AVG(eph2.Rate) AS avg_dep \n",
    "  FROM 'HumanResources.Employee' AS e2\n",
    "  LEFT JOIN 'HumanResources.EmployeeDepartmentHistory' AS edh2 \n",
    "    ON e2.BusinessEntityID = edh2.BusinessEntityID\n",
    "  LEFT JOIN 'HumanResources.EmployeePayHistory' AS eph2 \n",
    "    ON edh2.BusinessEntityID = eph2.BusinessEntityID\n",
    "  WHERE edh2.EndDate IS NULL\n",
    "  GROUP BY edh2.DepartmentID\n",
    ")\n",
    "SELECT \n",
    "  e.BusinessEntityID, \n",
    "  edh.DepartmentID, \n",
    "  eph.Rate, \n",
    "  pd.avg_dep \n",
    "FROM 'HumanResources.Employee' AS e\n",
    "LEFT JOIN 'HumanResources.EmployeeDepartmentHistory' AS edh \n",
    "  ON e.BusinessEntityID = edh.BusinessEntityID AND edh.EndDate IS NULL\n",
    "LEFT JOIN promedio_departamento AS pd \n",
    "  ON edh.DepartmentID = pd.DepartmentID\n",
    "LEFT JOIN 'HumanResources.EmployeePayHistory' AS eph \n",
    "  ON edh.BusinessEntityID = eph.BusinessEntityID\n",
    "\"\"\")\n"
   ]
  },
  {
   "cell_type": "markdown",
   "id": "9b4ac204",
   "metadata": {},
   "source": [
    "### 6. Business-Oriented Query Applications  \n",
    "\n",
    "*Customer behavior analysis, employee efficiency, detecting unsold or incomplete records.*\n",
    "\n"
   ]
  },
  {
   "cell_type": "code",
   "execution_count": null,
   "id": "afaf89f5",
   "metadata": {},
   "outputs": [
    {
     "data": {
      "application/vnd.microsoft.datawrangler.viewer.v0+json": {
       "columns": [
        {
         "name": "index",
         "rawType": "int64",
         "type": "integer"
        },
        {
         "name": "Description",
         "rawType": "object",
         "type": "unknown"
        },
        {
         "name": "SalesOrderDetailID",
         "rawType": "object",
         "type": "unknown"
        }
       ],
       "conversionMethod": "pd.DataFrame",
       "ref": "b50ed32d-046e-4eed-bd2c-e5820bdfd715",
       "rows": [
        [
         "0",
         null,
         null
        ],
        [
         "1",
         null,
         null
        ],
        [
         "2",
         null,
         null
        ]
       ],
       "shape": {
        "columns": 2,
        "rows": 3
       }
      },
      "text/html": [
       "<div>\n",
       "<style scoped>\n",
       "    .dataframe tbody tr th:only-of-type {\n",
       "        vertical-align: middle;\n",
       "    }\n",
       "\n",
       "    .dataframe tbody tr th {\n",
       "        vertical-align: top;\n",
       "    }\n",
       "\n",
       "    .dataframe thead th {\n",
       "        text-align: right;\n",
       "    }\n",
       "</style>\n",
       "<table border=\"1\" class=\"dataframe\">\n",
       "  <thead>\n",
       "    <tr style=\"text-align: right;\">\n",
       "      <th></th>\n",
       "      <th>Description</th>\n",
       "      <th>SalesOrderDetailID</th>\n",
       "    </tr>\n",
       "  </thead>\n",
       "  <tbody>\n",
       "    <tr>\n",
       "      <th>0</th>\n",
       "      <td>None</td>\n",
       "      <td>None</td>\n",
       "    </tr>\n",
       "    <tr>\n",
       "      <th>1</th>\n",
       "      <td>None</td>\n",
       "      <td>None</td>\n",
       "    </tr>\n",
       "    <tr>\n",
       "      <th>2</th>\n",
       "      <td>None</td>\n",
       "      <td>None</td>\n",
       "    </tr>\n",
       "  </tbody>\n",
       "</table>\n",
       "</div>"
      ],
      "text/plain": [
       "  Description SalesOrderDetailID\n",
       "0        None               None\n",
       "1        None               None\n",
       "2        None               None"
      ]
     },
     "metadata": {},
     "output_type": "display_data"
    }
   ],
   "source": [
    "# Ejercicio 36 - Mostrar la descripción de los productos y el ID de la orden de venta. Incluir productos que nunca se hayan vendido.\n",
    "mostrar_query(\"\"\" \n",
    "SELECT pd.Description, sod.SalesOrderDetailID\n",
    "FROM 'Production.Product' AS pt\n",
    "LEFT JOIN 'Production.ProductModelProductDescriptionCulture' AS pmpdc \n",
    "  ON pt.ProductModelID = pmpdc.ProductModelID AND pmpdc.CultureID = 'en'\n",
    "LEFT JOIN 'Production.ProductDescription' AS pd \n",
    "  ON pmpdc.ProductDescriptionID = pd.ProductDescriptionID\n",
    "LEFT JOIN 'Sales.SalesOrderDetail' AS sod \n",
    "  ON pt.ProductID = sod.ProductID\n",
    "\"\"\")\n"
   ]
  },
  {
   "cell_type": "code",
   "execution_count": null,
   "id": "f3ccf19d",
   "metadata": {},
   "outputs": [
    {
     "data": {
      "application/vnd.microsoft.datawrangler.viewer.v0+json": {
       "columns": [
        {
         "name": "index",
         "rawType": "int64",
         "type": "integer"
        },
        {
         "name": "Description",
         "rawType": "object",
         "type": "string"
        }
       ],
       "conversionMethod": "pd.DataFrame",
       "ref": "1c21a8bb-567e-440a-9226-bbf0d9fca5c9",
       "rows": [],
       "shape": {
        "columns": 1,
        "rows": 0
       }
      },
      "text/html": [
       "<div>\n",
       "<style scoped>\n",
       "    .dataframe tbody tr th:only-of-type {\n",
       "        vertical-align: middle;\n",
       "    }\n",
       "\n",
       "    .dataframe tbody tr th {\n",
       "        vertical-align: top;\n",
       "    }\n",
       "\n",
       "    .dataframe thead th {\n",
       "        text-align: right;\n",
       "    }\n",
       "</style>\n",
       "<table border=\"1\" class=\"dataframe\">\n",
       "  <thead>\n",
       "    <tr style=\"text-align: right;\">\n",
       "      <th></th>\n",
       "      <th>Description</th>\n",
       "    </tr>\n",
       "  </thead>\n",
       "  <tbody>\n",
       "  </tbody>\n",
       "</table>\n",
       "</div>"
      ],
      "text/plain": [
       "Empty DataFrame\n",
       "Columns: [Description]\n",
       "Index: []"
      ]
     },
     "metadata": {},
     "output_type": "display_data"
    }
   ],
   "source": [
    "# Ejercicio 37 - Mostrar la descripción de los productos que nunca hayan sido vendidos.\n",
    "mostrar_query(\"\"\" \n",
    "SELECT DISTINCT pd.Description\n",
    "FROM 'Production.Product' AS pt\n",
    "LEFT JOIN 'Production.ProductModelProductDescriptionCulture' AS pmpdc \n",
    "  ON pt.ProductModelID = pmpdc.ProductModelID AND pmpdc.CultureID = 'en'\n",
    "LEFT JOIN 'Production.ProductDescription' AS pd \n",
    "  ON pmpdc.ProductDescriptionID = pd.ProductDescriptionID\n",
    "LEFT JOIN 'Sales.SalesOrderDetail' AS sod \n",
    "  ON pt.ProductID = sod.ProductID\n",
    "WHERE sod.SalesOrderDetailID IS NULL AND pd.Description IS NOT NULL\n",
    "\"\"\")\n"
   ]
  },
  {
   "cell_type": "code",
   "execution_count": null,
   "id": "1bc7bbba",
   "metadata": {},
   "outputs": [
    {
     "data": {
      "application/vnd.microsoft.datawrangler.viewer.v0+json": {
       "columns": [
        {
         "name": "index",
         "rawType": "int64",
         "type": "integer"
        },
        {
         "name": "FirstName",
         "rawType": "object",
         "type": "string"
        },
        {
         "name": "LastName",
         "rawType": "object",
         "type": "string"
        }
       ],
       "conversionMethod": "pd.DataFrame",
       "ref": "c7d10e18-cb8e-4014-9eb3-623d75411e99",
       "rows": [],
       "shape": {
        "columns": 2,
        "rows": 0
       }
      },
      "text/html": [
       "<div>\n",
       "<style scoped>\n",
       "    .dataframe tbody tr th:only-of-type {\n",
       "        vertical-align: middle;\n",
       "    }\n",
       "\n",
       "    .dataframe tbody tr th {\n",
       "        vertical-align: top;\n",
       "    }\n",
       "\n",
       "    .dataframe thead th {\n",
       "        text-align: right;\n",
       "    }\n",
       "</style>\n",
       "<table border=\"1\" class=\"dataframe\">\n",
       "  <thead>\n",
       "    <tr style=\"text-align: right;\">\n",
       "      <th></th>\n",
       "      <th>FirstName</th>\n",
       "      <th>LastName</th>\n",
       "    </tr>\n",
       "  </thead>\n",
       "  <tbody>\n",
       "  </tbody>\n",
       "</table>\n",
       "</div>"
      ],
      "text/plain": [
       "Empty DataFrame\n",
       "Columns: [FirstName, LastName]\n",
       "Index: []"
      ]
     },
     "metadata": {},
     "output_type": "display_data"
    }
   ],
   "source": [
    "# Ejercicio 43 - Mostrar nombre y apellido de los empleados que viven en el estado de “Oregon”\n",
    "mostrar_query(\"\"\" \n",
    "SELECT p.FirstName, p.LastName\n",
    "FROM 'HumanResources.Employee' AS e\n",
    "LEFT JOIN 'Person.Person' AS p ON p.BusinessEntityID = e.BusinessEntityID \n",
    "LEFT JOIN 'Person.BusinessEntityAddress' AS bea ON p.BusinessEntityID = bea.BusinessEntityID\n",
    "LEFT JOIN 'Person.Address' AS a ON bea.AddressID = a.AddressID\n",
    "LEFT JOIN 'Person.StateProvince' AS sp ON a.StateProvinceID = sp.StateProvinceID \n",
    "WHERE sp.Name = 'Oregon'\n",
    "\"\"\")\n"
   ]
  },
  {
   "cell_type": "code",
   "execution_count": null,
   "id": "6ec30dee",
   "metadata": {},
   "outputs": [
    {
     "data": {
      "application/vnd.microsoft.datawrangler.viewer.v0+json": {
       "columns": [
        {
         "name": "index",
         "rawType": "int64",
         "type": "integer"
        },
        {
         "name": "Promedio",
         "rawType": "float64",
         "type": "float"
        },
        {
         "name": "Minimo",
         "rawType": "int64",
         "type": "integer"
        },
        {
         "name": "Maximo",
         "rawType": "int64",
         "type": "integer"
        }
       ],
       "conversionMethod": "pd.DataFrame",
       "ref": "e3fb5a28-7be9-44ee-9e9f-df147961eb8f",
       "rows": [
        [
         "0",
         "6849.333333333333",
         "2634",
         "11332"
        ]
       ],
       "shape": {
        "columns": 3,
        "rows": 1
       }
      },
      "text/html": [
       "<div>\n",
       "<style scoped>\n",
       "    .dataframe tbody tr th:only-of-type {\n",
       "        vertical-align: middle;\n",
       "    }\n",
       "\n",
       "    .dataframe tbody tr th {\n",
       "        vertical-align: top;\n",
       "    }\n",
       "\n",
       "    .dataframe thead th {\n",
       "        text-align: right;\n",
       "    }\n",
       "</style>\n",
       "<table border=\"1\" class=\"dataframe\">\n",
       "  <thead>\n",
       "    <tr style=\"text-align: right;\">\n",
       "      <th></th>\n",
       "      <th>Promedio</th>\n",
       "      <th>Minimo</th>\n",
       "      <th>Maximo</th>\n",
       "    </tr>\n",
       "  </thead>\n",
       "  <tbody>\n",
       "    <tr>\n",
       "      <th>0</th>\n",
       "      <td>6849.333333</td>\n",
       "      <td>2634</td>\n",
       "      <td>11332</td>\n",
       "    </tr>\n",
       "  </tbody>\n",
       "</table>\n",
       "</div>"
      ],
      "text/plain": [
       "      Promedio  Minimo  Maximo\n",
       "0  6849.333333    2634   11332"
      ]
     },
     "metadata": {},
     "output_type": "display_data"
    }
   ],
   "source": [
    "# Ejercicio 47 - Usar CTE para calcular el máximo, mínimo y promedio de productos en locaciones (tabla ProductInventory)\n",
    "mostrar_query(\"\"\" \n",
    "WITH productos (locacion, cantidad) AS (\n",
    "  SELECT \n",
    "    LocationID, \n",
    "    SUM(pi2.Quantity) \n",
    "  FROM 'Production.ProductInventory' AS pi2\n",
    "  LEFT JOIN 'Production.Product' AS p ON pi2.ProductID = p.ProductID\n",
    "  GROUP BY LocationID\n",
    ")\n",
    "SELECT \n",
    "  AVG(cantidad) AS Promedio, \n",
    "  MIN(cantidad) AS Minimo, \n",
    "  MAX(cantidad) AS Maximo \n",
    "FROM productos\n",
    "\"\"\")\n"
   ]
  }
 ],
 "metadata": {
  "kernelspec": {
   "display_name": "datascience",
   "language": "python",
   "name": "python3"
  },
  "language_info": {
   "codemirror_mode": {
    "name": "ipython",
    "version": 3
   },
   "file_extension": ".py",
   "mimetype": "text/x-python",
   "name": "python",
   "nbconvert_exporter": "python",
   "pygments_lexer": "ipython3",
   "version": "3.11.9"
  }
 },
 "nbformat": 4,
 "nbformat_minor": 5
}
