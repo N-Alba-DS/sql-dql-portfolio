{
 "cells": [
  {
   "cell_type": "markdown",
   "id": "095727ac",
   "metadata": {},
   "source": [
    "# General configuration"
   ]
  },
  {
   "cell_type": "code",
   "execution_count": null,
   "id": "7f3da18c",
   "metadata": {},
   "outputs": [],
   "source": [
    "# Libraries used\n",
    "import sqlite3 \n",
    "import os\n",
    "import pandas as pd"
   ]
  },
  {
   "cell_type": "code",
   "execution_count": null,
   "id": "357804f9",
   "metadata": {},
   "outputs": [],
   "source": [
    "# Paths \n",
    "wd = os.getcwd()\n",
    "db = \"adventureworks_sql_lite.sqlite\" # same archive contained in the repository\n",
    "db_path = os.path.join(wd, db)\n"
   ]
  },
  {
   "cell_type": "code",
   "execution_count": null,
   "id": "0e4f295c",
   "metadata": {},
   "outputs": [],
   "source": [
    "# Function used to display the query made with sql on python with sqlite3\n",
    "\n",
    "def mostrar_query (query, limite = 3, dataset = True):\n",
    "    cursor.execute(query)\n",
    "    columnas = [desc[0] for desc in cursor.description]\n",
    "    filas = cursor.fetchmany(limite)\n",
    "    try:\n",
    "        if dataset:\n",
    "            dataset_final = pd.DataFrame(filas, columns=columnas)\n",
    "            return dataset_final\n",
    "        else:\n",
    "            return filas\n",
    "    except Exception as e:\n",
    "        print (f\"No se puede mostrar la consulta, la palida es: {e}\")\n"
   ]
  },
  {
   "cell_type": "code",
   "execution_count": null,
   "id": "0066a2d5",
   "metadata": {},
   "outputs": [],
   "source": [
    "# Database conection with sqlite3\n",
    "\n",
    "conn = sqlite3.connect(db_path)\n",
    "cursor = conn.cursor()"
   ]
  },
  {
   "cell_type": "markdown",
   "id": "e21af28e",
   "metadata": {},
   "source": [
    "# Exercises"
   ]
  },
  {
   "cell_type": "markdown",
   "id": "76395b5d",
   "metadata": {},
   "source": [
    "##  Thematic Index by Conceptual Unit\n"
   ]
  },
  {
   "cell_type": "markdown",
   "id": "46bbc138",
   "metadata": {},
   "source": [
    "### 1. Fundamentals of SQL Querying\n",
    "*Using SELECT, WHERE, LIKE, logical operators, and NULL handling.*"
   ]
  },
  {
   "cell_type": "code",
   "execution_count": null,
   "id": "88ec441d",
   "metadata": {},
   "outputs": [],
   "source": [
    "# 1. Mostrar el contenido de la tabla Person, del esquema Person.\n",
    "\n",
    "mostrar_query(\"\"\"SELECT * \n",
    "              from 'Person.Person' p\"\"\")\n",
    "\n"
   ]
  },
  {
   "cell_type": "code",
   "execution_count": null,
   "id": "b04c9510",
   "metadata": {},
   "outputs": [],
   "source": [
    "# 2. Mostrar los nombres y apelllido de cada persona que tenga como tratamiento “Ms.”\n",
    "\n",
    "mostrar_query(\"\"\"\n",
    "SELECT p.FirstName, p.LastName\n",
    "FROM 'Person.Person' p\n",
    "WHERE p.Title LIKE 'Ms%'\n",
    "\"\"\")"
   ]
  },
  {
   "cell_type": "code",
   "execution_count": null,
   "id": "2a623dbd",
   "metadata": {},
   "outputs": [],
   "source": [
    "#3. Personas con “Mr.” y apellido “White”\n",
    "\n",
    "mostrar_query(\"\"\"\n",
    "SELECT *\n",
    "FROM 'Person.Person' p\n",
    "WHERE p.Title LIKE 'Mr%' COLLATE NOCASE\n",
    "  AND p.LastName LIKE '%White' COLLATE NOCASE\n",
    "\"\"\")\n"
   ]
  },
  {
   "cell_type": "code",
   "execution_count": null,
   "id": "320ad488",
   "metadata": {},
   "outputs": [],
   "source": [
    "# 5. Mostrar los datos de las personas que tengan asignado el tipo “SP” ó el tipo “VC”.\n",
    "\n",
    "mostrar_query(\"\"\"\n",
    "SELECT * \n",
    "FROM 'Person.Person' p\n",
    "WHERE p.PersonType LIKE 'EM' OR p.PersonType LIKE 'VC'\n",
    "\"\"\")\n"
   ]
  },
  {
   "cell_type": "code",
   "execution_count": null,
   "id": "341aceb3",
   "metadata": {},
   "outputs": [],
   "source": [
    "#6. Mostrar el contenido de la tabla Employee, del esquema HumanResources\n",
    "\n",
    "mostrar_query(\"\"\"\n",
    "SELECT * \n",
    "FROM 'HumanResources.Employee' AS e\n",
    "\"\"\")\n",
    "\n"
   ]
  },
  {
   "cell_type": "code",
   "execution_count": null,
   "id": "9a48207e",
   "metadata": {},
   "outputs": [],
   "source": [
    "# 7. Hallar el Id y fecha de nacimiento de los empleados que tengan como función “Research and\n",
    "# Development Manager” y que tengan menos de 10 “VacationHours”.\n",
    "\n",
    "\n",
    "mostrar_query(\"\"\"\n",
    "SELECT e.BusinessEntityID AS id\n",
    "FROM 'HumanResources.Employee' e\n",
    "WHERE e.JobTitle = 'Research and Development Manager'\n",
    "  AND e.VacationHours < 10\n",
    "\"\"\")\n"
   ]
  },
  {
   "cell_type": "code",
   "execution_count": null,
   "id": "32bfbfb1",
   "metadata": {},
   "outputs": [],
   "source": [
    "# 8. ¿Cuáles son los tipos de “género” que figuran en la tabla de empleados?\n",
    "\n",
    "mostrar_query(\"\"\"\n",
    "SELECT DISTINCT e.Gender \n",
    "FROM 'HumanResources.Employee' AS e\n",
    "\"\"\")\n",
    "\n"
   ]
  },
  {
   "cell_type": "code",
   "execution_count": null,
   "id": "5cf60bf2",
   "metadata": {},
   "outputs": [],
   "source": [
    "# 9. Mostrar el id, nombres, apellido de los empleados ordenados desde el de fecha de nacimiento\n",
    "# más antigua.\n",
    "\n",
    "\n",
    "mostrar_query(\"\"\"\n",
    "SELECT p.BusinessEntityID AS id, p.FirstName, p.LastName\n",
    "FROM 'HumanResources.Employee' AS e\n",
    "JOIN 'Person.Person' AS p ON e.BusinessEntityID = p.BusinessEntityID\n",
    "ORDER BY e.BirthDate ASC\n",
    "\"\"\")\n"
   ]
  },
  {
   "cell_type": "code",
   "execution_count": null,
   "id": "cea64a24",
   "metadata": {},
   "outputs": [],
   "source": [
    "#10.Mostrar el contenido de la tabla Departments\n",
    "\n",
    "\n",
    "mostrar_query(\"\"\"\n",
    "SELECT * \n",
    "FROM 'HumanResources.Department' AS d\n",
    "\"\"\")\n",
    "\n"
   ]
  },
  {
   "cell_type": "code",
   "execution_count": null,
   "id": "e80e812c",
   "metadata": {},
   "outputs": [],
   "source": [
    "#11.¿Cuáles son los departamentos que están agrupados como “Manufacturing” ó como “Quality\n",
    "#Assurance”?\n",
    "\n",
    "mostrar_query(\"\"\"\n",
    "SELECT * \n",
    "FROM 'HumanResources.Department' AS d\n",
    "WHERE d.GroupName = 'Manufacturing' OR d.GroupName = 'Quality Assurance'\n",
    "\"\"\")\n"
   ]
  },
  {
   "cell_type": "markdown",
   "id": "5ef41cc8",
   "metadata": {},
   "source": [
    "### 2. Joins and Table Relationships  \n"
   ]
  },
  {
   "cell_type": "code",
   "execution_count": null,
   "id": "0afdd3a7",
   "metadata": {},
   "outputs": [],
   "source": [
    "# Ejercicio 12 - ¿Cuáles son los datos de los departamentos cuyo nombre esté relacionado con “Production”?\n",
    "mostrar_query(\"\"\" \n",
    "SELECT * \n",
    "FROM 'HumanResources.Department' AS d\n",
    "WHERE d.Name LIKE 'Production'\n",
    "\"\"\")\n"
   ]
  },
  {
   "cell_type": "code",
   "execution_count": null,
   "id": "a73a1c32",
   "metadata": {},
   "outputs": [],
   "source": [
    "# Ejercicio 13 - Mostrar los datos de los departamentos que no estén agrupados como “Research and Develpment”\n",
    "mostrar_query(\"\"\" \n",
    "SELECT * \n",
    "FROM 'HumanResources.Department' AS d\n",
    "WHERE d.Name NOT LIKE 'Research and Develpment'\n",
    "\"\"\")\n"
   ]
  },
  {
   "cell_type": "code",
   "execution_count": null,
   "id": "ab4febdc",
   "metadata": {},
   "outputs": [],
   "source": [
    "# Ejercicio 14 - Mostrar los datos de la tabla Product del esquema Production\n",
    "mostrar_query(\"\"\" \n",
    "SELECT * \n",
    "FROM 'Production.Product' AS p\n",
    "\"\"\")"
   ]
  },
  {
   "cell_type": "code",
   "execution_count": null,
   "id": "83df0b02",
   "metadata": {},
   "outputs": [],
   "source": [
    "# Ejercicio 15 - Hallar los productos que no tengan asignado color.\n",
    "mostrar_query(\"\"\" \n",
    "SELECT * \n",
    "FROM 'Production.Product' AS p\n",
    "WHERE p.Color IS NULL\n",
    "\"\"\")\n"
   ]
  },
  {
   "cell_type": "code",
   "execution_count": null,
   "id": "11fb702c",
   "metadata": {},
   "outputs": [],
   "source": [
    "# Ejercicio 16 - Para todos los productos que tengan asignado algún color y que tengan un stock (SafetyStockLevel) mayor a 900, \n",
    "# mostrar su id, nombre y color. Ordenarlo por id descendente y por color ascendente.\n",
    "mostrar_query(\"\"\" \n",
    "SELECT p.ProductID, p.Name, p.Color \n",
    "FROM 'Production.Product' AS p\n",
    "WHERE p.Color IS NOT NULL AND p.SafetyStockLevel > 900\n",
    "ORDER BY p.ProductID DESC, p.Color ASC\n",
    "\"\"\")\n"
   ]
  },
  {
   "cell_type": "code",
   "execution_count": null,
   "id": "a80b59d6",
   "metadata": {},
   "outputs": [],
   "source": [
    "# Ejercicio 32a - Verificar si existe una Foreign Key entre Employee y Person\n",
    "mostrar_query(\"\"\"\n",
    "PRAGMA foreign_key_list('HumanResources.Employee')\n",
    "\"\"\")\n",
    "\n",
    "# Ejercicio 32b - Obtener el nombre, apellido, cargo y fecha de nacimiento de todos los empleados.\n",
    "mostrar_query(\"\"\" \n",
    "SELECT e.BusinessEntityID, p.FirstName, p.LastName, e.JobTitle, e.BirthDate \n",
    "FROM 'HumanResources.Employee' AS e\n",
    "LEFT JOIN 'Person.Person' AS p ON e.BusinessEntityID = p.BusinessEntityID\n",
    "\"\"\")\n",
    "\n",
    "# Ejercicio 32c - Obtener el nombre y apellido de los empleados que nacieron durante el año 1986 y su “género” es F.\n",
    "mostrar_query(\"\"\" \n",
    "SELECT e.BusinessEntityID, p.FirstName, p.LastName, e.JobTitle, e.BirthDate \n",
    "FROM 'HumanResources.Employee' AS e\n",
    "LEFT JOIN 'Person.Person' AS p ON e.BusinessEntityID = p.BusinessEntityID\n",
    "WHERE strftime('%Y', e.BirthDate) = '1986' AND e.Gender = 'F'\n",
    "\"\"\")\n",
    "\n",
    "# Ejercicio 32d - Contar la cantidad de empleados cuyo nombre comience con la letra “J” y hayan nacido después del año 1977.\n",
    "mostrar_query(\"\"\" \n",
    "SELECT COUNT(e.BusinessEntityID) \n",
    "FROM 'HumanResources.Employee' AS e\n",
    "LEFT JOIN 'Person.Person' AS p ON e.BusinessEntityID = p.BusinessEntityID\n",
    "WHERE strftime('%Y', e.BirthDate) > '1977' AND p.FirstName LIKE 'J%'\n",
    "\"\"\")\n",
    "\n",
    "# Ejercicio 32e - Para las mismas condiciones del punto anterior, ¿cuántos empleados están registrados según su género?\n",
    "mostrar_query(\"\"\" \n",
    "SELECT e.Gender, COUNT(e.BusinessEntityID) \n",
    "FROM 'HumanResources.Employee' AS e\n",
    "LEFT JOIN 'Person.Person' AS p ON e.BusinessEntityID = p.BusinessEntityID\n",
    "WHERE strftime('%Y', e.BirthDate) > '1977' AND p.FirstName LIKE 'J%'\n",
    "GROUP BY e.Gender\n",
    "\"\"\")\n"
   ]
  },
  {
   "cell_type": "code",
   "execution_count": null,
   "id": "91ce5548",
   "metadata": {},
   "outputs": [],
   "source": [
    "# Ejercicio 33a - Obtener nombre, apellido y StoreID para aquellos clientes que estén en TerritoryID = 4 o que pertenezcan al tipo de persona 'SC'\n",
    "mostrar_query(\"\"\" \n",
    "SELECT \n",
    "  p.FirstName, \n",
    "  p.LastName, \n",
    "  c.StoreID\n",
    "FROM 'Sales.Customer' AS c\n",
    "LEFT JOIN 'Person.Person' AS p \n",
    "  ON c.PersonID = p.BusinessEntityID\n",
    "WHERE c.TerritoryID = 4 \n",
    "   OR p.PersonType = 'SC'\n",
    "\"\"\")\n",
    "\n",
    "# Ejercicio 33b - Obtener nombre, apellido y número de orden (SalesOrderID) para los clientes que pertenezcan al tipo de persona 'SC'\n",
    "mostrar_query(\"\"\" \n",
    "SELECT \n",
    "  p.FirstName, \n",
    "  p.LastName, \n",
    "  soh.SalesOrderID\n",
    "FROM 'Sales.Customer' AS c\n",
    "LEFT JOIN 'Person.Person' AS p \n",
    "  ON c.PersonID = p.BusinessEntityID\n",
    "LEFT JOIN 'Sales.SalesOrderHeader' AS soh \n",
    "  ON c.CustomerID = soh.CustomerID\n",
    "WHERE p.PersonType = 'SC'\n",
    "\"\"\")\n",
    "\n"
   ]
  },
  {
   "cell_type": "code",
   "execution_count": null,
   "id": "5d403879",
   "metadata": {},
   "outputs": [],
   "source": [
    "# Ejercicio 34a - Descripción, tamaño y descripción de modelo de productos sin color y con SafetyStockLevel < 1000\n",
    "mostrar_query(\"\"\" \n",
    "SELECT \n",
    "  pd.Description, \n",
    "  p.Size, \n",
    "  pm.CatalogDescription \n",
    "FROM 'Production.Product' AS p\n",
    "LEFT JOIN 'Production.ProductModel' AS pm \n",
    "  ON p.ProductModelID = pm.ProductModelID \n",
    "LEFT JOIN 'Production.ProductModelProductDescriptionCulture' AS pmpdc \n",
    "  ON pm.ProductModelID = pmpdc.ProductModelID \n",
    "LEFT JOIN 'Production.ProductDescription' AS pd \n",
    "  ON pmpdc.ProductDescriptionID = pd.ProductDescriptionID\n",
    "WHERE p.Color IS NULL AND p.SafetyStockLevel < 1000\n",
    "\"\"\")\n",
    "\n",
    "\n",
    "\n",
    "\n"
   ]
  },
  {
   "cell_type": "code",
   "execution_count": null,
   "id": "a398eacc",
   "metadata": {},
   "outputs": [],
   "source": [
    "# Ejercicio 34b - Obtener ventas de junio y julio de 2011, incluyendo nombre, apellido del cliente, nro de venta, fecha, nombre y descripción del producto.\n",
    "mostrar_query(\"\"\" \n",
    "SELECT \n",
    "  p.FirstName, \n",
    "  p.LastName, \n",
    "  soh.SalesOrderID, \n",
    "  soh.OrderDate, \n",
    "  pt.Name, \n",
    "  pd.Description\n",
    "FROM 'Sales.SalesOrderHeader' AS soh\n",
    "LEFT JOIN 'Sales.Customer' AS c \n",
    "  ON soh.CustomerID = c.CustomerID \n",
    "LEFT JOIN 'Person.Person' AS p \n",
    "  ON c.PersonID = p.BusinessEntityID\n",
    "LEFT JOIN 'Sales.SalesOrderDetail' AS sod \n",
    "  ON soh.SalesOrderID = sod.SalesOrderID\n",
    "LEFT JOIN 'Production.Product' AS pt \n",
    "  ON sod.ProductID = pt.ProductID\n",
    "LEFT JOIN 'Production.ProductModelProductDescriptionCulture' AS pmpdc \n",
    "  ON pt.ProductModelID = pmpdc.ProductModelID AND pmpdc.CultureID = 'en'\n",
    "LEFT JOIN 'Production.ProductDescription' AS pd \n",
    "  ON pmpdc.ProductDescriptionID = pd.ProductDescriptionID\n",
    "WHERE strftime('%Y', soh.OrderDate) = '2011' \n",
    "  AND strftime('%m', soh.OrderDate) IN ('06', '07')\n",
    "\"\"\")"
   ]
  },
  {
   "cell_type": "code",
   "execution_count": null,
   "id": "4fb443ff",
   "metadata": {},
   "outputs": [],
   "source": [
    "# Ejercicio 38  - Mostrar el ID de todos los vendedores y el ID de la venta (si existió), con revisión 9 en 2013.\n",
    "mostrar_query(\"\"\" \n",
    "SELECT sp.BusinessEntityID, soh.SalesOrderID\n",
    "FROM 'Sales.SalesPerson' AS sp  \n",
    "LEFT JOIN 'Sales.SalesOrderHeader' AS soh \n",
    "    ON sp.BusinessEntityID = soh.SalesPersonID \n",
    "    AND soh.RevisionNumber = 9 \n",
    "    AND strftime('%Y', soh.OrderDate) = '2013'\n",
    "\"\"\")\n"
   ]
  },
  {
   "cell_type": "code",
   "execution_count": null,
   "id": "3585b9e1",
   "metadata": {},
   "outputs": [],
   "source": [
    "# Ejercicio 39 - Mostrar ID, nombre y apellido de los vendedores junto con el ID de venta (revisión 9, año 2013). Incluir vendedores sin ventas.\n",
    "mostrar_query(\"\"\" \n",
    "SELECT sp.BusinessEntityID, p.FirstName, p.LastName, soh.SalesOrderID\n",
    "FROM 'Sales.SalesPerson' AS sp  \n",
    "LEFT JOIN 'Person.Person' AS p \n",
    "  ON sp.BusinessEntityID = p.BusinessEntityID \n",
    "LEFT JOIN 'Sales.SalesOrderHeader' AS soh \n",
    "  ON sp.BusinessEntityID = soh.SalesPersonID \n",
    "     AND soh.RevisionNumber = 9 \n",
    "     AND strftime('%Y', soh.OrderDate) = '2013'\n",
    "\"\"\")\n"
   ]
  },
  {
   "cell_type": "markdown",
   "id": "dad48fe0",
   "metadata": {},
   "source": [
    "### 3. Aggregation, Grouping, and Scalar Functions  \n"
   ]
  },
  {
   "cell_type": "code",
   "execution_count": null,
   "id": "ad2c6f6d",
   "metadata": {},
   "outputs": [],
   "source": [
    "# Ejercicio 17 - Hallar el Id y el nombre de los productos cuyo nombre comience con “Chain”\n",
    "mostrar_query(\"\"\" \n",
    "SELECT p.ProductID, p.Name \n",
    "FROM 'Production.Product' AS p\n",
    "WHERE p.Name LIKE 'Chain%'\n",
    "\"\"\")\n"
   ]
  },
  {
   "cell_type": "code",
   "execution_count": null,
   "id": "956b42d2",
   "metadata": {},
   "outputs": [],
   "source": [
    "# Ejercicio 18 - Hallar el Id y el nombre de los productos cuyo nombre contenga “helmet”\n",
    "mostrar_query(\"\"\" \n",
    "SELECT p.ProductID, p.Name \n",
    "FROM 'Production.Product' AS p\n",
    "WHERE p.Name LIKE '%helmet%'\n",
    "\"\"\")\n"
   ]
  },
  {
   "cell_type": "code",
   "execution_count": null,
   "id": "07c31597",
   "metadata": {},
   "outputs": [],
   "source": [
    "# Ejercicio 19 - Modificar la consulta anterior para que retorne aquellos productos cuyo nombre no contenga “helmet”\n",
    "mostrar_query(\"\"\" \n",
    "SELECT p.ProductID, p.Name \n",
    "FROM 'Production.Product' AS p\n",
    "WHERE p.Name NOT LIKE '%helmet%'\n",
    "\"\"\")\n"
   ]
  },
  {
   "cell_type": "code",
   "execution_count": null,
   "id": "0bf43610",
   "metadata": {},
   "outputs": [],
   "source": [
    "# Ejercicio 20 - Mostrar los datos principales de las personas (tabla Person) cuyo LastName termine con “es” y contenga en total 5 caracteres.\n",
    "mostrar_query(\"\"\" \n",
    "SELECT * \n",
    "FROM 'Person.Person' AS p\n",
    "WHERE p.LastName LIKE '___es'\n",
    "\"\"\")\n"
   ]
  },
  {
   "cell_type": "code",
   "execution_count": null,
   "id": "235af588",
   "metadata": {},
   "outputs": [],
   "source": [
    "# Ejercicio 21 - Usando la tabla SpecialOffer del esquema Sales, mostrar la diferencia entre MinQty y MaxQty, con el id y descripción.\n",
    "mostrar_query(\"\"\" \n",
    "SELECT so.SpecialOfferID, so.Description, so.MaxQty - so.MinQty AS DeltaQty\n",
    "FROM 'Sales.SpecialOffer' AS so\n",
    "\"\"\")\n"
   ]
  },
  {
   "cell_type": "code",
   "execution_count": null,
   "id": "e395ec08",
   "metadata": {},
   "outputs": [],
   "source": [
    "# Ejercicio 23 - Para resolver el problema anterior, usar la función ISNULL para, cuando no tengan asignado valor, reemplazarlo en el cálculo por 0 (cero).\n",
    "mostrar_query(\"\"\" \n",
    "SELECT \n",
    "  IFNULL(so.MaxQty, 0) - IFNULL(so.MinQty, 0) AS DeltaQty\n",
    "FROM 'Sales.SpecialOffer' AS so\n",
    "\"\"\")\n"
   ]
  },
  {
   "cell_type": "code",
   "execution_count": null,
   "id": "2897ecac",
   "metadata": {},
   "outputs": [],
   "source": [
    "# Ejercicio 24 - ¿Cuántos clientes están almacenados en la tabla Customers?\n",
    "mostrar_query(\"\"\" \n",
    "SELECT COUNT(c.CustomerID) \n",
    "FROM 'Sales.Customer' AS c\n",
    "\"\"\")\n",
    "\n"
   ]
  },
  {
   "cell_type": "code",
   "execution_count": null,
   "id": "e8112c03",
   "metadata": {},
   "outputs": [],
   "source": [
    "# Ejercicio 25 (primera parte) - ¿Cuál es la cantidad de clientes por tienda?\n",
    "mostrar_query(\"\"\" \n",
    "SELECT c.StoreID, COUNT(c.CustomerID) AS CantidadClientes\n",
    "FROM 'Sales.Customer' AS c\n",
    "GROUP BY c.StoreID\n",
    "\"\"\")\n",
    "\n",
    "# Ejercicio 25 (segunda parte) - ¿Cuál es la cantidad de clientes por territorio?\n",
    "mostrar_query(\"\"\" \n",
    "SELECT c.TerritoryID, COUNT(c.CustomerID) AS CantidadClientes\n",
    "FROM 'Sales.Customer' AS c\n",
    "GROUP BY c.TerritoryID\n",
    "\"\"\")\n",
    "\n",
    "# Ejercicio 25 (tercera parte) - ¿Cuáles son las tiendas (su Id) asociadas al territorio Id 4 que tienen menos de 2 clientes?\n",
    "mostrar_query(\"\"\" \n",
    "SELECT c.StoreID \n",
    "FROM 'Sales.Customer' AS c\n",
    "GROUP BY c.StoreID, c.TerritoryID\n",
    "HAVING COUNT(c.CustomerID) < 2 AND c.TerritoryID = 4\n",
    "\"\"\")\n"
   ]
  },
  {
   "cell_type": "code",
   "execution_count": null,
   "id": "b63740b7",
   "metadata": {},
   "outputs": [],
   "source": [
    "# Ejercicio 26 - Para la tabla SalesOrderDetail del esquema Sales, calcular cuál es la cantidad total de items ordenados (OrderQty) para el producto con Id igual a 778.\n",
    "mostrar_query(\"\"\" \n",
    "SELECT COUNT(sod.OrderQty)  \n",
    "FROM 'Sales.SalesOrderDetail' AS sod \n",
    "WHERE sod.ProductID = 778\n",
    "\"\"\")\n"
   ]
  },
  {
   "cell_type": "code",
   "execution_count": null,
   "id": "a1d70adb",
   "metadata": {},
   "outputs": [],
   "source": [
    "# Ejercicio 27a - ¿Cuál es el precio unitario más caro vendido?\n",
    "mostrar_query(\"\"\" \n",
    "SELECT MAX(sod.UnitPrice)  \n",
    "FROM 'Sales.SalesOrderDetail' AS sod\n",
    "\"\"\")\n",
    "\n",
    "# Ejercicio 27b - ¿Cuál es el número total de items ordenado para cada producto?\n",
    "mostrar_query(\"\"\" \n",
    "SELECT sod.ProductID, COUNT(sod.OrderQty)  \n",
    "FROM 'Sales.SalesOrderDetail' AS sod\n",
    "GROUP BY sod.ProductID\n",
    "\"\"\")\n",
    "\n",
    "# Ejercicio 27c - ¿Cuál es la cantidad de líneas de cada orden?\n",
    "mostrar_query(\"\"\" \n",
    "SELECT sod.SalesOrderID, COUNT(sod.ProductID)  \n",
    "FROM 'Sales.SalesOrderDetail' AS sod\n",
    "GROUP BY sod.SalesOrderID\n",
    "\"\"\")\n",
    "\n",
    "# Ejercicio 27d - ¿Cuál es la cantidad de líneas de cada orden, sólo para aquellas órdenes que tengan más de 3 líneas? Ordenar por id de orden descendente.\n",
    "mostrar_query(\"\"\" \n",
    "SELECT sod.SalesOrderID, COUNT(sod.ProductID)  \n",
    "FROM 'Sales.SalesOrderDetail' AS sod\n",
    "GROUP BY sod.SalesOrderID\n",
    "HAVING COUNT(sod.ProductID) > 3\n",
    "ORDER BY sod.SalesOrderID DESC\n",
    "\"\"\")\n",
    "\n",
    "# Ejercicio 27e - ¿Cuál es el importe total (LineTotal) de cada orden, para aquellas que tengan menos de 3 líneas?\n",
    "mostrar_query(\"\"\" \n",
    "SELECT sod.SalesOrderID, SUM(sod.LineTotal) AS lt \n",
    "FROM 'Sales.SalesOrderDetail' AS sod\n",
    "GROUP BY sod.SalesOrderID \n",
    "HAVING COUNT(sod.SalesOrderID) < 3\n",
    "\"\"\")\n",
    "\n",
    "# Ejercicio 27f - ¿Cuál es la cantidad distinta de productos ordenados?\n",
    "mostrar_query(\"\"\" \n",
    "SELECT COUNT(DISTINCT sod.SalesOrderID)  \n",
    "FROM 'Sales.SalesOrderDetail' AS sod\n",
    "\"\"\")\n"
   ]
  },
  {
   "cell_type": "code",
   "execution_count": null,
   "id": "ef7793db",
   "metadata": {},
   "outputs": [],
   "source": [
    "# Ejercicio 28 - Usando la tabla SalesOrderHeader, ¿cuál es la cantidad de órdenes emitidas en cada año?\n",
    "mostrar_query(\"\"\" \n",
    "SELECT strftime('%Y', soh.OrderDate) AS Anio, COUNT(soh.SalesOrderID) \n",
    "FROM 'Sales.SalesOrderHeader' AS soh\n",
    "GROUP BY strftime('%Y', soh.OrderDate)\n",
    "\"\"\")\n"
   ]
  },
  {
   "cell_type": "code",
   "execution_count": null,
   "id": "a23aa4dd",
   "metadata": {},
   "outputs": [],
   "source": [
    "# Ejercicio 29 - Usando la tabla SalesOrderHeader, ¿cuál es la cantidad de órdenes emitidas para cada cliente en cada año?\n",
    "mostrar_query(\"\"\" \n",
    "SELECT soh.CustomerID, strftime('%Y', soh.OrderDate) AS Anio, COUNT(soh.SalesOrderID) \n",
    "FROM 'Sales.SalesOrderHeader' AS soh\n",
    "GROUP BY soh.CustomerID, strftime('%Y', soh.OrderDate)\n",
    "\"\"\")\n"
   ]
  },
  {
   "cell_type": "code",
   "execution_count": null,
   "id": "c249e146",
   "metadata": {},
   "outputs": [],
   "source": [
    "# Ejercicio 30 - Para los empleados, contar la cantidad de empleados solteros nacidos por año y por género, \n",
    "# para aquellos años donde hayan nacido más de 10 empleados.\n",
    "mostrar_query(\"\"\" \n",
    "SELECT strftime('%Y', e.BirthDate) AS Anio, e.Gender, COUNT(e.LoginID) AS Cantidad \n",
    "FROM 'HumanResources.Employee' AS e\n",
    "GROUP BY strftime('%Y', e.BirthDate), e.Gender\n",
    "HAVING COUNT(e.LoginID) > 10\n",
    "\"\"\")\n"
   ]
  },
  {
   "cell_type": "code",
   "execution_count": null,
   "id": "7751f475",
   "metadata": {},
   "outputs": [],
   "source": [
    "# Ejercicio 31a - ¿Cuál es el promedio del precio de lista por color de producto?\n",
    "mostrar_query(\"\"\" \n",
    "SELECT p.Color, AVG(p.ListPrice) AS PromedioPrecio \n",
    "FROM 'Production.Product' AS p \n",
    "GROUP BY p.Color\n",
    "\"\"\")\n",
    "\n",
    "\n",
    "# Ejercicio 31b - ¿Cuál es el promedio del precio de lista por color de producto para aquellos colores que tengan más de 15 productos?\n",
    "mostrar_query(\"\"\" \n",
    "SELECT p.Color, AVG(p.ListPrice) AS PromedioPrecio \n",
    "FROM 'Production.Product' AS p \n",
    "GROUP BY p.Color \n",
    "HAVING COUNT(p.Color) > 15\n",
    "\"\"\")\n"
   ]
  },
  {
   "cell_type": "markdown",
   "id": "d2767bf6",
   "metadata": {},
   "source": [
    "### 4. Logical Modeling and Cross-Analysis  \n"
   ]
  },
  {
   "cell_type": "code",
   "execution_count": null,
   "id": "b8985c40",
   "metadata": {},
   "outputs": [],
   "source": [
    "# Ejercicio 40 - Mostrar todos los vendedores junto con los productos que han vendido (si los vendieron)\n",
    "mostrar_query(\"\"\" \n",
    "SELECT \n",
    "  sp.BusinessEntityID, \n",
    "  p.ProductID\n",
    "FROM 'Sales.SalesPerson' AS sp  \n",
    "LEFT JOIN 'Sales.SalesOrderHeader' AS soh \n",
    "  ON sp.BusinessEntityID = soh.SalesPersonID \n",
    "LEFT JOIN 'Sales.SalesOrderDetail' AS sod \n",
    "  ON soh.SalesOrderID = sod.SalesOrderID \n",
    "LEFT JOIN 'Production.Product' AS p \n",
    "  ON sod.ProductID = p.ProductID\n",
    "\"\"\")\n"
   ]
  },
  {
   "cell_type": "code",
   "execution_count": null,
   "id": "dec3d0e8",
   "metadata": {},
   "outputs": [],
   "source": [
    "# Ejercicio 41 - Mostrar todos los valores de BusinessEntityID de SalesPerson junto a cada ProductID de Product (producto cartesiano)\n",
    "mostrar_query(\"\"\" \n",
    "SELECT \n",
    "  sp.BusinessEntityID, \n",
    "  p.ProductID\n",
    "FROM 'Sales.SalesPerson' AS sp\n",
    "CROSS JOIN 'Production.Product' AS p\n",
    "\"\"\")\n"
   ]
  },
  {
   "cell_type": "code",
   "execution_count": null,
   "id": "2c370deb",
   "metadata": {},
   "outputs": [],
   "source": [
    "# Ejercicio 42 - Contar cuántas personas están registradas por tipo de contacto (ContactTypeID). Ordenar por cantidad descendente.\n",
    "mostrar_query(\"\"\" \n",
    "SELECT \n",
    "  bec.ContactTypeID, \n",
    "  COUNT(p.BusinessEntityID) AS CantidadPersonas\n",
    "FROM 'Person.Person' AS p\n",
    "LEFT JOIN 'Person.BusinessEntityContact' AS bec \n",
    "  ON p.BusinessEntityID = bec.PersonID\n",
    "GROUP BY bec.ContactTypeID\n",
    "ORDER BY CantidadPersonas DESC\n",
    "\"\"\")\n"
   ]
  },
  {
   "cell_type": "code",
   "execution_count": null,
   "id": "3939de31",
   "metadata": {},
   "outputs": [],
   "source": [
    "# Ejercicio 44 - Calcular la suma de las cuotas de ventas históricas por persona y año. Mostrar el apellido.\n",
    "mostrar_query(\"\"\" \n",
    "SELECT \n",
    "  strftime('%Y', spqh.QuotaDate) AS Anio, \n",
    "  spqh.BusinessEntityID, \n",
    "  p.LastName, \n",
    "  SUM(spqh.SalesQuota) AS TotalQuota\n",
    "FROM 'Sales.SalesPersonQuotaHistory' AS spqh\n",
    "JOIN 'Person.Person' AS p ON spqh.BusinessEntityID = p.BusinessEntityID\n",
    "GROUP BY Anio, spqh.BusinessEntityID, p.LastName\n",
    "\"\"\")\n"
   ]
  },
  {
   "cell_type": "code",
   "execution_count": null,
   "id": "33250fdf",
   "metadata": {},
   "outputs": [],
   "source": [
    "# Ejercicio 45 - Calcular el total vendido por territorio para aquellos con más de 100 ventas. Mostrar ID, nombre del territorio y suma de ventas.\n",
    "mostrar_query(\"\"\" \n",
    "SELECT \n",
    "  soh.TerritoryID, \n",
    "  st.Name, \n",
    "  COUNT(soh.SalesOrderID) AS CantidadOrdenes, \n",
    "  SUM(sod.LineTotal) AS TotalVendido\n",
    "FROM 'Sales.SalesOrderHeader' AS soh\n",
    "JOIN 'Sales.SalesTerritory' AS st ON soh.TerritoryID = st.TerritoryID\n",
    "JOIN 'Sales.SalesOrderDetail' AS sod ON soh.SalesOrderID = sod.SalesOrderID\n",
    "GROUP BY soh.TerritoryID, st.Name \n",
    "HAVING COUNT(soh.SalesOrderID) >= 100\n",
    "\"\"\")\n"
   ]
  },
  {
   "cell_type": "code",
   "execution_count": null,
   "id": "9d66c8c8",
   "metadata": {},
   "outputs": [],
   "source": [
    "# Ejercicio 46 - Mostrar ID y nombre de provincias con más de 1000 domicilios registrados.\n",
    "mostrar_query(\"\"\" \n",
    "SELECT \n",
    "  sp.StateProvinceID, \n",
    "  sp.Name, \n",
    "  COUNT(a.AddressID) AS CantidadDomicilios\n",
    "FROM 'Person.StateProvince' AS sp\n",
    "JOIN 'Person.Address' AS a ON sp.StateProvinceID = a.StateProvinceID\n",
    "GROUP BY sp.StateProvinceID, sp.Name\n",
    "HAVING COUNT(a.AddressID) > 1000\n",
    "\"\"\")\n"
   ]
  },
  {
   "cell_type": "markdown",
   "id": "4634a8a9",
   "metadata": {},
   "source": [
    "### 5. Subqueries and Common Table Expressions (CTEs)  \n",
    "*Modular SQL logic with CTEs. Replacing correlated subqueries. Query chaining.*"
   ]
  },
  {
   "cell_type": "code",
   "execution_count": null,
   "id": "2c2f345c",
   "metadata": {},
   "outputs": [],
   "source": [
    "# Ejercicio 48 (versión optimizada) - Calcular métricas por cliente una sola vez con CTE y luego unir con las órdenes\n",
    "mostrar_query(\"\"\"\n",
    "WITH op1 (cus, c, a, min, max) AS (\n",
    "  SELECT \n",
    "    CustomerID, \n",
    "    COUNT(*), \n",
    "    AVG(TotalDue), \n",
    "    MIN(TotalDue), \n",
    "    MAX(TotalDue)\n",
    "  FROM 'Sales.SalesOrderHeader' AS soh\n",
    "  GROUP BY soh.CustomerID\n",
    ")\n",
    "SELECT \n",
    "  soh.SalesOrderID, \n",
    "  op1.cus AS CustomerID,\n",
    "  op1.c AS CountOfSales, \n",
    "  op1.a AS AvgSale,\n",
    "  op1.min AS LowestSale, \n",
    "  op1.max AS HighestSale\n",
    "FROM op1 \n",
    "JOIN 'Sales.SalesOrderHeader' AS soh ON op1.cus = soh.CustomerID\n",
    "\"\"\")\n"
   ]
  },
  {
   "cell_type": "code",
   "execution_count": null,
   "id": "359755ed",
   "metadata": {},
   "outputs": [],
   "source": [
    "# Ejercicio 49 - Devolver una lista de los clientes con los productos solicitados en su pedido más reciente\n",
    "mostrar_query(\"\"\" \n",
    "WITH fecha_ultima_compra AS (\n",
    "  SELECT soh.CustomerID, soh.SalesOrderID, soh.OrderDate\n",
    "  FROM 'Sales.SalesOrderHeader' AS soh\n",
    "  WHERE soh.OrderDate = (\n",
    "    SELECT MAX(soh2.OrderDate)\n",
    "    FROM 'Sales.SalesOrderHeader' AS soh2\n",
    "    WHERE soh2.CustomerID = soh.CustomerID\n",
    "  )\n",
    ")\n",
    "SELECT \n",
    "  fuc.CustomerID, \n",
    "  p.Name AS NombreProducto\n",
    "FROM fecha_ultima_compra AS fuc\n",
    "LEFT JOIN 'Sales.SalesOrderDetail' AS sod ON sod.SalesOrderID = fuc.SalesOrderID\n",
    "LEFT JOIN 'Production.Product' AS p ON sod.ProductID = p.ProductID\n",
    "\"\"\")\n"
   ]
  },
  {
   "cell_type": "code",
   "execution_count": null,
   "id": "bbd1ea61",
   "metadata": {},
   "outputs": [],
   "source": [
    "# Ejercicio 50 - Mostrar el Rate del empleado y el promedio de Rate del departamento actual (usando CTE)\n",
    "mostrar_query(\"\"\"\n",
    "WITH promedio_departamento AS (\n",
    "  SELECT \n",
    "    edh2.DepartmentID, \n",
    "    AVG(eph2.Rate) AS avg_dep \n",
    "  FROM 'HumanResources.Employee' AS e2\n",
    "  LEFT JOIN 'HumanResources.EmployeeDepartmentHistory' AS edh2 \n",
    "    ON e2.BusinessEntityID = edh2.BusinessEntityID\n",
    "  LEFT JOIN 'HumanResources.EmployeePayHistory' AS eph2 \n",
    "    ON edh2.BusinessEntityID = eph2.BusinessEntityID\n",
    "  WHERE edh2.EndDate IS NULL\n",
    "  GROUP BY edh2.DepartmentID\n",
    ")\n",
    "SELECT \n",
    "  e.BusinessEntityID, \n",
    "  edh.DepartmentID, \n",
    "  eph.Rate, \n",
    "  pd.avg_dep \n",
    "FROM 'HumanResources.Employee' AS e\n",
    "LEFT JOIN 'HumanResources.EmployeeDepartmentHistory' AS edh \n",
    "  ON e.BusinessEntityID = edh.BusinessEntityID AND edh.EndDate IS NULL\n",
    "LEFT JOIN promedio_departamento AS pd \n",
    "  ON edh.DepartmentID = pd.DepartmentID\n",
    "LEFT JOIN 'HumanResources.EmployeePayHistory' AS eph \n",
    "  ON edh.BusinessEntityID = eph.BusinessEntityID\n",
    "\"\"\")\n"
   ]
  },
  {
   "cell_type": "markdown",
   "id": "9b4ac204",
   "metadata": {},
   "source": [
    "### 6. Business-Oriented Query Applications  \n",
    "\n",
    "*Customer behavior analysis, employee efficiency, detecting unsold or incomplete records.*\n",
    "\n"
   ]
  },
  {
   "cell_type": "code",
   "execution_count": null,
   "id": "afaf89f5",
   "metadata": {},
   "outputs": [],
   "source": [
    "# Ejercicio 36 - Mostrar la descripción de los productos y el ID de la orden de venta. Incluir productos que nunca se hayan vendido.\n",
    "mostrar_query(\"\"\" \n",
    "SELECT pd.Description, sod.SalesOrderDetailID\n",
    "FROM 'Production.Product' AS pt\n",
    "LEFT JOIN 'Production.ProductModelProductDescriptionCulture' AS pmpdc \n",
    "  ON pt.ProductModelID = pmpdc.ProductModelID AND pmpdc.CultureID = 'en'\n",
    "LEFT JOIN 'Production.ProductDescription' AS pd \n",
    "  ON pmpdc.ProductDescriptionID = pd.ProductDescriptionID\n",
    "LEFT JOIN 'Sales.SalesOrderDetail' AS sod \n",
    "  ON pt.ProductID = sod.ProductID\n",
    "\"\"\")\n"
   ]
  },
  {
   "cell_type": "code",
   "execution_count": null,
   "id": "f3ccf19d",
   "metadata": {},
   "outputs": [],
   "source": [
    "# Ejercicio 37 - Mostrar la descripción de los productos que nunca hayan sido vendidos.\n",
    "mostrar_query(\"\"\" \n",
    "SELECT DISTINCT pd.Description\n",
    "FROM 'Production.Product' AS pt\n",
    "LEFT JOIN 'Production.ProductModelProductDescriptionCulture' AS pmpdc \n",
    "  ON pt.ProductModelID = pmpdc.ProductModelID AND pmpdc.CultureID = 'en'\n",
    "LEFT JOIN 'Production.ProductDescription' AS pd \n",
    "  ON pmpdc.ProductDescriptionID = pd.ProductDescriptionID\n",
    "LEFT JOIN 'Sales.SalesOrderDetail' AS sod \n",
    "  ON pt.ProductID = sod.ProductID\n",
    "WHERE sod.SalesOrderDetailID IS NULL AND pd.Description IS NOT NULL\n",
    "\"\"\")\n"
   ]
  },
  {
   "cell_type": "code",
   "execution_count": null,
   "id": "1bc7bbba",
   "metadata": {},
   "outputs": [],
   "source": [
    "# Ejercicio 43 - Mostrar nombre y apellido de los empleados que viven en el estado de “Oregon”\n",
    "mostrar_query(\"\"\" \n",
    "SELECT p.FirstName, p.LastName\n",
    "FROM 'HumanResources.Employee' AS e\n",
    "LEFT JOIN 'Person.Person' AS p ON p.BusinessEntityID = e.BusinessEntityID \n",
    "LEFT JOIN 'Person.BusinessEntityAddress' AS bea ON p.BusinessEntityID = bea.BusinessEntityID\n",
    "LEFT JOIN 'Person.Address' AS a ON bea.AddressID = a.AddressID\n",
    "LEFT JOIN 'Person.StateProvince' AS sp ON a.StateProvinceID = sp.StateProvinceID \n",
    "WHERE sp.Name = 'Oregon'\n",
    "\"\"\")\n"
   ]
  },
  {
   "cell_type": "code",
   "execution_count": null,
   "id": "6ec30dee",
   "metadata": {},
   "outputs": [],
   "source": [
    "# Ejercicio 47 - Usar CTE para calcular el máximo, mínimo y promedio de productos en locaciones (tabla ProductInventory)\n",
    "mostrar_query(\"\"\" \n",
    "WITH productos (locacion, cantidad) AS (\n",
    "  SELECT \n",
    "    LocationID, \n",
    "    SUM(pi2.Quantity) \n",
    "  FROM 'Production.ProductInventory' AS pi2\n",
    "  LEFT JOIN 'Production.Product' AS p ON pi2.ProductID = p.ProductID\n",
    "  GROUP BY LocationID\n",
    ")\n",
    "SELECT \n",
    "  AVG(cantidad) AS Promedio, \n",
    "  MIN(cantidad) AS Minimo, \n",
    "  MAX(cantidad) AS Maximo \n",
    "FROM productos\n",
    "\"\"\")\n"
   ]
  },
  {
   "cell_type": "markdown",
   "id": "f85d5e46",
   "metadata": {},
   "source": [
    "### 7. Window Functions"
   ]
  },
  {
   "cell_type": "code",
   "execution_count": null,
   "id": "4776a0db",
   "metadata": {},
   "outputs": [],
   "source": [
    "# Ejercicio 51 - Obtener el ranking de empleados por salario actual dentro de cada departamento\n",
    "mostrar_query(\"\"\"\n",
    "SELECT \n",
    "  e.BusinessEntityID, \n",
    "  RANK() OVER(PARTITION BY edh.DepartmentID ORDER BY eph.Rate) AS ranking_departamento\n",
    "FROM 'HumanResources.Employee' AS e\n",
    "JOIN 'HumanResources.EmployeePayHistory' AS eph \n",
    "  ON e.BusinessEntityID = eph.BusinessEntityID\n",
    "JOIN 'HumanResources.EmployeeDepartmentHistory' AS edh \n",
    "  ON e.BusinessEntityID = edh.BusinessEntityID\n",
    "WHERE eph.RateChangeDate = (\n",
    "  SELECT MAX(eph2.RateChangeDate) \n",
    "  FROM 'HumanResources.EmployeePayHistory' AS eph2\n",
    "  WHERE eph2.BusinessEntityID = e.BusinessEntityID\n",
    ")\n",
    "\"\"\")\n"
   ]
  },
  {
   "cell_type": "code",
   "execution_count": null,
   "id": "cda901d8",
   "metadata": {},
   "outputs": [],
   "source": [
    "# Ejercicio 52 - Enumerar las órdenes de venta con ROW_NUMBER en orden por SalesOrderID\n",
    "mostrar_query(\"\"\"\n",
    "SELECT \n",
    "  soh.SalesOrderID, \n",
    "  DATE(soh.OrderDate) AS OrderDate, \n",
    "  ROW_NUMBER() OVER (ORDER BY soh.SalesOrderID) AS RankOrderID\n",
    "FROM 'Sales.SalesOrderHeader' AS soh\n",
    "\"\"\")\n"
   ]
  },
  {
   "cell_type": "code",
   "execution_count": null,
   "id": "9c4b3d62",
   "metadata": {},
   "outputs": [],
   "source": [
    "# Ejercicio 53 - Calcular el promedio de salario por empleado usando función de ventana AVG OVER\n",
    "mostrar_query(\"\"\"\n",
    "SELECT DISTINCT \n",
    "  xd.BusinessEntityID, \n",
    "  xd.AvgSalario\n",
    "FROM (\n",
    "  SELECT \n",
    "    e.BusinessEntityID, \n",
    "    AVG(eph.Rate) OVER (PARTITION BY eph.BusinessEntityID) AS AvgSalario\n",
    "  FROM 'HumanResources.Employee' AS e\n",
    "  LEFT JOIN 'HumanResources.EmployeePayHistory' AS eph \n",
    "    ON e.BusinessEntityID = eph.BusinessEntityID\n",
    ") AS xd\n",
    "\"\"\")\n"
   ]
  },
  {
   "cell_type": "code",
   "execution_count": null,
   "id": "f00f1205",
   "metadata": {},
   "outputs": [],
   "source": [
    "# Ejercicio 54 - Calcular el acumulado de SubTotal por cliente a lo largo del tiempo\n",
    "mostrar_query(\"\"\"\n",
    "SELECT \n",
    "  soh.CustomerID, \n",
    "  soh.SalesOrderID, \n",
    "  DATE(soh.OrderDate) AS OrderDate, \n",
    "  SUM(soh.SubTotal) OVER (\n",
    "    PARTITION BY soh.CustomerID \n",
    "    ORDER BY soh.OrderDate\n",
    "  ) AS AcumuladoCliente\n",
    "FROM 'Sales.SalesOrderHeader' AS soh\n",
    "\"\"\")\n"
   ]
  },
  {
   "cell_type": "code",
   "execution_count": null,
   "id": "62a0c982",
   "metadata": {},
   "outputs": [],
   "source": [
    "# Ejercicio 56 - Mostrar el salario actual de cada empleado y la diferencia con respecto al salario del empleado anterior\n",
    "mostrar_query(\"\"\"\n",
    "SELECT \n",
    "  eph.BusinessEntityID, \n",
    "  eph.Rate AS sueldo_actual, \n",
    "  eph.Rate - LAG(eph.Rate, 1) OVER (ORDER BY eph.BusinessEntityID) AS diferencia_con_anterior\n",
    "FROM 'HumanResources.EmployeePayHistory' AS eph\n",
    "WHERE eph.RateChangeDate = (\n",
    "  SELECT MAX(eph2.RateChangeDate)\n",
    "  FROM 'HumanResources.EmployeePayHistory' AS eph2\n",
    "  WHERE eph.BusinessEntityID = eph2.BusinessEntityID\n",
    ")\n",
    "\"\"\")\n",
    "\n"
   ]
  },
  {
   "cell_type": "code",
   "execution_count": null,
   "id": "a29f7bf3",
   "metadata": {},
   "outputs": [],
   "source": [
    "# Ejercicio 57 - Obtener salario actual y extremos salariales dentro del departamento (MIN/MAX con OVER y CTE)\n",
    "mostrar_query(\"\"\"\n",
    "WITH salario_actual AS (\n",
    "  SELECT \n",
    "    eph.BusinessEntityID, \n",
    "    eph.Rate\n",
    "  FROM 'HumanResources.EmployeePayHistory' AS eph\n",
    "  WHERE eph.RateChangeDate = (\n",
    "    SELECT MAX(eph2.RateChangeDate)\n",
    "    FROM 'HumanResources.EmployeePayHistory' AS eph2 \n",
    "    WHERE eph.BusinessEntityID = eph2.BusinessEntityID\n",
    "  )\n",
    ")\n",
    "SELECT \n",
    "  e.BusinessEntityID,\n",
    "  sa.Rate AS salario_actual,\n",
    "  MAX(sa.Rate) OVER (PARTITION BY edh.DepartmentID) AS maximo_departamento,\n",
    "  MIN(sa.Rate) OVER (PARTITION BY edh.DepartmentID) AS minimo_departamento\n",
    "FROM 'HumanResources.Employee' AS e\n",
    "LEFT JOIN salario_actual AS sa ON e.BusinessEntityID = sa.BusinessEntityID\n",
    "LEFT JOIN 'HumanResources.EmployeeDepartmentHistory' AS edh \n",
    "  ON e.BusinessEntityID = edh.BusinessEntityID\n",
    "\"\"\")\n"
   ]
  },
  {
   "cell_type": "code",
   "execution_count": null,
   "id": "dd5013f0",
   "metadata": {},
   "outputs": [],
   "source": [
    "# Ejercicio 58 - Mostrar empleados cuyo salario actual es mayor al promedio del departamento\n",
    "mostrar_query(\"\"\"\n",
    "WITH salario_actual AS (\n",
    "  SELECT \n",
    "    eph.BusinessEntityID, \n",
    "    eph.Rate\n",
    "  FROM 'HumanResources.EmployeePayHistory' AS eph\n",
    "  WHERE eph.RateChangeDate = (\n",
    "    SELECT MAX(eph2.RateChangeDate)\n",
    "    FROM 'HumanResources.EmployeePayHistory' AS eph2 \n",
    "    WHERE eph.BusinessEntityID = eph2.BusinessEntityID\n",
    "  )\n",
    ")\n",
    "SELECT \n",
    "  e.BusinessEntityID\n",
    "FROM 'HumanResources.Employee' AS e\n",
    "LEFT JOIN salario_actual AS sa ON e.BusinessEntityID = sa.BusinessEntityID\n",
    "LEFT JOIN 'HumanResources.EmployeeDepartmentHistory' AS edh ON e.BusinessEntityID = edh.BusinessEntityID\n",
    "WHERE sa.Rate > (\n",
    "  SELECT AVG(sa2.Rate)\n",
    "  FROM 'HumanResources.Employee' AS e2\n",
    "  LEFT JOIN salario_actual AS sa2 ON e2.BusinessEntityID = sa2.BusinessEntityID\n",
    "  LEFT JOIN 'HumanResources.EmployeeDepartmentHistory' AS edh2 ON e2.BusinessEntityID = edh2.BusinessEntityID\n",
    "  WHERE edh2.DepartmentID = edh.DepartmentID\n",
    ")\n",
    "\"\"\")\n"
   ]
  },
  {
   "cell_type": "code",
   "execution_count": null,
   "id": "b74ad564",
   "metadata": {},
   "outputs": [],
   "source": [
    "# Ejercicio 59 - Calcular la diferencia de días entre una orden y la anterior del mismo cliente\n",
    "mostrar_query(\"\"\"\n",
    "SELECT \n",
    "  soh.CustomerID,\n",
    "  DATE(soh.OrderDate) AS OrderDate,\n",
    "  JULIANDAY(soh.OrderDate) - JULIANDAY(\n",
    "    LAG(soh.OrderDate, 1) OVER (\n",
    "      PARTITION BY soh.CustomerID \n",
    "      ORDER BY soh.OrderDate DESC\n",
    "    )\n",
    "  ) AS dias_desde_ultima_orden\n",
    "FROM 'Sales.SalesOrderHeader' AS soh\n",
    "\"\"\")\n"
   ]
  },
  {
   "cell_type": "code",
   "execution_count": null,
   "id": "f194929a",
   "metadata": {},
   "outputs": [],
   "source": [
    "# Ejercicio 60 - Rankear categorías por cantidad de productos y mostrar solo las top 3\n",
    "mostrar_query(\"\"\"\n",
    "WITH cantidad_ventas AS (\n",
    "  SELECT \n",
    "    pc.ProductCategoryID, \n",
    "    COUNT(p.ProductID) OVER (PARTITION BY pc.ProductCategoryID) AS cantidad_productos\n",
    "  FROM 'Production.ProductCategory' AS pc \n",
    "  LEFT JOIN 'Production.ProductSubcategory' AS ps \n",
    "    ON pc.ProductCategoryID = ps.ProductCategoryID\n",
    "  LEFT JOIN 'Production.Product' AS p \n",
    "    ON ps.ProductSubcategoryID = p.ProductSubcategoryID\n",
    ")\n",
    "SELECT *\n",
    "FROM (\n",
    "  SELECT \n",
    "    pc.ProductCategoryID, \n",
    "    cp.cantidad_productos,\n",
    "    DENSE_RANK() OVER (\n",
    "      ORDER BY cp.cantidad_productos DESC\n",
    "    ) AS rango_productos\n",
    "  FROM 'Production.ProductCategory' AS pc  \n",
    "  LEFT JOIN cantidad_ventas AS cp ON pc.ProductCategoryID = cp.ProductCategoryID\n",
    ")\n",
    "WHERE rango_productos <= 3\n",
    "\"\"\")\n"
   ]
  },
  {
   "cell_type": "code",
   "execution_count": null,
   "id": "72c6e4a7",
   "metadata": {},
   "outputs": [],
   "source": [
    "# Ejercicio 61 Mostrar las 3 subcategorías con más productos por cada categoría\n",
    "mostrar_query(\"\"\"\n",
    "WITH cantidad_ventas AS (\n",
    "  SELECT \n",
    "    ps.ProductSubcategoryID,\n",
    "    COUNT(p.ProductID) OVER (PARTITION BY ps.ProductSubcategoryID) AS cantidad_productos_subcategoria\n",
    "  FROM 'Production.ProductSubcategory' AS ps\n",
    "  LEFT JOIN 'Production.Product' AS p \n",
    "    ON ps.ProductSubcategoryID = p.ProductSubcategoryID\n",
    ")\n",
    "\n",
    "SELECT *\n",
    "FROM (\n",
    "  SELECT \n",
    "    pc.ProductCategoryID,\n",
    "    ps.ProductSubcategoryID,\n",
    "    cp.cantidad_productos_subcategoria,\n",
    "    DENSE_RANK() OVER (\n",
    "      PARTITION BY pc.ProductCategoryID \n",
    "      ORDER BY cp.cantidad_productos_subcategoria DESC\n",
    "    ) AS rango_productos\n",
    "  FROM 'Production.ProductCategory' AS pc\n",
    "  LEFT JOIN 'Production.ProductSubcategory' AS ps \n",
    "    ON pc.ProductCategoryID = ps.ProductCategoryID\n",
    "  LEFT JOIN cantidad_ventas AS cp \n",
    "    ON ps.ProductSubcategoryID = cp.ProductSubcategoryID\n",
    ") AS TABLITA\n",
    "WHERE rango_productos <= 3\n",
    "ORDER BY ProductCategoryID ASC, rango_productos ASC;\n",
    "\"\"\")\n"
   ]
  },
  {
   "cell_type": "code",
   "execution_count": null,
   "id": "4439dea4",
   "metadata": {},
   "outputs": [],
   "source": [
    "# Ejercicio 61 - Calcular diferencias sucesivas entre cambios salariales por empleado\n",
    "mostrar_query(\"\"\"\n",
    "SELECT *\n",
    "FROM (\n",
    "  SELECT \n",
    "    eph.BusinessEntityID, \n",
    "    DATE(eph.RateChangeDate) AS fecha, \n",
    "    eph.Rate,\n",
    "    eph.Rate - LAG(eph.Rate, 1) OVER (\n",
    "      PARTITION BY eph.BusinessEntityID \n",
    "      ORDER BY eph.RateChangeDate ASC\n",
    "    ) AS diferencia\n",
    "  FROM 'HumanResources.EmployeePayHistory' AS eph\n",
    ") AS sc\n",
    "WHERE sc.diferencia IS NOT NULL\n",
    "ORDER BY sc.BusinessEntityID, sc.fecha ASC;\n",
    "\"\"\")"
   ]
  },
  {
   "cell_type": "markdown",
   "id": "3f7b9067",
   "metadata": {},
   "source": [
    "### 8. Time Functions"
   ]
  },
  {
   "cell_type": "code",
   "execution_count": null,
   "id": "a90af829",
   "metadata": {},
   "outputs": [],
   "source": [
    "# Ejercicio 62 - Mostrar los 10 pedidos más recientes realizados en la tabla Sales.SalesOrderHeader.Incluir la fecha del pedido (OrderDate) y el ID del cliente (CustomerID).\n",
    "mostrar_query(\"\"\"\n",
    "SELECT SalesOrderID, DATE(OrderDate) AS OrderDate, CustomerID\n",
    "FROM 'Sales.SalesOrderHeader'\n",
    "ORDER BY OrderDate DESC\n",
    "LIMIT 10\n",
    "\"\"\")\n"
   ]
  },
  {
   "cell_type": "code",
   "execution_count": null,
   "id": "e6434ce3",
   "metadata": {},
   "outputs": [],
   "source": [
    "# Ejercicio 63 - Calcular cuántos días pasaron entre la fecha del pedido (OrderDate) y la fecha de envío (ShipDate).Mostrar solo los pedidos donde la diferencia fue mayor a 5 días.\n",
    "mostrar_query(\"\"\"\n",
    "SELECT SalesOrderID, \n",
    "       JULIANDAY(ShipDate) - JULIANDAY(OrderDate) AS diferencia_envio\n",
    "FROM 'Sales.SalesOrderHeader'\n",
    "WHERE JULIANDAY(ShipDate) - JULIANDAY(OrderDate) > 5\n",
    "\"\"\")\n"
   ]
  },
  {
   "cell_type": "code",
   "execution_count": null,
   "id": "cae517bc",
   "metadata": {},
   "outputs": [],
   "source": [
    "# Ejercicio 64 - Contar cuántos pedidos se hicieron por mes durante el año 2013. Mostrar número y nombre del mes, y total de pedidos\n",
    "mostrar_query(\"\"\"\n",
    "SELECT STRFTIME('%m', OrderDate) AS mes_num,\n",
    "       STRFTIME('%m', OrderDate) || ' - ' || STRFTIME('%B', OrderDate) AS nombre_mes,\n",
    "       COUNT(SalesOrderID) AS total_pedidos\n",
    "FROM 'Sales.SalesOrderHeader'\n",
    "WHERE STRFTIME('%Y', OrderDate) = '2013'\n",
    "GROUP BY mes_num, nombre_mes\n",
    "ORDER BY mes_num\n",
    "\"\"\")\n"
   ]
  },
  {
   "cell_type": "code",
   "execution_count": null,
   "id": "5571bf9a",
   "metadata": {},
   "outputs": [],
   "source": [
    "# Ejercicio 65 - Mostrar una lista de empleados con su fecha de contratación (HireDate) y cuántos años llevan trabajando. Ordenar por antigüedad descendente.\n",
    "mostrar_query(\"\"\"\n",
    "SELECT DATE(HireDate) AS fecha_contratacion,\n",
    "       CAST(STRFTIME('%Y', 'now') AS INTEGER) - CAST(STRFTIME('%Y', HireDate) AS INTEGER) AS antiguedad\n",
    "FROM 'HumanResources.Employee'\n",
    "ORDER BY antiguedad DESC\n",
    "\"\"\")\n"
   ]
  },
  {
   "cell_type": "markdown",
   "id": "f4c14ece",
   "metadata": {},
   "source": [
    "### 9. Geografical Functions"
   ]
  },
  {
   "cell_type": "code",
   "execution_count": null,
   "id": "9d11b98d",
   "metadata": {},
   "outputs": [],
   "source": [
    "# Ejercicio 65 - Antigüedad de empleados\n",
    "mostrar_query(\"\"\"\n",
    "SELECT DATE(HireDate) AS fecha_contratacion,\n",
    "       CAST(STRFTIME('%Y', 'now') AS INTEGER) - CAST(STRFTIME('%Y', HireDate) AS INTEGER) AS antiguedad\n",
    "FROM 'HumanResources.Employee'\n",
    "ORDER BY antiguedad DESC\n",
    "\"\"\")\n"
   ]
  },
  {
   "cell_type": "code",
   "execution_count": null,
   "id": "db3af2ae",
   "metadata": {},
   "outputs": [],
   "source": [
    "# Ejercicio 66 - Direcciones más cercanas (simulado con distancia euclídea)\n",
    "mostrar_query(\"\"\"\n",
    "SELECT AddressID, AddressLine1, City,\n",
    "       ((Latitude - 47.6062)*(Latitude - 47.6062) + \n",
    "        (Longitude + 122.3321)*(Longitude + 122.3321)) AS DistanciaAproximada\n",
    "FROM 'Person.Address'\n",
    "WHERE Latitude IS NOT NULL AND Longitude IS NOT NULL\n",
    "ORDER BY DistanciaAproximada ASC\n",
    "LIMIT 10\n",
    "\"\"\")\n"
   ]
  },
  {
   "cell_type": "code",
   "execution_count": null,
   "id": "e719ae64",
   "metadata": {},
   "outputs": [],
   "source": [
    "# Ejercicio 67 - Direcciones dentro de un radio de 50km (aproximado)\n",
    "mostrar_query(\"\"\"\n",
    "SELECT AddressID, AddressLine1, City\n",
    "FROM 'Person.Address'\n",
    "WHERE Latitude IS NOT NULL AND Longitude IS NOT NULL\n",
    "AND ((Latitude - 47.6062)*(Latitude - 47.6062) + \n",
    "     (Longitude + 122.3321)*(Longitude + 122.3321)) <= 0.25\n",
    "\"\"\")\n"
   ]
  },
  {
   "cell_type": "code",
   "execution_count": null,
   "id": "8769e29b",
   "metadata": {},
   "outputs": [],
   "source": [
    "# Ejercicio 68 - Direcciones con representación WKT\n",
    "mostrar_query(\"\"\"\n",
    "SELECT AddressID, AddressLine1, City,\n",
    "       'POINT(' || Longitude || ' ' || Latitude || ')' AS WKT\n",
    "FROM 'Person.Address'\n",
    "WHERE Latitude IS NOT NULL AND Longitude IS NOT NULL\n",
    "\"\"\")\n"
   ]
  },
  {
   "cell_type": "code",
   "execution_count": null,
   "id": "3f65e41e",
   "metadata": {},
   "outputs": [],
   "source": [
    "# Ejercicio 69 - Ruta entre 3 direcciones con IDs más bajos (LINESTRING en plano)\n",
    "mostrar_query(\"\"\"\n",
    "SELECT 'LINESTRING(' || \n",
    "       MIN(Longitude) || ' ' || MIN(Latitude) || ', ' ||\n",
    "       AVG(Longitude) || ' ' || AVG(Latitude) || ', ' ||\n",
    "       MAX(Longitude) || ' ' || MAX(Latitude) || ')' AS RutaEnPlano\n",
    "FROM (\n",
    "  SELECT Longitude, Latitude\n",
    "  FROM 'Person.Address'\n",
    "  WHERE Latitude IS NOT NULL AND Longitude IS NOT NULL\n",
    "  ORDER BY AddressID\n",
    "  LIMIT 3\n",
    ")\n",
    "\"\"\")\n"
   ]
  }
 ],
 "metadata": {
  "kernelspec": {
   "display_name": "base",
   "language": "python",
   "name": "python3"
  },
  "language_info": {
   "codemirror_mode": {
    "name": "ipython",
    "version": 3
   },
   "file_extension": ".py",
   "mimetype": "text/x-python",
   "name": "python",
   "nbconvert_exporter": "python",
   "pygments_lexer": "ipython3",
   "version": "3.12.4"
  }
 },
 "nbformat": 4,
 "nbformat_minor": 5
}
