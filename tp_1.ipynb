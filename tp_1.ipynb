{
 "cells": [
  {
   "cell_type": "markdown",
   "id": "095727ac",
   "metadata": {},
   "source": [
    "# General configuration"
   ]
  },
  {
   "cell_type": "code",
   "execution_count": 1,
   "id": "7f3da18c",
   "metadata": {},
   "outputs": [],
   "source": [
    "# Libraries used\n",
    "import sqlite3 \n",
    "import os\n",
    "import pandas as pd"
   ]
  },
  {
   "cell_type": "code",
   "execution_count": 2,
   "id": "357804f9",
   "metadata": {},
   "outputs": [],
   "source": [
    "# Paths \n",
    "wd = os.getcwd()\n",
    "db = \"adventureworks_sql_lite.sqlite\" # same archive contained in the repository\n",
    "db_path = os.path.join(wd, db)\n"
   ]
  },
  {
   "cell_type": "code",
   "execution_count": 3,
   "id": "0e4f295c",
   "metadata": {},
   "outputs": [],
   "source": [
    "# Function used to display the query made with sql on python with sqlite3\n",
    "\n",
    "def mostrar_query (query, limite = 3, dataset = True):\n",
    "    cursor.execute(query)\n",
    "    columnas = [desc[0] for desc in cursor.description]\n",
    "    filas = cursor.fetchmany(limite)\n",
    "    try:\n",
    "        if dataset:\n",
    "            dataset_final = pd.DataFrame(filas, columns=columnas)\n",
    "            return dataset_final\n",
    "        else:\n",
    "            return filas\n",
    "    except Exception as e:\n",
    "        print (f\"No se puede mostrar la consulta, la palida es: {e}\")\n"
   ]
  },
  {
   "cell_type": "code",
   "execution_count": 4,
   "id": "0066a2d5",
   "metadata": {},
   "outputs": [],
   "source": [
    "# Database conection with sqlite3\n",
    "\n",
    "conn = sqlite3.connect(db_path)\n",
    "cursor = conn.cursor()"
   ]
  },
  {
   "cell_type": "markdown",
   "id": "e21af28e",
   "metadata": {},
   "source": [
    "# Exercises"
   ]
  },
  {
   "cell_type": "markdown",
   "id": "76395b5d",
   "metadata": {},
   "source": [
    "##  Thematic Index by Conceptual Unit\n"
   ]
  },
  {
   "cell_type": "markdown",
   "id": "46bbc138",
   "metadata": {},
   "source": [
    "### 1. Fundamentals of SQL Querying\n",
    "*Using SELECT, WHERE, LIKE, logical operators, and NULL handling.*"
   ]
  },
  {
   "cell_type": "code",
   "execution_count": 5,
   "id": "88ec441d",
   "metadata": {},
   "outputs": [
    {
     "data": {
      "application/vnd.microsoft.datawrangler.viewer.v0+json": {
       "columns": [
        {
         "name": "index",
         "rawType": "int64",
         "type": "integer"
        },
        {
         "name": "BusinessEntityID",
         "rawType": "object",
         "type": "string"
        },
        {
         "name": "PersonType",
         "rawType": "object",
         "type": "string"
        },
        {
         "name": "NameStyle",
         "rawType": "object",
         "type": "string"
        },
        {
         "name": "Title",
         "rawType": "object",
         "type": "string"
        },
        {
         "name": "FirstName",
         "rawType": "object",
         "type": "string"
        },
        {
         "name": "MiddleName",
         "rawType": "object",
         "type": "string"
        },
        {
         "name": "LastName",
         "rawType": "object",
         "type": "string"
        },
        {
         "name": "Suffix",
         "rawType": "object",
         "type": "string"
        },
        {
         "name": "EmailPromotion",
         "rawType": "object",
         "type": "string"
        },
        {
         "name": "AdditionalContactInfo",
         "rawType": "object",
         "type": "string"
        },
        {
         "name": "Demographics",
         "rawType": "object",
         "type": "string"
        },
        {
         "name": "rowguid",
         "rawType": "object",
         "type": "string"
        },
        {
         "name": "ModifiedDate",
         "rawType": "object",
         "type": "string"
        }
       ],
       "ref": "96e9de0b-1408-41f7-95cb-7cf0db7621a0",
       "rows": [
        [
         "0",
         "1",
         "EM",
         "0",
         "",
         "Ken",
         "J",
         "Sánchez",
         "",
         "0",
         "",
         "<IndividualSurvey xmlns=\"http://schemas.microsoft.com/sqlserver/2004/07/adventure-works/IndividualSurvey\"><TotalPurchaseYTD>0</TotalPurchaseYTD></IndividualSurvey>",
         "92C4279F-1207-48A3-8448-4636514EB7E2",
         "2009-01-07 00:00:00"
        ],
        [
         "1",
         "2",
         "EM",
         "0",
         "",
         "Terri",
         "Lee",
         "Duffy",
         "",
         "1",
         "",
         "<IndividualSurvey xmlns=\"http://schemas.microsoft.com/sqlserver/2004/07/adventure-works/IndividualSurvey\"><TotalPurchaseYTD>0</TotalPurchaseYTD></IndividualSurvey>",
         "D8763459-8AA8-47CC-AFF7-C9079AF79033",
         "2008-01-24 00:00:00"
        ],
        [
         "2",
         "3",
         "EM",
         "0",
         "",
         "Roberto",
         "",
         "Tamburello",
         "",
         "0",
         "",
         "<IndividualSurvey xmlns=\"http://schemas.microsoft.com/sqlserver/2004/07/adventure-works/IndividualSurvey\"><TotalPurchaseYTD>0</TotalPurchaseYTD></IndividualSurvey>",
         "E1A2555E-0828-434B-A33B-6F38136A37DE",
         "2007-11-04 00:00:00"
        ]
       ],
       "shape": {
        "columns": 13,
        "rows": 3
       }
      },
      "text/html": [
       "<div>\n",
       "<style scoped>\n",
       "    .dataframe tbody tr th:only-of-type {\n",
       "        vertical-align: middle;\n",
       "    }\n",
       "\n",
       "    .dataframe tbody tr th {\n",
       "        vertical-align: top;\n",
       "    }\n",
       "\n",
       "    .dataframe thead th {\n",
       "        text-align: right;\n",
       "    }\n",
       "</style>\n",
       "<table border=\"1\" class=\"dataframe\">\n",
       "  <thead>\n",
       "    <tr style=\"text-align: right;\">\n",
       "      <th></th>\n",
       "      <th>BusinessEntityID</th>\n",
       "      <th>PersonType</th>\n",
       "      <th>NameStyle</th>\n",
       "      <th>Title</th>\n",
       "      <th>FirstName</th>\n",
       "      <th>MiddleName</th>\n",
       "      <th>LastName</th>\n",
       "      <th>Suffix</th>\n",
       "      <th>EmailPromotion</th>\n",
       "      <th>AdditionalContactInfo</th>\n",
       "      <th>Demographics</th>\n",
       "      <th>rowguid</th>\n",
       "      <th>ModifiedDate</th>\n",
       "    </tr>\n",
       "  </thead>\n",
       "  <tbody>\n",
       "    <tr>\n",
       "      <th>0</th>\n",
       "      <td>1</td>\n",
       "      <td>EM</td>\n",
       "      <td>0</td>\n",
       "      <td></td>\n",
       "      <td>Ken</td>\n",
       "      <td>J</td>\n",
       "      <td>Sánchez</td>\n",
       "      <td></td>\n",
       "      <td>0</td>\n",
       "      <td></td>\n",
       "      <td>&lt;IndividualSurvey xmlns=\"http://schemas.micros...</td>\n",
       "      <td>92C4279F-1207-48A3-8448-4636514EB7E2</td>\n",
       "      <td>2009-01-07 00:00:00</td>\n",
       "    </tr>\n",
       "    <tr>\n",
       "      <th>1</th>\n",
       "      <td>2</td>\n",
       "      <td>EM</td>\n",
       "      <td>0</td>\n",
       "      <td></td>\n",
       "      <td>Terri</td>\n",
       "      <td>Lee</td>\n",
       "      <td>Duffy</td>\n",
       "      <td></td>\n",
       "      <td>1</td>\n",
       "      <td></td>\n",
       "      <td>&lt;IndividualSurvey xmlns=\"http://schemas.micros...</td>\n",
       "      <td>D8763459-8AA8-47CC-AFF7-C9079AF79033</td>\n",
       "      <td>2008-01-24 00:00:00</td>\n",
       "    </tr>\n",
       "    <tr>\n",
       "      <th>2</th>\n",
       "      <td>3</td>\n",
       "      <td>EM</td>\n",
       "      <td>0</td>\n",
       "      <td></td>\n",
       "      <td>Roberto</td>\n",
       "      <td></td>\n",
       "      <td>Tamburello</td>\n",
       "      <td></td>\n",
       "      <td>0</td>\n",
       "      <td></td>\n",
       "      <td>&lt;IndividualSurvey xmlns=\"http://schemas.micros...</td>\n",
       "      <td>E1A2555E-0828-434B-A33B-6F38136A37DE</td>\n",
       "      <td>2007-11-04 00:00:00</td>\n",
       "    </tr>\n",
       "  </tbody>\n",
       "</table>\n",
       "</div>"
      ],
      "text/plain": [
       "  BusinessEntityID PersonType NameStyle Title FirstName MiddleName  \\\n",
       "0                1         EM         0             Ken          J   \n",
       "1                2         EM         0           Terri        Lee   \n",
       "2                3         EM         0         Roberto              \n",
       "\n",
       "     LastName Suffix EmailPromotion AdditionalContactInfo  \\\n",
       "0     Sánchez                     0                         \n",
       "1       Duffy                     1                         \n",
       "2  Tamburello                     0                         \n",
       "\n",
       "                                        Demographics  \\\n",
       "0  <IndividualSurvey xmlns=\"http://schemas.micros...   \n",
       "1  <IndividualSurvey xmlns=\"http://schemas.micros...   \n",
       "2  <IndividualSurvey xmlns=\"http://schemas.micros...   \n",
       "\n",
       "                                rowguid         ModifiedDate  \n",
       "0  92C4279F-1207-48A3-8448-4636514EB7E2  2009-01-07 00:00:00  \n",
       "1  D8763459-8AA8-47CC-AFF7-C9079AF79033  2008-01-24 00:00:00  \n",
       "2  E1A2555E-0828-434B-A33B-6F38136A37DE  2007-11-04 00:00:00  "
      ]
     },
     "execution_count": 5,
     "metadata": {},
     "output_type": "execute_result"
    }
   ],
   "source": [
    "# 1. Mostrar el contenido de la tabla Person, del esquema Person.\n",
    "\n",
    "mostrar_query(\"\"\"SELECT * \n",
    "              from 'Person.Person' p\"\"\")\n",
    "\n"
   ]
  },
  {
   "cell_type": "code",
   "execution_count": 6,
   "id": "b04c9510",
   "metadata": {},
   "outputs": [
    {
     "data": {
      "application/vnd.microsoft.datawrangler.viewer.v0+json": {
       "columns": [
        {
         "name": "index",
         "rawType": "int64",
         "type": "integer"
        },
        {
         "name": "FirstName",
         "rawType": "object",
         "type": "string"
        },
        {
         "name": "LastName",
         "rawType": "object",
         "type": "string"
        }
       ],
       "ref": "9ac44546-f701-4008-9fe6-f03ceb74c42b",
       "rows": [
        [
         "0",
         "Gail",
         "Erickson"
        ],
        [
         "1",
         "Janice",
         "Galvin"
        ],
        [
         "2",
         "Jill",
         "Williams"
        ]
       ],
       "shape": {
        "columns": 2,
        "rows": 3
       }
      },
      "text/html": [
       "<div>\n",
       "<style scoped>\n",
       "    .dataframe tbody tr th:only-of-type {\n",
       "        vertical-align: middle;\n",
       "    }\n",
       "\n",
       "    .dataframe tbody tr th {\n",
       "        vertical-align: top;\n",
       "    }\n",
       "\n",
       "    .dataframe thead th {\n",
       "        text-align: right;\n",
       "    }\n",
       "</style>\n",
       "<table border=\"1\" class=\"dataframe\">\n",
       "  <thead>\n",
       "    <tr style=\"text-align: right;\">\n",
       "      <th></th>\n",
       "      <th>FirstName</th>\n",
       "      <th>LastName</th>\n",
       "    </tr>\n",
       "  </thead>\n",
       "  <tbody>\n",
       "    <tr>\n",
       "      <th>0</th>\n",
       "      <td>Gail</td>\n",
       "      <td>Erickson</td>\n",
       "    </tr>\n",
       "    <tr>\n",
       "      <th>1</th>\n",
       "      <td>Janice</td>\n",
       "      <td>Galvin</td>\n",
       "    </tr>\n",
       "    <tr>\n",
       "      <th>2</th>\n",
       "      <td>Jill</td>\n",
       "      <td>Williams</td>\n",
       "    </tr>\n",
       "  </tbody>\n",
       "</table>\n",
       "</div>"
      ],
      "text/plain": [
       "  FirstName  LastName\n",
       "0      Gail  Erickson\n",
       "1    Janice    Galvin\n",
       "2      Jill  Williams"
      ]
     },
     "execution_count": 6,
     "metadata": {},
     "output_type": "execute_result"
    }
   ],
   "source": [
    "# 2. Mostrar los nombres y apelllido de cada persona que tenga como tratamiento “Ms.”\n",
    "\n",
    "mostrar_query(\"\"\"\n",
    "SELECT p.FirstName, p.LastName\n",
    "FROM 'Person.Person' p\n",
    "WHERE p.Title LIKE 'Ms%'\n",
    "\"\"\")"
   ]
  },
  {
   "cell_type": "code",
   "execution_count": 7,
   "id": "2a623dbd",
   "metadata": {},
   "outputs": [
    {
     "data": {
      "application/vnd.microsoft.datawrangler.viewer.v0+json": {
       "columns": [
        {
         "name": "index",
         "rawType": "int64",
         "type": "integer"
        },
        {
         "name": "BusinessEntityID",
         "rawType": "object",
         "type": "string"
        },
        {
         "name": "PersonType",
         "rawType": "object",
         "type": "string"
        },
        {
         "name": "NameStyle",
         "rawType": "object",
         "type": "string"
        },
        {
         "name": "Title",
         "rawType": "object",
         "type": "string"
        },
        {
         "name": "FirstName",
         "rawType": "object",
         "type": "string"
        },
        {
         "name": "MiddleName",
         "rawType": "object",
         "type": "string"
        },
        {
         "name": "LastName",
         "rawType": "object",
         "type": "string"
        },
        {
         "name": "Suffix",
         "rawType": "object",
         "type": "string"
        },
        {
         "name": "EmailPromotion",
         "rawType": "object",
         "type": "string"
        },
        {
         "name": "AdditionalContactInfo",
         "rawType": "object",
         "type": "string"
        },
        {
         "name": "Demographics",
         "rawType": "object",
         "type": "string"
        },
        {
         "name": "rowguid",
         "rawType": "object",
         "type": "string"
        },
        {
         "name": "ModifiedDate",
         "rawType": "object",
         "type": "string"
        }
       ],
       "ref": "a4d37728-83f4-4dd1-9b9e-3e4b741cfa59",
       "rows": [],
       "shape": {
        "columns": 13,
        "rows": 0
       }
      },
      "text/html": [
       "<div>\n",
       "<style scoped>\n",
       "    .dataframe tbody tr th:only-of-type {\n",
       "        vertical-align: middle;\n",
       "    }\n",
       "\n",
       "    .dataframe tbody tr th {\n",
       "        vertical-align: top;\n",
       "    }\n",
       "\n",
       "    .dataframe thead th {\n",
       "        text-align: right;\n",
       "    }\n",
       "</style>\n",
       "<table border=\"1\" class=\"dataframe\">\n",
       "  <thead>\n",
       "    <tr style=\"text-align: right;\">\n",
       "      <th></th>\n",
       "      <th>BusinessEntityID</th>\n",
       "      <th>PersonType</th>\n",
       "      <th>NameStyle</th>\n",
       "      <th>Title</th>\n",
       "      <th>FirstName</th>\n",
       "      <th>MiddleName</th>\n",
       "      <th>LastName</th>\n",
       "      <th>Suffix</th>\n",
       "      <th>EmailPromotion</th>\n",
       "      <th>AdditionalContactInfo</th>\n",
       "      <th>Demographics</th>\n",
       "      <th>rowguid</th>\n",
       "      <th>ModifiedDate</th>\n",
       "    </tr>\n",
       "  </thead>\n",
       "  <tbody>\n",
       "  </tbody>\n",
       "</table>\n",
       "</div>"
      ],
      "text/plain": [
       "Empty DataFrame\n",
       "Columns: [BusinessEntityID, PersonType, NameStyle, Title, FirstName, MiddleName, LastName, Suffix, EmailPromotion, AdditionalContactInfo, Demographics, rowguid, ModifiedDate]\n",
       "Index: []"
      ]
     },
     "execution_count": 7,
     "metadata": {},
     "output_type": "execute_result"
    }
   ],
   "source": [
    "#3. Personas con “Mr.” y apellido “White”\n",
    "\n",
    "mostrar_query(\"\"\"\n",
    "SELECT *\n",
    "FROM 'Person.Person' p\n",
    "WHERE p.Title LIKE 'Mr%' COLLATE NOCASE\n",
    "  AND p.LastName LIKE '%White' COLLATE NOCASE\n",
    "\"\"\")\n"
   ]
  },
  {
   "cell_type": "code",
   "execution_count": 8,
   "id": "320ad488",
   "metadata": {},
   "outputs": [
    {
     "data": {
      "application/vnd.microsoft.datawrangler.viewer.v0+json": {
       "columns": [
        {
         "name": "index",
         "rawType": "int64",
         "type": "integer"
        },
        {
         "name": "BusinessEntityID",
         "rawType": "object",
         "type": "string"
        },
        {
         "name": "PersonType",
         "rawType": "object",
         "type": "string"
        },
        {
         "name": "NameStyle",
         "rawType": "object",
         "type": "string"
        },
        {
         "name": "Title",
         "rawType": "object",
         "type": "string"
        },
        {
         "name": "FirstName",
         "rawType": "object",
         "type": "string"
        },
        {
         "name": "MiddleName",
         "rawType": "object",
         "type": "string"
        },
        {
         "name": "LastName",
         "rawType": "object",
         "type": "string"
        },
        {
         "name": "Suffix",
         "rawType": "object",
         "type": "string"
        },
        {
         "name": "EmailPromotion",
         "rawType": "object",
         "type": "string"
        },
        {
         "name": "AdditionalContactInfo",
         "rawType": "object",
         "type": "string"
        },
        {
         "name": "Demographics",
         "rawType": "object",
         "type": "string"
        },
        {
         "name": "rowguid",
         "rawType": "object",
         "type": "string"
        },
        {
         "name": "ModifiedDate",
         "rawType": "object",
         "type": "string"
        }
       ],
       "ref": "fbd3b95a-b873-4b48-abce-45ad01c3a44a",
       "rows": [
        [
         "0",
         "1",
         "EM",
         "0",
         "",
         "Ken",
         "J",
         "Sánchez",
         "",
         "0",
         "",
         "<IndividualSurvey xmlns=\"http://schemas.microsoft.com/sqlserver/2004/07/adventure-works/IndividualSurvey\"><TotalPurchaseYTD>0</TotalPurchaseYTD></IndividualSurvey>",
         "92C4279F-1207-48A3-8448-4636514EB7E2",
         "2009-01-07 00:00:00"
        ],
        [
         "1",
         "2",
         "EM",
         "0",
         "",
         "Terri",
         "Lee",
         "Duffy",
         "",
         "1",
         "",
         "<IndividualSurvey xmlns=\"http://schemas.microsoft.com/sqlserver/2004/07/adventure-works/IndividualSurvey\"><TotalPurchaseYTD>0</TotalPurchaseYTD></IndividualSurvey>",
         "D8763459-8AA8-47CC-AFF7-C9079AF79033",
         "2008-01-24 00:00:00"
        ],
        [
         "2",
         "3",
         "EM",
         "0",
         "",
         "Roberto",
         "",
         "Tamburello",
         "",
         "0",
         "",
         "<IndividualSurvey xmlns=\"http://schemas.microsoft.com/sqlserver/2004/07/adventure-works/IndividualSurvey\"><TotalPurchaseYTD>0</TotalPurchaseYTD></IndividualSurvey>",
         "E1A2555E-0828-434B-A33B-6F38136A37DE",
         "2007-11-04 00:00:00"
        ]
       ],
       "shape": {
        "columns": 13,
        "rows": 3
       }
      },
      "text/html": [
       "<div>\n",
       "<style scoped>\n",
       "    .dataframe tbody tr th:only-of-type {\n",
       "        vertical-align: middle;\n",
       "    }\n",
       "\n",
       "    .dataframe tbody tr th {\n",
       "        vertical-align: top;\n",
       "    }\n",
       "\n",
       "    .dataframe thead th {\n",
       "        text-align: right;\n",
       "    }\n",
       "</style>\n",
       "<table border=\"1\" class=\"dataframe\">\n",
       "  <thead>\n",
       "    <tr style=\"text-align: right;\">\n",
       "      <th></th>\n",
       "      <th>BusinessEntityID</th>\n",
       "      <th>PersonType</th>\n",
       "      <th>NameStyle</th>\n",
       "      <th>Title</th>\n",
       "      <th>FirstName</th>\n",
       "      <th>MiddleName</th>\n",
       "      <th>LastName</th>\n",
       "      <th>Suffix</th>\n",
       "      <th>EmailPromotion</th>\n",
       "      <th>AdditionalContactInfo</th>\n",
       "      <th>Demographics</th>\n",
       "      <th>rowguid</th>\n",
       "      <th>ModifiedDate</th>\n",
       "    </tr>\n",
       "  </thead>\n",
       "  <tbody>\n",
       "    <tr>\n",
       "      <th>0</th>\n",
       "      <td>1</td>\n",
       "      <td>EM</td>\n",
       "      <td>0</td>\n",
       "      <td></td>\n",
       "      <td>Ken</td>\n",
       "      <td>J</td>\n",
       "      <td>Sánchez</td>\n",
       "      <td></td>\n",
       "      <td>0</td>\n",
       "      <td></td>\n",
       "      <td>&lt;IndividualSurvey xmlns=\"http://schemas.micros...</td>\n",
       "      <td>92C4279F-1207-48A3-8448-4636514EB7E2</td>\n",
       "      <td>2009-01-07 00:00:00</td>\n",
       "    </tr>\n",
       "    <tr>\n",
       "      <th>1</th>\n",
       "      <td>2</td>\n",
       "      <td>EM</td>\n",
       "      <td>0</td>\n",
       "      <td></td>\n",
       "      <td>Terri</td>\n",
       "      <td>Lee</td>\n",
       "      <td>Duffy</td>\n",
       "      <td></td>\n",
       "      <td>1</td>\n",
       "      <td></td>\n",
       "      <td>&lt;IndividualSurvey xmlns=\"http://schemas.micros...</td>\n",
       "      <td>D8763459-8AA8-47CC-AFF7-C9079AF79033</td>\n",
       "      <td>2008-01-24 00:00:00</td>\n",
       "    </tr>\n",
       "    <tr>\n",
       "      <th>2</th>\n",
       "      <td>3</td>\n",
       "      <td>EM</td>\n",
       "      <td>0</td>\n",
       "      <td></td>\n",
       "      <td>Roberto</td>\n",
       "      <td></td>\n",
       "      <td>Tamburello</td>\n",
       "      <td></td>\n",
       "      <td>0</td>\n",
       "      <td></td>\n",
       "      <td>&lt;IndividualSurvey xmlns=\"http://schemas.micros...</td>\n",
       "      <td>E1A2555E-0828-434B-A33B-6F38136A37DE</td>\n",
       "      <td>2007-11-04 00:00:00</td>\n",
       "    </tr>\n",
       "  </tbody>\n",
       "</table>\n",
       "</div>"
      ],
      "text/plain": [
       "  BusinessEntityID PersonType NameStyle Title FirstName MiddleName  \\\n",
       "0                1         EM         0             Ken          J   \n",
       "1                2         EM         0           Terri        Lee   \n",
       "2                3         EM         0         Roberto              \n",
       "\n",
       "     LastName Suffix EmailPromotion AdditionalContactInfo  \\\n",
       "0     Sánchez                     0                         \n",
       "1       Duffy                     1                         \n",
       "2  Tamburello                     0                         \n",
       "\n",
       "                                        Demographics  \\\n",
       "0  <IndividualSurvey xmlns=\"http://schemas.micros...   \n",
       "1  <IndividualSurvey xmlns=\"http://schemas.micros...   \n",
       "2  <IndividualSurvey xmlns=\"http://schemas.micros...   \n",
       "\n",
       "                                rowguid         ModifiedDate  \n",
       "0  92C4279F-1207-48A3-8448-4636514EB7E2  2009-01-07 00:00:00  \n",
       "1  D8763459-8AA8-47CC-AFF7-C9079AF79033  2008-01-24 00:00:00  \n",
       "2  E1A2555E-0828-434B-A33B-6F38136A37DE  2007-11-04 00:00:00  "
      ]
     },
     "execution_count": 8,
     "metadata": {},
     "output_type": "execute_result"
    }
   ],
   "source": [
    "# 5. Mostrar los datos de las personas que tengan asignado el tipo “SP” ó el tipo “VC”.\n",
    "\n",
    "mostrar_query(\"\"\"\n",
    "SELECT * \n",
    "FROM 'Person.Person' p\n",
    "WHERE p.PersonType LIKE 'EM' OR p.PersonType LIKE 'VC'\n",
    "\"\"\")\n"
   ]
  },
  {
   "cell_type": "code",
   "execution_count": 9,
   "id": "341aceb3",
   "metadata": {},
   "outputs": [
    {
     "data": {
      "application/vnd.microsoft.datawrangler.viewer.v0+json": {
       "columns": [
        {
         "name": "index",
         "rawType": "int64",
         "type": "integer"
        },
        {
         "name": "BusinessEntityID",
         "rawType": "object",
         "type": "string"
        },
        {
         "name": "NationalIDNumber",
         "rawType": "object",
         "type": "string"
        },
        {
         "name": "LoginID",
         "rawType": "object",
         "type": "string"
        },
        {
         "name": "OrganizationNode",
         "rawType": "object",
         "type": "string"
        },
        {
         "name": "OrganizationLevel",
         "rawType": "object",
         "type": "string"
        },
        {
         "name": "JobTitle",
         "rawType": "object",
         "type": "string"
        },
        {
         "name": "BirthDate",
         "rawType": "object",
         "type": "string"
        },
        {
         "name": "MaritalStatus",
         "rawType": "object",
         "type": "string"
        },
        {
         "name": "Gender",
         "rawType": "object",
         "type": "string"
        },
        {
         "name": "HireDate",
         "rawType": "object",
         "type": "string"
        },
        {
         "name": "SalariedFlag",
         "rawType": "object",
         "type": "string"
        },
        {
         "name": "VacationHours",
         "rawType": "object",
         "type": "string"
        },
        {
         "name": "SickLeaveHours",
         "rawType": "object",
         "type": "string"
        },
        {
         "name": "CurrentFlag",
         "rawType": "object",
         "type": "string"
        },
        {
         "name": "rowguid",
         "rawType": "object",
         "type": "string"
        },
        {
         "name": "ModifiedDate",
         "rawType": "object",
         "type": "string"
        }
       ],
       "ref": "63f4b06e-98a8-40a5-ad04-58ce825606c1",
       "rows": [
        [
         "0",
         "1",
         "295847284",
         "adventure-works\\ken0",
         "",
         "",
         "Chief Executive Officer",
         "1969-01-29",
         "S",
         "M",
         "2009-01-14",
         "1",
         "99",
         "69",
         "1",
         "F01251E5-96A3-448D-981E-0F99D789110D",
         "2014-06-30 00:00:00"
        ],
        [
         "1",
         "2",
         "245797967",
         "adventure-works\\terri0",
         "58",
         "1",
         "Vice President of Engineering",
         "1971-08-01",
         "S",
         "F",
         "2008-01-31",
         "1",
         "1",
         "20",
         "1",
         "45E8F437-670D-4409-93CB-F9424A40D6EE",
         "2014-06-30 00:00:00"
        ],
        [
         "2",
         "3",
         "509647174",
         "adventure-works\\roberto0",
         "5AC0",
         "2",
         "Engineering Manager",
         "1974-11-12",
         "M",
         "M",
         "2007-11-11",
         "1",
         "2",
         "21",
         "1",
         "9BBBFB2C-EFBB-4217-9AB7-F97689328841",
         "2014-06-30 00:00:00"
        ]
       ],
       "shape": {
        "columns": 16,
        "rows": 3
       }
      },
      "text/html": [
       "<div>\n",
       "<style scoped>\n",
       "    .dataframe tbody tr th:only-of-type {\n",
       "        vertical-align: middle;\n",
       "    }\n",
       "\n",
       "    .dataframe tbody tr th {\n",
       "        vertical-align: top;\n",
       "    }\n",
       "\n",
       "    .dataframe thead th {\n",
       "        text-align: right;\n",
       "    }\n",
       "</style>\n",
       "<table border=\"1\" class=\"dataframe\">\n",
       "  <thead>\n",
       "    <tr style=\"text-align: right;\">\n",
       "      <th></th>\n",
       "      <th>BusinessEntityID</th>\n",
       "      <th>NationalIDNumber</th>\n",
       "      <th>LoginID</th>\n",
       "      <th>OrganizationNode</th>\n",
       "      <th>OrganizationLevel</th>\n",
       "      <th>JobTitle</th>\n",
       "      <th>BirthDate</th>\n",
       "      <th>MaritalStatus</th>\n",
       "      <th>Gender</th>\n",
       "      <th>HireDate</th>\n",
       "      <th>SalariedFlag</th>\n",
       "      <th>VacationHours</th>\n",
       "      <th>SickLeaveHours</th>\n",
       "      <th>CurrentFlag</th>\n",
       "      <th>rowguid</th>\n",
       "      <th>ModifiedDate</th>\n",
       "    </tr>\n",
       "  </thead>\n",
       "  <tbody>\n",
       "    <tr>\n",
       "      <th>0</th>\n",
       "      <td>1</td>\n",
       "      <td>295847284</td>\n",
       "      <td>adventure-works\\ken0</td>\n",
       "      <td></td>\n",
       "      <td></td>\n",
       "      <td>Chief Executive Officer</td>\n",
       "      <td>1969-01-29</td>\n",
       "      <td>S</td>\n",
       "      <td>M</td>\n",
       "      <td>2009-01-14</td>\n",
       "      <td>1</td>\n",
       "      <td>99</td>\n",
       "      <td>69</td>\n",
       "      <td>1</td>\n",
       "      <td>F01251E5-96A3-448D-981E-0F99D789110D</td>\n",
       "      <td>2014-06-30 00:00:00</td>\n",
       "    </tr>\n",
       "    <tr>\n",
       "      <th>1</th>\n",
       "      <td>2</td>\n",
       "      <td>245797967</td>\n",
       "      <td>adventure-works\\terri0</td>\n",
       "      <td>58</td>\n",
       "      <td>1</td>\n",
       "      <td>Vice President of Engineering</td>\n",
       "      <td>1971-08-01</td>\n",
       "      <td>S</td>\n",
       "      <td>F</td>\n",
       "      <td>2008-01-31</td>\n",
       "      <td>1</td>\n",
       "      <td>1</td>\n",
       "      <td>20</td>\n",
       "      <td>1</td>\n",
       "      <td>45E8F437-670D-4409-93CB-F9424A40D6EE</td>\n",
       "      <td>2014-06-30 00:00:00</td>\n",
       "    </tr>\n",
       "    <tr>\n",
       "      <th>2</th>\n",
       "      <td>3</td>\n",
       "      <td>509647174</td>\n",
       "      <td>adventure-works\\roberto0</td>\n",
       "      <td>5AC0</td>\n",
       "      <td>2</td>\n",
       "      <td>Engineering Manager</td>\n",
       "      <td>1974-11-12</td>\n",
       "      <td>M</td>\n",
       "      <td>M</td>\n",
       "      <td>2007-11-11</td>\n",
       "      <td>1</td>\n",
       "      <td>2</td>\n",
       "      <td>21</td>\n",
       "      <td>1</td>\n",
       "      <td>9BBBFB2C-EFBB-4217-9AB7-F97689328841</td>\n",
       "      <td>2014-06-30 00:00:00</td>\n",
       "    </tr>\n",
       "  </tbody>\n",
       "</table>\n",
       "</div>"
      ],
      "text/plain": [
       "  BusinessEntityID NationalIDNumber                   LoginID  \\\n",
       "0                1        295847284      adventure-works\\ken0   \n",
       "1                2        245797967    adventure-works\\terri0   \n",
       "2                3        509647174  adventure-works\\roberto0   \n",
       "\n",
       "  OrganizationNode OrganizationLevel                       JobTitle  \\\n",
       "0                                           Chief Executive Officer   \n",
       "1               58                 1  Vice President of Engineering   \n",
       "2             5AC0                 2            Engineering Manager   \n",
       "\n",
       "    BirthDate MaritalStatus Gender    HireDate SalariedFlag VacationHours  \\\n",
       "0  1969-01-29             S      M  2009-01-14            1            99   \n",
       "1  1971-08-01             S      F  2008-01-31            1             1   \n",
       "2  1974-11-12             M      M  2007-11-11            1             2   \n",
       "\n",
       "  SickLeaveHours CurrentFlag                               rowguid  \\\n",
       "0             69           1  F01251E5-96A3-448D-981E-0F99D789110D   \n",
       "1             20           1  45E8F437-670D-4409-93CB-F9424A40D6EE   \n",
       "2             21           1  9BBBFB2C-EFBB-4217-9AB7-F97689328841   \n",
       "\n",
       "          ModifiedDate  \n",
       "0  2014-06-30 00:00:00  \n",
       "1  2014-06-30 00:00:00  \n",
       "2  2014-06-30 00:00:00  "
      ]
     },
     "execution_count": 9,
     "metadata": {},
     "output_type": "execute_result"
    }
   ],
   "source": [
    "#6. Mostrar el contenido de la tabla Employee, del esquema HumanResources\n",
    "\n",
    "mostrar_query(\"\"\"\n",
    "SELECT * \n",
    "FROM 'HumanResources.Employee' AS e\n",
    "\"\"\")\n",
    "\n"
   ]
  },
  {
   "cell_type": "code",
   "execution_count": 10,
   "id": "9a48207e",
   "metadata": {},
   "outputs": [
    {
     "data": {
      "application/vnd.microsoft.datawrangler.viewer.v0+json": {
       "columns": [
        {
         "name": "index",
         "rawType": "int64",
         "type": "integer"
        },
        {
         "name": "id",
         "rawType": "object",
         "type": "string"
        }
       ],
       "ref": "3847b8c1-fd8d-44a0-922d-41b09a27e4a7",
       "rows": [],
       "shape": {
        "columns": 1,
        "rows": 0
       }
      },
      "text/html": [
       "<div>\n",
       "<style scoped>\n",
       "    .dataframe tbody tr th:only-of-type {\n",
       "        vertical-align: middle;\n",
       "    }\n",
       "\n",
       "    .dataframe tbody tr th {\n",
       "        vertical-align: top;\n",
       "    }\n",
       "\n",
       "    .dataframe thead th {\n",
       "        text-align: right;\n",
       "    }\n",
       "</style>\n",
       "<table border=\"1\" class=\"dataframe\">\n",
       "  <thead>\n",
       "    <tr style=\"text-align: right;\">\n",
       "      <th></th>\n",
       "      <th>id</th>\n",
       "    </tr>\n",
       "  </thead>\n",
       "  <tbody>\n",
       "  </tbody>\n",
       "</table>\n",
       "</div>"
      ],
      "text/plain": [
       "Empty DataFrame\n",
       "Columns: [id]\n",
       "Index: []"
      ]
     },
     "execution_count": 10,
     "metadata": {},
     "output_type": "execute_result"
    }
   ],
   "source": [
    "# 7. Hallar el Id y fecha de nacimiento de los empleados que tengan como función “Research and\n",
    "# Development Manager” y que tengan menos de 10 “VacationHours”.\n",
    "\n",
    "\n",
    "mostrar_query(\"\"\"\n",
    "SELECT e.BusinessEntityID AS id\n",
    "FROM 'HumanResources.Employee' e\n",
    "WHERE e.JobTitle = 'Research and Development Manager'\n",
    "  AND e.VacationHours < 10\n",
    "\"\"\")\n"
   ]
  },
  {
   "cell_type": "code",
   "execution_count": 11,
   "id": "32bfbfb1",
   "metadata": {},
   "outputs": [
    {
     "data": {
      "application/vnd.microsoft.datawrangler.viewer.v0+json": {
       "columns": [
        {
         "name": "index",
         "rawType": "int64",
         "type": "integer"
        },
        {
         "name": "Gender",
         "rawType": "object",
         "type": "string"
        }
       ],
       "ref": "14d2f9ec-ae1b-4ad6-8d81-800b8bb29bc6",
       "rows": [
        [
         "0",
         "M"
        ],
        [
         "1",
         "F"
        ]
       ],
       "shape": {
        "columns": 1,
        "rows": 2
       }
      },
      "text/html": [
       "<div>\n",
       "<style scoped>\n",
       "    .dataframe tbody tr th:only-of-type {\n",
       "        vertical-align: middle;\n",
       "    }\n",
       "\n",
       "    .dataframe tbody tr th {\n",
       "        vertical-align: top;\n",
       "    }\n",
       "\n",
       "    .dataframe thead th {\n",
       "        text-align: right;\n",
       "    }\n",
       "</style>\n",
       "<table border=\"1\" class=\"dataframe\">\n",
       "  <thead>\n",
       "    <tr style=\"text-align: right;\">\n",
       "      <th></th>\n",
       "      <th>Gender</th>\n",
       "    </tr>\n",
       "  </thead>\n",
       "  <tbody>\n",
       "    <tr>\n",
       "      <th>0</th>\n",
       "      <td>M</td>\n",
       "    </tr>\n",
       "    <tr>\n",
       "      <th>1</th>\n",
       "      <td>F</td>\n",
       "    </tr>\n",
       "  </tbody>\n",
       "</table>\n",
       "</div>"
      ],
      "text/plain": [
       "  Gender\n",
       "0      M\n",
       "1      F"
      ]
     },
     "execution_count": 11,
     "metadata": {},
     "output_type": "execute_result"
    }
   ],
   "source": [
    "# 8. ¿Cuáles son los tipos de “género” que figuran en la tabla de empleados?\n",
    "\n",
    "mostrar_query(\"\"\"\n",
    "SELECT DISTINCT e.Gender \n",
    "FROM 'HumanResources.Employee' AS e\n",
    "\"\"\")\n",
    "\n"
   ]
  },
  {
   "cell_type": "code",
   "execution_count": 12,
   "id": "5cf60bf2",
   "metadata": {},
   "outputs": [
    {
     "data": {
      "application/vnd.microsoft.datawrangler.viewer.v0+json": {
       "columns": [
        {
         "name": "index",
         "rawType": "int64",
         "type": "integer"
        },
        {
         "name": "id",
         "rawType": "object",
         "type": "string"
        },
        {
         "name": "FirstName",
         "rawType": "object",
         "type": "string"
        },
        {
         "name": "LastName",
         "rawType": "object",
         "type": "string"
        }
       ],
       "ref": "6e17993c-1d9d-481e-a4b6-9f4dd9da8df0",
       "rows": [
        [
         "0",
         "84",
         "Frank",
         "Martinez"
        ],
        [
         "1",
         "5",
         "Gail",
         "Erickson"
        ],
        [
         "2",
         "63",
         "Maciej",
         "Dusza"
        ]
       ],
       "shape": {
        "columns": 3,
        "rows": 3
       }
      },
      "text/html": [
       "<div>\n",
       "<style scoped>\n",
       "    .dataframe tbody tr th:only-of-type {\n",
       "        vertical-align: middle;\n",
       "    }\n",
       "\n",
       "    .dataframe tbody tr th {\n",
       "        vertical-align: top;\n",
       "    }\n",
       "\n",
       "    .dataframe thead th {\n",
       "        text-align: right;\n",
       "    }\n",
       "</style>\n",
       "<table border=\"1\" class=\"dataframe\">\n",
       "  <thead>\n",
       "    <tr style=\"text-align: right;\">\n",
       "      <th></th>\n",
       "      <th>id</th>\n",
       "      <th>FirstName</th>\n",
       "      <th>LastName</th>\n",
       "    </tr>\n",
       "  </thead>\n",
       "  <tbody>\n",
       "    <tr>\n",
       "      <th>0</th>\n",
       "      <td>84</td>\n",
       "      <td>Frank</td>\n",
       "      <td>Martinez</td>\n",
       "    </tr>\n",
       "    <tr>\n",
       "      <th>1</th>\n",
       "      <td>5</td>\n",
       "      <td>Gail</td>\n",
       "      <td>Erickson</td>\n",
       "    </tr>\n",
       "    <tr>\n",
       "      <th>2</th>\n",
       "      <td>63</td>\n",
       "      <td>Maciej</td>\n",
       "      <td>Dusza</td>\n",
       "    </tr>\n",
       "  </tbody>\n",
       "</table>\n",
       "</div>"
      ],
      "text/plain": [
       "   id FirstName  LastName\n",
       "0  84     Frank  Martinez\n",
       "1   5      Gail  Erickson\n",
       "2  63    Maciej     Dusza"
      ]
     },
     "execution_count": 12,
     "metadata": {},
     "output_type": "execute_result"
    }
   ],
   "source": [
    "# 9. Mostrar el id, nombres, apellido de los empleados ordenados desde el de fecha de nacimiento\n",
    "# más antigua.\n",
    "\n",
    "\n",
    "mostrar_query(\"\"\"\n",
    "SELECT p.BusinessEntityID AS id, p.FirstName, p.LastName\n",
    "FROM 'HumanResources.Employee' AS e\n",
    "JOIN 'Person.Person' AS p ON e.BusinessEntityID = p.BusinessEntityID\n",
    "ORDER BY e.BirthDate ASC\n",
    "\"\"\")\n"
   ]
  },
  {
   "cell_type": "code",
   "execution_count": 13,
   "id": "cea64a24",
   "metadata": {},
   "outputs": [
    {
     "data": {
      "application/vnd.microsoft.datawrangler.viewer.v0+json": {
       "columns": [
        {
         "name": "index",
         "rawType": "int64",
         "type": "integer"
        },
        {
         "name": "DepartmentID",
         "rawType": "object",
         "type": "string"
        },
        {
         "name": "Name",
         "rawType": "object",
         "type": "string"
        },
        {
         "name": "GroupName",
         "rawType": "object",
         "type": "string"
        },
        {
         "name": "ModifiedDate",
         "rawType": "object",
         "type": "string"
        }
       ],
       "ref": "519b83d4-ca8b-4ef2-a4f7-610641262d95",
       "rows": [
        [
         "0",
         "1",
         "Engineering",
         "Research and Development",
         "2008-04-30 00:00:00"
        ],
        [
         "1",
         "2",
         "Tool Design",
         "Research and Development",
         "2008-04-30 00:00:00"
        ],
        [
         "2",
         "3",
         "Sales",
         "Sales and Marketing",
         "2008-04-30 00:00:00"
        ]
       ],
       "shape": {
        "columns": 4,
        "rows": 3
       }
      },
      "text/html": [
       "<div>\n",
       "<style scoped>\n",
       "    .dataframe tbody tr th:only-of-type {\n",
       "        vertical-align: middle;\n",
       "    }\n",
       "\n",
       "    .dataframe tbody tr th {\n",
       "        vertical-align: top;\n",
       "    }\n",
       "\n",
       "    .dataframe thead th {\n",
       "        text-align: right;\n",
       "    }\n",
       "</style>\n",
       "<table border=\"1\" class=\"dataframe\">\n",
       "  <thead>\n",
       "    <tr style=\"text-align: right;\">\n",
       "      <th></th>\n",
       "      <th>DepartmentID</th>\n",
       "      <th>Name</th>\n",
       "      <th>GroupName</th>\n",
       "      <th>ModifiedDate</th>\n",
       "    </tr>\n",
       "  </thead>\n",
       "  <tbody>\n",
       "    <tr>\n",
       "      <th>0</th>\n",
       "      <td>1</td>\n",
       "      <td>Engineering</td>\n",
       "      <td>Research and Development</td>\n",
       "      <td>2008-04-30 00:00:00</td>\n",
       "    </tr>\n",
       "    <tr>\n",
       "      <th>1</th>\n",
       "      <td>2</td>\n",
       "      <td>Tool Design</td>\n",
       "      <td>Research and Development</td>\n",
       "      <td>2008-04-30 00:00:00</td>\n",
       "    </tr>\n",
       "    <tr>\n",
       "      <th>2</th>\n",
       "      <td>3</td>\n",
       "      <td>Sales</td>\n",
       "      <td>Sales and Marketing</td>\n",
       "      <td>2008-04-30 00:00:00</td>\n",
       "    </tr>\n",
       "  </tbody>\n",
       "</table>\n",
       "</div>"
      ],
      "text/plain": [
       "  DepartmentID         Name                 GroupName         ModifiedDate\n",
       "0            1  Engineering  Research and Development  2008-04-30 00:00:00\n",
       "1            2  Tool Design  Research and Development  2008-04-30 00:00:00\n",
       "2            3        Sales       Sales and Marketing  2008-04-30 00:00:00"
      ]
     },
     "execution_count": 13,
     "metadata": {},
     "output_type": "execute_result"
    }
   ],
   "source": [
    "#10.Mostrar el contenido de la tabla Departments\n",
    "\n",
    "\n",
    "mostrar_query(\"\"\"\n",
    "SELECT * \n",
    "FROM 'HumanResources.Department' AS d\n",
    "\"\"\")\n",
    "\n"
   ]
  },
  {
   "cell_type": "code",
   "execution_count": 14,
   "id": "e80e812c",
   "metadata": {},
   "outputs": [
    {
     "data": {
      "application/vnd.microsoft.datawrangler.viewer.v0+json": {
       "columns": [
        {
         "name": "index",
         "rawType": "int64",
         "type": "integer"
        },
        {
         "name": "DepartmentID",
         "rawType": "object",
         "type": "string"
        },
        {
         "name": "Name",
         "rawType": "object",
         "type": "string"
        },
        {
         "name": "GroupName",
         "rawType": "object",
         "type": "string"
        },
        {
         "name": "ModifiedDate",
         "rawType": "object",
         "type": "string"
        }
       ],
       "ref": "6b601c49-48c3-47fb-bf1a-ca3e4196c5a4",
       "rows": [
        [
         "0",
         "7",
         "Production",
         "Manufacturing",
         "2008-04-30 00:00:00"
        ],
        [
         "1",
         "8",
         "Production Control",
         "Manufacturing",
         "2008-04-30 00:00:00"
        ],
        [
         "2",
         "12",
         "Document Control",
         "Quality Assurance",
         "2008-04-30 00:00:00"
        ]
       ],
       "shape": {
        "columns": 4,
        "rows": 3
       }
      },
      "text/html": [
       "<div>\n",
       "<style scoped>\n",
       "    .dataframe tbody tr th:only-of-type {\n",
       "        vertical-align: middle;\n",
       "    }\n",
       "\n",
       "    .dataframe tbody tr th {\n",
       "        vertical-align: top;\n",
       "    }\n",
       "\n",
       "    .dataframe thead th {\n",
       "        text-align: right;\n",
       "    }\n",
       "</style>\n",
       "<table border=\"1\" class=\"dataframe\">\n",
       "  <thead>\n",
       "    <tr style=\"text-align: right;\">\n",
       "      <th></th>\n",
       "      <th>DepartmentID</th>\n",
       "      <th>Name</th>\n",
       "      <th>GroupName</th>\n",
       "      <th>ModifiedDate</th>\n",
       "    </tr>\n",
       "  </thead>\n",
       "  <tbody>\n",
       "    <tr>\n",
       "      <th>0</th>\n",
       "      <td>7</td>\n",
       "      <td>Production</td>\n",
       "      <td>Manufacturing</td>\n",
       "      <td>2008-04-30 00:00:00</td>\n",
       "    </tr>\n",
       "    <tr>\n",
       "      <th>1</th>\n",
       "      <td>8</td>\n",
       "      <td>Production Control</td>\n",
       "      <td>Manufacturing</td>\n",
       "      <td>2008-04-30 00:00:00</td>\n",
       "    </tr>\n",
       "    <tr>\n",
       "      <th>2</th>\n",
       "      <td>12</td>\n",
       "      <td>Document Control</td>\n",
       "      <td>Quality Assurance</td>\n",
       "      <td>2008-04-30 00:00:00</td>\n",
       "    </tr>\n",
       "  </tbody>\n",
       "</table>\n",
       "</div>"
      ],
      "text/plain": [
       "  DepartmentID                Name          GroupName         ModifiedDate\n",
       "0            7          Production      Manufacturing  2008-04-30 00:00:00\n",
       "1            8  Production Control      Manufacturing  2008-04-30 00:00:00\n",
       "2           12    Document Control  Quality Assurance  2008-04-30 00:00:00"
      ]
     },
     "execution_count": 14,
     "metadata": {},
     "output_type": "execute_result"
    }
   ],
   "source": [
    "#11.¿Cuáles son los departamentos que están agrupados como “Manufacturing” ó como “Quality\n",
    "#Assurance”?\n",
    "\n",
    "mostrar_query(\"\"\"\n",
    "SELECT * \n",
    "FROM 'HumanResources.Department' AS d\n",
    "WHERE d.GroupName = 'Manufacturing' OR d.GroupName = 'Quality Assurance'\n",
    "\"\"\")\n"
   ]
  },
  {
   "cell_type": "markdown",
   "id": "5ef41cc8",
   "metadata": {},
   "source": [
    "### 2. Joins and Table Relationships  \n"
   ]
  },
  {
   "cell_type": "code",
   "execution_count": 15,
   "id": "0afdd3a7",
   "metadata": {},
   "outputs": [
    {
     "data": {
      "application/vnd.microsoft.datawrangler.viewer.v0+json": {
       "columns": [
        {
         "name": "index",
         "rawType": "int64",
         "type": "integer"
        },
        {
         "name": "DepartmentID",
         "rawType": "object",
         "type": "string"
        },
        {
         "name": "Name",
         "rawType": "object",
         "type": "string"
        },
        {
         "name": "GroupName",
         "rawType": "object",
         "type": "string"
        },
        {
         "name": "ModifiedDate",
         "rawType": "object",
         "type": "string"
        }
       ],
       "ref": "b618ff6a-1c09-4530-a974-5274be55f805",
       "rows": [
        [
         "0",
         "7",
         "Production",
         "Manufacturing",
         "2008-04-30 00:00:00"
        ]
       ],
       "shape": {
        "columns": 4,
        "rows": 1
       }
      },
      "text/html": [
       "<div>\n",
       "<style scoped>\n",
       "    .dataframe tbody tr th:only-of-type {\n",
       "        vertical-align: middle;\n",
       "    }\n",
       "\n",
       "    .dataframe tbody tr th {\n",
       "        vertical-align: top;\n",
       "    }\n",
       "\n",
       "    .dataframe thead th {\n",
       "        text-align: right;\n",
       "    }\n",
       "</style>\n",
       "<table border=\"1\" class=\"dataframe\">\n",
       "  <thead>\n",
       "    <tr style=\"text-align: right;\">\n",
       "      <th></th>\n",
       "      <th>DepartmentID</th>\n",
       "      <th>Name</th>\n",
       "      <th>GroupName</th>\n",
       "      <th>ModifiedDate</th>\n",
       "    </tr>\n",
       "  </thead>\n",
       "  <tbody>\n",
       "    <tr>\n",
       "      <th>0</th>\n",
       "      <td>7</td>\n",
       "      <td>Production</td>\n",
       "      <td>Manufacturing</td>\n",
       "      <td>2008-04-30 00:00:00</td>\n",
       "    </tr>\n",
       "  </tbody>\n",
       "</table>\n",
       "</div>"
      ],
      "text/plain": [
       "  DepartmentID        Name      GroupName         ModifiedDate\n",
       "0            7  Production  Manufacturing  2008-04-30 00:00:00"
      ]
     },
     "execution_count": 15,
     "metadata": {},
     "output_type": "execute_result"
    }
   ],
   "source": [
    "# Ejercicio 12 - ¿Cuáles son los datos de los departamentos cuyo nombre esté relacionado con “Production”?\n",
    "mostrar_query(\"\"\" \n",
    "SELECT * \n",
    "FROM 'HumanResources.Department' AS d\n",
    "WHERE d.Name LIKE 'Production'\n",
    "\"\"\")\n"
   ]
  },
  {
   "cell_type": "code",
   "execution_count": 16,
   "id": "a73a1c32",
   "metadata": {},
   "outputs": [
    {
     "data": {
      "application/vnd.microsoft.datawrangler.viewer.v0+json": {
       "columns": [
        {
         "name": "index",
         "rawType": "int64",
         "type": "integer"
        },
        {
         "name": "DepartmentID",
         "rawType": "object",
         "type": "string"
        },
        {
         "name": "Name",
         "rawType": "object",
         "type": "string"
        },
        {
         "name": "GroupName",
         "rawType": "object",
         "type": "string"
        },
        {
         "name": "ModifiedDate",
         "rawType": "object",
         "type": "string"
        }
       ],
       "ref": "42ef01a5-a9d4-4697-805d-1d624d87b379",
       "rows": [
        [
         "0",
         "1",
         "Engineering",
         "Research and Development",
         "2008-04-30 00:00:00"
        ],
        [
         "1",
         "2",
         "Tool Design",
         "Research and Development",
         "2008-04-30 00:00:00"
        ],
        [
         "2",
         "3",
         "Sales",
         "Sales and Marketing",
         "2008-04-30 00:00:00"
        ]
       ],
       "shape": {
        "columns": 4,
        "rows": 3
       }
      },
      "text/html": [
       "<div>\n",
       "<style scoped>\n",
       "    .dataframe tbody tr th:only-of-type {\n",
       "        vertical-align: middle;\n",
       "    }\n",
       "\n",
       "    .dataframe tbody tr th {\n",
       "        vertical-align: top;\n",
       "    }\n",
       "\n",
       "    .dataframe thead th {\n",
       "        text-align: right;\n",
       "    }\n",
       "</style>\n",
       "<table border=\"1\" class=\"dataframe\">\n",
       "  <thead>\n",
       "    <tr style=\"text-align: right;\">\n",
       "      <th></th>\n",
       "      <th>DepartmentID</th>\n",
       "      <th>Name</th>\n",
       "      <th>GroupName</th>\n",
       "      <th>ModifiedDate</th>\n",
       "    </tr>\n",
       "  </thead>\n",
       "  <tbody>\n",
       "    <tr>\n",
       "      <th>0</th>\n",
       "      <td>1</td>\n",
       "      <td>Engineering</td>\n",
       "      <td>Research and Development</td>\n",
       "      <td>2008-04-30 00:00:00</td>\n",
       "    </tr>\n",
       "    <tr>\n",
       "      <th>1</th>\n",
       "      <td>2</td>\n",
       "      <td>Tool Design</td>\n",
       "      <td>Research and Development</td>\n",
       "      <td>2008-04-30 00:00:00</td>\n",
       "    </tr>\n",
       "    <tr>\n",
       "      <th>2</th>\n",
       "      <td>3</td>\n",
       "      <td>Sales</td>\n",
       "      <td>Sales and Marketing</td>\n",
       "      <td>2008-04-30 00:00:00</td>\n",
       "    </tr>\n",
       "  </tbody>\n",
       "</table>\n",
       "</div>"
      ],
      "text/plain": [
       "  DepartmentID         Name                 GroupName         ModifiedDate\n",
       "0            1  Engineering  Research and Development  2008-04-30 00:00:00\n",
       "1            2  Tool Design  Research and Development  2008-04-30 00:00:00\n",
       "2            3        Sales       Sales and Marketing  2008-04-30 00:00:00"
      ]
     },
     "execution_count": 16,
     "metadata": {},
     "output_type": "execute_result"
    }
   ],
   "source": [
    "# Ejercicio 13 - Mostrar los datos de los departamentos que no estén agrupados como “Research and Develpment”\n",
    "mostrar_query(\"\"\" \n",
    "SELECT * \n",
    "FROM 'HumanResources.Department' AS d\n",
    "WHERE d.Name NOT LIKE 'Research and Develpment'\n",
    "\"\"\")\n"
   ]
  },
  {
   "cell_type": "code",
   "execution_count": 17,
   "id": "ab4febdc",
   "metadata": {},
   "outputs": [
    {
     "data": {
      "application/vnd.microsoft.datawrangler.viewer.v0+json": {
       "columns": [
        {
         "name": "index",
         "rawType": "int64",
         "type": "integer"
        },
        {
         "name": "ProductID",
         "rawType": "object",
         "type": "string"
        },
        {
         "name": "Name",
         "rawType": "object",
         "type": "string"
        },
        {
         "name": "ProductNumber",
         "rawType": "object",
         "type": "string"
        },
        {
         "name": "MakeFlag",
         "rawType": "object",
         "type": "string"
        },
        {
         "name": "FinishedGoodsFlag",
         "rawType": "object",
         "type": "string"
        },
        {
         "name": "Color",
         "rawType": "object",
         "type": "string"
        },
        {
         "name": "SafetyStockLevel",
         "rawType": "object",
         "type": "string"
        },
        {
         "name": "ReorderPoint",
         "rawType": "object",
         "type": "string"
        },
        {
         "name": "StandardCost",
         "rawType": "object",
         "type": "string"
        },
        {
         "name": "ListPrice",
         "rawType": "object",
         "type": "string"
        },
        {
         "name": "Size",
         "rawType": "object",
         "type": "string"
        },
        {
         "name": "SizeUnitMeasureCode",
         "rawType": "object",
         "type": "string"
        },
        {
         "name": "WeightUnitMeasureCode",
         "rawType": "object",
         "type": "string"
        },
        {
         "name": "Weight",
         "rawType": "object",
         "type": "string"
        },
        {
         "name": "DaysToManufacture",
         "rawType": "object",
         "type": "string"
        },
        {
         "name": "ProductLine",
         "rawType": "object",
         "type": "string"
        },
        {
         "name": "Class",
         "rawType": "object",
         "type": "string"
        },
        {
         "name": "Style",
         "rawType": "object",
         "type": "string"
        },
        {
         "name": "ProductSubcategoryID",
         "rawType": "object",
         "type": "string"
        },
        {
         "name": "ProductModelID",
         "rawType": "object",
         "type": "string"
        },
        {
         "name": "SellStartDate",
         "rawType": "object",
         "type": "string"
        },
        {
         "name": "SellEndDate",
         "rawType": "object",
         "type": "string"
        },
        {
         "name": "DiscontinuedDate",
         "rawType": "object",
         "type": "string"
        },
        {
         "name": "rowguid",
         "rawType": "object",
         "type": "string"
        },
        {
         "name": "ModifiedDate",
         "rawType": "object",
         "type": "string"
        }
       ],
       "ref": "00407b1c-af48-40c2-a5e5-431e11386f84",
       "rows": [
        [
         "0",
         "1",
         "Adjustable Race",
         "AR-5381",
         "0",
         "0",
         "",
         "1000",
         "750",
         "0.0000",
         "0.0000",
         "",
         "",
         "",
         "",
         "0",
         "",
         "",
         "",
         "",
         "",
         "2008-04-30 00:00:00",
         "",
         "",
         "694215B7-08F7-4C0D-ACB1-D734BA44C0C8",
         "2014-02-08 10:01:36"
        ],
        [
         "1",
         "2",
         "Bearing Ball",
         "BA-8327",
         "0",
         "0",
         "",
         "1000",
         "750",
         "0.0000",
         "0.0000",
         "",
         "",
         "",
         "",
         "0",
         "",
         "",
         "",
         "",
         "",
         "2008-04-30 00:00:00",
         "",
         "",
         "58AE3C20-4F3A-4749-A7D4-D568806CC537",
         "2014-02-08 10:01:36"
        ],
        [
         "2",
         "3",
         "BB Ball Bearing",
         "BE-2349",
         "1",
         "0",
         "",
         "800",
         "600",
         "0.0000",
         "0.0000",
         "",
         "",
         "",
         "",
         "1",
         "",
         "",
         "",
         "",
         "",
         "2008-04-30 00:00:00",
         "",
         "",
         "9C21AED2-5BFA-4F18-BCB8-F11638DC2E4E",
         "2014-02-08 10:01:36"
        ]
       ],
       "shape": {
        "columns": 25,
        "rows": 3
       }
      },
      "text/html": [
       "<div>\n",
       "<style scoped>\n",
       "    .dataframe tbody tr th:only-of-type {\n",
       "        vertical-align: middle;\n",
       "    }\n",
       "\n",
       "    .dataframe tbody tr th {\n",
       "        vertical-align: top;\n",
       "    }\n",
       "\n",
       "    .dataframe thead th {\n",
       "        text-align: right;\n",
       "    }\n",
       "</style>\n",
       "<table border=\"1\" class=\"dataframe\">\n",
       "  <thead>\n",
       "    <tr style=\"text-align: right;\">\n",
       "      <th></th>\n",
       "      <th>ProductID</th>\n",
       "      <th>Name</th>\n",
       "      <th>ProductNumber</th>\n",
       "      <th>MakeFlag</th>\n",
       "      <th>FinishedGoodsFlag</th>\n",
       "      <th>Color</th>\n",
       "      <th>SafetyStockLevel</th>\n",
       "      <th>ReorderPoint</th>\n",
       "      <th>StandardCost</th>\n",
       "      <th>ListPrice</th>\n",
       "      <th>...</th>\n",
       "      <th>ProductLine</th>\n",
       "      <th>Class</th>\n",
       "      <th>Style</th>\n",
       "      <th>ProductSubcategoryID</th>\n",
       "      <th>ProductModelID</th>\n",
       "      <th>SellStartDate</th>\n",
       "      <th>SellEndDate</th>\n",
       "      <th>DiscontinuedDate</th>\n",
       "      <th>rowguid</th>\n",
       "      <th>ModifiedDate</th>\n",
       "    </tr>\n",
       "  </thead>\n",
       "  <tbody>\n",
       "    <tr>\n",
       "      <th>0</th>\n",
       "      <td>1</td>\n",
       "      <td>Adjustable Race</td>\n",
       "      <td>AR-5381</td>\n",
       "      <td>0</td>\n",
       "      <td>0</td>\n",
       "      <td></td>\n",
       "      <td>1000</td>\n",
       "      <td>750</td>\n",
       "      <td>0.0000</td>\n",
       "      <td>0.0000</td>\n",
       "      <td>...</td>\n",
       "      <td></td>\n",
       "      <td></td>\n",
       "      <td></td>\n",
       "      <td></td>\n",
       "      <td></td>\n",
       "      <td>2008-04-30 00:00:00</td>\n",
       "      <td></td>\n",
       "      <td></td>\n",
       "      <td>694215B7-08F7-4C0D-ACB1-D734BA44C0C8</td>\n",
       "      <td>2014-02-08 10:01:36</td>\n",
       "    </tr>\n",
       "    <tr>\n",
       "      <th>1</th>\n",
       "      <td>2</td>\n",
       "      <td>Bearing Ball</td>\n",
       "      <td>BA-8327</td>\n",
       "      <td>0</td>\n",
       "      <td>0</td>\n",
       "      <td></td>\n",
       "      <td>1000</td>\n",
       "      <td>750</td>\n",
       "      <td>0.0000</td>\n",
       "      <td>0.0000</td>\n",
       "      <td>...</td>\n",
       "      <td></td>\n",
       "      <td></td>\n",
       "      <td></td>\n",
       "      <td></td>\n",
       "      <td></td>\n",
       "      <td>2008-04-30 00:00:00</td>\n",
       "      <td></td>\n",
       "      <td></td>\n",
       "      <td>58AE3C20-4F3A-4749-A7D4-D568806CC537</td>\n",
       "      <td>2014-02-08 10:01:36</td>\n",
       "    </tr>\n",
       "    <tr>\n",
       "      <th>2</th>\n",
       "      <td>3</td>\n",
       "      <td>BB Ball Bearing</td>\n",
       "      <td>BE-2349</td>\n",
       "      <td>1</td>\n",
       "      <td>0</td>\n",
       "      <td></td>\n",
       "      <td>800</td>\n",
       "      <td>600</td>\n",
       "      <td>0.0000</td>\n",
       "      <td>0.0000</td>\n",
       "      <td>...</td>\n",
       "      <td></td>\n",
       "      <td></td>\n",
       "      <td></td>\n",
       "      <td></td>\n",
       "      <td></td>\n",
       "      <td>2008-04-30 00:00:00</td>\n",
       "      <td></td>\n",
       "      <td></td>\n",
       "      <td>9C21AED2-5BFA-4F18-BCB8-F11638DC2E4E</td>\n",
       "      <td>2014-02-08 10:01:36</td>\n",
       "    </tr>\n",
       "  </tbody>\n",
       "</table>\n",
       "<p>3 rows × 25 columns</p>\n",
       "</div>"
      ],
      "text/plain": [
       "  ProductID             Name ProductNumber MakeFlag FinishedGoodsFlag Color  \\\n",
       "0         1  Adjustable Race       AR-5381        0                 0         \n",
       "1         2     Bearing Ball       BA-8327        0                 0         \n",
       "2         3  BB Ball Bearing       BE-2349        1                 0         \n",
       "\n",
       "  SafetyStockLevel ReorderPoint StandardCost ListPrice  ... ProductLine Class  \\\n",
       "0             1000          750       0.0000    0.0000  ...                     \n",
       "1             1000          750       0.0000    0.0000  ...                     \n",
       "2              800          600       0.0000    0.0000  ...                     \n",
       "\n",
       "  Style ProductSubcategoryID ProductModelID        SellStartDate SellEndDate  \\\n",
       "0                                            2008-04-30 00:00:00               \n",
       "1                                            2008-04-30 00:00:00               \n",
       "2                                            2008-04-30 00:00:00               \n",
       "\n",
       "  DiscontinuedDate                               rowguid         ModifiedDate  \n",
       "0                   694215B7-08F7-4C0D-ACB1-D734BA44C0C8  2014-02-08 10:01:36  \n",
       "1                   58AE3C20-4F3A-4749-A7D4-D568806CC537  2014-02-08 10:01:36  \n",
       "2                   9C21AED2-5BFA-4F18-BCB8-F11638DC2E4E  2014-02-08 10:01:36  \n",
       "\n",
       "[3 rows x 25 columns]"
      ]
     },
     "execution_count": 17,
     "metadata": {},
     "output_type": "execute_result"
    }
   ],
   "source": [
    "# Ejercicio 14 - Mostrar los datos de la tabla Product del esquema Production\n",
    "mostrar_query(\"\"\" \n",
    "SELECT * \n",
    "FROM 'Production.Product' AS p\n",
    "\"\"\")"
   ]
  },
  {
   "cell_type": "code",
   "execution_count": 18,
   "id": "83df0b02",
   "metadata": {},
   "outputs": [
    {
     "data": {
      "application/vnd.microsoft.datawrangler.viewer.v0+json": {
       "columns": [
        {
         "name": "index",
         "rawType": "int64",
         "type": "integer"
        },
        {
         "name": "ProductID",
         "rawType": "object",
         "type": "string"
        },
        {
         "name": "Name",
         "rawType": "object",
         "type": "string"
        },
        {
         "name": "ProductNumber",
         "rawType": "object",
         "type": "string"
        },
        {
         "name": "MakeFlag",
         "rawType": "object",
         "type": "string"
        },
        {
         "name": "FinishedGoodsFlag",
         "rawType": "object",
         "type": "string"
        },
        {
         "name": "Color",
         "rawType": "object",
         "type": "string"
        },
        {
         "name": "SafetyStockLevel",
         "rawType": "object",
         "type": "string"
        },
        {
         "name": "ReorderPoint",
         "rawType": "object",
         "type": "string"
        },
        {
         "name": "StandardCost",
         "rawType": "object",
         "type": "string"
        },
        {
         "name": "ListPrice",
         "rawType": "object",
         "type": "string"
        },
        {
         "name": "Size",
         "rawType": "object",
         "type": "string"
        },
        {
         "name": "SizeUnitMeasureCode",
         "rawType": "object",
         "type": "string"
        },
        {
         "name": "WeightUnitMeasureCode",
         "rawType": "object",
         "type": "string"
        },
        {
         "name": "Weight",
         "rawType": "object",
         "type": "string"
        },
        {
         "name": "DaysToManufacture",
         "rawType": "object",
         "type": "string"
        },
        {
         "name": "ProductLine",
         "rawType": "object",
         "type": "string"
        },
        {
         "name": "Class",
         "rawType": "object",
         "type": "string"
        },
        {
         "name": "Style",
         "rawType": "object",
         "type": "string"
        },
        {
         "name": "ProductSubcategoryID",
         "rawType": "object",
         "type": "string"
        },
        {
         "name": "ProductModelID",
         "rawType": "object",
         "type": "string"
        },
        {
         "name": "SellStartDate",
         "rawType": "object",
         "type": "string"
        },
        {
         "name": "SellEndDate",
         "rawType": "object",
         "type": "string"
        },
        {
         "name": "DiscontinuedDate",
         "rawType": "object",
         "type": "string"
        },
        {
         "name": "rowguid",
         "rawType": "object",
         "type": "string"
        },
        {
         "name": "ModifiedDate",
         "rawType": "object",
         "type": "string"
        }
       ],
       "ref": "505fdca4-9196-491e-9426-5a6a914ceea7",
       "rows": [],
       "shape": {
        "columns": 25,
        "rows": 0
       }
      },
      "text/html": [
       "<div>\n",
       "<style scoped>\n",
       "    .dataframe tbody tr th:only-of-type {\n",
       "        vertical-align: middle;\n",
       "    }\n",
       "\n",
       "    .dataframe tbody tr th {\n",
       "        vertical-align: top;\n",
       "    }\n",
       "\n",
       "    .dataframe thead th {\n",
       "        text-align: right;\n",
       "    }\n",
       "</style>\n",
       "<table border=\"1\" class=\"dataframe\">\n",
       "  <thead>\n",
       "    <tr style=\"text-align: right;\">\n",
       "      <th></th>\n",
       "      <th>ProductID</th>\n",
       "      <th>Name</th>\n",
       "      <th>ProductNumber</th>\n",
       "      <th>MakeFlag</th>\n",
       "      <th>FinishedGoodsFlag</th>\n",
       "      <th>Color</th>\n",
       "      <th>SafetyStockLevel</th>\n",
       "      <th>ReorderPoint</th>\n",
       "      <th>StandardCost</th>\n",
       "      <th>ListPrice</th>\n",
       "      <th>...</th>\n",
       "      <th>ProductLine</th>\n",
       "      <th>Class</th>\n",
       "      <th>Style</th>\n",
       "      <th>ProductSubcategoryID</th>\n",
       "      <th>ProductModelID</th>\n",
       "      <th>SellStartDate</th>\n",
       "      <th>SellEndDate</th>\n",
       "      <th>DiscontinuedDate</th>\n",
       "      <th>rowguid</th>\n",
       "      <th>ModifiedDate</th>\n",
       "    </tr>\n",
       "  </thead>\n",
       "  <tbody>\n",
       "  </tbody>\n",
       "</table>\n",
       "<p>0 rows × 25 columns</p>\n",
       "</div>"
      ],
      "text/plain": [
       "Empty DataFrame\n",
       "Columns: [ProductID, Name, ProductNumber, MakeFlag, FinishedGoodsFlag, Color, SafetyStockLevel, ReorderPoint, StandardCost, ListPrice, Size, SizeUnitMeasureCode, WeightUnitMeasureCode, Weight, DaysToManufacture, ProductLine, Class, Style, ProductSubcategoryID, ProductModelID, SellStartDate, SellEndDate, DiscontinuedDate, rowguid, ModifiedDate]\n",
       "Index: []\n",
       "\n",
       "[0 rows x 25 columns]"
      ]
     },
     "execution_count": 18,
     "metadata": {},
     "output_type": "execute_result"
    }
   ],
   "source": [
    "# Ejercicio 15 - Hallar los productos que no tengan asignado color.\n",
    "mostrar_query(\"\"\" \n",
    "SELECT * \n",
    "FROM 'Production.Product' AS p\n",
    "WHERE p.Color IS NULL\n",
    "\"\"\")\n"
   ]
  },
  {
   "cell_type": "code",
   "execution_count": 19,
   "id": "11fb702c",
   "metadata": {},
   "outputs": [
    {
     "data": {
      "application/vnd.microsoft.datawrangler.viewer.v0+json": {
       "columns": [
        {
         "name": "index",
         "rawType": "int64",
         "type": "integer"
        },
        {
         "name": "ProductID",
         "rawType": "object",
         "type": "string"
        },
        {
         "name": "Name",
         "rawType": "object",
         "type": "string"
        },
        {
         "name": "Color",
         "rawType": "object",
         "type": "string"
        }
       ],
       "ref": "be3d42da-da6d-4f28-adfb-3123a43d492b",
       "rows": [
        [
         "0",
         "421",
         "Internal Lock Washer 2",
         ""
        ],
        [
         "1",
         "420",
         "Internal Lock Washer 8",
         ""
        ],
        [
         "2",
         "419",
         "Internal Lock Washer 1",
         ""
        ]
       ],
       "shape": {
        "columns": 3,
        "rows": 3
       }
      },
      "text/html": [
       "<div>\n",
       "<style scoped>\n",
       "    .dataframe tbody tr th:only-of-type {\n",
       "        vertical-align: middle;\n",
       "    }\n",
       "\n",
       "    .dataframe tbody tr th {\n",
       "        vertical-align: top;\n",
       "    }\n",
       "\n",
       "    .dataframe thead th {\n",
       "        text-align: right;\n",
       "    }\n",
       "</style>\n",
       "<table border=\"1\" class=\"dataframe\">\n",
       "  <thead>\n",
       "    <tr style=\"text-align: right;\">\n",
       "      <th></th>\n",
       "      <th>ProductID</th>\n",
       "      <th>Name</th>\n",
       "      <th>Color</th>\n",
       "    </tr>\n",
       "  </thead>\n",
       "  <tbody>\n",
       "    <tr>\n",
       "      <th>0</th>\n",
       "      <td>421</td>\n",
       "      <td>Internal Lock Washer 2</td>\n",
       "      <td></td>\n",
       "    </tr>\n",
       "    <tr>\n",
       "      <th>1</th>\n",
       "      <td>420</td>\n",
       "      <td>Internal Lock Washer 8</td>\n",
       "      <td></td>\n",
       "    </tr>\n",
       "    <tr>\n",
       "      <th>2</th>\n",
       "      <td>419</td>\n",
       "      <td>Internal Lock Washer 1</td>\n",
       "      <td></td>\n",
       "    </tr>\n",
       "  </tbody>\n",
       "</table>\n",
       "</div>"
      ],
      "text/plain": [
       "  ProductID                    Name Color\n",
       "0       421  Internal Lock Washer 2      \n",
       "1       420  Internal Lock Washer 8      \n",
       "2       419  Internal Lock Washer 1      "
      ]
     },
     "execution_count": 19,
     "metadata": {},
     "output_type": "execute_result"
    }
   ],
   "source": [
    "# Ejercicio 16 - Para todos los productos que tengan asignado algún color y que tengan un stock (SafetyStockLevel) mayor a 900, \n",
    "# mostrar su id, nombre y color. Ordenarlo por id descendente y por color ascendente.\n",
    "mostrar_query(\"\"\" \n",
    "SELECT p.ProductID, p.Name, p.Color \n",
    "FROM 'Production.Product' AS p\n",
    "WHERE p.Color IS NOT NULL AND p.SafetyStockLevel > 900\n",
    "ORDER BY p.ProductID DESC, p.Color ASC\n",
    "\"\"\")\n"
   ]
  },
  {
   "cell_type": "code",
   "execution_count": 20,
   "id": "a80b59d6",
   "metadata": {},
   "outputs": [
    {
     "data": {
      "application/vnd.microsoft.datawrangler.viewer.v0+json": {
       "columns": [
        {
         "name": "index",
         "rawType": "int64",
         "type": "integer"
        },
        {
         "name": "Gender",
         "rawType": "object",
         "type": "string"
        },
        {
         "name": "COUNT(e.BusinessEntityID)",
         "rawType": "int64",
         "type": "integer"
        }
       ],
       "ref": "dad87783-4d54-4953-b76d-d97e6fa9975d",
       "rows": [
        [
         "0",
         "F",
         "2"
        ],
        [
         "1",
         "M",
         "5"
        ]
       ],
       "shape": {
        "columns": 2,
        "rows": 2
       }
      },
      "text/html": [
       "<div>\n",
       "<style scoped>\n",
       "    .dataframe tbody tr th:only-of-type {\n",
       "        vertical-align: middle;\n",
       "    }\n",
       "\n",
       "    .dataframe tbody tr th {\n",
       "        vertical-align: top;\n",
       "    }\n",
       "\n",
       "    .dataframe thead th {\n",
       "        text-align: right;\n",
       "    }\n",
       "</style>\n",
       "<table border=\"1\" class=\"dataframe\">\n",
       "  <thead>\n",
       "    <tr style=\"text-align: right;\">\n",
       "      <th></th>\n",
       "      <th>Gender</th>\n",
       "      <th>COUNT(e.BusinessEntityID)</th>\n",
       "    </tr>\n",
       "  </thead>\n",
       "  <tbody>\n",
       "    <tr>\n",
       "      <th>0</th>\n",
       "      <td>F</td>\n",
       "      <td>2</td>\n",
       "    </tr>\n",
       "    <tr>\n",
       "      <th>1</th>\n",
       "      <td>M</td>\n",
       "      <td>5</td>\n",
       "    </tr>\n",
       "  </tbody>\n",
       "</table>\n",
       "</div>"
      ],
      "text/plain": [
       "  Gender  COUNT(e.BusinessEntityID)\n",
       "0      F                          2\n",
       "1      M                          5"
      ]
     },
     "execution_count": 20,
     "metadata": {},
     "output_type": "execute_result"
    }
   ],
   "source": [
    "# Ejercicio 32a - Verificar si existe una Foreign Key entre Employee y Person\n",
    "mostrar_query(\"\"\"\n",
    "PRAGMA foreign_key_list('HumanResources.Employee')\n",
    "\"\"\")\n",
    "\n",
    "# Ejercicio 32b - Obtener el nombre, apellido, cargo y fecha de nacimiento de todos los empleados.\n",
    "mostrar_query(\"\"\" \n",
    "SELECT e.BusinessEntityID, p.FirstName, p.LastName, e.JobTitle, e.BirthDate \n",
    "FROM 'HumanResources.Employee' AS e\n",
    "LEFT JOIN 'Person.Person' AS p ON e.BusinessEntityID = p.BusinessEntityID\n",
    "\"\"\")\n",
    "\n",
    "# Ejercicio 32c - Obtener el nombre y apellido de los empleados que nacieron durante el año 1986 y su “género” es F.\n",
    "mostrar_query(\"\"\" \n",
    "SELECT e.BusinessEntityID, p.FirstName, p.LastName, e.JobTitle, e.BirthDate \n",
    "FROM 'HumanResources.Employee' AS e\n",
    "LEFT JOIN 'Person.Person' AS p ON e.BusinessEntityID = p.BusinessEntityID\n",
    "WHERE strftime('%Y', e.BirthDate) = '1986' AND e.Gender = 'F'\n",
    "\"\"\")\n",
    "\n",
    "# Ejercicio 32d - Contar la cantidad de empleados cuyo nombre comience con la letra “J” y hayan nacido después del año 1977.\n",
    "mostrar_query(\"\"\" \n",
    "SELECT COUNT(e.BusinessEntityID) \n",
    "FROM 'HumanResources.Employee' AS e\n",
    "LEFT JOIN 'Person.Person' AS p ON e.BusinessEntityID = p.BusinessEntityID\n",
    "WHERE strftime('%Y', e.BirthDate) > '1977' AND p.FirstName LIKE 'J%'\n",
    "\"\"\")\n",
    "\n",
    "# Ejercicio 32e - Para las mismas condiciones del punto anterior, ¿cuántos empleados están registrados según su género?\n",
    "mostrar_query(\"\"\" \n",
    "SELECT e.Gender, COUNT(e.BusinessEntityID) \n",
    "FROM 'HumanResources.Employee' AS e\n",
    "LEFT JOIN 'Person.Person' AS p ON e.BusinessEntityID = p.BusinessEntityID\n",
    "WHERE strftime('%Y', e.BirthDate) > '1977' AND p.FirstName LIKE 'J%'\n",
    "GROUP BY e.Gender\n",
    "\"\"\")\n"
   ]
  },
  {
   "cell_type": "code",
   "execution_count": 21,
   "id": "91ce5548",
   "metadata": {},
   "outputs": [
    {
     "data": {
      "application/vnd.microsoft.datawrangler.viewer.v0+json": {
       "columns": [
        {
         "name": "index",
         "rawType": "int64",
         "type": "integer"
        },
        {
         "name": "FirstName",
         "rawType": "object",
         "type": "string"
        },
        {
         "name": "LastName",
         "rawType": "object",
         "type": "string"
        },
        {
         "name": "SalesOrderID",
         "rawType": "object",
         "type": "string"
        }
       ],
       "ref": "b71cb0e5-ce6d-4a91-95ad-e9c82fb3b1b2",
       "rows": [],
       "shape": {
        "columns": 3,
        "rows": 0
       }
      },
      "text/html": [
       "<div>\n",
       "<style scoped>\n",
       "    .dataframe tbody tr th:only-of-type {\n",
       "        vertical-align: middle;\n",
       "    }\n",
       "\n",
       "    .dataframe tbody tr th {\n",
       "        vertical-align: top;\n",
       "    }\n",
       "\n",
       "    .dataframe thead th {\n",
       "        text-align: right;\n",
       "    }\n",
       "</style>\n",
       "<table border=\"1\" class=\"dataframe\">\n",
       "  <thead>\n",
       "    <tr style=\"text-align: right;\">\n",
       "      <th></th>\n",
       "      <th>FirstName</th>\n",
       "      <th>LastName</th>\n",
       "      <th>SalesOrderID</th>\n",
       "    </tr>\n",
       "  </thead>\n",
       "  <tbody>\n",
       "  </tbody>\n",
       "</table>\n",
       "</div>"
      ],
      "text/plain": [
       "Empty DataFrame\n",
       "Columns: [FirstName, LastName, SalesOrderID]\n",
       "Index: []"
      ]
     },
     "execution_count": 21,
     "metadata": {},
     "output_type": "execute_result"
    }
   ],
   "source": [
    "# Ejercicio 33a - Obtener nombre, apellido y StoreID para aquellos clientes que estén en TerritoryID = 4 o que pertenezcan al tipo de persona 'SC'\n",
    "mostrar_query(\"\"\" \n",
    "SELECT \n",
    "  p.FirstName, \n",
    "  p.LastName, \n",
    "  c.StoreID\n",
    "FROM 'Sales.Customer' AS c\n",
    "LEFT JOIN 'Person.Person' AS p \n",
    "  ON c.PersonID = p.BusinessEntityID\n",
    "WHERE c.TerritoryID = 4 \n",
    "   OR p.PersonType = 'SC'\n",
    "\"\"\")\n",
    "\n",
    "# Ejercicio 33b - Obtener nombre, apellido y número de orden (SalesOrderID) para los clientes que pertenezcan al tipo de persona 'SC'\n",
    "mostrar_query(\"\"\" \n",
    "SELECT \n",
    "  p.FirstName, \n",
    "  p.LastName, \n",
    "  soh.SalesOrderID\n",
    "FROM 'Sales.Customer' AS c\n",
    "LEFT JOIN 'Person.Person' AS p \n",
    "  ON c.PersonID = p.BusinessEntityID\n",
    "LEFT JOIN 'Sales.SalesOrderHeader' AS soh \n",
    "  ON c.CustomerID = soh.CustomerID\n",
    "WHERE p.PersonType = 'SC'\n",
    "\"\"\")\n",
    "\n"
   ]
  },
  {
   "cell_type": "code",
   "execution_count": 22,
   "id": "5d403879",
   "metadata": {},
   "outputs": [
    {
     "data": {
      "application/vnd.microsoft.datawrangler.viewer.v0+json": {
       "columns": [
        {
         "name": "index",
         "rawType": "int64",
         "type": "integer"
        },
        {
         "name": "Description",
         "rawType": "object",
         "type": "string"
        },
        {
         "name": "Size",
         "rawType": "object",
         "type": "string"
        },
        {
         "name": "CatalogDescription",
         "rawType": "object",
         "type": "string"
        }
       ],
       "ref": "e62a1a65-a7c6-46a5-acf8-164d1c65370e",
       "rows": [],
       "shape": {
        "columns": 3,
        "rows": 0
       }
      },
      "text/html": [
       "<div>\n",
       "<style scoped>\n",
       "    .dataframe tbody tr th:only-of-type {\n",
       "        vertical-align: middle;\n",
       "    }\n",
       "\n",
       "    .dataframe tbody tr th {\n",
       "        vertical-align: top;\n",
       "    }\n",
       "\n",
       "    .dataframe thead th {\n",
       "        text-align: right;\n",
       "    }\n",
       "</style>\n",
       "<table border=\"1\" class=\"dataframe\">\n",
       "  <thead>\n",
       "    <tr style=\"text-align: right;\">\n",
       "      <th></th>\n",
       "      <th>Description</th>\n",
       "      <th>Size</th>\n",
       "      <th>CatalogDescription</th>\n",
       "    </tr>\n",
       "  </thead>\n",
       "  <tbody>\n",
       "  </tbody>\n",
       "</table>\n",
       "</div>"
      ],
      "text/plain": [
       "Empty DataFrame\n",
       "Columns: [Description, Size, CatalogDescription]\n",
       "Index: []"
      ]
     },
     "execution_count": 22,
     "metadata": {},
     "output_type": "execute_result"
    }
   ],
   "source": [
    "# Ejercicio 34a - Descripción, tamaño y descripción de modelo de productos sin color y con SafetyStockLevel < 1000\n",
    "mostrar_query(\"\"\" \n",
    "SELECT \n",
    "  pd.Description, \n",
    "  p.Size, \n",
    "  pm.CatalogDescription \n",
    "FROM 'Production.Product' AS p\n",
    "LEFT JOIN 'Production.ProductModel' AS pm \n",
    "  ON p.ProductModelID = pm.ProductModelID \n",
    "LEFT JOIN 'Production.ProductModelProductDescriptionCulture' AS pmpdc \n",
    "  ON pm.ProductModelID = pmpdc.ProductModelID \n",
    "LEFT JOIN 'Production.ProductDescription' AS pd \n",
    "  ON pmpdc.ProductDescriptionID = pd.ProductDescriptionID\n",
    "WHERE p.Color IS NULL AND p.SafetyStockLevel < 1000\n",
    "\"\"\")\n",
    "\n",
    "\n",
    "\n",
    "\n"
   ]
  },
  {
   "cell_type": "code",
   "execution_count": 23,
   "id": "a398eacc",
   "metadata": {},
   "outputs": [
    {
     "data": {
      "application/vnd.microsoft.datawrangler.viewer.v0+json": {
       "columns": [
        {
         "name": "index",
         "rawType": "int64",
         "type": "integer"
        },
        {
         "name": "FirstName",
         "rawType": "object",
         "type": "unknown"
        },
        {
         "name": "LastName",
         "rawType": "object",
         "type": "unknown"
        },
        {
         "name": "SalesOrderID",
         "rawType": "object",
         "type": "string"
        },
        {
         "name": "OrderDate",
         "rawType": "object",
         "type": "string"
        },
        {
         "name": "Name",
         "rawType": "object",
         "type": "unknown"
        },
        {
         "name": "Description",
         "rawType": "object",
         "type": "unknown"
        }
       ],
       "ref": "2bd2f873-fca5-4a96-a64f-1281179c719b",
       "rows": [
        [
         "0",
         null,
         null,
         "43702",
         "2011-06-01 00:00:00",
         null,
         null
        ],
        [
         "1",
         null,
         null,
         "43703",
         "2011-06-01 00:00:00",
         null,
         null
        ],
        [
         "2",
         null,
         null,
         "43704",
         "2011-06-01 00:00:00",
         null,
         null
        ]
       ],
       "shape": {
        "columns": 6,
        "rows": 3
       }
      },
      "text/html": [
       "<div>\n",
       "<style scoped>\n",
       "    .dataframe tbody tr th:only-of-type {\n",
       "        vertical-align: middle;\n",
       "    }\n",
       "\n",
       "    .dataframe tbody tr th {\n",
       "        vertical-align: top;\n",
       "    }\n",
       "\n",
       "    .dataframe thead th {\n",
       "        text-align: right;\n",
       "    }\n",
       "</style>\n",
       "<table border=\"1\" class=\"dataframe\">\n",
       "  <thead>\n",
       "    <tr style=\"text-align: right;\">\n",
       "      <th></th>\n",
       "      <th>FirstName</th>\n",
       "      <th>LastName</th>\n",
       "      <th>SalesOrderID</th>\n",
       "      <th>OrderDate</th>\n",
       "      <th>Name</th>\n",
       "      <th>Description</th>\n",
       "    </tr>\n",
       "  </thead>\n",
       "  <tbody>\n",
       "    <tr>\n",
       "      <th>0</th>\n",
       "      <td>None</td>\n",
       "      <td>None</td>\n",
       "      <td>43702</td>\n",
       "      <td>2011-06-01 00:00:00</td>\n",
       "      <td>None</td>\n",
       "      <td>None</td>\n",
       "    </tr>\n",
       "    <tr>\n",
       "      <th>1</th>\n",
       "      <td>None</td>\n",
       "      <td>None</td>\n",
       "      <td>43703</td>\n",
       "      <td>2011-06-01 00:00:00</td>\n",
       "      <td>None</td>\n",
       "      <td>None</td>\n",
       "    </tr>\n",
       "    <tr>\n",
       "      <th>2</th>\n",
       "      <td>None</td>\n",
       "      <td>None</td>\n",
       "      <td>43704</td>\n",
       "      <td>2011-06-01 00:00:00</td>\n",
       "      <td>None</td>\n",
       "      <td>None</td>\n",
       "    </tr>\n",
       "  </tbody>\n",
       "</table>\n",
       "</div>"
      ],
      "text/plain": [
       "  FirstName LastName SalesOrderID            OrderDate  Name Description\n",
       "0      None     None        43702  2011-06-01 00:00:00  None        None\n",
       "1      None     None        43703  2011-06-01 00:00:00  None        None\n",
       "2      None     None        43704  2011-06-01 00:00:00  None        None"
      ]
     },
     "execution_count": 23,
     "metadata": {},
     "output_type": "execute_result"
    }
   ],
   "source": [
    "# Ejercicio 34b - Obtener ventas de junio y julio de 2011, incluyendo nombre, apellido del cliente, nro de venta, fecha, nombre y descripción del producto.\n",
    "mostrar_query(\"\"\" \n",
    "SELECT \n",
    "  p.FirstName, \n",
    "  p.LastName, \n",
    "  soh.SalesOrderID, \n",
    "  soh.OrderDate, \n",
    "  pt.Name, \n",
    "  pd.Description\n",
    "FROM 'Sales.SalesOrderHeader' AS soh\n",
    "LEFT JOIN 'Sales.Customer' AS c \n",
    "  ON soh.CustomerID = c.CustomerID \n",
    "LEFT JOIN 'Person.Person' AS p \n",
    "  ON c.PersonID = p.BusinessEntityID\n",
    "LEFT JOIN 'Sales.SalesOrderDetail' AS sod \n",
    "  ON soh.SalesOrderID = sod.SalesOrderID\n",
    "LEFT JOIN 'Production.Product' AS pt \n",
    "  ON sod.ProductID = pt.ProductID\n",
    "LEFT JOIN 'Production.ProductModelProductDescriptionCulture' AS pmpdc \n",
    "  ON pt.ProductModelID = pmpdc.ProductModelID AND pmpdc.CultureID = 'en'\n",
    "LEFT JOIN 'Production.ProductDescription' AS pd \n",
    "  ON pmpdc.ProductDescriptionID = pd.ProductDescriptionID\n",
    "WHERE strftime('%Y', soh.OrderDate) = '2011' \n",
    "  AND strftime('%m', soh.OrderDate) IN ('06', '07')\n",
    "\"\"\")"
   ]
  },
  {
   "cell_type": "code",
   "execution_count": 24,
   "id": "4fb443ff",
   "metadata": {},
   "outputs": [
    {
     "data": {
      "application/vnd.microsoft.datawrangler.viewer.v0+json": {
       "columns": [
        {
         "name": "index",
         "rawType": "int64",
         "type": "integer"
        },
        {
         "name": "BusinessEntityID",
         "rawType": "object",
         "type": "string"
        },
        {
         "name": "SalesOrderID",
         "rawType": "object",
         "type": "unknown"
        }
       ],
       "ref": "9b510467-dc12-4802-bab8-b1a5de90e5bf",
       "rows": [
        [
         "0",
         "274",
         null
        ],
        [
         "1",
         "275",
         null
        ],
        [
         "2",
         "276",
         null
        ]
       ],
       "shape": {
        "columns": 2,
        "rows": 3
       }
      },
      "text/html": [
       "<div>\n",
       "<style scoped>\n",
       "    .dataframe tbody tr th:only-of-type {\n",
       "        vertical-align: middle;\n",
       "    }\n",
       "\n",
       "    .dataframe tbody tr th {\n",
       "        vertical-align: top;\n",
       "    }\n",
       "\n",
       "    .dataframe thead th {\n",
       "        text-align: right;\n",
       "    }\n",
       "</style>\n",
       "<table border=\"1\" class=\"dataframe\">\n",
       "  <thead>\n",
       "    <tr style=\"text-align: right;\">\n",
       "      <th></th>\n",
       "      <th>BusinessEntityID</th>\n",
       "      <th>SalesOrderID</th>\n",
       "    </tr>\n",
       "  </thead>\n",
       "  <tbody>\n",
       "    <tr>\n",
       "      <th>0</th>\n",
       "      <td>274</td>\n",
       "      <td>None</td>\n",
       "    </tr>\n",
       "    <tr>\n",
       "      <th>1</th>\n",
       "      <td>275</td>\n",
       "      <td>None</td>\n",
       "    </tr>\n",
       "    <tr>\n",
       "      <th>2</th>\n",
       "      <td>276</td>\n",
       "      <td>None</td>\n",
       "    </tr>\n",
       "  </tbody>\n",
       "</table>\n",
       "</div>"
      ],
      "text/plain": [
       "  BusinessEntityID SalesOrderID\n",
       "0              274         None\n",
       "1              275         None\n",
       "2              276         None"
      ]
     },
     "execution_count": 24,
     "metadata": {},
     "output_type": "execute_result"
    }
   ],
   "source": [
    "# Ejercicio 38  - Mostrar el ID de todos los vendedores y el ID de la venta (si existió), con revisión 9 en 2013.\n",
    "mostrar_query(\"\"\" \n",
    "SELECT sp.BusinessEntityID, soh.SalesOrderID\n",
    "FROM 'Sales.SalesPerson' AS sp  \n",
    "LEFT JOIN 'Sales.SalesOrderHeader' AS soh \n",
    "    ON sp.BusinessEntityID = soh.SalesPersonID \n",
    "    AND soh.RevisionNumber = 9 \n",
    "    AND strftime('%Y', soh.OrderDate) = '2013'\n",
    "\"\"\")\n"
   ]
  },
  {
   "cell_type": "code",
   "execution_count": 25,
   "id": "3585b9e1",
   "metadata": {},
   "outputs": [
    {
     "data": {
      "application/vnd.microsoft.datawrangler.viewer.v0+json": {
       "columns": [
        {
         "name": "index",
         "rawType": "int64",
         "type": "integer"
        },
        {
         "name": "BusinessEntityID",
         "rawType": "object",
         "type": "string"
        },
        {
         "name": "FirstName",
         "rawType": "object",
         "type": "unknown"
        },
        {
         "name": "LastName",
         "rawType": "object",
         "type": "unknown"
        },
        {
         "name": "SalesOrderID",
         "rawType": "object",
         "type": "unknown"
        }
       ],
       "ref": "e8e058cb-8619-4522-a751-436e7dafb4b4",
       "rows": [
        [
         "0",
         "274",
         null,
         null,
         null
        ],
        [
         "1",
         "275",
         null,
         null,
         null
        ],
        [
         "2",
         "276",
         null,
         null,
         null
        ]
       ],
       "shape": {
        "columns": 4,
        "rows": 3
       }
      },
      "text/html": [
       "<div>\n",
       "<style scoped>\n",
       "    .dataframe tbody tr th:only-of-type {\n",
       "        vertical-align: middle;\n",
       "    }\n",
       "\n",
       "    .dataframe tbody tr th {\n",
       "        vertical-align: top;\n",
       "    }\n",
       "\n",
       "    .dataframe thead th {\n",
       "        text-align: right;\n",
       "    }\n",
       "</style>\n",
       "<table border=\"1\" class=\"dataframe\">\n",
       "  <thead>\n",
       "    <tr style=\"text-align: right;\">\n",
       "      <th></th>\n",
       "      <th>BusinessEntityID</th>\n",
       "      <th>FirstName</th>\n",
       "      <th>LastName</th>\n",
       "      <th>SalesOrderID</th>\n",
       "    </tr>\n",
       "  </thead>\n",
       "  <tbody>\n",
       "    <tr>\n",
       "      <th>0</th>\n",
       "      <td>274</td>\n",
       "      <td>None</td>\n",
       "      <td>None</td>\n",
       "      <td>None</td>\n",
       "    </tr>\n",
       "    <tr>\n",
       "      <th>1</th>\n",
       "      <td>275</td>\n",
       "      <td>None</td>\n",
       "      <td>None</td>\n",
       "      <td>None</td>\n",
       "    </tr>\n",
       "    <tr>\n",
       "      <th>2</th>\n",
       "      <td>276</td>\n",
       "      <td>None</td>\n",
       "      <td>None</td>\n",
       "      <td>None</td>\n",
       "    </tr>\n",
       "  </tbody>\n",
       "</table>\n",
       "</div>"
      ],
      "text/plain": [
       "  BusinessEntityID FirstName LastName SalesOrderID\n",
       "0              274      None     None         None\n",
       "1              275      None     None         None\n",
       "2              276      None     None         None"
      ]
     },
     "execution_count": 25,
     "metadata": {},
     "output_type": "execute_result"
    }
   ],
   "source": [
    "# Ejercicio 39 - Mostrar ID, nombre y apellido de los vendedores junto con el ID de venta (revisión 9, año 2013). Incluir vendedores sin ventas.\n",
    "mostrar_query(\"\"\" \n",
    "SELECT sp.BusinessEntityID, p.FirstName, p.LastName, soh.SalesOrderID\n",
    "FROM 'Sales.SalesPerson' AS sp  \n",
    "LEFT JOIN 'Person.Person' AS p \n",
    "  ON sp.BusinessEntityID = p.BusinessEntityID \n",
    "LEFT JOIN 'Sales.SalesOrderHeader' AS soh \n",
    "  ON sp.BusinessEntityID = soh.SalesPersonID \n",
    "     AND soh.RevisionNumber = 9 \n",
    "     AND strftime('%Y', soh.OrderDate) = '2013'\n",
    "\"\"\")\n"
   ]
  },
  {
   "cell_type": "markdown",
   "id": "dad48fe0",
   "metadata": {},
   "source": [
    "### 3. Aggregation, Grouping, and Scalar Functions  \n"
   ]
  },
  {
   "cell_type": "code",
   "execution_count": 26,
   "id": "ad2c6f6d",
   "metadata": {},
   "outputs": [
    {
     "data": {
      "application/vnd.microsoft.datawrangler.viewer.v0+json": {
       "columns": [
        {
         "name": "index",
         "rawType": "int64",
         "type": "integer"
        },
        {
         "name": "ProductID",
         "rawType": "object",
         "type": "string"
        },
        {
         "name": "Name",
         "rawType": "object",
         "type": "string"
        }
       ],
       "ref": "ae68c4d6-8af8-4ad5-be06-217b7162edc1",
       "rows": [
        [
         "0",
         "320",
         "Chainring Bolts"
        ],
        [
         "1",
         "321",
         "Chainring Nut"
        ],
        [
         "2",
         "322",
         "Chainring"
        ]
       ],
       "shape": {
        "columns": 2,
        "rows": 3
       }
      },
      "text/html": [
       "<div>\n",
       "<style scoped>\n",
       "    .dataframe tbody tr th:only-of-type {\n",
       "        vertical-align: middle;\n",
       "    }\n",
       "\n",
       "    .dataframe tbody tr th {\n",
       "        vertical-align: top;\n",
       "    }\n",
       "\n",
       "    .dataframe thead th {\n",
       "        text-align: right;\n",
       "    }\n",
       "</style>\n",
       "<table border=\"1\" class=\"dataframe\">\n",
       "  <thead>\n",
       "    <tr style=\"text-align: right;\">\n",
       "      <th></th>\n",
       "      <th>ProductID</th>\n",
       "      <th>Name</th>\n",
       "    </tr>\n",
       "  </thead>\n",
       "  <tbody>\n",
       "    <tr>\n",
       "      <th>0</th>\n",
       "      <td>320</td>\n",
       "      <td>Chainring Bolts</td>\n",
       "    </tr>\n",
       "    <tr>\n",
       "      <th>1</th>\n",
       "      <td>321</td>\n",
       "      <td>Chainring Nut</td>\n",
       "    </tr>\n",
       "    <tr>\n",
       "      <th>2</th>\n",
       "      <td>322</td>\n",
       "      <td>Chainring</td>\n",
       "    </tr>\n",
       "  </tbody>\n",
       "</table>\n",
       "</div>"
      ],
      "text/plain": [
       "  ProductID             Name\n",
       "0       320  Chainring Bolts\n",
       "1       321    Chainring Nut\n",
       "2       322        Chainring"
      ]
     },
     "execution_count": 26,
     "metadata": {},
     "output_type": "execute_result"
    }
   ],
   "source": [
    "# Ejercicio 17 - Hallar el Id y el nombre de los productos cuyo nombre comience con “Chain”\n",
    "mostrar_query(\"\"\" \n",
    "SELECT p.ProductID, p.Name \n",
    "FROM 'Production.Product' AS p\n",
    "WHERE p.Name LIKE 'Chain%'\n",
    "\"\"\")\n"
   ]
  },
  {
   "cell_type": "code",
   "execution_count": 27,
   "id": "956b42d2",
   "metadata": {},
   "outputs": [
    {
     "data": {
      "application/vnd.microsoft.datawrangler.viewer.v0+json": {
       "columns": [
        {
         "name": "index",
         "rawType": "int64",
         "type": "integer"
        },
        {
         "name": "ProductID",
         "rawType": "object",
         "type": "string"
        },
        {
         "name": "Name",
         "rawType": "object",
         "type": "string"
        }
       ],
       "ref": "dae99a31-a87f-48f1-af07-21b6744aa8f5",
       "rows": [],
       "shape": {
        "columns": 2,
        "rows": 0
       }
      },
      "text/html": [
       "<div>\n",
       "<style scoped>\n",
       "    .dataframe tbody tr th:only-of-type {\n",
       "        vertical-align: middle;\n",
       "    }\n",
       "\n",
       "    .dataframe tbody tr th {\n",
       "        vertical-align: top;\n",
       "    }\n",
       "\n",
       "    .dataframe thead th {\n",
       "        text-align: right;\n",
       "    }\n",
       "</style>\n",
       "<table border=\"1\" class=\"dataframe\">\n",
       "  <thead>\n",
       "    <tr style=\"text-align: right;\">\n",
       "      <th></th>\n",
       "      <th>ProductID</th>\n",
       "      <th>Name</th>\n",
       "    </tr>\n",
       "  </thead>\n",
       "  <tbody>\n",
       "  </tbody>\n",
       "</table>\n",
       "</div>"
      ],
      "text/plain": [
       "Empty DataFrame\n",
       "Columns: [ProductID, Name]\n",
       "Index: []"
      ]
     },
     "execution_count": 27,
     "metadata": {},
     "output_type": "execute_result"
    }
   ],
   "source": [
    "# Ejercicio 18 - Hallar el Id y el nombre de los productos cuyo nombre contenga “helmet”\n",
    "mostrar_query(\"\"\" \n",
    "SELECT p.ProductID, p.Name \n",
    "FROM 'Production.Product' AS p\n",
    "WHERE p.Name LIKE '%helmet%'\n",
    "\"\"\")\n"
   ]
  },
  {
   "cell_type": "code",
   "execution_count": 28,
   "id": "07c31597",
   "metadata": {},
   "outputs": [
    {
     "data": {
      "application/vnd.microsoft.datawrangler.viewer.v0+json": {
       "columns": [
        {
         "name": "index",
         "rawType": "int64",
         "type": "integer"
        },
        {
         "name": "ProductID",
         "rawType": "object",
         "type": "string"
        },
        {
         "name": "Name",
         "rawType": "object",
         "type": "string"
        }
       ],
       "ref": "3e88bc22-2a10-40f7-9a8d-32afe2b2cdd2",
       "rows": [
        [
         "0",
         "1",
         "Adjustable Race"
        ],
        [
         "1",
         "2",
         "Bearing Ball"
        ],
        [
         "2",
         "3",
         "BB Ball Bearing"
        ]
       ],
       "shape": {
        "columns": 2,
        "rows": 3
       }
      },
      "text/html": [
       "<div>\n",
       "<style scoped>\n",
       "    .dataframe tbody tr th:only-of-type {\n",
       "        vertical-align: middle;\n",
       "    }\n",
       "\n",
       "    .dataframe tbody tr th {\n",
       "        vertical-align: top;\n",
       "    }\n",
       "\n",
       "    .dataframe thead th {\n",
       "        text-align: right;\n",
       "    }\n",
       "</style>\n",
       "<table border=\"1\" class=\"dataframe\">\n",
       "  <thead>\n",
       "    <tr style=\"text-align: right;\">\n",
       "      <th></th>\n",
       "      <th>ProductID</th>\n",
       "      <th>Name</th>\n",
       "    </tr>\n",
       "  </thead>\n",
       "  <tbody>\n",
       "    <tr>\n",
       "      <th>0</th>\n",
       "      <td>1</td>\n",
       "      <td>Adjustable Race</td>\n",
       "    </tr>\n",
       "    <tr>\n",
       "      <th>1</th>\n",
       "      <td>2</td>\n",
       "      <td>Bearing Ball</td>\n",
       "    </tr>\n",
       "    <tr>\n",
       "      <th>2</th>\n",
       "      <td>3</td>\n",
       "      <td>BB Ball Bearing</td>\n",
       "    </tr>\n",
       "  </tbody>\n",
       "</table>\n",
       "</div>"
      ],
      "text/plain": [
       "  ProductID             Name\n",
       "0         1  Adjustable Race\n",
       "1         2     Bearing Ball\n",
       "2         3  BB Ball Bearing"
      ]
     },
     "execution_count": 28,
     "metadata": {},
     "output_type": "execute_result"
    }
   ],
   "source": [
    "# Ejercicio 19 - Modificar la consulta anterior para que retorne aquellos productos cuyo nombre no contenga “helmet”\n",
    "mostrar_query(\"\"\" \n",
    "SELECT p.ProductID, p.Name \n",
    "FROM 'Production.Product' AS p\n",
    "WHERE p.Name NOT LIKE '%helmet%'\n",
    "\"\"\")\n"
   ]
  },
  {
   "cell_type": "code",
   "execution_count": 29,
   "id": "0bf43610",
   "metadata": {},
   "outputs": [
    {
     "data": {
      "application/vnd.microsoft.datawrangler.viewer.v0+json": {
       "columns": [
        {
         "name": "index",
         "rawType": "int64",
         "type": "integer"
        },
        {
         "name": "BusinessEntityID",
         "rawType": "object",
         "type": "string"
        },
        {
         "name": "PersonType",
         "rawType": "object",
         "type": "string"
        },
        {
         "name": "NameStyle",
         "rawType": "object",
         "type": "string"
        },
        {
         "name": "Title",
         "rawType": "object",
         "type": "string"
        },
        {
         "name": "FirstName",
         "rawType": "object",
         "type": "string"
        },
        {
         "name": "MiddleName",
         "rawType": "object",
         "type": "string"
        },
        {
         "name": "LastName",
         "rawType": "object",
         "type": "string"
        },
        {
         "name": "Suffix",
         "rawType": "object",
         "type": "string"
        },
        {
         "name": "EmailPromotion",
         "rawType": "object",
         "type": "string"
        },
        {
         "name": "AdditionalContactInfo",
         "rawType": "object",
         "type": "string"
        },
        {
         "name": "Demographics",
         "rawType": "object",
         "type": "string"
        },
        {
         "name": "rowguid",
         "rawType": "object",
         "type": "string"
        },
        {
         "name": "ModifiedDate",
         "rawType": "object",
         "type": "string"
        }
       ],
       "ref": "5b9ca063-80ae-4f76-824a-ba0b992541aa",
       "rows": [],
       "shape": {
        "columns": 13,
        "rows": 0
       }
      },
      "text/html": [
       "<div>\n",
       "<style scoped>\n",
       "    .dataframe tbody tr th:only-of-type {\n",
       "        vertical-align: middle;\n",
       "    }\n",
       "\n",
       "    .dataframe tbody tr th {\n",
       "        vertical-align: top;\n",
       "    }\n",
       "\n",
       "    .dataframe thead th {\n",
       "        text-align: right;\n",
       "    }\n",
       "</style>\n",
       "<table border=\"1\" class=\"dataframe\">\n",
       "  <thead>\n",
       "    <tr style=\"text-align: right;\">\n",
       "      <th></th>\n",
       "      <th>BusinessEntityID</th>\n",
       "      <th>PersonType</th>\n",
       "      <th>NameStyle</th>\n",
       "      <th>Title</th>\n",
       "      <th>FirstName</th>\n",
       "      <th>MiddleName</th>\n",
       "      <th>LastName</th>\n",
       "      <th>Suffix</th>\n",
       "      <th>EmailPromotion</th>\n",
       "      <th>AdditionalContactInfo</th>\n",
       "      <th>Demographics</th>\n",
       "      <th>rowguid</th>\n",
       "      <th>ModifiedDate</th>\n",
       "    </tr>\n",
       "  </thead>\n",
       "  <tbody>\n",
       "  </tbody>\n",
       "</table>\n",
       "</div>"
      ],
      "text/plain": [
       "Empty DataFrame\n",
       "Columns: [BusinessEntityID, PersonType, NameStyle, Title, FirstName, MiddleName, LastName, Suffix, EmailPromotion, AdditionalContactInfo, Demographics, rowguid, ModifiedDate]\n",
       "Index: []"
      ]
     },
     "execution_count": 29,
     "metadata": {},
     "output_type": "execute_result"
    }
   ],
   "source": [
    "# Ejercicio 20 - Mostrar los datos principales de las personas (tabla Person) cuyo LastName termine con “es” y contenga en total 5 caracteres.\n",
    "mostrar_query(\"\"\" \n",
    "SELECT * \n",
    "FROM 'Person.Person' AS p\n",
    "WHERE p.LastName LIKE '___es'\n",
    "\"\"\")\n"
   ]
  },
  {
   "cell_type": "code",
   "execution_count": 30,
   "id": "235af588",
   "metadata": {},
   "outputs": [
    {
     "data": {
      "application/vnd.microsoft.datawrangler.viewer.v0+json": {
       "columns": [
        {
         "name": "index",
         "rawType": "int64",
         "type": "integer"
        },
        {
         "name": "SpecialOfferID",
         "rawType": "object",
         "type": "string"
        },
        {
         "name": "Description",
         "rawType": "object",
         "type": "string"
        },
        {
         "name": "DeltaQty",
         "rawType": "int64",
         "type": "integer"
        }
       ],
       "ref": "624ce90b-c7d2-41ea-bcd8-032fd2d4e29d",
       "rows": [
        [
         "0",
         "1",
         "No Discount",
         "0"
        ],
        [
         "1",
         "2",
         "Volume Discount 11 to 14",
         "3"
        ],
        [
         "2",
         "3",
         "Volume Discount 15 to 24",
         "9"
        ]
       ],
       "shape": {
        "columns": 3,
        "rows": 3
       }
      },
      "text/html": [
       "<div>\n",
       "<style scoped>\n",
       "    .dataframe tbody tr th:only-of-type {\n",
       "        vertical-align: middle;\n",
       "    }\n",
       "\n",
       "    .dataframe tbody tr th {\n",
       "        vertical-align: top;\n",
       "    }\n",
       "\n",
       "    .dataframe thead th {\n",
       "        text-align: right;\n",
       "    }\n",
       "</style>\n",
       "<table border=\"1\" class=\"dataframe\">\n",
       "  <thead>\n",
       "    <tr style=\"text-align: right;\">\n",
       "      <th></th>\n",
       "      <th>SpecialOfferID</th>\n",
       "      <th>Description</th>\n",
       "      <th>DeltaQty</th>\n",
       "    </tr>\n",
       "  </thead>\n",
       "  <tbody>\n",
       "    <tr>\n",
       "      <th>0</th>\n",
       "      <td>1</td>\n",
       "      <td>No Discount</td>\n",
       "      <td>0</td>\n",
       "    </tr>\n",
       "    <tr>\n",
       "      <th>1</th>\n",
       "      <td>2</td>\n",
       "      <td>Volume Discount 11 to 14</td>\n",
       "      <td>3</td>\n",
       "    </tr>\n",
       "    <tr>\n",
       "      <th>2</th>\n",
       "      <td>3</td>\n",
       "      <td>Volume Discount 15 to 24</td>\n",
       "      <td>9</td>\n",
       "    </tr>\n",
       "  </tbody>\n",
       "</table>\n",
       "</div>"
      ],
      "text/plain": [
       "  SpecialOfferID               Description  DeltaQty\n",
       "0              1               No Discount         0\n",
       "1              2  Volume Discount 11 to 14         3\n",
       "2              3  Volume Discount 15 to 24         9"
      ]
     },
     "execution_count": 30,
     "metadata": {},
     "output_type": "execute_result"
    }
   ],
   "source": [
    "# Ejercicio 21 - Usando la tabla SpecialOffer del esquema Sales, mostrar la diferencia entre MinQty y MaxQty, con el id y descripción.\n",
    "mostrar_query(\"\"\" \n",
    "SELECT so.SpecialOfferID, so.Description, so.MaxQty - so.MinQty AS DeltaQty\n",
    "FROM 'Sales.SpecialOffer' AS so\n",
    "\"\"\")\n"
   ]
  },
  {
   "cell_type": "code",
   "execution_count": 31,
   "id": "e395ec08",
   "metadata": {},
   "outputs": [
    {
     "data": {
      "application/vnd.microsoft.datawrangler.viewer.v0+json": {
       "columns": [
        {
         "name": "index",
         "rawType": "int64",
         "type": "integer"
        },
        {
         "name": "DeltaQty",
         "rawType": "int64",
         "type": "integer"
        }
       ],
       "ref": "76495443-6a4e-4166-a4d8-87c799a74721",
       "rows": [
        [
         "0",
         "0"
        ],
        [
         "1",
         "3"
        ],
        [
         "2",
         "9"
        ]
       ],
       "shape": {
        "columns": 1,
        "rows": 3
       }
      },
      "text/html": [
       "<div>\n",
       "<style scoped>\n",
       "    .dataframe tbody tr th:only-of-type {\n",
       "        vertical-align: middle;\n",
       "    }\n",
       "\n",
       "    .dataframe tbody tr th {\n",
       "        vertical-align: top;\n",
       "    }\n",
       "\n",
       "    .dataframe thead th {\n",
       "        text-align: right;\n",
       "    }\n",
       "</style>\n",
       "<table border=\"1\" class=\"dataframe\">\n",
       "  <thead>\n",
       "    <tr style=\"text-align: right;\">\n",
       "      <th></th>\n",
       "      <th>DeltaQty</th>\n",
       "    </tr>\n",
       "  </thead>\n",
       "  <tbody>\n",
       "    <tr>\n",
       "      <th>0</th>\n",
       "      <td>0</td>\n",
       "    </tr>\n",
       "    <tr>\n",
       "      <th>1</th>\n",
       "      <td>3</td>\n",
       "    </tr>\n",
       "    <tr>\n",
       "      <th>2</th>\n",
       "      <td>9</td>\n",
       "    </tr>\n",
       "  </tbody>\n",
       "</table>\n",
       "</div>"
      ],
      "text/plain": [
       "   DeltaQty\n",
       "0         0\n",
       "1         3\n",
       "2         9"
      ]
     },
     "execution_count": 31,
     "metadata": {},
     "output_type": "execute_result"
    }
   ],
   "source": [
    "# Ejercicio 23 - Para resolver el problema anterior, usar la función ISNULL para, cuando no tengan asignado valor, reemplazarlo en el cálculo por 0 (cero).\n",
    "mostrar_query(\"\"\" \n",
    "SELECT \n",
    "  IFNULL(so.MaxQty, 0) - IFNULL(so.MinQty, 0) AS DeltaQty\n",
    "FROM 'Sales.SpecialOffer' AS so\n",
    "\"\"\")\n"
   ]
  },
  {
   "cell_type": "code",
   "execution_count": 32,
   "id": "2897ecac",
   "metadata": {},
   "outputs": [
    {
     "data": {
      "application/vnd.microsoft.datawrangler.viewer.v0+json": {
       "columns": [
        {
         "name": "index",
         "rawType": "int64",
         "type": "integer"
        },
        {
         "name": "COUNT(c.CustomerID)",
         "rawType": "int64",
         "type": "integer"
        }
       ],
       "ref": "361e086f-3ba0-4297-82f4-25e7813e1a01",
       "rows": [
        [
         "0",
         "100"
        ]
       ],
       "shape": {
        "columns": 1,
        "rows": 1
       }
      },
      "text/html": [
       "<div>\n",
       "<style scoped>\n",
       "    .dataframe tbody tr th:only-of-type {\n",
       "        vertical-align: middle;\n",
       "    }\n",
       "\n",
       "    .dataframe tbody tr th {\n",
       "        vertical-align: top;\n",
       "    }\n",
       "\n",
       "    .dataframe thead th {\n",
       "        text-align: right;\n",
       "    }\n",
       "</style>\n",
       "<table border=\"1\" class=\"dataframe\">\n",
       "  <thead>\n",
       "    <tr style=\"text-align: right;\">\n",
       "      <th></th>\n",
       "      <th>COUNT(c.CustomerID)</th>\n",
       "    </tr>\n",
       "  </thead>\n",
       "  <tbody>\n",
       "    <tr>\n",
       "      <th>0</th>\n",
       "      <td>100</td>\n",
       "    </tr>\n",
       "  </tbody>\n",
       "</table>\n",
       "</div>"
      ],
      "text/plain": [
       "   COUNT(c.CustomerID)\n",
       "0                  100"
      ]
     },
     "execution_count": 32,
     "metadata": {},
     "output_type": "execute_result"
    }
   ],
   "source": [
    "# Ejercicio 24 - ¿Cuántos clientes están almacenados en la tabla Customers?\n",
    "mostrar_query(\"\"\" \n",
    "SELECT COUNT(c.CustomerID) \n",
    "FROM 'Sales.Customer' AS c\n",
    "\"\"\")\n",
    "\n"
   ]
  },
  {
   "cell_type": "code",
   "execution_count": 33,
   "id": "e8112c03",
   "metadata": {},
   "outputs": [
    {
     "data": {
      "application/vnd.microsoft.datawrangler.viewer.v0+json": {
       "columns": [
        {
         "name": "index",
         "rawType": "int64",
         "type": "integer"
        },
        {
         "name": "StoreID",
         "rawType": "object",
         "type": "string"
        }
       ],
       "ref": "c935a045-645c-4faa-9662-358ada146496",
       "rows": [],
       "shape": {
        "columns": 1,
        "rows": 0
       }
      },
      "text/html": [
       "<div>\n",
       "<style scoped>\n",
       "    .dataframe tbody tr th:only-of-type {\n",
       "        vertical-align: middle;\n",
       "    }\n",
       "\n",
       "    .dataframe tbody tr th {\n",
       "        vertical-align: top;\n",
       "    }\n",
       "\n",
       "    .dataframe thead th {\n",
       "        text-align: right;\n",
       "    }\n",
       "</style>\n",
       "<table border=\"1\" class=\"dataframe\">\n",
       "  <thead>\n",
       "    <tr style=\"text-align: right;\">\n",
       "      <th></th>\n",
       "      <th>StoreID</th>\n",
       "    </tr>\n",
       "  </thead>\n",
       "  <tbody>\n",
       "  </tbody>\n",
       "</table>\n",
       "</div>"
      ],
      "text/plain": [
       "Empty DataFrame\n",
       "Columns: [StoreID]\n",
       "Index: []"
      ]
     },
     "execution_count": 33,
     "metadata": {},
     "output_type": "execute_result"
    }
   ],
   "source": [
    "# Ejercicio 25 (primera parte) - ¿Cuál es la cantidad de clientes por tienda?\n",
    "mostrar_query(\"\"\" \n",
    "SELECT c.StoreID, COUNT(c.CustomerID) AS CantidadClientes\n",
    "FROM 'Sales.Customer' AS c\n",
    "GROUP BY c.StoreID\n",
    "\"\"\")\n",
    "\n",
    "# Ejercicio 25 (segunda parte) - ¿Cuál es la cantidad de clientes por territorio?\n",
    "mostrar_query(\"\"\" \n",
    "SELECT c.TerritoryID, COUNT(c.CustomerID) AS CantidadClientes\n",
    "FROM 'Sales.Customer' AS c\n",
    "GROUP BY c.TerritoryID\n",
    "\"\"\")\n",
    "\n",
    "# Ejercicio 25 (tercera parte) - ¿Cuáles son las tiendas (su Id) asociadas al territorio Id 4 que tienen menos de 2 clientes?\n",
    "mostrar_query(\"\"\" \n",
    "SELECT c.StoreID \n",
    "FROM 'Sales.Customer' AS c\n",
    "GROUP BY c.StoreID, c.TerritoryID\n",
    "HAVING COUNT(c.CustomerID) < 2 AND c.TerritoryID = 4\n",
    "\"\"\")\n"
   ]
  },
  {
   "cell_type": "code",
   "execution_count": 34,
   "id": "b63740b7",
   "metadata": {},
   "outputs": [
    {
     "data": {
      "application/vnd.microsoft.datawrangler.viewer.v0+json": {
       "columns": [
        {
         "name": "index",
         "rawType": "int64",
         "type": "integer"
        },
        {
         "name": "COUNT(sod.OrderQty)",
         "rawType": "int64",
         "type": "integer"
        }
       ],
       "ref": "4f456665-b0c9-40dd-8e09-c30678e9c036",
       "rows": [
        [
         "0",
         "0"
        ]
       ],
       "shape": {
        "columns": 1,
        "rows": 1
       }
      },
      "text/html": [
       "<div>\n",
       "<style scoped>\n",
       "    .dataframe tbody tr th:only-of-type {\n",
       "        vertical-align: middle;\n",
       "    }\n",
       "\n",
       "    .dataframe tbody tr th {\n",
       "        vertical-align: top;\n",
       "    }\n",
       "\n",
       "    .dataframe thead th {\n",
       "        text-align: right;\n",
       "    }\n",
       "</style>\n",
       "<table border=\"1\" class=\"dataframe\">\n",
       "  <thead>\n",
       "    <tr style=\"text-align: right;\">\n",
       "      <th></th>\n",
       "      <th>COUNT(sod.OrderQty)</th>\n",
       "    </tr>\n",
       "  </thead>\n",
       "  <tbody>\n",
       "    <tr>\n",
       "      <th>0</th>\n",
       "      <td>0</td>\n",
       "    </tr>\n",
       "  </tbody>\n",
       "</table>\n",
       "</div>"
      ],
      "text/plain": [
       "   COUNT(sod.OrderQty)\n",
       "0                    0"
      ]
     },
     "execution_count": 34,
     "metadata": {},
     "output_type": "execute_result"
    }
   ],
   "source": [
    "# Ejercicio 26 - Para la tabla SalesOrderDetail del esquema Sales, calcular cuál es la cantidad total de items ordenados (OrderQty) para el producto con Id igual a 778.\n",
    "mostrar_query(\"\"\" \n",
    "SELECT COUNT(sod.OrderQty)  \n",
    "FROM 'Sales.SalesOrderDetail' AS sod \n",
    "WHERE sod.ProductID = 778\n",
    "\"\"\")\n"
   ]
  },
  {
   "cell_type": "code",
   "execution_count": 35,
   "id": "a1d70adb",
   "metadata": {},
   "outputs": [
    {
     "data": {
      "application/vnd.microsoft.datawrangler.viewer.v0+json": {
       "columns": [
        {
         "name": "index",
         "rawType": "int64",
         "type": "integer"
        },
        {
         "name": "COUNT(DISTINCT sod.SalesOrderID)",
         "rawType": "int64",
         "type": "integer"
        }
       ],
       "ref": "a3d94678-9c82-45de-a362-979160b5c2a8",
       "rows": [
        [
         "0",
         "10"
        ]
       ],
       "shape": {
        "columns": 1,
        "rows": 1
       }
      },
      "text/html": [
       "<div>\n",
       "<style scoped>\n",
       "    .dataframe tbody tr th:only-of-type {\n",
       "        vertical-align: middle;\n",
       "    }\n",
       "\n",
       "    .dataframe tbody tr th {\n",
       "        vertical-align: top;\n",
       "    }\n",
       "\n",
       "    .dataframe thead th {\n",
       "        text-align: right;\n",
       "    }\n",
       "</style>\n",
       "<table border=\"1\" class=\"dataframe\">\n",
       "  <thead>\n",
       "    <tr style=\"text-align: right;\">\n",
       "      <th></th>\n",
       "      <th>COUNT(DISTINCT sod.SalesOrderID)</th>\n",
       "    </tr>\n",
       "  </thead>\n",
       "  <tbody>\n",
       "    <tr>\n",
       "      <th>0</th>\n",
       "      <td>10</td>\n",
       "    </tr>\n",
       "  </tbody>\n",
       "</table>\n",
       "</div>"
      ],
      "text/plain": [
       "   COUNT(DISTINCT sod.SalesOrderID)\n",
       "0                                10"
      ]
     },
     "execution_count": 35,
     "metadata": {},
     "output_type": "execute_result"
    }
   ],
   "source": [
    "# Ejercicio 27a - ¿Cuál es el precio unitario más caro vendido?\n",
    "mostrar_query(\"\"\" \n",
    "SELECT MAX(sod.UnitPrice)  \n",
    "FROM 'Sales.SalesOrderDetail' AS sod\n",
    "\"\"\")\n",
    "\n",
    "# Ejercicio 27b - ¿Cuál es el número total de items ordenado para cada producto?\n",
    "mostrar_query(\"\"\" \n",
    "SELECT sod.ProductID, COUNT(sod.OrderQty)  \n",
    "FROM 'Sales.SalesOrderDetail' AS sod\n",
    "GROUP BY sod.ProductID\n",
    "\"\"\")\n",
    "\n",
    "# Ejercicio 27c - ¿Cuál es la cantidad de líneas de cada orden?\n",
    "mostrar_query(\"\"\" \n",
    "SELECT sod.SalesOrderID, COUNT(sod.ProductID)  \n",
    "FROM 'Sales.SalesOrderDetail' AS sod\n",
    "GROUP BY sod.SalesOrderID\n",
    "\"\"\")\n",
    "\n",
    "# Ejercicio 27d - ¿Cuál es la cantidad de líneas de cada orden, sólo para aquellas órdenes que tengan más de 3 líneas? Ordenar por id de orden descendente.\n",
    "mostrar_query(\"\"\" \n",
    "SELECT sod.SalesOrderID, COUNT(sod.ProductID)  \n",
    "FROM 'Sales.SalesOrderDetail' AS sod\n",
    "GROUP BY sod.SalesOrderID\n",
    "HAVING COUNT(sod.ProductID) > 3\n",
    "ORDER BY sod.SalesOrderID DESC\n",
    "\"\"\")\n",
    "\n",
    "# Ejercicio 27e - ¿Cuál es el importe total (LineTotal) de cada orden, para aquellas que tengan menos de 3 líneas?\n",
    "mostrar_query(\"\"\" \n",
    "SELECT sod.SalesOrderID, SUM(sod.LineTotal) AS lt \n",
    "FROM 'Sales.SalesOrderDetail' AS sod\n",
    "GROUP BY sod.SalesOrderID \n",
    "HAVING COUNT(sod.SalesOrderID) < 3\n",
    "\"\"\")\n",
    "\n",
    "# Ejercicio 27f - ¿Cuál es la cantidad distinta de productos ordenados?\n",
    "mostrar_query(\"\"\" \n",
    "SELECT COUNT(DISTINCT sod.SalesOrderID)  \n",
    "FROM 'Sales.SalesOrderDetail' AS sod\n",
    "\"\"\")\n"
   ]
  },
  {
   "cell_type": "code",
   "execution_count": 36,
   "id": "ef7793db",
   "metadata": {},
   "outputs": [
    {
     "data": {
      "application/vnd.microsoft.datawrangler.viewer.v0+json": {
       "columns": [
        {
         "name": "index",
         "rawType": "int64",
         "type": "integer"
        },
        {
         "name": "Anio",
         "rawType": "object",
         "type": "string"
        },
        {
         "name": "COUNT(soh.SalesOrderID)",
         "rawType": "int64",
         "type": "integer"
        }
       ],
       "ref": "4a3e715e-f982-4ba5-8d85-51330f0e0a83",
       "rows": [
        [
         "0",
         "2011",
         "100"
        ]
       ],
       "shape": {
        "columns": 2,
        "rows": 1
       }
      },
      "text/html": [
       "<div>\n",
       "<style scoped>\n",
       "    .dataframe tbody tr th:only-of-type {\n",
       "        vertical-align: middle;\n",
       "    }\n",
       "\n",
       "    .dataframe tbody tr th {\n",
       "        vertical-align: top;\n",
       "    }\n",
       "\n",
       "    .dataframe thead th {\n",
       "        text-align: right;\n",
       "    }\n",
       "</style>\n",
       "<table border=\"1\" class=\"dataframe\">\n",
       "  <thead>\n",
       "    <tr style=\"text-align: right;\">\n",
       "      <th></th>\n",
       "      <th>Anio</th>\n",
       "      <th>COUNT(soh.SalesOrderID)</th>\n",
       "    </tr>\n",
       "  </thead>\n",
       "  <tbody>\n",
       "    <tr>\n",
       "      <th>0</th>\n",
       "      <td>2011</td>\n",
       "      <td>100</td>\n",
       "    </tr>\n",
       "  </tbody>\n",
       "</table>\n",
       "</div>"
      ],
      "text/plain": [
       "   Anio  COUNT(soh.SalesOrderID)\n",
       "0  2011                      100"
      ]
     },
     "execution_count": 36,
     "metadata": {},
     "output_type": "execute_result"
    }
   ],
   "source": [
    "# Ejercicio 28 - Usando la tabla SalesOrderHeader, ¿cuál es la cantidad de órdenes emitidas en cada año?\n",
    "mostrar_query(\"\"\" \n",
    "SELECT strftime('%Y', soh.OrderDate) AS Anio, COUNT(soh.SalesOrderID) \n",
    "FROM 'Sales.SalesOrderHeader' AS soh\n",
    "GROUP BY strftime('%Y', soh.OrderDate)\n",
    "\"\"\")\n"
   ]
  },
  {
   "cell_type": "code",
   "execution_count": 37,
   "id": "a23aa4dd",
   "metadata": {},
   "outputs": [
    {
     "data": {
      "application/vnd.microsoft.datawrangler.viewer.v0+json": {
       "columns": [
        {
         "name": "index",
         "rawType": "int64",
         "type": "integer"
        },
        {
         "name": "CustomerID",
         "rawType": "object",
         "type": "string"
        },
        {
         "name": "Anio",
         "rawType": "object",
         "type": "string"
        },
        {
         "name": "COUNT(soh.SalesOrderID)",
         "rawType": "int64",
         "type": "integer"
        }
       ],
       "ref": "e189ffb5-e0d0-47cc-9850-75bec683dc63",
       "rows": [
        [
         "0",
         "11002",
         "2011",
         "1"
        ],
        [
         "1",
         "11003",
         "2011",
         "1"
        ],
        [
         "2",
         "11005",
         "2011",
         "1"
        ]
       ],
       "shape": {
        "columns": 3,
        "rows": 3
       }
      },
      "text/html": [
       "<div>\n",
       "<style scoped>\n",
       "    .dataframe tbody tr th:only-of-type {\n",
       "        vertical-align: middle;\n",
       "    }\n",
       "\n",
       "    .dataframe tbody tr th {\n",
       "        vertical-align: top;\n",
       "    }\n",
       "\n",
       "    .dataframe thead th {\n",
       "        text-align: right;\n",
       "    }\n",
       "</style>\n",
       "<table border=\"1\" class=\"dataframe\">\n",
       "  <thead>\n",
       "    <tr style=\"text-align: right;\">\n",
       "      <th></th>\n",
       "      <th>CustomerID</th>\n",
       "      <th>Anio</th>\n",
       "      <th>COUNT(soh.SalesOrderID)</th>\n",
       "    </tr>\n",
       "  </thead>\n",
       "  <tbody>\n",
       "    <tr>\n",
       "      <th>0</th>\n",
       "      <td>11002</td>\n",
       "      <td>2011</td>\n",
       "      <td>1</td>\n",
       "    </tr>\n",
       "    <tr>\n",
       "      <th>1</th>\n",
       "      <td>11003</td>\n",
       "      <td>2011</td>\n",
       "      <td>1</td>\n",
       "    </tr>\n",
       "    <tr>\n",
       "      <th>2</th>\n",
       "      <td>11005</td>\n",
       "      <td>2011</td>\n",
       "      <td>1</td>\n",
       "    </tr>\n",
       "  </tbody>\n",
       "</table>\n",
       "</div>"
      ],
      "text/plain": [
       "  CustomerID  Anio  COUNT(soh.SalesOrderID)\n",
       "0      11002  2011                        1\n",
       "1      11003  2011                        1\n",
       "2      11005  2011                        1"
      ]
     },
     "execution_count": 37,
     "metadata": {},
     "output_type": "execute_result"
    }
   ],
   "source": [
    "# Ejercicio 29 - Usando la tabla SalesOrderHeader, ¿cuál es la cantidad de órdenes emitidas para cada cliente en cada año?\n",
    "mostrar_query(\"\"\" \n",
    "SELECT soh.CustomerID, strftime('%Y', soh.OrderDate) AS Anio, COUNT(soh.SalesOrderID) \n",
    "FROM 'Sales.SalesOrderHeader' AS soh\n",
    "GROUP BY soh.CustomerID, strftime('%Y', soh.OrderDate)\n",
    "\"\"\")\n"
   ]
  },
  {
   "cell_type": "code",
   "execution_count": 38,
   "id": "c249e146",
   "metadata": {},
   "outputs": [
    {
     "data": {
      "application/vnd.microsoft.datawrangler.viewer.v0+json": {
       "columns": [
        {
         "name": "index",
         "rawType": "int64",
         "type": "integer"
        },
        {
         "name": "Anio",
         "rawType": "object",
         "type": "string"
        },
        {
         "name": "Gender",
         "rawType": "object",
         "type": "string"
        },
        {
         "name": "Cantidad",
         "rawType": "object",
         "type": "string"
        }
       ],
       "ref": "1c9338bb-66ff-4276-b885-001aa07ec69a",
       "rows": [],
       "shape": {
        "columns": 3,
        "rows": 0
       }
      },
      "text/html": [
       "<div>\n",
       "<style scoped>\n",
       "    .dataframe tbody tr th:only-of-type {\n",
       "        vertical-align: middle;\n",
       "    }\n",
       "\n",
       "    .dataframe tbody tr th {\n",
       "        vertical-align: top;\n",
       "    }\n",
       "\n",
       "    .dataframe thead th {\n",
       "        text-align: right;\n",
       "    }\n",
       "</style>\n",
       "<table border=\"1\" class=\"dataframe\">\n",
       "  <thead>\n",
       "    <tr style=\"text-align: right;\">\n",
       "      <th></th>\n",
       "      <th>Anio</th>\n",
       "      <th>Gender</th>\n",
       "      <th>Cantidad</th>\n",
       "    </tr>\n",
       "  </thead>\n",
       "  <tbody>\n",
       "  </tbody>\n",
       "</table>\n",
       "</div>"
      ],
      "text/plain": [
       "Empty DataFrame\n",
       "Columns: [Anio, Gender, Cantidad]\n",
       "Index: []"
      ]
     },
     "execution_count": 38,
     "metadata": {},
     "output_type": "execute_result"
    }
   ],
   "source": [
    "# Ejercicio 30 - Para los empleados, contar la cantidad de empleados solteros nacidos por año y por género, \n",
    "# para aquellos años donde hayan nacido más de 10 empleados.\n",
    "mostrar_query(\"\"\" \n",
    "SELECT strftime('%Y', e.BirthDate) AS Anio, e.Gender, COUNT(e.LoginID) AS Cantidad \n",
    "FROM 'HumanResources.Employee' AS e\n",
    "GROUP BY strftime('%Y', e.BirthDate), e.Gender\n",
    "HAVING COUNT(e.LoginID) > 10\n",
    "\"\"\")\n"
   ]
  },
  {
   "cell_type": "code",
   "execution_count": 39,
   "id": "7751f475",
   "metadata": {},
   "outputs": [
    {
     "data": {
      "application/vnd.microsoft.datawrangler.viewer.v0+json": {
       "columns": [
        {
         "name": "index",
         "rawType": "int64",
         "type": "integer"
        },
        {
         "name": "Color",
         "rawType": "object",
         "type": "string"
        },
        {
         "name": "PromedioPrecio",
         "rawType": "float64",
         "type": "float"
        }
       ],
       "ref": "9fc11281-22cf-4120-afb0-7f069c7e1a70",
       "rows": [
        [
         "0",
         "",
         "0.0"
        ]
       ],
       "shape": {
        "columns": 2,
        "rows": 1
       }
      },
      "text/html": [
       "<div>\n",
       "<style scoped>\n",
       "    .dataframe tbody tr th:only-of-type {\n",
       "        vertical-align: middle;\n",
       "    }\n",
       "\n",
       "    .dataframe tbody tr th {\n",
       "        vertical-align: top;\n",
       "    }\n",
       "\n",
       "    .dataframe thead th {\n",
       "        text-align: right;\n",
       "    }\n",
       "</style>\n",
       "<table border=\"1\" class=\"dataframe\">\n",
       "  <thead>\n",
       "    <tr style=\"text-align: right;\">\n",
       "      <th></th>\n",
       "      <th>Color</th>\n",
       "      <th>PromedioPrecio</th>\n",
       "    </tr>\n",
       "  </thead>\n",
       "  <tbody>\n",
       "    <tr>\n",
       "      <th>0</th>\n",
       "      <td></td>\n",
       "      <td>0.0</td>\n",
       "    </tr>\n",
       "  </tbody>\n",
       "</table>\n",
       "</div>"
      ],
      "text/plain": [
       "  Color  PromedioPrecio\n",
       "0                   0.0"
      ]
     },
     "execution_count": 39,
     "metadata": {},
     "output_type": "execute_result"
    }
   ],
   "source": [
    "# Ejercicio 31a - ¿Cuál es el promedio del precio de lista por color de producto?\n",
    "mostrar_query(\"\"\" \n",
    "SELECT p.Color, AVG(p.ListPrice) AS PromedioPrecio \n",
    "FROM 'Production.Product' AS p \n",
    "GROUP BY p.Color\n",
    "\"\"\")\n",
    "\n",
    "\n",
    "# Ejercicio 31b - ¿Cuál es el promedio del precio de lista por color de producto para aquellos colores que tengan más de 15 productos?\n",
    "mostrar_query(\"\"\" \n",
    "SELECT p.Color, AVG(p.ListPrice) AS PromedioPrecio \n",
    "FROM 'Production.Product' AS p \n",
    "GROUP BY p.Color \n",
    "HAVING COUNT(p.Color) > 15\n",
    "\"\"\")\n"
   ]
  },
  {
   "cell_type": "markdown",
   "id": "d2767bf6",
   "metadata": {},
   "source": [
    "### 4. Logical Modeling and Cross-Analysis  \n"
   ]
  },
  {
   "cell_type": "code",
   "execution_count": 40,
   "id": "b8985c40",
   "metadata": {},
   "outputs": [
    {
     "data": {
      "application/vnd.microsoft.datawrangler.viewer.v0+json": {
       "columns": [
        {
         "name": "index",
         "rawType": "int64",
         "type": "integer"
        },
        {
         "name": "BusinessEntityID",
         "rawType": "object",
         "type": "string"
        },
        {
         "name": "ProductID",
         "rawType": "object",
         "type": "unknown"
        }
       ],
       "ref": "d2fff23f-8819-49e9-82f1-c72efba6df44",
       "rows": [
        [
         "0",
         "274",
         null
        ],
        [
         "1",
         "275",
         null
        ],
        [
         "2",
         "275",
         null
        ]
       ],
       "shape": {
        "columns": 2,
        "rows": 3
       }
      },
      "text/html": [
       "<div>\n",
       "<style scoped>\n",
       "    .dataframe tbody tr th:only-of-type {\n",
       "        vertical-align: middle;\n",
       "    }\n",
       "\n",
       "    .dataframe tbody tr th {\n",
       "        vertical-align: top;\n",
       "    }\n",
       "\n",
       "    .dataframe thead th {\n",
       "        text-align: right;\n",
       "    }\n",
       "</style>\n",
       "<table border=\"1\" class=\"dataframe\">\n",
       "  <thead>\n",
       "    <tr style=\"text-align: right;\">\n",
       "      <th></th>\n",
       "      <th>BusinessEntityID</th>\n",
       "      <th>ProductID</th>\n",
       "    </tr>\n",
       "  </thead>\n",
       "  <tbody>\n",
       "    <tr>\n",
       "      <th>0</th>\n",
       "      <td>274</td>\n",
       "      <td>None</td>\n",
       "    </tr>\n",
       "    <tr>\n",
       "      <th>1</th>\n",
       "      <td>275</td>\n",
       "      <td>None</td>\n",
       "    </tr>\n",
       "    <tr>\n",
       "      <th>2</th>\n",
       "      <td>275</td>\n",
       "      <td>None</td>\n",
       "    </tr>\n",
       "  </tbody>\n",
       "</table>\n",
       "</div>"
      ],
      "text/plain": [
       "  BusinessEntityID ProductID\n",
       "0              274      None\n",
       "1              275      None\n",
       "2              275      None"
      ]
     },
     "execution_count": 40,
     "metadata": {},
     "output_type": "execute_result"
    }
   ],
   "source": [
    "# Ejercicio 40 - Mostrar todos los vendedores junto con los productos que han vendido (si los vendieron)\n",
    "mostrar_query(\"\"\" \n",
    "SELECT \n",
    "  sp.BusinessEntityID, \n",
    "  p.ProductID\n",
    "FROM 'Sales.SalesPerson' AS sp  \n",
    "LEFT JOIN 'Sales.SalesOrderHeader' AS soh \n",
    "  ON sp.BusinessEntityID = soh.SalesPersonID \n",
    "LEFT JOIN 'Sales.SalesOrderDetail' AS sod \n",
    "  ON soh.SalesOrderID = sod.SalesOrderID \n",
    "LEFT JOIN 'Production.Product' AS p \n",
    "  ON sod.ProductID = p.ProductID\n",
    "\"\"\")\n"
   ]
  },
  {
   "cell_type": "code",
   "execution_count": 41,
   "id": "dec3d0e8",
   "metadata": {},
   "outputs": [
    {
     "data": {
      "application/vnd.microsoft.datawrangler.viewer.v0+json": {
       "columns": [
        {
         "name": "index",
         "rawType": "int64",
         "type": "integer"
        },
        {
         "name": "BusinessEntityID",
         "rawType": "object",
         "type": "string"
        },
        {
         "name": "ProductID",
         "rawType": "object",
         "type": "string"
        }
       ],
       "ref": "9e5983ad-d49a-4f4c-a524-a2fc93da0ccf",
       "rows": [
        [
         "0",
         "274",
         "1"
        ],
        [
         "1",
         "274",
         "2"
        ],
        [
         "2",
         "274",
         "3"
        ]
       ],
       "shape": {
        "columns": 2,
        "rows": 3
       }
      },
      "text/html": [
       "<div>\n",
       "<style scoped>\n",
       "    .dataframe tbody tr th:only-of-type {\n",
       "        vertical-align: middle;\n",
       "    }\n",
       "\n",
       "    .dataframe tbody tr th {\n",
       "        vertical-align: top;\n",
       "    }\n",
       "\n",
       "    .dataframe thead th {\n",
       "        text-align: right;\n",
       "    }\n",
       "</style>\n",
       "<table border=\"1\" class=\"dataframe\">\n",
       "  <thead>\n",
       "    <tr style=\"text-align: right;\">\n",
       "      <th></th>\n",
       "      <th>BusinessEntityID</th>\n",
       "      <th>ProductID</th>\n",
       "    </tr>\n",
       "  </thead>\n",
       "  <tbody>\n",
       "    <tr>\n",
       "      <th>0</th>\n",
       "      <td>274</td>\n",
       "      <td>1</td>\n",
       "    </tr>\n",
       "    <tr>\n",
       "      <th>1</th>\n",
       "      <td>274</td>\n",
       "      <td>2</td>\n",
       "    </tr>\n",
       "    <tr>\n",
       "      <th>2</th>\n",
       "      <td>274</td>\n",
       "      <td>3</td>\n",
       "    </tr>\n",
       "  </tbody>\n",
       "</table>\n",
       "</div>"
      ],
      "text/plain": [
       "  BusinessEntityID ProductID\n",
       "0              274         1\n",
       "1              274         2\n",
       "2              274         3"
      ]
     },
     "execution_count": 41,
     "metadata": {},
     "output_type": "execute_result"
    }
   ],
   "source": [
    "# Ejercicio 41 - Mostrar todos los valores de BusinessEntityID de SalesPerson junto a cada ProductID de Product (producto cartesiano)\n",
    "mostrar_query(\"\"\" \n",
    "SELECT \n",
    "  sp.BusinessEntityID, \n",
    "  p.ProductID\n",
    "FROM 'Sales.SalesPerson' AS sp\n",
    "CROSS JOIN 'Production.Product' AS p\n",
    "\"\"\")\n"
   ]
  },
  {
   "cell_type": "code",
   "execution_count": 42,
   "id": "2c370deb",
   "metadata": {},
   "outputs": [
    {
     "data": {
      "application/vnd.microsoft.datawrangler.viewer.v0+json": {
       "columns": [
        {
         "name": "index",
         "rawType": "int64",
         "type": "integer"
        },
        {
         "name": "ContactTypeID",
         "rawType": "object",
         "type": "unknown"
        },
        {
         "name": "CantidadPersonas",
         "rawType": "int64",
         "type": "integer"
        }
       ],
       "ref": "4164d7ce-1146-489f-a27c-9c5fe189c2a5",
       "rows": [
        [
         "0",
         null,
         "100"
        ]
       ],
       "shape": {
        "columns": 2,
        "rows": 1
       }
      },
      "text/html": [
       "<div>\n",
       "<style scoped>\n",
       "    .dataframe tbody tr th:only-of-type {\n",
       "        vertical-align: middle;\n",
       "    }\n",
       "\n",
       "    .dataframe tbody tr th {\n",
       "        vertical-align: top;\n",
       "    }\n",
       "\n",
       "    .dataframe thead th {\n",
       "        text-align: right;\n",
       "    }\n",
       "</style>\n",
       "<table border=\"1\" class=\"dataframe\">\n",
       "  <thead>\n",
       "    <tr style=\"text-align: right;\">\n",
       "      <th></th>\n",
       "      <th>ContactTypeID</th>\n",
       "      <th>CantidadPersonas</th>\n",
       "    </tr>\n",
       "  </thead>\n",
       "  <tbody>\n",
       "    <tr>\n",
       "      <th>0</th>\n",
       "      <td>None</td>\n",
       "      <td>100</td>\n",
       "    </tr>\n",
       "  </tbody>\n",
       "</table>\n",
       "</div>"
      ],
      "text/plain": [
       "  ContactTypeID  CantidadPersonas\n",
       "0          None               100"
      ]
     },
     "execution_count": 42,
     "metadata": {},
     "output_type": "execute_result"
    }
   ],
   "source": [
    "# Ejercicio 42 - Contar cuántas personas están registradas por tipo de contacto (ContactTypeID). Ordenar por cantidad descendente.\n",
    "mostrar_query(\"\"\" \n",
    "SELECT \n",
    "  bec.ContactTypeID, \n",
    "  COUNT(p.BusinessEntityID) AS CantidadPersonas\n",
    "FROM 'Person.Person' AS p\n",
    "LEFT JOIN 'Person.BusinessEntityContact' AS bec \n",
    "  ON p.BusinessEntityID = bec.PersonID\n",
    "GROUP BY bec.ContactTypeID\n",
    "ORDER BY CantidadPersonas DESC\n",
    "\"\"\")\n"
   ]
  },
  {
   "cell_type": "code",
   "execution_count": 43,
   "id": "3939de31",
   "metadata": {},
   "outputs": [
    {
     "data": {
      "application/vnd.microsoft.datawrangler.viewer.v0+json": {
       "columns": [
        {
         "name": "index",
         "rawType": "int64",
         "type": "integer"
        },
        {
         "name": "Anio",
         "rawType": "object",
         "type": "string"
        },
        {
         "name": "BusinessEntityID",
         "rawType": "object",
         "type": "string"
        },
        {
         "name": "LastName",
         "rawType": "object",
         "type": "string"
        },
        {
         "name": "TotalQuota",
         "rawType": "object",
         "type": "string"
        }
       ],
       "ref": "8231585a-7401-44f4-bd10-b3311096d366",
       "rows": [],
       "shape": {
        "columns": 4,
        "rows": 0
       }
      },
      "text/html": [
       "<div>\n",
       "<style scoped>\n",
       "    .dataframe tbody tr th:only-of-type {\n",
       "        vertical-align: middle;\n",
       "    }\n",
       "\n",
       "    .dataframe tbody tr th {\n",
       "        vertical-align: top;\n",
       "    }\n",
       "\n",
       "    .dataframe thead th {\n",
       "        text-align: right;\n",
       "    }\n",
       "</style>\n",
       "<table border=\"1\" class=\"dataframe\">\n",
       "  <thead>\n",
       "    <tr style=\"text-align: right;\">\n",
       "      <th></th>\n",
       "      <th>Anio</th>\n",
       "      <th>BusinessEntityID</th>\n",
       "      <th>LastName</th>\n",
       "      <th>TotalQuota</th>\n",
       "    </tr>\n",
       "  </thead>\n",
       "  <tbody>\n",
       "  </tbody>\n",
       "</table>\n",
       "</div>"
      ],
      "text/plain": [
       "Empty DataFrame\n",
       "Columns: [Anio, BusinessEntityID, LastName, TotalQuota]\n",
       "Index: []"
      ]
     },
     "execution_count": 43,
     "metadata": {},
     "output_type": "execute_result"
    }
   ],
   "source": [
    "# Ejercicio 44 - Calcular la suma de las cuotas de ventas históricas por persona y año. Mostrar el apellido.\n",
    "mostrar_query(\"\"\" \n",
    "SELECT \n",
    "  strftime('%Y', spqh.QuotaDate) AS Anio, \n",
    "  spqh.BusinessEntityID, \n",
    "  p.LastName, \n",
    "  SUM(spqh.SalesQuota) AS TotalQuota\n",
    "FROM 'Sales.SalesPersonQuotaHistory' AS spqh\n",
    "JOIN 'Person.Person' AS p ON spqh.BusinessEntityID = p.BusinessEntityID\n",
    "GROUP BY Anio, spqh.BusinessEntityID, p.LastName\n",
    "\"\"\")\n"
   ]
  },
  {
   "cell_type": "code",
   "execution_count": 44,
   "id": "33250fdf",
   "metadata": {},
   "outputs": [
    {
     "data": {
      "application/vnd.microsoft.datawrangler.viewer.v0+json": {
       "columns": [
        {
         "name": "index",
         "rawType": "int64",
         "type": "integer"
        },
        {
         "name": "TerritoryID",
         "rawType": "object",
         "type": "string"
        },
        {
         "name": "Name",
         "rawType": "object",
         "type": "string"
        },
        {
         "name": "CantidadOrdenes",
         "rawType": "object",
         "type": "string"
        },
        {
         "name": "TotalVendido",
         "rawType": "object",
         "type": "string"
        }
       ],
       "ref": "3bafc1ee-080d-4bd6-9172-604507c5fe35",
       "rows": [],
       "shape": {
        "columns": 4,
        "rows": 0
       }
      },
      "text/html": [
       "<div>\n",
       "<style scoped>\n",
       "    .dataframe tbody tr th:only-of-type {\n",
       "        vertical-align: middle;\n",
       "    }\n",
       "\n",
       "    .dataframe tbody tr th {\n",
       "        vertical-align: top;\n",
       "    }\n",
       "\n",
       "    .dataframe thead th {\n",
       "        text-align: right;\n",
       "    }\n",
       "</style>\n",
       "<table border=\"1\" class=\"dataframe\">\n",
       "  <thead>\n",
       "    <tr style=\"text-align: right;\">\n",
       "      <th></th>\n",
       "      <th>TerritoryID</th>\n",
       "      <th>Name</th>\n",
       "      <th>CantidadOrdenes</th>\n",
       "      <th>TotalVendido</th>\n",
       "    </tr>\n",
       "  </thead>\n",
       "  <tbody>\n",
       "  </tbody>\n",
       "</table>\n",
       "</div>"
      ],
      "text/plain": [
       "Empty DataFrame\n",
       "Columns: [TerritoryID, Name, CantidadOrdenes, TotalVendido]\n",
       "Index: []"
      ]
     },
     "execution_count": 44,
     "metadata": {},
     "output_type": "execute_result"
    }
   ],
   "source": [
    "# Ejercicio 45 - Calcular el total vendido por territorio para aquellos con más de 100 ventas. Mostrar ID, nombre del territorio y suma de ventas.\n",
    "mostrar_query(\"\"\" \n",
    "SELECT \n",
    "  soh.TerritoryID, \n",
    "  st.Name, \n",
    "  COUNT(soh.SalesOrderID) AS CantidadOrdenes, \n",
    "  SUM(sod.LineTotal) AS TotalVendido\n",
    "FROM 'Sales.SalesOrderHeader' AS soh\n",
    "JOIN 'Sales.SalesTerritory' AS st ON soh.TerritoryID = st.TerritoryID\n",
    "JOIN 'Sales.SalesOrderDetail' AS sod ON soh.SalesOrderID = sod.SalesOrderID\n",
    "GROUP BY soh.TerritoryID, st.Name \n",
    "HAVING COUNT(soh.SalesOrderID) >= 100\n",
    "\"\"\")\n"
   ]
  },
  {
   "cell_type": "code",
   "execution_count": 45,
   "id": "9d66c8c8",
   "metadata": {},
   "outputs": [
    {
     "data": {
      "application/vnd.microsoft.datawrangler.viewer.v0+json": {
       "columns": [
        {
         "name": "index",
         "rawType": "int64",
         "type": "integer"
        },
        {
         "name": "StateProvinceID",
         "rawType": "object",
         "type": "string"
        },
        {
         "name": "Name",
         "rawType": "object",
         "type": "string"
        },
        {
         "name": "CantidadDomicilios",
         "rawType": "object",
         "type": "string"
        }
       ],
       "ref": "2c341852-0543-4b1d-b159-acf86b15290c",
       "rows": [],
       "shape": {
        "columns": 3,
        "rows": 0
       }
      },
      "text/html": [
       "<div>\n",
       "<style scoped>\n",
       "    .dataframe tbody tr th:only-of-type {\n",
       "        vertical-align: middle;\n",
       "    }\n",
       "\n",
       "    .dataframe tbody tr th {\n",
       "        vertical-align: top;\n",
       "    }\n",
       "\n",
       "    .dataframe thead th {\n",
       "        text-align: right;\n",
       "    }\n",
       "</style>\n",
       "<table border=\"1\" class=\"dataframe\">\n",
       "  <thead>\n",
       "    <tr style=\"text-align: right;\">\n",
       "      <th></th>\n",
       "      <th>StateProvinceID</th>\n",
       "      <th>Name</th>\n",
       "      <th>CantidadDomicilios</th>\n",
       "    </tr>\n",
       "  </thead>\n",
       "  <tbody>\n",
       "  </tbody>\n",
       "</table>\n",
       "</div>"
      ],
      "text/plain": [
       "Empty DataFrame\n",
       "Columns: [StateProvinceID, Name, CantidadDomicilios]\n",
       "Index: []"
      ]
     },
     "execution_count": 45,
     "metadata": {},
     "output_type": "execute_result"
    }
   ],
   "source": [
    "# Ejercicio 46 - Mostrar ID y nombre de provincias con más de 1000 domicilios registrados.\n",
    "mostrar_query(\"\"\" \n",
    "SELECT \n",
    "  sp.StateProvinceID, \n",
    "  sp.Name, \n",
    "  COUNT(a.AddressID) AS CantidadDomicilios\n",
    "FROM 'Person.StateProvince' AS sp\n",
    "JOIN 'Person.Address' AS a ON sp.StateProvinceID = a.StateProvinceID\n",
    "GROUP BY sp.StateProvinceID, sp.Name\n",
    "HAVING COUNT(a.AddressID) > 1000\n",
    "\"\"\")\n"
   ]
  },
  {
   "cell_type": "markdown",
   "id": "4634a8a9",
   "metadata": {},
   "source": [
    "### 5. Subqueries and Common Table Expressions (CTEs)  \n",
    "*Modular SQL logic with CTEs. Replacing correlated subqueries. Query chaining.*"
   ]
  },
  {
   "cell_type": "code",
   "execution_count": 46,
   "id": "2c2f345c",
   "metadata": {},
   "outputs": [
    {
     "data": {
      "application/vnd.microsoft.datawrangler.viewer.v0+json": {
       "columns": [
        {
         "name": "index",
         "rawType": "int64",
         "type": "integer"
        },
        {
         "name": "SalesOrderID",
         "rawType": "object",
         "type": "string"
        },
        {
         "name": "CustomerID",
         "rawType": "object",
         "type": "string"
        },
        {
         "name": "CountOfSales",
         "rawType": "int64",
         "type": "integer"
        },
        {
         "name": "AvgSale",
         "rawType": "float64",
         "type": "float"
        },
        {
         "name": "LowestSale",
         "rawType": "object",
         "type": "string"
        },
        {
         "name": "HighestSale",
         "rawType": "object",
         "type": "string"
        }
       ],
       "ref": "f4ffdd4d-b550-4f09-9f94-a0079a33e2ac",
       "rows": [
        [
         "0",
         "43659",
         "29825",
         "1",
         "23153.2339",
         "23153.2339",
         "23153.2339"
        ],
        [
         "1",
         "43660",
         "29672",
         "1",
         "1457.3288",
         "1457.3288",
         "1457.3288"
        ],
        [
         "2",
         "43661",
         "29734",
         "1",
         "36865.8012",
         "36865.8012",
         "36865.8012"
        ]
       ],
       "shape": {
        "columns": 6,
        "rows": 3
       }
      },
      "text/html": [
       "<div>\n",
       "<style scoped>\n",
       "    .dataframe tbody tr th:only-of-type {\n",
       "        vertical-align: middle;\n",
       "    }\n",
       "\n",
       "    .dataframe tbody tr th {\n",
       "        vertical-align: top;\n",
       "    }\n",
       "\n",
       "    .dataframe thead th {\n",
       "        text-align: right;\n",
       "    }\n",
       "</style>\n",
       "<table border=\"1\" class=\"dataframe\">\n",
       "  <thead>\n",
       "    <tr style=\"text-align: right;\">\n",
       "      <th></th>\n",
       "      <th>SalesOrderID</th>\n",
       "      <th>CustomerID</th>\n",
       "      <th>CountOfSales</th>\n",
       "      <th>AvgSale</th>\n",
       "      <th>LowestSale</th>\n",
       "      <th>HighestSale</th>\n",
       "    </tr>\n",
       "  </thead>\n",
       "  <tbody>\n",
       "    <tr>\n",
       "      <th>0</th>\n",
       "      <td>43659</td>\n",
       "      <td>29825</td>\n",
       "      <td>1</td>\n",
       "      <td>23153.2339</td>\n",
       "      <td>23153.2339</td>\n",
       "      <td>23153.2339</td>\n",
       "    </tr>\n",
       "    <tr>\n",
       "      <th>1</th>\n",
       "      <td>43660</td>\n",
       "      <td>29672</td>\n",
       "      <td>1</td>\n",
       "      <td>1457.3288</td>\n",
       "      <td>1457.3288</td>\n",
       "      <td>1457.3288</td>\n",
       "    </tr>\n",
       "    <tr>\n",
       "      <th>2</th>\n",
       "      <td>43661</td>\n",
       "      <td>29734</td>\n",
       "      <td>1</td>\n",
       "      <td>36865.8012</td>\n",
       "      <td>36865.8012</td>\n",
       "      <td>36865.8012</td>\n",
       "    </tr>\n",
       "  </tbody>\n",
       "</table>\n",
       "</div>"
      ],
      "text/plain": [
       "  SalesOrderID CustomerID  CountOfSales     AvgSale  LowestSale HighestSale\n",
       "0        43659      29825             1  23153.2339  23153.2339  23153.2339\n",
       "1        43660      29672             1   1457.3288   1457.3288   1457.3288\n",
       "2        43661      29734             1  36865.8012  36865.8012  36865.8012"
      ]
     },
     "execution_count": 46,
     "metadata": {},
     "output_type": "execute_result"
    }
   ],
   "source": [
    "# Ejercicio 48 (versión optimizada) - Calcular métricas por cliente una sola vez con CTE y luego unir con las órdenes\n",
    "mostrar_query(\"\"\"\n",
    "WITH op1 (cus, c, a, min, max) AS (\n",
    "  SELECT \n",
    "    CustomerID, \n",
    "    COUNT(*), \n",
    "    AVG(TotalDue), \n",
    "    MIN(TotalDue), \n",
    "    MAX(TotalDue)\n",
    "  FROM 'Sales.SalesOrderHeader' AS soh\n",
    "  GROUP BY soh.CustomerID\n",
    ")\n",
    "SELECT \n",
    "  soh.SalesOrderID, \n",
    "  op1.cus AS CustomerID,\n",
    "  op1.c AS CountOfSales, \n",
    "  op1.a AS AvgSale,\n",
    "  op1.min AS LowestSale, \n",
    "  op1.max AS HighestSale\n",
    "FROM op1 \n",
    "JOIN 'Sales.SalesOrderHeader' AS soh ON op1.cus = soh.CustomerID\n",
    "\"\"\")\n"
   ]
  },
  {
   "cell_type": "code",
   "execution_count": 47,
   "id": "359755ed",
   "metadata": {},
   "outputs": [
    {
     "data": {
      "application/vnd.microsoft.datawrangler.viewer.v0+json": {
       "columns": [
        {
         "name": "index",
         "rawType": "int64",
         "type": "integer"
        },
        {
         "name": "CustomerID",
         "rawType": "object",
         "type": "string"
        },
        {
         "name": "NombreProducto",
         "rawType": "object",
         "type": "unknown"
        }
       ],
       "ref": "2b736560-2bd8-4eee-a1a6-ba3b000c8e55",
       "rows": [
        [
         "0",
         "29825",
         null
        ],
        [
         "1",
         "29825",
         null
        ],
        [
         "2",
         "29825",
         null
        ]
       ],
       "shape": {
        "columns": 2,
        "rows": 3
       }
      },
      "text/html": [
       "<div>\n",
       "<style scoped>\n",
       "    .dataframe tbody tr th:only-of-type {\n",
       "        vertical-align: middle;\n",
       "    }\n",
       "\n",
       "    .dataframe tbody tr th {\n",
       "        vertical-align: top;\n",
       "    }\n",
       "\n",
       "    .dataframe thead th {\n",
       "        text-align: right;\n",
       "    }\n",
       "</style>\n",
       "<table border=\"1\" class=\"dataframe\">\n",
       "  <thead>\n",
       "    <tr style=\"text-align: right;\">\n",
       "      <th></th>\n",
       "      <th>CustomerID</th>\n",
       "      <th>NombreProducto</th>\n",
       "    </tr>\n",
       "  </thead>\n",
       "  <tbody>\n",
       "    <tr>\n",
       "      <th>0</th>\n",
       "      <td>29825</td>\n",
       "      <td>None</td>\n",
       "    </tr>\n",
       "    <tr>\n",
       "      <th>1</th>\n",
       "      <td>29825</td>\n",
       "      <td>None</td>\n",
       "    </tr>\n",
       "    <tr>\n",
       "      <th>2</th>\n",
       "      <td>29825</td>\n",
       "      <td>None</td>\n",
       "    </tr>\n",
       "  </tbody>\n",
       "</table>\n",
       "</div>"
      ],
      "text/plain": [
       "  CustomerID NombreProducto\n",
       "0      29825           None\n",
       "1      29825           None\n",
       "2      29825           None"
      ]
     },
     "execution_count": 47,
     "metadata": {},
     "output_type": "execute_result"
    }
   ],
   "source": [
    "# Ejercicio 49 - Devolver una lista de los clientes con los productos solicitados en su pedido más reciente\n",
    "mostrar_query(\"\"\" \n",
    "WITH fecha_ultima_compra AS (\n",
    "  SELECT soh.CustomerID, soh.SalesOrderID, soh.OrderDate\n",
    "  FROM 'Sales.SalesOrderHeader' AS soh\n",
    "  WHERE soh.OrderDate = (\n",
    "    SELECT MAX(soh2.OrderDate)\n",
    "    FROM 'Sales.SalesOrderHeader' AS soh2\n",
    "    WHERE soh2.CustomerID = soh.CustomerID\n",
    "  )\n",
    ")\n",
    "SELECT \n",
    "  fuc.CustomerID, \n",
    "  p.Name AS NombreProducto\n",
    "FROM fecha_ultima_compra AS fuc\n",
    "LEFT JOIN 'Sales.SalesOrderDetail' AS sod ON sod.SalesOrderID = fuc.SalesOrderID\n",
    "LEFT JOIN 'Production.Product' AS p ON sod.ProductID = p.ProductID\n",
    "\"\"\")\n"
   ]
  },
  {
   "cell_type": "code",
   "execution_count": 48,
   "id": "bbd1ea61",
   "metadata": {},
   "outputs": [
    {
     "data": {
      "application/vnd.microsoft.datawrangler.viewer.v0+json": {
       "columns": [
        {
         "name": "index",
         "rawType": "int64",
         "type": "integer"
        },
        {
         "name": "BusinessEntityID",
         "rawType": "object",
         "type": "string"
        },
        {
         "name": "DepartmentID",
         "rawType": "object",
         "type": "unknown"
        },
        {
         "name": "Rate",
         "rawType": "object",
         "type": "unknown"
        },
        {
         "name": "avg_dep",
         "rawType": "object",
         "type": "unknown"
        }
       ],
       "ref": "35e9d9ba-09b4-4916-b8c9-fbe98201edd1",
       "rows": [
        [
         "0",
         "1",
         null,
         null,
         null
        ],
        [
         "1",
         "2",
         null,
         null,
         null
        ],
        [
         "2",
         "3",
         null,
         null,
         null
        ]
       ],
       "shape": {
        "columns": 4,
        "rows": 3
       }
      },
      "text/html": [
       "<div>\n",
       "<style scoped>\n",
       "    .dataframe tbody tr th:only-of-type {\n",
       "        vertical-align: middle;\n",
       "    }\n",
       "\n",
       "    .dataframe tbody tr th {\n",
       "        vertical-align: top;\n",
       "    }\n",
       "\n",
       "    .dataframe thead th {\n",
       "        text-align: right;\n",
       "    }\n",
       "</style>\n",
       "<table border=\"1\" class=\"dataframe\">\n",
       "  <thead>\n",
       "    <tr style=\"text-align: right;\">\n",
       "      <th></th>\n",
       "      <th>BusinessEntityID</th>\n",
       "      <th>DepartmentID</th>\n",
       "      <th>Rate</th>\n",
       "      <th>avg_dep</th>\n",
       "    </tr>\n",
       "  </thead>\n",
       "  <tbody>\n",
       "    <tr>\n",
       "      <th>0</th>\n",
       "      <td>1</td>\n",
       "      <td>None</td>\n",
       "      <td>None</td>\n",
       "      <td>None</td>\n",
       "    </tr>\n",
       "    <tr>\n",
       "      <th>1</th>\n",
       "      <td>2</td>\n",
       "      <td>None</td>\n",
       "      <td>None</td>\n",
       "      <td>None</td>\n",
       "    </tr>\n",
       "    <tr>\n",
       "      <th>2</th>\n",
       "      <td>3</td>\n",
       "      <td>None</td>\n",
       "      <td>None</td>\n",
       "      <td>None</td>\n",
       "    </tr>\n",
       "  </tbody>\n",
       "</table>\n",
       "</div>"
      ],
      "text/plain": [
       "  BusinessEntityID DepartmentID  Rate avg_dep\n",
       "0                1         None  None    None\n",
       "1                2         None  None    None\n",
       "2                3         None  None    None"
      ]
     },
     "execution_count": 48,
     "metadata": {},
     "output_type": "execute_result"
    }
   ],
   "source": [
    "# Ejercicio 50 - Mostrar el Rate del empleado y el promedio de Rate del departamento actual (usando CTE)\n",
    "mostrar_query(\"\"\"\n",
    "WITH promedio_departamento AS (\n",
    "  SELECT \n",
    "    edh2.DepartmentID, \n",
    "    AVG(eph2.Rate) AS avg_dep \n",
    "  FROM 'HumanResources.Employee' AS e2\n",
    "  LEFT JOIN 'HumanResources.EmployeeDepartmentHistory' AS edh2 \n",
    "    ON e2.BusinessEntityID = edh2.BusinessEntityID\n",
    "  LEFT JOIN 'HumanResources.EmployeePayHistory' AS eph2 \n",
    "    ON edh2.BusinessEntityID = eph2.BusinessEntityID\n",
    "  WHERE edh2.EndDate IS NULL\n",
    "  GROUP BY edh2.DepartmentID\n",
    ")\n",
    "SELECT \n",
    "  e.BusinessEntityID, \n",
    "  edh.DepartmentID, \n",
    "  eph.Rate, \n",
    "  pd.avg_dep \n",
    "FROM 'HumanResources.Employee' AS e\n",
    "LEFT JOIN 'HumanResources.EmployeeDepartmentHistory' AS edh \n",
    "  ON e.BusinessEntityID = edh.BusinessEntityID AND edh.EndDate IS NULL\n",
    "LEFT JOIN promedio_departamento AS pd \n",
    "  ON edh.DepartmentID = pd.DepartmentID\n",
    "LEFT JOIN 'HumanResources.EmployeePayHistory' AS eph \n",
    "  ON edh.BusinessEntityID = eph.BusinessEntityID\n",
    "\"\"\")\n"
   ]
  },
  {
   "cell_type": "markdown",
   "id": "9b4ac204",
   "metadata": {},
   "source": [
    "### 6. Business-Oriented Query Applications  \n",
    "\n",
    "*Customer behavior analysis, employee efficiency, detecting unsold or incomplete records.*\n",
    "\n"
   ]
  },
  {
   "cell_type": "code",
   "execution_count": 49,
   "id": "afaf89f5",
   "metadata": {},
   "outputs": [
    {
     "data": {
      "application/vnd.microsoft.datawrangler.viewer.v0+json": {
       "columns": [
        {
         "name": "index",
         "rawType": "int64",
         "type": "integer"
        },
        {
         "name": "Description",
         "rawType": "object",
         "type": "unknown"
        },
        {
         "name": "SalesOrderDetailID",
         "rawType": "object",
         "type": "unknown"
        }
       ],
       "ref": "bf07d9e2-734a-4a4c-a770-de35493b6bd2",
       "rows": [
        [
         "0",
         null,
         null
        ],
        [
         "1",
         null,
         null
        ],
        [
         "2",
         null,
         null
        ]
       ],
       "shape": {
        "columns": 2,
        "rows": 3
       }
      },
      "text/html": [
       "<div>\n",
       "<style scoped>\n",
       "    .dataframe tbody tr th:only-of-type {\n",
       "        vertical-align: middle;\n",
       "    }\n",
       "\n",
       "    .dataframe tbody tr th {\n",
       "        vertical-align: top;\n",
       "    }\n",
       "\n",
       "    .dataframe thead th {\n",
       "        text-align: right;\n",
       "    }\n",
       "</style>\n",
       "<table border=\"1\" class=\"dataframe\">\n",
       "  <thead>\n",
       "    <tr style=\"text-align: right;\">\n",
       "      <th></th>\n",
       "      <th>Description</th>\n",
       "      <th>SalesOrderDetailID</th>\n",
       "    </tr>\n",
       "  </thead>\n",
       "  <tbody>\n",
       "    <tr>\n",
       "      <th>0</th>\n",
       "      <td>None</td>\n",
       "      <td>None</td>\n",
       "    </tr>\n",
       "    <tr>\n",
       "      <th>1</th>\n",
       "      <td>None</td>\n",
       "      <td>None</td>\n",
       "    </tr>\n",
       "    <tr>\n",
       "      <th>2</th>\n",
       "      <td>None</td>\n",
       "      <td>None</td>\n",
       "    </tr>\n",
       "  </tbody>\n",
       "</table>\n",
       "</div>"
      ],
      "text/plain": [
       "  Description SalesOrderDetailID\n",
       "0        None               None\n",
       "1        None               None\n",
       "2        None               None"
      ]
     },
     "execution_count": 49,
     "metadata": {},
     "output_type": "execute_result"
    }
   ],
   "source": [
    "# Ejercicio 36 - Mostrar la descripción de los productos y el ID de la orden de venta. Incluir productos que nunca se hayan vendido.\n",
    "mostrar_query(\"\"\" \n",
    "SELECT pd.Description, sod.SalesOrderDetailID\n",
    "FROM 'Production.Product' AS pt\n",
    "LEFT JOIN 'Production.ProductModelProductDescriptionCulture' AS pmpdc \n",
    "  ON pt.ProductModelID = pmpdc.ProductModelID AND pmpdc.CultureID = 'en'\n",
    "LEFT JOIN 'Production.ProductDescription' AS pd \n",
    "  ON pmpdc.ProductDescriptionID = pd.ProductDescriptionID\n",
    "LEFT JOIN 'Sales.SalesOrderDetail' AS sod \n",
    "  ON pt.ProductID = sod.ProductID\n",
    "\"\"\")\n"
   ]
  },
  {
   "cell_type": "code",
   "execution_count": 50,
   "id": "f3ccf19d",
   "metadata": {},
   "outputs": [
    {
     "data": {
      "application/vnd.microsoft.datawrangler.viewer.v0+json": {
       "columns": [
        {
         "name": "index",
         "rawType": "int64",
         "type": "integer"
        },
        {
         "name": "Description",
         "rawType": "object",
         "type": "string"
        }
       ],
       "ref": "bcd1c5a2-c2f0-464d-bcd3-363ba17669bb",
       "rows": [],
       "shape": {
        "columns": 1,
        "rows": 0
       }
      },
      "text/html": [
       "<div>\n",
       "<style scoped>\n",
       "    .dataframe tbody tr th:only-of-type {\n",
       "        vertical-align: middle;\n",
       "    }\n",
       "\n",
       "    .dataframe tbody tr th {\n",
       "        vertical-align: top;\n",
       "    }\n",
       "\n",
       "    .dataframe thead th {\n",
       "        text-align: right;\n",
       "    }\n",
       "</style>\n",
       "<table border=\"1\" class=\"dataframe\">\n",
       "  <thead>\n",
       "    <tr style=\"text-align: right;\">\n",
       "      <th></th>\n",
       "      <th>Description</th>\n",
       "    </tr>\n",
       "  </thead>\n",
       "  <tbody>\n",
       "  </tbody>\n",
       "</table>\n",
       "</div>"
      ],
      "text/plain": [
       "Empty DataFrame\n",
       "Columns: [Description]\n",
       "Index: []"
      ]
     },
     "execution_count": 50,
     "metadata": {},
     "output_type": "execute_result"
    }
   ],
   "source": [
    "# Ejercicio 37 - Mostrar la descripción de los productos que nunca hayan sido vendidos.\n",
    "mostrar_query(\"\"\" \n",
    "SELECT DISTINCT pd.Description\n",
    "FROM 'Production.Product' AS pt\n",
    "LEFT JOIN 'Production.ProductModelProductDescriptionCulture' AS pmpdc \n",
    "  ON pt.ProductModelID = pmpdc.ProductModelID AND pmpdc.CultureID = 'en'\n",
    "LEFT JOIN 'Production.ProductDescription' AS pd \n",
    "  ON pmpdc.ProductDescriptionID = pd.ProductDescriptionID\n",
    "LEFT JOIN 'Sales.SalesOrderDetail' AS sod \n",
    "  ON pt.ProductID = sod.ProductID\n",
    "WHERE sod.SalesOrderDetailID IS NULL AND pd.Description IS NOT NULL\n",
    "\"\"\")\n"
   ]
  },
  {
   "cell_type": "code",
   "execution_count": 51,
   "id": "1bc7bbba",
   "metadata": {},
   "outputs": [
    {
     "data": {
      "application/vnd.microsoft.datawrangler.viewer.v0+json": {
       "columns": [
        {
         "name": "index",
         "rawType": "int64",
         "type": "integer"
        },
        {
         "name": "FirstName",
         "rawType": "object",
         "type": "string"
        },
        {
         "name": "LastName",
         "rawType": "object",
         "type": "string"
        }
       ],
       "ref": "3c347e40-c9d2-41c9-99c7-07f9616052c2",
       "rows": [],
       "shape": {
        "columns": 2,
        "rows": 0
       }
      },
      "text/html": [
       "<div>\n",
       "<style scoped>\n",
       "    .dataframe tbody tr th:only-of-type {\n",
       "        vertical-align: middle;\n",
       "    }\n",
       "\n",
       "    .dataframe tbody tr th {\n",
       "        vertical-align: top;\n",
       "    }\n",
       "\n",
       "    .dataframe thead th {\n",
       "        text-align: right;\n",
       "    }\n",
       "</style>\n",
       "<table border=\"1\" class=\"dataframe\">\n",
       "  <thead>\n",
       "    <tr style=\"text-align: right;\">\n",
       "      <th></th>\n",
       "      <th>FirstName</th>\n",
       "      <th>LastName</th>\n",
       "    </tr>\n",
       "  </thead>\n",
       "  <tbody>\n",
       "  </tbody>\n",
       "</table>\n",
       "</div>"
      ],
      "text/plain": [
       "Empty DataFrame\n",
       "Columns: [FirstName, LastName]\n",
       "Index: []"
      ]
     },
     "execution_count": 51,
     "metadata": {},
     "output_type": "execute_result"
    }
   ],
   "source": [
    "# Ejercicio 43 - Mostrar nombre y apellido de los empleados que viven en el estado de “Oregon”\n",
    "mostrar_query(\"\"\" \n",
    "SELECT p.FirstName, p.LastName\n",
    "FROM 'HumanResources.Employee' AS e\n",
    "LEFT JOIN 'Person.Person' AS p ON p.BusinessEntityID = e.BusinessEntityID \n",
    "LEFT JOIN 'Person.BusinessEntityAddress' AS bea ON p.BusinessEntityID = bea.BusinessEntityID\n",
    "LEFT JOIN 'Person.Address' AS a ON bea.AddressID = a.AddressID\n",
    "LEFT JOIN 'Person.StateProvince' AS sp ON a.StateProvinceID = sp.StateProvinceID \n",
    "WHERE sp.Name = 'Oregon'\n",
    "\"\"\")\n"
   ]
  },
  {
   "cell_type": "code",
   "execution_count": 52,
   "id": "6ec30dee",
   "metadata": {},
   "outputs": [
    {
     "data": {
      "application/vnd.microsoft.datawrangler.viewer.v0+json": {
       "columns": [
        {
         "name": "index",
         "rawType": "int64",
         "type": "integer"
        },
        {
         "name": "Promedio",
         "rawType": "float64",
         "type": "float"
        },
        {
         "name": "Minimo",
         "rawType": "int64",
         "type": "integer"
        },
        {
         "name": "Maximo",
         "rawType": "int64",
         "type": "integer"
        }
       ],
       "ref": "7f485a98-5c94-49ef-aa56-c71591ef9e2f",
       "rows": [
        [
         "0",
         "6849.333333333333",
         "2634",
         "11332"
        ]
       ],
       "shape": {
        "columns": 3,
        "rows": 1
       }
      },
      "text/html": [
       "<div>\n",
       "<style scoped>\n",
       "    .dataframe tbody tr th:only-of-type {\n",
       "        vertical-align: middle;\n",
       "    }\n",
       "\n",
       "    .dataframe tbody tr th {\n",
       "        vertical-align: top;\n",
       "    }\n",
       "\n",
       "    .dataframe thead th {\n",
       "        text-align: right;\n",
       "    }\n",
       "</style>\n",
       "<table border=\"1\" class=\"dataframe\">\n",
       "  <thead>\n",
       "    <tr style=\"text-align: right;\">\n",
       "      <th></th>\n",
       "      <th>Promedio</th>\n",
       "      <th>Minimo</th>\n",
       "      <th>Maximo</th>\n",
       "    </tr>\n",
       "  </thead>\n",
       "  <tbody>\n",
       "    <tr>\n",
       "      <th>0</th>\n",
       "      <td>6849.333333</td>\n",
       "      <td>2634</td>\n",
       "      <td>11332</td>\n",
       "    </tr>\n",
       "  </tbody>\n",
       "</table>\n",
       "</div>"
      ],
      "text/plain": [
       "      Promedio  Minimo  Maximo\n",
       "0  6849.333333    2634   11332"
      ]
     },
     "execution_count": 52,
     "metadata": {},
     "output_type": "execute_result"
    }
   ],
   "source": [
    "# Ejercicio 47 - Usar CTE para calcular el máximo, mínimo y promedio de productos en locaciones (tabla ProductInventory)\n",
    "mostrar_query(\"\"\" \n",
    "WITH productos (locacion, cantidad) AS (\n",
    "  SELECT \n",
    "    LocationID, \n",
    "    SUM(pi2.Quantity) \n",
    "  FROM 'Production.ProductInventory' AS pi2\n",
    "  LEFT JOIN 'Production.Product' AS p ON pi2.ProductID = p.ProductID\n",
    "  GROUP BY LocationID\n",
    ")\n",
    "SELECT \n",
    "  AVG(cantidad) AS Promedio, \n",
    "  MIN(cantidad) AS Minimo, \n",
    "  MAX(cantidad) AS Maximo \n",
    "FROM productos\n",
    "\"\"\")\n"
   ]
  },
  {
   "cell_type": "markdown",
   "id": "f85d5e46",
   "metadata": {},
   "source": [
    "### 7. Window Functions"
   ]
  },
  {
   "cell_type": "code",
   "execution_count": 53,
   "id": "4776a0db",
   "metadata": {},
   "outputs": [
    {
     "data": {
      "application/vnd.microsoft.datawrangler.viewer.v0+json": {
       "columns": [
        {
         "name": "index",
         "rawType": "int64",
         "type": "integer"
        },
        {
         "name": "BusinessEntityID",
         "rawType": "object",
         "type": "string"
        },
        {
         "name": "ranking_departamento",
         "rawType": "int64",
         "type": "integer"
        }
       ],
       "ref": "ffbc885f-aca0-4fb0-b1d0-d8f78e43c6ba",
       "rows": [
        [
         "0",
         "4",
         "1"
        ],
        [
         "1",
         "5",
         "2"
        ],
        [
         "2",
         "6",
         "2"
        ]
       ],
       "shape": {
        "columns": 2,
        "rows": 3
       }
      },
      "text/html": [
       "<div>\n",
       "<style scoped>\n",
       "    .dataframe tbody tr th:only-of-type {\n",
       "        vertical-align: middle;\n",
       "    }\n",
       "\n",
       "    .dataframe tbody tr th {\n",
       "        vertical-align: top;\n",
       "    }\n",
       "\n",
       "    .dataframe thead th {\n",
       "        text-align: right;\n",
       "    }\n",
       "</style>\n",
       "<table border=\"1\" class=\"dataframe\">\n",
       "  <thead>\n",
       "    <tr style=\"text-align: right;\">\n",
       "      <th></th>\n",
       "      <th>BusinessEntityID</th>\n",
       "      <th>ranking_departamento</th>\n",
       "    </tr>\n",
       "  </thead>\n",
       "  <tbody>\n",
       "    <tr>\n",
       "      <th>0</th>\n",
       "      <td>4</td>\n",
       "      <td>1</td>\n",
       "    </tr>\n",
       "    <tr>\n",
       "      <th>1</th>\n",
       "      <td>5</td>\n",
       "      <td>2</td>\n",
       "    </tr>\n",
       "    <tr>\n",
       "      <th>2</th>\n",
       "      <td>6</td>\n",
       "      <td>2</td>\n",
       "    </tr>\n",
       "  </tbody>\n",
       "</table>\n",
       "</div>"
      ],
      "text/plain": [
       "  BusinessEntityID  ranking_departamento\n",
       "0                4                     1\n",
       "1                5                     2\n",
       "2                6                     2"
      ]
     },
     "execution_count": 53,
     "metadata": {},
     "output_type": "execute_result"
    }
   ],
   "source": [
    "# Ejercicio 51 - Obtener el ranking de empleados por salario actual dentro de cada departamento\n",
    "mostrar_query(\"\"\"\n",
    "SELECT \n",
    "  e.BusinessEntityID, \n",
    "  RANK() OVER(PARTITION BY edh.DepartmentID ORDER BY eph.Rate) AS ranking_departamento\n",
    "FROM 'HumanResources.Employee' AS e\n",
    "JOIN 'HumanResources.EmployeePayHistory' AS eph \n",
    "  ON e.BusinessEntityID = eph.BusinessEntityID\n",
    "JOIN 'HumanResources.EmployeeDepartmentHistory' AS edh \n",
    "  ON e.BusinessEntityID = edh.BusinessEntityID\n",
    "WHERE eph.RateChangeDate = (\n",
    "  SELECT MAX(eph2.RateChangeDate) \n",
    "  FROM 'HumanResources.EmployeePayHistory' AS eph2\n",
    "  WHERE eph2.BusinessEntityID = e.BusinessEntityID\n",
    ")\n",
    "\"\"\")\n"
   ]
  },
  {
   "cell_type": "code",
   "execution_count": 54,
   "id": "cda901d8",
   "metadata": {},
   "outputs": [
    {
     "data": {
      "application/vnd.microsoft.datawrangler.viewer.v0+json": {
       "columns": [
        {
         "name": "index",
         "rawType": "int64",
         "type": "integer"
        },
        {
         "name": "SalesOrderID",
         "rawType": "object",
         "type": "string"
        },
        {
         "name": "OrderDate",
         "rawType": "object",
         "type": "string"
        },
        {
         "name": "RankOrderID",
         "rawType": "int64",
         "type": "integer"
        }
       ],
       "ref": "f5ccf65e-4dfd-4e39-a374-e19bb14cb970",
       "rows": [
        [
         "0",
         "43659",
         "2011-05-31",
         "1"
        ],
        [
         "1",
         "43660",
         "2011-05-31",
         "2"
        ],
        [
         "2",
         "43661",
         "2011-05-31",
         "3"
        ]
       ],
       "shape": {
        "columns": 3,
        "rows": 3
       }
      },
      "text/html": [
       "<div>\n",
       "<style scoped>\n",
       "    .dataframe tbody tr th:only-of-type {\n",
       "        vertical-align: middle;\n",
       "    }\n",
       "\n",
       "    .dataframe tbody tr th {\n",
       "        vertical-align: top;\n",
       "    }\n",
       "\n",
       "    .dataframe thead th {\n",
       "        text-align: right;\n",
       "    }\n",
       "</style>\n",
       "<table border=\"1\" class=\"dataframe\">\n",
       "  <thead>\n",
       "    <tr style=\"text-align: right;\">\n",
       "      <th></th>\n",
       "      <th>SalesOrderID</th>\n",
       "      <th>OrderDate</th>\n",
       "      <th>RankOrderID</th>\n",
       "    </tr>\n",
       "  </thead>\n",
       "  <tbody>\n",
       "    <tr>\n",
       "      <th>0</th>\n",
       "      <td>43659</td>\n",
       "      <td>2011-05-31</td>\n",
       "      <td>1</td>\n",
       "    </tr>\n",
       "    <tr>\n",
       "      <th>1</th>\n",
       "      <td>43660</td>\n",
       "      <td>2011-05-31</td>\n",
       "      <td>2</td>\n",
       "    </tr>\n",
       "    <tr>\n",
       "      <th>2</th>\n",
       "      <td>43661</td>\n",
       "      <td>2011-05-31</td>\n",
       "      <td>3</td>\n",
       "    </tr>\n",
       "  </tbody>\n",
       "</table>\n",
       "</div>"
      ],
      "text/plain": [
       "  SalesOrderID   OrderDate  RankOrderID\n",
       "0        43659  2011-05-31            1\n",
       "1        43660  2011-05-31            2\n",
       "2        43661  2011-05-31            3"
      ]
     },
     "execution_count": 54,
     "metadata": {},
     "output_type": "execute_result"
    }
   ],
   "source": [
    "# Ejercicio 52 - Enumerar las órdenes de venta con ROW_NUMBER en orden por SalesOrderID\n",
    "mostrar_query(\"\"\"\n",
    "SELECT \n",
    "  soh.SalesOrderID, \n",
    "  DATE(soh.OrderDate) AS OrderDate, \n",
    "  ROW_NUMBER() OVER (ORDER BY soh.SalesOrderID) AS RankOrderID\n",
    "FROM 'Sales.SalesOrderHeader' AS soh\n",
    "\"\"\")\n"
   ]
  },
  {
   "cell_type": "code",
   "execution_count": 55,
   "id": "9c4b3d62",
   "metadata": {},
   "outputs": [
    {
     "data": {
      "application/vnd.microsoft.datawrangler.viewer.v0+json": {
       "columns": [
        {
         "name": "index",
         "rawType": "int64",
         "type": "integer"
        },
        {
         "name": "BusinessEntityID",
         "rawType": "object",
         "type": "string"
        },
        {
         "name": "AvgSalario",
         "rawType": "object",
         "type": "unknown"
        }
       ],
       "ref": "1ecfecdb-39f9-48c4-9367-b2a3b0459a2a",
       "rows": [
        [
         "0",
         "97",
         null
        ],
        [
         "1",
         "98",
         null
        ],
        [
         "2",
         "99",
         null
        ]
       ],
       "shape": {
        "columns": 2,
        "rows": 3
       }
      },
      "text/html": [
       "<div>\n",
       "<style scoped>\n",
       "    .dataframe tbody tr th:only-of-type {\n",
       "        vertical-align: middle;\n",
       "    }\n",
       "\n",
       "    .dataframe tbody tr th {\n",
       "        vertical-align: top;\n",
       "    }\n",
       "\n",
       "    .dataframe thead th {\n",
       "        text-align: right;\n",
       "    }\n",
       "</style>\n",
       "<table border=\"1\" class=\"dataframe\">\n",
       "  <thead>\n",
       "    <tr style=\"text-align: right;\">\n",
       "      <th></th>\n",
       "      <th>BusinessEntityID</th>\n",
       "      <th>AvgSalario</th>\n",
       "    </tr>\n",
       "  </thead>\n",
       "  <tbody>\n",
       "    <tr>\n",
       "      <th>0</th>\n",
       "      <td>97</td>\n",
       "      <td>None</td>\n",
       "    </tr>\n",
       "    <tr>\n",
       "      <th>1</th>\n",
       "      <td>98</td>\n",
       "      <td>None</td>\n",
       "    </tr>\n",
       "    <tr>\n",
       "      <th>2</th>\n",
       "      <td>99</td>\n",
       "      <td>None</td>\n",
       "    </tr>\n",
       "  </tbody>\n",
       "</table>\n",
       "</div>"
      ],
      "text/plain": [
       "  BusinessEntityID AvgSalario\n",
       "0               97       None\n",
       "1               98       None\n",
       "2               99       None"
      ]
     },
     "execution_count": 55,
     "metadata": {},
     "output_type": "execute_result"
    }
   ],
   "source": [
    "# Ejercicio 53 - Calcular el promedio de salario por empleado usando función de ventana AVG OVER\n",
    "mostrar_query(\"\"\"\n",
    "SELECT DISTINCT \n",
    "  xd.BusinessEntityID, \n",
    "  xd.AvgSalario\n",
    "FROM (\n",
    "  SELECT \n",
    "    e.BusinessEntityID, \n",
    "    AVG(eph.Rate) OVER (PARTITION BY eph.BusinessEntityID) AS AvgSalario\n",
    "  FROM 'HumanResources.Employee' AS e\n",
    "  LEFT JOIN 'HumanResources.EmployeePayHistory' AS eph \n",
    "    ON e.BusinessEntityID = eph.BusinessEntityID\n",
    ") AS xd\n",
    "\"\"\")\n"
   ]
  },
  {
   "cell_type": "code",
   "execution_count": 56,
   "id": "f00f1205",
   "metadata": {},
   "outputs": [
    {
     "data": {
      "application/vnd.microsoft.datawrangler.viewer.v0+json": {
       "columns": [
        {
         "name": "index",
         "rawType": "int64",
         "type": "integer"
        },
        {
         "name": "CustomerID",
         "rawType": "object",
         "type": "string"
        },
        {
         "name": "SalesOrderID",
         "rawType": "object",
         "type": "string"
        },
        {
         "name": "OrderDate",
         "rawType": "object",
         "type": "string"
        },
        {
         "name": "AcumuladoCliente",
         "rawType": "float64",
         "type": "float"
        }
       ],
       "ref": "403e3cbd-f144-4e03-970f-b33902915929",
       "rows": [
        [
         "0",
         "11002",
         "43736",
         "2011-06-09",
         "3399.99"
        ],
        [
         "1",
         "11003",
         "43701",
         "2011-05-31",
         "3399.99"
        ],
        [
         "2",
         "11005",
         "43704",
         "2011-06-01",
         "3374.99"
        ]
       ],
       "shape": {
        "columns": 4,
        "rows": 3
       }
      },
      "text/html": [
       "<div>\n",
       "<style scoped>\n",
       "    .dataframe tbody tr th:only-of-type {\n",
       "        vertical-align: middle;\n",
       "    }\n",
       "\n",
       "    .dataframe tbody tr th {\n",
       "        vertical-align: top;\n",
       "    }\n",
       "\n",
       "    .dataframe thead th {\n",
       "        text-align: right;\n",
       "    }\n",
       "</style>\n",
       "<table border=\"1\" class=\"dataframe\">\n",
       "  <thead>\n",
       "    <tr style=\"text-align: right;\">\n",
       "      <th></th>\n",
       "      <th>CustomerID</th>\n",
       "      <th>SalesOrderID</th>\n",
       "      <th>OrderDate</th>\n",
       "      <th>AcumuladoCliente</th>\n",
       "    </tr>\n",
       "  </thead>\n",
       "  <tbody>\n",
       "    <tr>\n",
       "      <th>0</th>\n",
       "      <td>11002</td>\n",
       "      <td>43736</td>\n",
       "      <td>2011-06-09</td>\n",
       "      <td>3399.99</td>\n",
       "    </tr>\n",
       "    <tr>\n",
       "      <th>1</th>\n",
       "      <td>11003</td>\n",
       "      <td>43701</td>\n",
       "      <td>2011-05-31</td>\n",
       "      <td>3399.99</td>\n",
       "    </tr>\n",
       "    <tr>\n",
       "      <th>2</th>\n",
       "      <td>11005</td>\n",
       "      <td>43704</td>\n",
       "      <td>2011-06-01</td>\n",
       "      <td>3374.99</td>\n",
       "    </tr>\n",
       "  </tbody>\n",
       "</table>\n",
       "</div>"
      ],
      "text/plain": [
       "  CustomerID SalesOrderID   OrderDate  AcumuladoCliente\n",
       "0      11002        43736  2011-06-09           3399.99\n",
       "1      11003        43701  2011-05-31           3399.99\n",
       "2      11005        43704  2011-06-01           3374.99"
      ]
     },
     "execution_count": 56,
     "metadata": {},
     "output_type": "execute_result"
    }
   ],
   "source": [
    "# Ejercicio 54 - Calcular el acumulado de SubTotal por cliente a lo largo del tiempo\n",
    "mostrar_query(\"\"\"\n",
    "SELECT \n",
    "  soh.CustomerID, \n",
    "  soh.SalesOrderID, \n",
    "  DATE(soh.OrderDate) AS OrderDate, \n",
    "  SUM(soh.SubTotal) OVER (\n",
    "    PARTITION BY soh.CustomerID \n",
    "    ORDER BY soh.OrderDate\n",
    "  ) AS AcumuladoCliente\n",
    "FROM 'Sales.SalesOrderHeader' AS soh\n",
    "\"\"\")\n"
   ]
  },
  {
   "cell_type": "code",
   "execution_count": 57,
   "id": "62a0c982",
   "metadata": {},
   "outputs": [
    {
     "data": {
      "application/vnd.microsoft.datawrangler.viewer.v0+json": {
       "columns": [
        {
         "name": "index",
         "rawType": "int64",
         "type": "integer"
        },
        {
         "name": "BusinessEntityID",
         "rawType": "object",
         "type": "string"
        },
        {
         "name": "sueldo_actual",
         "rawType": "object",
         "type": "string"
        },
        {
         "name": "diferencia_con_anterior",
         "rawType": "float64",
         "type": "float"
        }
       ],
       "ref": "a3068284-0245-457c-b0e2-032717508c1f",
       "rows": [
        [
         "0",
         "1",
         "125.5000",
         null
        ],
        [
         "1",
         "10",
         "42.4808",
         "-83.0192"
        ],
        [
         "2",
         "11",
         "28.8462",
         "-13.634600000000002"
        ]
       ],
       "shape": {
        "columns": 3,
        "rows": 3
       }
      },
      "text/html": [
       "<div>\n",
       "<style scoped>\n",
       "    .dataframe tbody tr th:only-of-type {\n",
       "        vertical-align: middle;\n",
       "    }\n",
       "\n",
       "    .dataframe tbody tr th {\n",
       "        vertical-align: top;\n",
       "    }\n",
       "\n",
       "    .dataframe thead th {\n",
       "        text-align: right;\n",
       "    }\n",
       "</style>\n",
       "<table border=\"1\" class=\"dataframe\">\n",
       "  <thead>\n",
       "    <tr style=\"text-align: right;\">\n",
       "      <th></th>\n",
       "      <th>BusinessEntityID</th>\n",
       "      <th>sueldo_actual</th>\n",
       "      <th>diferencia_con_anterior</th>\n",
       "    </tr>\n",
       "  </thead>\n",
       "  <tbody>\n",
       "    <tr>\n",
       "      <th>0</th>\n",
       "      <td>1</td>\n",
       "      <td>125.5000</td>\n",
       "      <td>NaN</td>\n",
       "    </tr>\n",
       "    <tr>\n",
       "      <th>1</th>\n",
       "      <td>10</td>\n",
       "      <td>42.4808</td>\n",
       "      <td>-83.0192</td>\n",
       "    </tr>\n",
       "    <tr>\n",
       "      <th>2</th>\n",
       "      <td>11</td>\n",
       "      <td>28.8462</td>\n",
       "      <td>-13.6346</td>\n",
       "    </tr>\n",
       "  </tbody>\n",
       "</table>\n",
       "</div>"
      ],
      "text/plain": [
       "  BusinessEntityID sueldo_actual  diferencia_con_anterior\n",
       "0                1      125.5000                      NaN\n",
       "1               10       42.4808                 -83.0192\n",
       "2               11       28.8462                 -13.6346"
      ]
     },
     "execution_count": 57,
     "metadata": {},
     "output_type": "execute_result"
    }
   ],
   "source": [
    "# Ejercicio 56 - Mostrar el salario actual de cada empleado y la diferencia con respecto al salario del empleado anterior\n",
    "mostrar_query(\"\"\"\n",
    "SELECT \n",
    "  eph.BusinessEntityID, \n",
    "  eph.Rate AS sueldo_actual, \n",
    "  eph.Rate - LAG(eph.Rate, 1) OVER (ORDER BY eph.BusinessEntityID) AS diferencia_con_anterior\n",
    "FROM 'HumanResources.EmployeePayHistory' AS eph\n",
    "WHERE eph.RateChangeDate = (\n",
    "  SELECT MAX(eph2.RateChangeDate)\n",
    "  FROM 'HumanResources.EmployeePayHistory' AS eph2\n",
    "  WHERE eph.BusinessEntityID = eph2.BusinessEntityID\n",
    ")\n",
    "\"\"\")\n",
    "\n"
   ]
  },
  {
   "cell_type": "code",
   "execution_count": 58,
   "id": "a29f7bf3",
   "metadata": {},
   "outputs": [
    {
     "data": {
      "application/vnd.microsoft.datawrangler.viewer.v0+json": {
       "columns": [
        {
         "name": "index",
         "rawType": "int64",
         "type": "integer"
        },
        {
         "name": "BusinessEntityID",
         "rawType": "object",
         "type": "string"
        },
        {
         "name": "salario_actual",
         "rawType": "object",
         "type": "unknown"
        },
        {
         "name": "maximo_departamento",
         "rawType": "object",
         "type": "unknown"
        },
        {
         "name": "minimo_departamento",
         "rawType": "object",
         "type": "unknown"
        }
       ],
       "ref": "e5465111-232c-467e-ae51-0acfbbdb7adb",
       "rows": [
        [
         "0",
         "99",
         null,
         null,
         null
        ],
        [
         "1",
         "100",
         null,
         null,
         null
        ],
        [
         "2",
         "2",
         "63.4615",
         "63.4615",
         "29.8462"
        ]
       ],
       "shape": {
        "columns": 4,
        "rows": 3
       }
      },
      "text/html": [
       "<div>\n",
       "<style scoped>\n",
       "    .dataframe tbody tr th:only-of-type {\n",
       "        vertical-align: middle;\n",
       "    }\n",
       "\n",
       "    .dataframe tbody tr th {\n",
       "        vertical-align: top;\n",
       "    }\n",
       "\n",
       "    .dataframe thead th {\n",
       "        text-align: right;\n",
       "    }\n",
       "</style>\n",
       "<table border=\"1\" class=\"dataframe\">\n",
       "  <thead>\n",
       "    <tr style=\"text-align: right;\">\n",
       "      <th></th>\n",
       "      <th>BusinessEntityID</th>\n",
       "      <th>salario_actual</th>\n",
       "      <th>maximo_departamento</th>\n",
       "      <th>minimo_departamento</th>\n",
       "    </tr>\n",
       "  </thead>\n",
       "  <tbody>\n",
       "    <tr>\n",
       "      <th>0</th>\n",
       "      <td>99</td>\n",
       "      <td>None</td>\n",
       "      <td>None</td>\n",
       "      <td>None</td>\n",
       "    </tr>\n",
       "    <tr>\n",
       "      <th>1</th>\n",
       "      <td>100</td>\n",
       "      <td>None</td>\n",
       "      <td>None</td>\n",
       "      <td>None</td>\n",
       "    </tr>\n",
       "    <tr>\n",
       "      <th>2</th>\n",
       "      <td>2</td>\n",
       "      <td>63.4615</td>\n",
       "      <td>63.4615</td>\n",
       "      <td>29.8462</td>\n",
       "    </tr>\n",
       "  </tbody>\n",
       "</table>\n",
       "</div>"
      ],
      "text/plain": [
       "  BusinessEntityID salario_actual maximo_departamento minimo_departamento\n",
       "0               99           None                None                None\n",
       "1              100           None                None                None\n",
       "2                2        63.4615             63.4615             29.8462"
      ]
     },
     "execution_count": 58,
     "metadata": {},
     "output_type": "execute_result"
    }
   ],
   "source": [
    "# Ejercicio 57 - Obtener salario actual y extremos salariales dentro del departamento (MIN/MAX con OVER y CTE)\n",
    "mostrar_query(\"\"\"\n",
    "WITH salario_actual AS (\n",
    "  SELECT \n",
    "    eph.BusinessEntityID, \n",
    "    eph.Rate\n",
    "  FROM 'HumanResources.EmployeePayHistory' AS eph\n",
    "  WHERE eph.RateChangeDate = (\n",
    "    SELECT MAX(eph2.RateChangeDate)\n",
    "    FROM 'HumanResources.EmployeePayHistory' AS eph2 \n",
    "    WHERE eph.BusinessEntityID = eph2.BusinessEntityID\n",
    "  )\n",
    ")\n",
    "SELECT \n",
    "  e.BusinessEntityID,\n",
    "  sa.Rate AS salario_actual,\n",
    "  MAX(sa.Rate) OVER (PARTITION BY edh.DepartmentID) AS maximo_departamento,\n",
    "  MIN(sa.Rate) OVER (PARTITION BY edh.DepartmentID) AS minimo_departamento\n",
    "FROM 'HumanResources.Employee' AS e\n",
    "LEFT JOIN salario_actual AS sa ON e.BusinessEntityID = sa.BusinessEntityID\n",
    "LEFT JOIN 'HumanResources.EmployeeDepartmentHistory' AS edh \n",
    "  ON e.BusinessEntityID = edh.BusinessEntityID\n",
    "\"\"\")\n"
   ]
  },
  {
   "cell_type": "code",
   "execution_count": 59,
   "id": "dd5013f0",
   "metadata": {},
   "outputs": [
    {
     "data": {
      "application/vnd.microsoft.datawrangler.viewer.v0+json": {
       "columns": [
        {
         "name": "index",
         "rawType": "int64",
         "type": "integer"
        },
        {
         "name": "BusinessEntityID",
         "rawType": "object",
         "type": "string"
        }
       ],
       "ref": "47ba2c39-a14e-4fe3-a548-a92da154cf54",
       "rows": [
        [
         "0",
         "1"
        ],
        [
         "1",
         "2"
        ],
        [
         "2",
         "3"
        ]
       ],
       "shape": {
        "columns": 1,
        "rows": 3
       }
      },
      "text/html": [
       "<div>\n",
       "<style scoped>\n",
       "    .dataframe tbody tr th:only-of-type {\n",
       "        vertical-align: middle;\n",
       "    }\n",
       "\n",
       "    .dataframe tbody tr th {\n",
       "        vertical-align: top;\n",
       "    }\n",
       "\n",
       "    .dataframe thead th {\n",
       "        text-align: right;\n",
       "    }\n",
       "</style>\n",
       "<table border=\"1\" class=\"dataframe\">\n",
       "  <thead>\n",
       "    <tr style=\"text-align: right;\">\n",
       "      <th></th>\n",
       "      <th>BusinessEntityID</th>\n",
       "    </tr>\n",
       "  </thead>\n",
       "  <tbody>\n",
       "    <tr>\n",
       "      <th>0</th>\n",
       "      <td>1</td>\n",
       "    </tr>\n",
       "    <tr>\n",
       "      <th>1</th>\n",
       "      <td>2</td>\n",
       "    </tr>\n",
       "    <tr>\n",
       "      <th>2</th>\n",
       "      <td>3</td>\n",
       "    </tr>\n",
       "  </tbody>\n",
       "</table>\n",
       "</div>"
      ],
      "text/plain": [
       "  BusinessEntityID\n",
       "0                1\n",
       "1                2\n",
       "2                3"
      ]
     },
     "execution_count": 59,
     "metadata": {},
     "output_type": "execute_result"
    }
   ],
   "source": [
    "# Ejercicio 58 - Mostrar empleados cuyo salario actual es mayor al promedio del departamento\n",
    "mostrar_query(\"\"\"\n",
    "WITH salario_actual AS (\n",
    "  SELECT \n",
    "    eph.BusinessEntityID, \n",
    "    eph.Rate\n",
    "  FROM 'HumanResources.EmployeePayHistory' AS eph\n",
    "  WHERE eph.RateChangeDate = (\n",
    "    SELECT MAX(eph2.RateChangeDate)\n",
    "    FROM 'HumanResources.EmployeePayHistory' AS eph2 \n",
    "    WHERE eph.BusinessEntityID = eph2.BusinessEntityID\n",
    "  )\n",
    ")\n",
    "SELECT \n",
    "  e.BusinessEntityID\n",
    "FROM 'HumanResources.Employee' AS e\n",
    "LEFT JOIN salario_actual AS sa ON e.BusinessEntityID = sa.BusinessEntityID\n",
    "LEFT JOIN 'HumanResources.EmployeeDepartmentHistory' AS edh ON e.BusinessEntityID = edh.BusinessEntityID\n",
    "WHERE sa.Rate > (\n",
    "  SELECT AVG(sa2.Rate)\n",
    "  FROM 'HumanResources.Employee' AS e2\n",
    "  LEFT JOIN salario_actual AS sa2 ON e2.BusinessEntityID = sa2.BusinessEntityID\n",
    "  LEFT JOIN 'HumanResources.EmployeeDepartmentHistory' AS edh2 ON e2.BusinessEntityID = edh2.BusinessEntityID\n",
    "  WHERE edh2.DepartmentID = edh.DepartmentID\n",
    ")\n",
    "\"\"\")\n"
   ]
  },
  {
   "cell_type": "code",
   "execution_count": 60,
   "id": "b74ad564",
   "metadata": {},
   "outputs": [
    {
     "data": {
      "application/vnd.microsoft.datawrangler.viewer.v0+json": {
       "columns": [
        {
         "name": "index",
         "rawType": "int64",
         "type": "integer"
        },
        {
         "name": "CustomerID",
         "rawType": "object",
         "type": "string"
        },
        {
         "name": "OrderDate",
         "rawType": "object",
         "type": "string"
        },
        {
         "name": "dias_desde_ultima_orden",
         "rawType": "object",
         "type": "unknown"
        }
       ],
       "ref": "49718fb2-7163-4882-baa2-9f53a817ff6e",
       "rows": [
        [
         "0",
         "11002",
         "2011-06-09",
         null
        ],
        [
         "1",
         "11003",
         "2011-05-31",
         null
        ],
        [
         "2",
         "11005",
         "2011-06-01",
         null
        ]
       ],
       "shape": {
        "columns": 3,
        "rows": 3
       }
      },
      "text/html": [
       "<div>\n",
       "<style scoped>\n",
       "    .dataframe tbody tr th:only-of-type {\n",
       "        vertical-align: middle;\n",
       "    }\n",
       "\n",
       "    .dataframe tbody tr th {\n",
       "        vertical-align: top;\n",
       "    }\n",
       "\n",
       "    .dataframe thead th {\n",
       "        text-align: right;\n",
       "    }\n",
       "</style>\n",
       "<table border=\"1\" class=\"dataframe\">\n",
       "  <thead>\n",
       "    <tr style=\"text-align: right;\">\n",
       "      <th></th>\n",
       "      <th>CustomerID</th>\n",
       "      <th>OrderDate</th>\n",
       "      <th>dias_desde_ultima_orden</th>\n",
       "    </tr>\n",
       "  </thead>\n",
       "  <tbody>\n",
       "    <tr>\n",
       "      <th>0</th>\n",
       "      <td>11002</td>\n",
       "      <td>2011-06-09</td>\n",
       "      <td>None</td>\n",
       "    </tr>\n",
       "    <tr>\n",
       "      <th>1</th>\n",
       "      <td>11003</td>\n",
       "      <td>2011-05-31</td>\n",
       "      <td>None</td>\n",
       "    </tr>\n",
       "    <tr>\n",
       "      <th>2</th>\n",
       "      <td>11005</td>\n",
       "      <td>2011-06-01</td>\n",
       "      <td>None</td>\n",
       "    </tr>\n",
       "  </tbody>\n",
       "</table>\n",
       "</div>"
      ],
      "text/plain": [
       "  CustomerID   OrderDate dias_desde_ultima_orden\n",
       "0      11002  2011-06-09                    None\n",
       "1      11003  2011-05-31                    None\n",
       "2      11005  2011-06-01                    None"
      ]
     },
     "execution_count": 60,
     "metadata": {},
     "output_type": "execute_result"
    }
   ],
   "source": [
    "# Ejercicio 59 - Calcular la diferencia de días entre una orden y la anterior del mismo cliente\n",
    "mostrar_query(\"\"\"\n",
    "SELECT \n",
    "  soh.CustomerID,\n",
    "  DATE(soh.OrderDate) AS OrderDate,\n",
    "  JULIANDAY(soh.OrderDate) - JULIANDAY(\n",
    "    LAG(soh.OrderDate, 1) OVER (\n",
    "      PARTITION BY soh.CustomerID \n",
    "      ORDER BY soh.OrderDate DESC\n",
    "    )\n",
    "  ) AS dias_desde_ultima_orden\n",
    "FROM 'Sales.SalesOrderHeader' AS soh\n",
    "\"\"\")\n"
   ]
  },
  {
   "cell_type": "code",
   "execution_count": 61,
   "id": "f194929a",
   "metadata": {},
   "outputs": [
    {
     "data": {
      "application/vnd.microsoft.datawrangler.viewer.v0+json": {
       "columns": [
        {
         "name": "index",
         "rawType": "int64",
         "type": "integer"
        },
        {
         "name": "ProductCategoryID",
         "rawType": "object",
         "type": "string"
        },
        {
         "name": "cantidad_productos",
         "rawType": "int64",
         "type": "integer"
        },
        {
         "name": "rango_productos",
         "rawType": "int64",
         "type": "integer"
        }
       ],
       "ref": "2bd67cfe-bcf7-44f1-97cf-ec507e25ea4e",
       "rows": [
        [
         "0",
         "1",
         "0",
         "1"
        ],
        [
         "1",
         "1",
         "0",
         "1"
        ],
        [
         "2",
         "1",
         "0",
         "1"
        ]
       ],
       "shape": {
        "columns": 3,
        "rows": 3
       }
      },
      "text/html": [
       "<div>\n",
       "<style scoped>\n",
       "    .dataframe tbody tr th:only-of-type {\n",
       "        vertical-align: middle;\n",
       "    }\n",
       "\n",
       "    .dataframe tbody tr th {\n",
       "        vertical-align: top;\n",
       "    }\n",
       "\n",
       "    .dataframe thead th {\n",
       "        text-align: right;\n",
       "    }\n",
       "</style>\n",
       "<table border=\"1\" class=\"dataframe\">\n",
       "  <thead>\n",
       "    <tr style=\"text-align: right;\">\n",
       "      <th></th>\n",
       "      <th>ProductCategoryID</th>\n",
       "      <th>cantidad_productos</th>\n",
       "      <th>rango_productos</th>\n",
       "    </tr>\n",
       "  </thead>\n",
       "  <tbody>\n",
       "    <tr>\n",
       "      <th>0</th>\n",
       "      <td>1</td>\n",
       "      <td>0</td>\n",
       "      <td>1</td>\n",
       "    </tr>\n",
       "    <tr>\n",
       "      <th>1</th>\n",
       "      <td>1</td>\n",
       "      <td>0</td>\n",
       "      <td>1</td>\n",
       "    </tr>\n",
       "    <tr>\n",
       "      <th>2</th>\n",
       "      <td>1</td>\n",
       "      <td>0</td>\n",
       "      <td>1</td>\n",
       "    </tr>\n",
       "  </tbody>\n",
       "</table>\n",
       "</div>"
      ],
      "text/plain": [
       "  ProductCategoryID  cantidad_productos  rango_productos\n",
       "0                 1                   0                1\n",
       "1                 1                   0                1\n",
       "2                 1                   0                1"
      ]
     },
     "execution_count": 61,
     "metadata": {},
     "output_type": "execute_result"
    }
   ],
   "source": [
    "# Ejercicio 60 - Rankear categorías por cantidad de productos y mostrar solo las top 3\n",
    "mostrar_query(\"\"\"\n",
    "WITH cantidad_ventas AS (\n",
    "  SELECT \n",
    "    pc.ProductCategoryID, \n",
    "    COUNT(p.ProductID) OVER (PARTITION BY pc.ProductCategoryID) AS cantidad_productos\n",
    "  FROM 'Production.ProductCategory' AS pc \n",
    "  LEFT JOIN 'Production.ProductSubcategory' AS ps \n",
    "    ON pc.ProductCategoryID = ps.ProductCategoryID\n",
    "  LEFT JOIN 'Production.Product' AS p \n",
    "    ON ps.ProductSubcategoryID = p.ProductSubcategoryID\n",
    ")\n",
    "SELECT *\n",
    "FROM (\n",
    "  SELECT \n",
    "    pc.ProductCategoryID, \n",
    "    cp.cantidad_productos,\n",
    "    DENSE_RANK() OVER (\n",
    "      ORDER BY cp.cantidad_productos DESC\n",
    "    ) AS rango_productos\n",
    "  FROM 'Production.ProductCategory' AS pc  \n",
    "  LEFT JOIN cantidad_ventas AS cp ON pc.ProductCategoryID = cp.ProductCategoryID\n",
    ")\n",
    "WHERE rango_productos <= 3\n",
    "\"\"\")\n"
   ]
  },
  {
   "cell_type": "code",
   "execution_count": 62,
   "id": "72c6e4a7",
   "metadata": {},
   "outputs": [
    {
     "data": {
      "application/vnd.microsoft.datawrangler.viewer.v0+json": {
       "columns": [
        {
         "name": "index",
         "rawType": "int64",
         "type": "integer"
        },
        {
         "name": "ProductCategoryID",
         "rawType": "object",
         "type": "string"
        },
        {
         "name": "ProductSubcategoryID",
         "rawType": "object",
         "type": "string"
        },
        {
         "name": "cantidad_productos_subcategoria",
         "rawType": "int64",
         "type": "integer"
        },
        {
         "name": "rango_productos",
         "rawType": "int64",
         "type": "integer"
        }
       ],
       "ref": "e694c76f-1ed5-4fb1-a507-c8b5e69d0d2c",
       "rows": [
        [
         "0",
         "1",
         "1",
         "0",
         "1"
        ],
        [
         "1",
         "1",
         "2",
         "0",
         "1"
        ],
        [
         "2",
         "1",
         "3",
         "0",
         "1"
        ]
       ],
       "shape": {
        "columns": 4,
        "rows": 3
       }
      },
      "text/html": [
       "<div>\n",
       "<style scoped>\n",
       "    .dataframe tbody tr th:only-of-type {\n",
       "        vertical-align: middle;\n",
       "    }\n",
       "\n",
       "    .dataframe tbody tr th {\n",
       "        vertical-align: top;\n",
       "    }\n",
       "\n",
       "    .dataframe thead th {\n",
       "        text-align: right;\n",
       "    }\n",
       "</style>\n",
       "<table border=\"1\" class=\"dataframe\">\n",
       "  <thead>\n",
       "    <tr style=\"text-align: right;\">\n",
       "      <th></th>\n",
       "      <th>ProductCategoryID</th>\n",
       "      <th>ProductSubcategoryID</th>\n",
       "      <th>cantidad_productos_subcategoria</th>\n",
       "      <th>rango_productos</th>\n",
       "    </tr>\n",
       "  </thead>\n",
       "  <tbody>\n",
       "    <tr>\n",
       "      <th>0</th>\n",
       "      <td>1</td>\n",
       "      <td>1</td>\n",
       "      <td>0</td>\n",
       "      <td>1</td>\n",
       "    </tr>\n",
       "    <tr>\n",
       "      <th>1</th>\n",
       "      <td>1</td>\n",
       "      <td>2</td>\n",
       "      <td>0</td>\n",
       "      <td>1</td>\n",
       "    </tr>\n",
       "    <tr>\n",
       "      <th>2</th>\n",
       "      <td>1</td>\n",
       "      <td>3</td>\n",
       "      <td>0</td>\n",
       "      <td>1</td>\n",
       "    </tr>\n",
       "  </tbody>\n",
       "</table>\n",
       "</div>"
      ],
      "text/plain": [
       "  ProductCategoryID ProductSubcategoryID  cantidad_productos_subcategoria  \\\n",
       "0                 1                    1                                0   \n",
       "1                 1                    2                                0   \n",
       "2                 1                    3                                0   \n",
       "\n",
       "   rango_productos  \n",
       "0                1  \n",
       "1                1  \n",
       "2                1  "
      ]
     },
     "execution_count": 62,
     "metadata": {},
     "output_type": "execute_result"
    }
   ],
   "source": [
    "# Ejercicio 61 Mostrar las 3 subcategorías con más productos por cada categoría\n",
    "mostrar_query(\"\"\"\n",
    "WITH cantidad_ventas AS (\n",
    "  SELECT \n",
    "    ps.ProductSubcategoryID,\n",
    "    COUNT(p.ProductID) OVER (PARTITION BY ps.ProductSubcategoryID) AS cantidad_productos_subcategoria\n",
    "  FROM 'Production.ProductSubcategory' AS ps\n",
    "  LEFT JOIN 'Production.Product' AS p \n",
    "    ON ps.ProductSubcategoryID = p.ProductSubcategoryID\n",
    ")\n",
    "\n",
    "SELECT *\n",
    "FROM (\n",
    "  SELECT \n",
    "    pc.ProductCategoryID,\n",
    "    ps.ProductSubcategoryID,\n",
    "    cp.cantidad_productos_subcategoria,\n",
    "    DENSE_RANK() OVER (\n",
    "      PARTITION BY pc.ProductCategoryID \n",
    "      ORDER BY cp.cantidad_productos_subcategoria DESC\n",
    "    ) AS rango_productos\n",
    "  FROM 'Production.ProductCategory' AS pc\n",
    "  LEFT JOIN 'Production.ProductSubcategory' AS ps \n",
    "    ON pc.ProductCategoryID = ps.ProductCategoryID\n",
    "  LEFT JOIN cantidad_ventas AS cp \n",
    "    ON ps.ProductSubcategoryID = cp.ProductSubcategoryID\n",
    ") AS TABLITA\n",
    "WHERE rango_productos <= 3\n",
    "ORDER BY ProductCategoryID ASC, rango_productos ASC;\n",
    "\"\"\")\n"
   ]
  },
  {
   "cell_type": "code",
   "execution_count": 63,
   "id": "4439dea4",
   "metadata": {},
   "outputs": [
    {
     "data": {
      "application/vnd.microsoft.datawrangler.viewer.v0+json": {
       "columns": [
        {
         "name": "index",
         "rawType": "int64",
         "type": "integer"
        },
        {
         "name": "BusinessEntityID",
         "rawType": "object",
         "type": "string"
        },
        {
         "name": "fecha",
         "rawType": "object",
         "type": "string"
        },
        {
         "name": "Rate",
         "rawType": "object",
         "type": "string"
        },
        {
         "name": "diferencia",
         "rawType": "float64",
         "type": "float"
        }
       ],
       "ref": "b6987594-6000-44e5-8c5f-1fe55edcf1fd",
       "rows": [
        [
         "0",
         "16",
         "2009-07-15",
         "28.7500",
         "4.75"
        ],
        [
         "1",
         "16",
         "2012-04-30",
         "37.5000",
         "8.75"
        ],
        [
         "2",
         "4",
         "2010-05-31",
         "23.7200",
         "15.1"
        ]
       ],
       "shape": {
        "columns": 4,
        "rows": 3
       }
      },
      "text/html": [
       "<div>\n",
       "<style scoped>\n",
       "    .dataframe tbody tr th:only-of-type {\n",
       "        vertical-align: middle;\n",
       "    }\n",
       "\n",
       "    .dataframe tbody tr th {\n",
       "        vertical-align: top;\n",
       "    }\n",
       "\n",
       "    .dataframe thead th {\n",
       "        text-align: right;\n",
       "    }\n",
       "</style>\n",
       "<table border=\"1\" class=\"dataframe\">\n",
       "  <thead>\n",
       "    <tr style=\"text-align: right;\">\n",
       "      <th></th>\n",
       "      <th>BusinessEntityID</th>\n",
       "      <th>fecha</th>\n",
       "      <th>Rate</th>\n",
       "      <th>diferencia</th>\n",
       "    </tr>\n",
       "  </thead>\n",
       "  <tbody>\n",
       "    <tr>\n",
       "      <th>0</th>\n",
       "      <td>16</td>\n",
       "      <td>2009-07-15</td>\n",
       "      <td>28.7500</td>\n",
       "      <td>4.75</td>\n",
       "    </tr>\n",
       "    <tr>\n",
       "      <th>1</th>\n",
       "      <td>16</td>\n",
       "      <td>2012-04-30</td>\n",
       "      <td>37.5000</td>\n",
       "      <td>8.75</td>\n",
       "    </tr>\n",
       "    <tr>\n",
       "      <th>2</th>\n",
       "      <td>4</td>\n",
       "      <td>2010-05-31</td>\n",
       "      <td>23.7200</td>\n",
       "      <td>15.10</td>\n",
       "    </tr>\n",
       "  </tbody>\n",
       "</table>\n",
       "</div>"
      ],
      "text/plain": [
       "  BusinessEntityID       fecha     Rate  diferencia\n",
       "0               16  2009-07-15  28.7500        4.75\n",
       "1               16  2012-04-30  37.5000        8.75\n",
       "2                4  2010-05-31  23.7200       15.10"
      ]
     },
     "execution_count": 63,
     "metadata": {},
     "output_type": "execute_result"
    }
   ],
   "source": [
    "# Ejercicio 61 - Calcular diferencias sucesivas entre cambios salariales por empleado\n",
    "mostrar_query(\"\"\"\n",
    "SELECT *\n",
    "FROM (\n",
    "  SELECT \n",
    "    eph.BusinessEntityID, \n",
    "    DATE(eph.RateChangeDate) AS fecha, \n",
    "    eph.Rate,\n",
    "    eph.Rate - LAG(eph.Rate, 1) OVER (\n",
    "      PARTITION BY eph.BusinessEntityID \n",
    "      ORDER BY eph.RateChangeDate ASC\n",
    "    ) AS diferencia\n",
    "  FROM 'HumanResources.EmployeePayHistory' AS eph\n",
    ") AS sc\n",
    "WHERE sc.diferencia IS NOT NULL\n",
    "ORDER BY sc.BusinessEntityID, sc.fecha ASC;\n",
    "\"\"\")"
   ]
  },
  {
   "cell_type": "markdown",
   "id": "3f7b9067",
   "metadata": {},
   "source": [
    "### 8. Time Functions"
   ]
  },
  {
   "cell_type": "code",
   "execution_count": 64,
   "id": "a90af829",
   "metadata": {},
   "outputs": [
    {
     "data": {
      "application/vnd.microsoft.datawrangler.viewer.v0+json": {
       "columns": [
        {
         "name": "index",
         "rawType": "int64",
         "type": "integer"
        },
        {
         "name": "SalesOrderID",
         "rawType": "object",
         "type": "string"
        },
        {
         "name": "OrderDate",
         "rawType": "object",
         "type": "string"
        },
        {
         "name": "CustomerID",
         "rawType": "object",
         "type": "string"
        }
       ],
       "ref": "f4af7f59-213d-4b34-893a-81da842d806a",
       "rows": [
        [
         "0",
         "43758",
         "2011-06-15",
         "27646"
        ],
        [
         "1",
         "43754",
         "2011-06-14",
         "27617"
        ],
        [
         "2",
         "43755",
         "2011-06-14",
         "27670"
        ]
       ],
       "shape": {
        "columns": 3,
        "rows": 3
       }
      },
      "text/html": [
       "<div>\n",
       "<style scoped>\n",
       "    .dataframe tbody tr th:only-of-type {\n",
       "        vertical-align: middle;\n",
       "    }\n",
       "\n",
       "    .dataframe tbody tr th {\n",
       "        vertical-align: top;\n",
       "    }\n",
       "\n",
       "    .dataframe thead th {\n",
       "        text-align: right;\n",
       "    }\n",
       "</style>\n",
       "<table border=\"1\" class=\"dataframe\">\n",
       "  <thead>\n",
       "    <tr style=\"text-align: right;\">\n",
       "      <th></th>\n",
       "      <th>SalesOrderID</th>\n",
       "      <th>OrderDate</th>\n",
       "      <th>CustomerID</th>\n",
       "    </tr>\n",
       "  </thead>\n",
       "  <tbody>\n",
       "    <tr>\n",
       "      <th>0</th>\n",
       "      <td>43758</td>\n",
       "      <td>2011-06-15</td>\n",
       "      <td>27646</td>\n",
       "    </tr>\n",
       "    <tr>\n",
       "      <th>1</th>\n",
       "      <td>43754</td>\n",
       "      <td>2011-06-14</td>\n",
       "      <td>27617</td>\n",
       "    </tr>\n",
       "    <tr>\n",
       "      <th>2</th>\n",
       "      <td>43755</td>\n",
       "      <td>2011-06-14</td>\n",
       "      <td>27670</td>\n",
       "    </tr>\n",
       "  </tbody>\n",
       "</table>\n",
       "</div>"
      ],
      "text/plain": [
       "  SalesOrderID   OrderDate CustomerID\n",
       "0        43758  2011-06-15      27646\n",
       "1        43754  2011-06-14      27617\n",
       "2        43755  2011-06-14      27670"
      ]
     },
     "execution_count": 64,
     "metadata": {},
     "output_type": "execute_result"
    }
   ],
   "source": [
    "# Ejercicio 62 - Mostrar los 10 pedidos más recientes realizados en la tabla Sales.SalesOrderHeader.Incluir la fecha del pedido (OrderDate) y el ID del cliente (CustomerID).\n",
    "mostrar_query(\"\"\"\n",
    "SELECT SalesOrderID, DATE(OrderDate) AS OrderDate, CustomerID\n",
    "FROM 'Sales.SalesOrderHeader'\n",
    "ORDER BY OrderDate DESC\n",
    "LIMIT 10\n",
    "\"\"\")\n"
   ]
  },
  {
   "cell_type": "code",
   "execution_count": 65,
   "id": "e6434ce3",
   "metadata": {},
   "outputs": [
    {
     "data": {
      "application/vnd.microsoft.datawrangler.viewer.v0+json": {
       "columns": [
        {
         "name": "index",
         "rawType": "int64",
         "type": "integer"
        },
        {
         "name": "SalesOrderID",
         "rawType": "object",
         "type": "string"
        },
        {
         "name": "diferencia_envio",
         "rawType": "float64",
         "type": "float"
        }
       ],
       "ref": "abedd6c4-649a-4284-ac0d-fdbb3aafb35d",
       "rows": [
        [
         "0",
         "43659",
         "7.0"
        ],
        [
         "1",
         "43660",
         "7.0"
        ],
        [
         "2",
         "43661",
         "7.0"
        ]
       ],
       "shape": {
        "columns": 2,
        "rows": 3
       }
      },
      "text/html": [
       "<div>\n",
       "<style scoped>\n",
       "    .dataframe tbody tr th:only-of-type {\n",
       "        vertical-align: middle;\n",
       "    }\n",
       "\n",
       "    .dataframe tbody tr th {\n",
       "        vertical-align: top;\n",
       "    }\n",
       "\n",
       "    .dataframe thead th {\n",
       "        text-align: right;\n",
       "    }\n",
       "</style>\n",
       "<table border=\"1\" class=\"dataframe\">\n",
       "  <thead>\n",
       "    <tr style=\"text-align: right;\">\n",
       "      <th></th>\n",
       "      <th>SalesOrderID</th>\n",
       "      <th>diferencia_envio</th>\n",
       "    </tr>\n",
       "  </thead>\n",
       "  <tbody>\n",
       "    <tr>\n",
       "      <th>0</th>\n",
       "      <td>43659</td>\n",
       "      <td>7.0</td>\n",
       "    </tr>\n",
       "    <tr>\n",
       "      <th>1</th>\n",
       "      <td>43660</td>\n",
       "      <td>7.0</td>\n",
       "    </tr>\n",
       "    <tr>\n",
       "      <th>2</th>\n",
       "      <td>43661</td>\n",
       "      <td>7.0</td>\n",
       "    </tr>\n",
       "  </tbody>\n",
       "</table>\n",
       "</div>"
      ],
      "text/plain": [
       "  SalesOrderID  diferencia_envio\n",
       "0        43659               7.0\n",
       "1        43660               7.0\n",
       "2        43661               7.0"
      ]
     },
     "execution_count": 65,
     "metadata": {},
     "output_type": "execute_result"
    }
   ],
   "source": [
    "# Ejercicio 63 - Calcular cuántos días pasaron entre la fecha del pedido (OrderDate) y la fecha de envío (ShipDate).Mostrar solo los pedidos donde la diferencia fue mayor a 5 días.\n",
    "mostrar_query(\"\"\"\n",
    "SELECT SalesOrderID, \n",
    "       JULIANDAY(ShipDate) - JULIANDAY(OrderDate) AS diferencia_envio\n",
    "FROM 'Sales.SalesOrderHeader'\n",
    "WHERE JULIANDAY(ShipDate) - JULIANDAY(OrderDate) > 5\n",
    "\"\"\")\n"
   ]
  },
  {
   "cell_type": "code",
   "execution_count": 66,
   "id": "cae517bc",
   "metadata": {},
   "outputs": [
    {
     "data": {
      "application/vnd.microsoft.datawrangler.viewer.v0+json": {
       "columns": [
        {
         "name": "index",
         "rawType": "int64",
         "type": "integer"
        },
        {
         "name": "mes_num",
         "rawType": "object",
         "type": "string"
        },
        {
         "name": "nombre_mes",
         "rawType": "object",
         "type": "string"
        },
        {
         "name": "total_pedidos",
         "rawType": "object",
         "type": "string"
        }
       ],
       "ref": "e23212e7-cbbb-4044-8826-f84c4c80f58e",
       "rows": [],
       "shape": {
        "columns": 3,
        "rows": 0
       }
      },
      "text/html": [
       "<div>\n",
       "<style scoped>\n",
       "    .dataframe tbody tr th:only-of-type {\n",
       "        vertical-align: middle;\n",
       "    }\n",
       "\n",
       "    .dataframe tbody tr th {\n",
       "        vertical-align: top;\n",
       "    }\n",
       "\n",
       "    .dataframe thead th {\n",
       "        text-align: right;\n",
       "    }\n",
       "</style>\n",
       "<table border=\"1\" class=\"dataframe\">\n",
       "  <thead>\n",
       "    <tr style=\"text-align: right;\">\n",
       "      <th></th>\n",
       "      <th>mes_num</th>\n",
       "      <th>nombre_mes</th>\n",
       "      <th>total_pedidos</th>\n",
       "    </tr>\n",
       "  </thead>\n",
       "  <tbody>\n",
       "  </tbody>\n",
       "</table>\n",
       "</div>"
      ],
      "text/plain": [
       "Empty DataFrame\n",
       "Columns: [mes_num, nombre_mes, total_pedidos]\n",
       "Index: []"
      ]
     },
     "execution_count": 66,
     "metadata": {},
     "output_type": "execute_result"
    }
   ],
   "source": [
    "# Ejercicio 64 - Contar cuántos pedidos se hicieron por mes durante el año 2013. Mostrar número y nombre del mes, y total de pedidos\n",
    "mostrar_query(\"\"\"\n",
    "SELECT STRFTIME('%m', OrderDate) AS mes_num,\n",
    "       STRFTIME('%m', OrderDate) || ' - ' || STRFTIME('%B', OrderDate) AS nombre_mes,\n",
    "       COUNT(SalesOrderID) AS total_pedidos\n",
    "FROM 'Sales.SalesOrderHeader'\n",
    "WHERE STRFTIME('%Y', OrderDate) = '2013'\n",
    "GROUP BY mes_num, nombre_mes\n",
    "ORDER BY mes_num\n",
    "\"\"\")\n"
   ]
  },
  {
   "cell_type": "code",
   "execution_count": 73,
   "id": "5571bf9a",
   "metadata": {},
   "outputs": [
    {
     "data": {
      "application/vnd.microsoft.datawrangler.viewer.v0+json": {
       "columns": [
        {
         "name": "index",
         "rawType": "int64",
         "type": "integer"
        },
        {
         "name": "fecha_contratacion",
         "rawType": "object",
         "type": "string"
        },
        {
         "name": "antiguedad",
         "rawType": "int64",
         "type": "integer"
        }
       ],
       "ref": "4d2ead4a-e4d0-4ca3-82d1-fa1e1d06f241",
       "rows": [
        [
         "0",
         "2006-06-30",
         "19"
        ],
        [
         "1",
         "2007-11-11",
         "18"
        ],
        [
         "2",
         "2007-12-05",
         "18"
        ]
       ],
       "shape": {
        "columns": 2,
        "rows": 3
       }
      },
      "text/html": [
       "<div>\n",
       "<style scoped>\n",
       "    .dataframe tbody tr th:only-of-type {\n",
       "        vertical-align: middle;\n",
       "    }\n",
       "\n",
       "    .dataframe tbody tr th {\n",
       "        vertical-align: top;\n",
       "    }\n",
       "\n",
       "    .dataframe thead th {\n",
       "        text-align: right;\n",
       "    }\n",
       "</style>\n",
       "<table border=\"1\" class=\"dataframe\">\n",
       "  <thead>\n",
       "    <tr style=\"text-align: right;\">\n",
       "      <th></th>\n",
       "      <th>fecha_contratacion</th>\n",
       "      <th>antiguedad</th>\n",
       "    </tr>\n",
       "  </thead>\n",
       "  <tbody>\n",
       "    <tr>\n",
       "      <th>0</th>\n",
       "      <td>2006-06-30</td>\n",
       "      <td>19</td>\n",
       "    </tr>\n",
       "    <tr>\n",
       "      <th>1</th>\n",
       "      <td>2007-11-11</td>\n",
       "      <td>18</td>\n",
       "    </tr>\n",
       "    <tr>\n",
       "      <th>2</th>\n",
       "      <td>2007-12-05</td>\n",
       "      <td>18</td>\n",
       "    </tr>\n",
       "  </tbody>\n",
       "</table>\n",
       "</div>"
      ],
      "text/plain": [
       "  fecha_contratacion  antiguedad\n",
       "0         2006-06-30          19\n",
       "1         2007-11-11          18\n",
       "2         2007-12-05          18"
      ]
     },
     "execution_count": 73,
     "metadata": {},
     "output_type": "execute_result"
    }
   ],
   "source": [
    "# Ejercicio 65 - Mostrar una lista de empleados con su fecha de contratación (HireDate) y cuántos años llevan trabajando. Ordenar por antigüedad descendente.\n",
    "mostrar_query(\"\"\"\n",
    "SELECT DATE(HireDate) AS fecha_contratacion,\n",
    "       CAST(STRFTIME('%Y', 'now') AS INTEGER) - CAST(STRFTIME('%Y', HireDate) AS INTEGER) AS antiguedad\n",
    "FROM 'HumanResources.Employee'\n",
    "ORDER BY antiguedad DESC\n",
    "\"\"\")\n"
   ]
  },
  {
   "cell_type": "markdown",
   "id": "f4c14ece",
   "metadata": {},
   "source": [
    "### 9. Geografical Functions"
   ]
  },
  {
   "cell_type": "code",
   "execution_count": 74,
   "id": "9d11b98d",
   "metadata": {},
   "outputs": [
    {
     "data": {
      "text/plain": [
       "'\\nSELECT \\n  CAST(HireDate AS DATE) AS fecha_contratacion,\\n  DATEDIFF(YEAR, HireDate, GETDATE()) AS antiguedad\\nFROM HumanResources.Employee\\nORDER BY antiguedad DESC;\\n'"
      ]
     },
     "execution_count": 74,
     "metadata": {},
     "output_type": "execute_result"
    }
   ],
   "source": [
    "# Ejercicio 65 – Antigüedad de empleados\n",
    "# Consigna:\n",
    "# Mostrar una lista de empleados con su fecha de contratación (HireDate)\n",
    "# y cuántos años llevan trabajando, ordenados por antigüedad descendente.\n",
    "\n",
    "\"\"\"\n",
    "SELECT \n",
    "  CAST(HireDate AS DATE) AS fecha_contratacion,\n",
    "  DATEDIFF(YEAR, HireDate, GETDATE()) AS antiguedad\n",
    "FROM HumanResources.Employee\n",
    "ORDER BY antiguedad DESC;\n",
    "\"\"\"\n"
   ]
  },
  {
   "cell_type": "code",
   "execution_count": 69,
   "id": "db3af2ae",
   "metadata": {},
   "outputs": [
    {
     "data": {
      "text/plain": [
       "'\\nDECLARE @ubicacion geography = geography::Point(47.6062, -122.3321, 4326);\\n\\nSELECT TOP 10 \\n  AddressID, \\n  AddressLine1, \\n  City, \\n  SpatialLocation.STDistance(@ubicacion) AS DistanciaMetros\\nFROM Person.Address\\nWHERE SpatialLocation IS NOT NULL\\nORDER BY SpatialLocation.STDistance(@ubicacion);\\n'"
      ]
     },
     "execution_count": 69,
     "metadata": {},
     "output_type": "execute_result"
    }
   ],
   "source": [
    "# Ejercicio 66 – Direcciones más cercanas\n",
    "# Consigna:\n",
    "# Dado un punto con coordenadas geográficas (latitud 47.6062, longitud -122.3321),\n",
    "# encontrar las 10 direcciones más cercanas utilizando funciones espaciales de SQL Server.\n",
    "\n",
    "\"\"\"\n",
    "DECLARE @ubicacion geography = geography::Point(47.6062, -122.3321, 4326);\n",
    "\n",
    "SELECT TOP 10 \n",
    "  AddressID, \n",
    "  AddressLine1, \n",
    "  City, \n",
    "  SpatialLocation.STDistance(@ubicacion) AS DistanciaMetros\n",
    "FROM Person.Address\n",
    "WHERE SpatialLocation IS NOT NULL\n",
    "ORDER BY SpatialLocation.STDistance(@ubicacion);\n",
    "\"\"\"\n",
    "\n"
   ]
  },
  {
   "cell_type": "code",
   "execution_count": 70,
   "id": "e719ae64",
   "metadata": {},
   "outputs": [
    {
     "data": {
      "text/plain": [
       "'\\nDECLARE @ubicacion geography = geography::Point(47.6062, -122.3321, 4326);\\n\\nSELECT \\n  AddressID, \\n  AddressLine1, \\n  City\\nFROM Person.Address\\nWHERE SpatialLocation IS NOT NULL\\n  AND SpatialLocation.STDistance(@ubicacion) <= 50000;\\n'"
      ]
     },
     "execution_count": 70,
     "metadata": {},
     "output_type": "execute_result"
    }
   ],
   "source": [
    "# Ejercicio 67 – Direcciones dentro de un radio de 50 km\n",
    "# Consigna:\n",
    "# Obtener todas las direcciones que se encuentren dentro de un radio de 50 kilómetros\n",
    "# desde el punto (latitud 47.6062, longitud -122.3321), utilizando STDistance.\n",
    "\n",
    "\"\"\"\n",
    "DECLARE @ubicacion geography = geography::Point(47.6062, -122.3321, 4326);\n",
    "\n",
    "SELECT \n",
    "  AddressID, \n",
    "  AddressLine1, \n",
    "  City\n",
    "FROM Person.Address\n",
    "WHERE SpatialLocation IS NOT NULL\n",
    "  AND SpatialLocation.STDistance(@ubicacion) <= 50000;\n",
    "\"\"\"\n",
    "\n"
   ]
  },
  {
   "cell_type": "code",
   "execution_count": 71,
   "id": "8769e29b",
   "metadata": {},
   "outputs": [
    {
     "data": {
      "text/plain": [
       "'\\nSELECT \\n  AddressID, \\n  AddressLine1, \\n  City,\\n  SpatialLocation.ToString() AS WKT\\nFROM Person.Address\\nWHERE SpatialLocation IS NOT NULL;\\n'"
      ]
     },
     "execution_count": 71,
     "metadata": {},
     "output_type": "execute_result"
    }
   ],
   "source": [
    "# Ejercicio 68 – Representación en WKT de direcciones\n",
    "# Consigna:\n",
    "# Mostrar la dirección junto con su representación espacial en formato Well-Known Text (WKT),\n",
    "# utilizando SpatialLocation.ToString() en SQL Server.\n",
    "\n",
    "\"\"\"\n",
    "SELECT \n",
    "  AddressID, \n",
    "  AddressLine1, \n",
    "  City,\n",
    "  SpatialLocation.ToString() AS WKT\n",
    "FROM Person.Address\n",
    "WHERE SpatialLocation IS NOT NULL;\n",
    "\"\"\"\n",
    "\n"
   ]
  },
  {
   "cell_type": "code",
   "execution_count": 72,
   "id": "3f65e41e",
   "metadata": {},
   "outputs": [
    {
     "data": {
      "text/plain": [
       "\"\\nDECLARE @p1 geography = (SELECT SpatialLocation FROM Person.Address WHERE AddressID = 1);\\nDECLARE @p2 geography = (SELECT SpatialLocation FROM Person.Address WHERE AddressID = 2);\\nDECLARE @p3 geography = (SELECT SpatialLocation FROM Person.Address WHERE AddressID = 3);\\n\\nDECLARE @ruta geography = geography::STLineFromText(\\n    'LINESTRING(' +\\n    CAST(@p1.Long AS VARCHAR(20)) + ' ' + CAST(@p1.Lat AS VARCHAR(20)) + ', ' +\\n    CAST(@p2.Long AS VARCHAR(20)) + ' ' + CAST(@p2.Lat AS VARCHAR(20)) + ', ' +\\n    CAST(@p3.Long AS VARCHAR(20)) + ' ' + CAST(@p3.Lat AS VARCHAR(20)) +\\n    ')', 4326);\\n\\nSELECT @ruta.STLength() AS LongitudTotalMetros;\\n\""
      ]
     },
     "execution_count": 72,
     "metadata": {},
     "output_type": "execute_result"
    }
   ],
   "source": [
    "# Ejercicio 69 – Ruta geográfica y longitud total\n",
    "# Consigna:\n",
    "# Definir una ruta geográfica entre las tres direcciones con ID más bajo,\n",
    "# utilizando un objeto LINESTRING, y calcular la longitud total en metros.\n",
    "\n",
    "\"\"\"\n",
    "DECLARE @p1 geography = (SELECT SpatialLocation FROM Person.Address WHERE AddressID = 1);\n",
    "DECLARE @p2 geography = (SELECT SpatialLocation FROM Person.Address WHERE AddressID = 2);\n",
    "DECLARE @p3 geography = (SELECT SpatialLocation FROM Person.Address WHERE AddressID = 3);\n",
    "\n",
    "DECLARE @ruta geography = geography::STLineFromText(\n",
    "    'LINESTRING(' +\n",
    "    CAST(@p1.Long AS VARCHAR(20)) + ' ' + CAST(@p1.Lat AS VARCHAR(20)) + ', ' +\n",
    "    CAST(@p2.Long AS VARCHAR(20)) + ' ' + CAST(@p2.Lat AS VARCHAR(20)) + ', ' +\n",
    "    CAST(@p3.Long AS VARCHAR(20)) + ' ' + CAST(@p3.Lat AS VARCHAR(20)) +\n",
    "    ')', 4326);\n",
    "\n",
    "SELECT @ruta.STLength() AS LongitudTotalMetros;\n",
    "\"\"\"\n",
    "\n"
   ]
  }
 ],
 "metadata": {
  "kernelspec": {
   "display_name": "base",
   "language": "python",
   "name": "python3"
  },
  "language_info": {
   "codemirror_mode": {
    "name": "ipython",
    "version": 3
   },
   "file_extension": ".py",
   "mimetype": "text/x-python",
   "name": "python",
   "nbconvert_exporter": "python",
   "pygments_lexer": "ipython3",
   "version": "3.12.4"
  }
 },
 "nbformat": 4,
 "nbformat_minor": 5
}
